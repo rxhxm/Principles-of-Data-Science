{
 "cells": [
  {
   "cell_type": "markdown",
   "metadata": {},
   "source": [
    "# Homework 5: Permutation Testing, Percentiles, and Bootstrapping\n",
    "\n",
    "## Due Tuesday, May 23rd at 11:59PM\n",
    "\n",
    "Welcome to Homework 5! This homework will cover:\n",
    "\n",
    "- Permutation Testing (see [CIT 12.0-12.2](https://inferentialthinking.com/chapters/12/Comparing_Two_Samples.html))\n",
    "- Percentiles (see [CIT 13.1](https://inferentialthinking.com/chapters/13/1/Percentiles.html))\n",
    "- Bootstrapping and Confidence Intervals (see [CIT 13.2](https://inferentialthinking.com/chapters/13/2/Bootstrap.html) and [CIT 13.3](https://inferentialthinking.com/chapters/13/3/Confidence_Intervals.html))"
   ]
  },
  {
   "cell_type": "markdown",
   "metadata": {},
   "source": [
    "### Instructions\n",
    "\n",
    "Remember to start early and submit often. You are given six slip days throughout the quarter to extend deadlines. See the syllabus for more details. With the exception of using slip days, late work will not be accepted unless you have made special arrangements with your instructor.\n",
    "\n",
    "**Important**: For homeworks, the `otter` tests don't usually tell you that your answer is correct. More often, they help catch careless mistakes. It's up to you to ensure that your answer is correct. If you're not sure, ask someone (not for the answer, but for some guidance about your approach). These are great questions for office hours (see the schedule on the [Calendar](https://dsc10.com/calendar)) or Ed. Directly sharing answers is not okay, but discussing problems with the course staff or with other students is encouraged."
   ]
  },
  {
   "cell_type": "code",
   "execution_count": 21,
   "metadata": {},
   "outputs": [
    {
     "data": {
      "text/html": [
       "\n",
       "<script type=\"text/javascript\" src=\"https://pandastutor.com/build/wsembed.bundle.2022-07-07-release.js\"></script>\n",
       "<script>\n",
       "console.log(\"initializing pandas_tutor js\")\n",
       "\n",
       "function drawWsv(viz_id, spec, options) {\n",
       "  if (typeof createWsvFromPandasTrace === 'undefined') {\n",
       "    setTimeout(() => drawWsv(viz_id, spec, options), 2000) // retry in 2 seconds\n",
       "    return\n",
       "  }\n",
       "  createWsvFromPandasTrace(viz_id, spec, options)\n",
       "}\n",
       "</script>\n"
      ],
      "text/plain": [
       "<IPython.core.display.HTML object>"
      ]
     },
     "metadata": {},
     "output_type": "display_data"
    }
   ],
   "source": [
    "# Don't change this cell; just run it. \n",
    "import babypandas as bpd\n",
    "import numpy as np\n",
    "\n",
    "import warnings\n",
    "warnings.simplefilter('ignore')\n",
    "\n",
    "import matplotlib.pyplot as plt\n",
    "plt.style.use('ggplot')\n",
    "\n",
    "import otter\n",
    "grader = otter.Notebook()\n",
    "\n",
    "%reload_ext pandas_tutor"
   ]
  },
  {
   "cell_type": "markdown",
   "metadata": {},
   "source": [
    "### Aside: Random Seeds 🌱\n",
    "\n",
    "Throughout this homework – and in upcoming assignments – you'll notice that we frequently call the function `np.random.seed` with an integer argument. What exactly does that do?\n",
    "\n",
    "To see for yourself, run the cell below several times."
   ]
  },
  {
   "cell_type": "code",
   "execution_count": 22,
   "metadata": {},
   "outputs": [
    {
     "name": "stdout",
     "output_type": "stream",
     "text": [
      "[7 3]\n",
      "[5 5]\n"
     ]
    }
   ],
   "source": [
    "np.random.seed(25)\n",
    "\n",
    "print(np.random.multinomial(10, [0.5, 0.5]))\n",
    "print(np.random.multinomial(10, [0.5, 0.5]))"
   ]
  },
  {
   "cell_type": "markdown",
   "metadata": {},
   "source": [
    "`np.random.multinomial(10, [0.5, 0.5])` should return a random result each time it's called. However, each time you ran the cell above, you saw the same output – `[7 3]` and `[5 5]`.\n",
    "\n",
    "**If you call `np.random.seed` in a cell, then every time you run the cell, you will see the same results, even if there are calls to \"random\" functions and methods in the cell.** Think of calling `np.random.seed` as \"undoing\" the randomness in the cell. If you change the `25` above to some other number, you may see something other than `[7 3]` and `[5 5]`, but each time you run the changed cell, you will still see the same result.\n",
    "\n",
    "We use seeds to make it easier to autograde questions that rely on randomness, such as those that require you to bootstrap. When we use a particular seed in a question, we know exactly what the correct answer should be. When we don't, the range of correct answers is much wider, so it's harder to tell whether you actually answered the question correctly.\n",
    "\n",
    "You're not responsible for understanding how seeds and random number generators work under the hood – all you need to know is that when you see a call to `np.random.seed`:\n",
    "- Don't change it.\n",
    "- Don't be alarmed if you see the same results each time you run that cell.\n",
    "\n",
    "If you're interested in learning more, read [this Wikipedia article](https://en.wikipedia.org/wiki/Pseudorandom_number_generator).\n",
    "<!-- It turns out that generating _truly_ random numbers is quite difficult. Instead, computers often generate _pseudorandom_ numbers, which are numbers that look like they were generated randomly (such as those in the cell above) but were actually generated by a complicated, non-random process. Each of these processes has a \"key\", or \"seed,\" that determines the initial conditions for this non-random process. -->"
   ]
  },
  {
   "cell_type": "markdown",
   "metadata": {},
   "source": [
    "## 1. Python vs Java 🐍☕"
   ]
  },
  {
   "cell_type": "markdown",
   "metadata": {},
   "source": [
    "[Stack Overflow](https://stackoverflow.com/) is a forum where users can ask and answer questions about code. (If you've never used it before, you should use it as a resource!)\n",
    "\n",
    "In this section, we'll work with a dataset of Stack Overflow questions from 2016 to 2020, downloaded from [Kaggle](https://www.kaggle.com/datasets/imoore/60k-stack-overflow-questions-with-quality-rate?resource=download&select=train.csv). The data has been cleaned and condensed for the purposes of this question."
   ]
  },
  {
   "cell_type": "markdown",
   "metadata": {},
   "source": [
    "The rideshare data contains six columns: `'Id'`, `'Title'`, `'Body'`, `'Tags'`, `'CreationDate'`, `'Ratings'`. Let's read it in and store it as a DataFrame called `stack_overflow`.\n",
    "\n",
    "| Column | Description |\n",
    "| --- | --- |\n",
    "| `'Id'` | ID of the question |\n",
    "| `'Title'` | Title of the question |\n",
    "| `'Body'` | Description of the question |\n",
    "| `'Tags'` | Tags used to categorize question |\n",
    "| `'CreationDate'` | Date it was made |\n",
    "| `'Ratings'` | Rating of the post |"
   ]
  },
  {
   "cell_type": "code",
   "execution_count": 23,
   "metadata": {},
   "outputs": [
    {
     "data": {
      "text/html": [
       "<div>\n",
       "<style scoped>\n",
       "    .dataframe tbody tr th:only-of-type {\n",
       "        vertical-align: middle;\n",
       "    }\n",
       "\n",
       "    .dataframe tbody tr th {\n",
       "        vertical-align: top;\n",
       "    }\n",
       "\n",
       "    .dataframe thead th {\n",
       "        text-align: right;\n",
       "    }\n",
       "</style>\n",
       "<table border=\"1\" class=\"dataframe\">\n",
       "  <thead>\n",
       "    <tr style=\"text-align: right;\">\n",
       "      <th></th>\n",
       "      <th>Id</th>\n",
       "      <th>Title</th>\n",
       "      <th>Body</th>\n",
       "      <th>Tags</th>\n",
       "      <th>CreationDate</th>\n",
       "      <th>Ratings</th>\n",
       "    </tr>\n",
       "  </thead>\n",
       "  <tbody>\n",
       "    <tr>\n",
       "      <th>0</th>\n",
       "      <td>34552974</td>\n",
       "      <td>How to get all the child records from differen...</td>\n",
       "      <td>I am having 4 different tables like \\r\\nselect...</td>\n",
       "      <td>&lt;sql&gt;&lt;sql-server&gt;</td>\n",
       "      <td>2016-01-01 01:44:52</td>\n",
       "      <td>LQ_EDIT</td>\n",
       "    </tr>\n",
       "    <tr>\n",
       "      <th>1</th>\n",
       "      <td>34554721</td>\n",
       "      <td>Retrieve all except some data of the another t...</td>\n",
       "      <td>I have two table m_master and tbl_appointment\\...</td>\n",
       "      <td>&lt;php&gt;&lt;mysql&gt;&lt;sql&gt;&lt;codeigniter&gt;&lt;mysqli&gt;</td>\n",
       "      <td>2016-01-01 08:43:50</td>\n",
       "      <td>LQ_EDIT</td>\n",
       "    </tr>\n",
       "    <tr>\n",
       "      <th>2</th>\n",
       "      <td>34555135</td>\n",
       "      <td>Pandas: read_html</td>\n",
       "      <td>&lt;p&gt;I'm trying to extract US states from wiki U...</td>\n",
       "      <td>&lt;python&gt;&lt;pandas&gt;</td>\n",
       "      <td>2016-01-01 09:55:22</td>\n",
       "      <td>HQ</td>\n",
       "    </tr>\n",
       "    <tr>\n",
       "      <th>3</th>\n",
       "      <td>34555448</td>\n",
       "      <td>Reader Always gimme NULL</td>\n",
       "      <td>I'm so new to C#, I wanna make an application ...</td>\n",
       "      <td>&lt;sql-server&gt;&lt;c#-4.0&gt;</td>\n",
       "      <td>2016-01-01 10:43:45</td>\n",
       "      <td>LQ_EDIT</td>\n",
       "    </tr>\n",
       "    <tr>\n",
       "      <th>4</th>\n",
       "      <td>34555752</td>\n",
       "      <td>php rearrange array elements based on condition</td>\n",
       "      <td>basically i have this array:\\r\\n\\r\\n    array(...</td>\n",
       "      <td>&lt;php&gt;</td>\n",
       "      <td>2016-01-01 11:34:09</td>\n",
       "      <td>LQ_EDIT</td>\n",
       "    </tr>\n",
       "    <tr>\n",
       "      <th>...</th>\n",
       "      <td>...</td>\n",
       "      <td>...</td>\n",
       "      <td>...</td>\n",
       "      <td>...</td>\n",
       "      <td>...</td>\n",
       "      <td>...</td>\n",
       "    </tr>\n",
       "    <tr>\n",
       "      <th>14995</th>\n",
       "      <td>60465681</td>\n",
       "      <td>How can I align two flex boxes to follow each ...</td>\n",
       "      <td>&lt;p&gt;I have a menu, and I'd like the div.right-c...</td>\n",
       "      <td>&lt;html&gt;&lt;css&gt;&lt;flexbox&gt;</td>\n",
       "      <td>2020-02-29 13:32:56</td>\n",
       "      <td>LQ_CLOSE</td>\n",
       "    </tr>\n",
       "    <tr>\n",
       "      <th>14996</th>\n",
       "      <td>60467932</td>\n",
       "      <td>C++ The correct way to multiply an integer and...</td>\n",
       "      <td>&lt;p&gt;I try to multiply an integer by a double bu...</td>\n",
       "      <td>&lt;c++&gt;</td>\n",
       "      <td>2020-02-29 17:46:41</td>\n",
       "      <td>LQ_CLOSE</td>\n",
       "    </tr>\n",
       "    <tr>\n",
       "      <th>14997</th>\n",
       "      <td>60468378</td>\n",
       "      <td>WHY DJANGO IS SHOWING ME THIS ERROR WHEN I TRY...</td>\n",
       "      <td>*URLS.PY*\\r\\n    //URLS.PY FILE\\r\\n    fro...</td>\n",
       "      <td>&lt;django&gt;&lt;django-views&gt;&lt;django-templates&gt;</td>\n",
       "      <td>2020-02-29 18:35:39</td>\n",
       "      <td>LQ_EDIT</td>\n",
       "    </tr>\n",
       "    <tr>\n",
       "      <th>14998</th>\n",
       "      <td>60469392</td>\n",
       "      <td>PHP - getting the content of php page</td>\n",
       "      <td>&lt;p&gt;I have a controller inside which a server i...</td>\n",
       "      <td>&lt;javascript&gt;&lt;php&gt;&lt;html&gt;</td>\n",
       "      <td>2020-02-29 20:32:14</td>\n",
       "      <td>LQ_CLOSE</td>\n",
       "    </tr>\n",
       "    <tr>\n",
       "      <th>14999</th>\n",
       "      <td>60470323</td>\n",
       "      <td>Why can't overloaded functions vary only by re...</td>\n",
       "      <td>&lt;p&gt;So i was recently helping someone out with ...</td>\n",
       "      <td>&lt;c++&gt;&lt;overloading&gt;&lt;return-type&gt;</td>\n",
       "      <td>2020-02-29 22:45:56</td>\n",
       "      <td>LQ_CLOSE</td>\n",
       "    </tr>\n",
       "  </tbody>\n",
       "</table>\n",
       "<p>15000 rows × 6 columns</p>\n",
       "</div>"
      ],
      "text/plain": [
       "             Id                                              Title  \\\n",
       "0      34552974  How to get all the child records from differen...   \n",
       "1      34554721  Retrieve all except some data of the another t...   \n",
       "2      34555135                                  Pandas: read_html   \n",
       "3      34555448                           Reader Always gimme NULL   \n",
       "4      34555752    php rearrange array elements based on condition   \n",
       "...         ...                                                ...   \n",
       "14995  60465681  How can I align two flex boxes to follow each ...   \n",
       "14996  60467932  C++ The correct way to multiply an integer and...   \n",
       "14997  60468378  WHY DJANGO IS SHOWING ME THIS ERROR WHEN I TRY...   \n",
       "14998  60469392              PHP - getting the content of php page   \n",
       "14999  60470323  Why can't overloaded functions vary only by re...   \n",
       "\n",
       "                                                    Body  \\\n",
       "0      I am having 4 different tables like \\r\\nselect...   \n",
       "1      I have two table m_master and tbl_appointment\\...   \n",
       "2      <p>I'm trying to extract US states from wiki U...   \n",
       "3      I'm so new to C#, I wanna make an application ...   \n",
       "4      basically i have this array:\\r\\n\\r\\n    array(...   \n",
       "...                                                  ...   \n",
       "14995  <p>I have a menu, and I'd like the div.right-c...   \n",
       "14996  <p>I try to multiply an integer by a double bu...   \n",
       "14997      *URLS.PY*\\r\\n    //URLS.PY FILE\\r\\n    fro...   \n",
       "14998  <p>I have a controller inside which a server i...   \n",
       "14999  <p>So i was recently helping someone out with ...   \n",
       "\n",
       "                                           Tags         CreationDate   Ratings  \n",
       "0                             <sql><sql-server>  2016-01-01 01:44:52   LQ_EDIT  \n",
       "1        <php><mysql><sql><codeigniter><mysqli>  2016-01-01 08:43:50   LQ_EDIT  \n",
       "2                              <python><pandas>  2016-01-01 09:55:22        HQ  \n",
       "3                          <sql-server><c#-4.0>  2016-01-01 10:43:45   LQ_EDIT  \n",
       "4                                         <php>  2016-01-01 11:34:09   LQ_EDIT  \n",
       "...                                         ...                  ...       ...  \n",
       "14995                      <html><css><flexbox>  2020-02-29 13:32:56  LQ_CLOSE  \n",
       "14996                                     <c++>  2020-02-29 17:46:41  LQ_CLOSE  \n",
       "14997  <django><django-views><django-templates>  2020-02-29 18:35:39   LQ_EDIT  \n",
       "14998                   <javascript><php><html>  2020-02-29 20:32:14  LQ_CLOSE  \n",
       "14999           <c++><overloading><return-type>  2020-02-29 22:45:56  LQ_CLOSE  \n",
       "\n",
       "[15000 rows x 6 columns]"
      ]
     },
     "execution_count": 23,
     "metadata": {},
     "output_type": "execute_result"
    }
   ],
   "source": [
    "stack_overflow = bpd.read_csv('data/stack_overflow.csv')\n",
    "stack_overflow"
   ]
  },
  {
   "cell_type": "markdown",
   "metadata": {},
   "source": [
    "**Question 1.1.**\n",
    "Stack Overflow gives users the ability to upvote or downvote questions and answers, which means that each post has a rating. **We're interested in exploring whether Python posts have higher ratings than Java posts.**\n",
    "\n",
    "To determine the language of a post, we can look in the `'Tags'` column. The values in the `'Tags'` column contain several tags that are used to categorize posts. One of the tags for each post will be the language the post is about – for instance, in row 2 above, one of the tags for the post is `'<python>'`.\n",
    "\n",
    "Below, assign `python_java` to a DataFrame that only contains questions that used the tags `'<python>'` or `'<java>'`. Don't worry about capitalization as all the tags have already been lowercased. Note that these questions may include other tags as well, as long as they have at least one of `'<python>'` or `'<java>'`.\n",
    "\n",
    "*Hints:* \n",
    "- Use `str.contains`.\n",
    "- There is a tag called `'<javascript>'`; make sure that is not in your final DataFrame."
   ]
  },
  {
   "cell_type": "code",
   "execution_count": 24,
   "metadata": {},
   "outputs": [],
   "source": [
    "#if ~ means not in. use and to take away a specfici thing"
   ]
  },
  {
   "cell_type": "code",
   "execution_count": 25,
   "metadata": {
    "scrolled": true
   },
   "outputs": [
    {
     "data": {
      "text/html": [
       "<div>\n",
       "<style scoped>\n",
       "    .dataframe tbody tr th:only-of-type {\n",
       "        vertical-align: middle;\n",
       "    }\n",
       "\n",
       "    .dataframe tbody tr th {\n",
       "        vertical-align: top;\n",
       "    }\n",
       "\n",
       "    .dataframe thead th {\n",
       "        text-align: right;\n",
       "    }\n",
       "</style>\n",
       "<table border=\"1\" class=\"dataframe\">\n",
       "  <thead>\n",
       "    <tr style=\"text-align: right;\">\n",
       "      <th></th>\n",
       "      <th>Id</th>\n",
       "      <th>Title</th>\n",
       "      <th>Body</th>\n",
       "      <th>Tags</th>\n",
       "      <th>CreationDate</th>\n",
       "      <th>Ratings</th>\n",
       "    </tr>\n",
       "  </thead>\n",
       "  <tbody>\n",
       "    <tr>\n",
       "      <th>2</th>\n",
       "      <td>34555135</td>\n",
       "      <td>Pandas: read_html</td>\n",
       "      <td>&lt;p&gt;I'm trying to extract US states from wiki U...</td>\n",
       "      <td>&lt;python&gt;&lt;pandas&gt;</td>\n",
       "      <td>2016-01-01 09:55:22</td>\n",
       "      <td>HQ</td>\n",
       "    </tr>\n",
       "    <tr>\n",
       "      <th>9</th>\n",
       "      <td>34559136</td>\n",
       "      <td>Print list content in a given order</td>\n",
       "      <td>&lt;pre&gt;&lt;code&gt;lt = ['7,777.7', '777.7', '77,777.7...</td>\n",
       "      <td>&lt;python&gt;&lt;list&gt;&lt;python-2.7&gt;&lt;for-loop&gt;</td>\n",
       "      <td>2016-01-01 19:08:12</td>\n",
       "      <td>LQ_CLOSE</td>\n",
       "    </tr>\n",
       "    <tr>\n",
       "      <th>13</th>\n",
       "      <td>34562473</td>\n",
       "      <td>Most Pythonic way to kill a thread after some ...</td>\n",
       "      <td>&lt;p&gt;I would like to run a process in a thread (...</td>\n",
       "      <td>&lt;python&gt;&lt;multithreading&gt;</td>\n",
       "      <td>2016-01-02 04:01:41</td>\n",
       "      <td>HQ</td>\n",
       "    </tr>\n",
       "    <tr>\n",
       "      <th>16</th>\n",
       "      <td>34563454</td>\n",
       "      <td>Django ImageField upload_to path</td>\n",
       "      <td>&lt;p&gt;I'm having trouble understanding and using ...</td>\n",
       "      <td>&lt;python&gt;&lt;django&gt;</td>\n",
       "      <td>2016-01-02 06:54:41</td>\n",
       "      <td>HQ</td>\n",
       "    </tr>\n",
       "    <tr>\n",
       "      <th>19</th>\n",
       "      <td>34564356</td>\n",
       "      <td>i am new to pythn and was trying to fix indent...</td>\n",
       "      <td>class Cylinder(object):\\r\\n        self.pi = 3...</td>\n",
       "      <td>&lt;python&gt;</td>\n",
       "      <td>2016-01-02 09:22:24</td>\n",
       "      <td>LQ_EDIT</td>\n",
       "    </tr>\n",
       "    <tr>\n",
       "      <th>...</th>\n",
       "      <td>...</td>\n",
       "      <td>...</td>\n",
       "      <td>...</td>\n",
       "      <td>...</td>\n",
       "      <td>...</td>\n",
       "      <td>...</td>\n",
       "    </tr>\n",
       "    <tr>\n",
       "      <th>14986</th>\n",
       "      <td>60433781</td>\n",
       "      <td>Make this code shorter without using loops</td>\n",
       "      <td>&lt;pre&gt;&lt;code&gt;import random\\na = random.randrange...</td>\n",
       "      <td>&lt;python&gt;&lt;if-statement&gt;</td>\n",
       "      <td>2020-02-27 12:56:18</td>\n",
       "      <td>LQ_CLOSE</td>\n",
       "    </tr>\n",
       "    <tr>\n",
       "      <th>14987</th>\n",
       "      <td>60434191</td>\n",
       "      <td>sort hashmap value of type list using java 8</td>\n",
       "      <td>&lt;p&gt;I have a map of String key and Value is Lis...</td>\n",
       "      <td>&lt;java&gt;&lt;arrays&gt;</td>\n",
       "      <td>2020-02-27 13:20:20</td>\n",
       "      <td>LQ_CLOSE</td>\n",
       "    </tr>\n",
       "    <tr>\n",
       "      <th>14988</th>\n",
       "      <td>60436878</td>\n",
       "      <td>Sort python dictionary by value and the value ...</td>\n",
       "      <td>&lt;p&gt;I need to sort this dictionary by points: &lt;...</td>\n",
       "      <td>&lt;python&gt;&lt;dictionary&gt;</td>\n",
       "      <td>2020-02-27 15:44:19</td>\n",
       "      <td>LQ_CLOSE</td>\n",
       "    </tr>\n",
       "    <tr>\n",
       "      <th>14991</th>\n",
       "      <td>60451203</td>\n",
       "      <td>What is the name of the algorithm that can onl...</td>\n",
       "      <td>&lt;p&gt;I have tried googling this but no luck.&lt;/p&gt;...</td>\n",
       "      <td>&lt;python&gt;&lt;algorithm&gt;&lt;sorting&gt;</td>\n",
       "      <td>2020-02-28 11:53:59</td>\n",
       "      <td>LQ_CLOSE</td>\n",
       "    </tr>\n",
       "    <tr>\n",
       "      <th>14994</th>\n",
       "      <td>60461322</td>\n",
       "      <td>Python3: Numerical Tic-Tac-Toe winning condition</td>\n",
       "      <td>This is a Numerical Tic Tac Toe game. I try to...</td>\n",
       "      <td>&lt;python&gt;&lt;python-3.x&gt;&lt;tic-tac-toe&gt;</td>\n",
       "      <td>2020-02-29 01:53:50</td>\n",
       "      <td>LQ_EDIT</td>\n",
       "    </tr>\n",
       "  </tbody>\n",
       "</table>\n",
       "<p>3418 rows × 6 columns</p>\n",
       "</div>"
      ],
      "text/plain": [
       "             Id                                              Title  \\\n",
       "2      34555135                                  Pandas: read_html   \n",
       "9      34559136                Print list content in a given order   \n",
       "13     34562473  Most Pythonic way to kill a thread after some ...   \n",
       "16     34563454                   Django ImageField upload_to path   \n",
       "19     34564356  i am new to pythn and was trying to fix indent...   \n",
       "...         ...                                                ...   \n",
       "14986  60433781         Make this code shorter without using loops   \n",
       "14987  60434191       sort hashmap value of type list using java 8   \n",
       "14988  60436878  Sort python dictionary by value and the value ...   \n",
       "14991  60451203  What is the name of the algorithm that can onl...   \n",
       "14994  60461322   Python3: Numerical Tic-Tac-Toe winning condition   \n",
       "\n",
       "                                                    Body  \\\n",
       "2      <p>I'm trying to extract US states from wiki U...   \n",
       "9      <pre><code>lt = ['7,777.7', '777.7', '77,777.7...   \n",
       "13     <p>I would like to run a process in a thread (...   \n",
       "16     <p>I'm having trouble understanding and using ...   \n",
       "19     class Cylinder(object):\\r\\n        self.pi = 3...   \n",
       "...                                                  ...   \n",
       "14986  <pre><code>import random\\na = random.randrange...   \n",
       "14987  <p>I have a map of String key and Value is Lis...   \n",
       "14988  <p>I need to sort this dictionary by points: <...   \n",
       "14991  <p>I have tried googling this but no luck.</p>...   \n",
       "14994  This is a Numerical Tic Tac Toe game. I try to...   \n",
       "\n",
       "                                       Tags         CreationDate   Ratings  \n",
       "2                          <python><pandas>  2016-01-01 09:55:22        HQ  \n",
       "9      <python><list><python-2.7><for-loop>  2016-01-01 19:08:12  LQ_CLOSE  \n",
       "13                 <python><multithreading>  2016-01-02 04:01:41        HQ  \n",
       "16                         <python><django>  2016-01-02 06:54:41        HQ  \n",
       "19                                 <python>  2016-01-02 09:22:24   LQ_EDIT  \n",
       "...                                     ...                  ...       ...  \n",
       "14986                <python><if-statement>  2020-02-27 12:56:18  LQ_CLOSE  \n",
       "14987                        <java><arrays>  2020-02-27 13:20:20  LQ_CLOSE  \n",
       "14988                  <python><dictionary>  2020-02-27 15:44:19  LQ_CLOSE  \n",
       "14991          <python><algorithm><sorting>  2020-02-28 11:53:59  LQ_CLOSE  \n",
       "14994     <python><python-3.x><tic-tac-toe>  2020-02-29 01:53:50   LQ_EDIT  \n",
       "\n",
       "[3418 rows x 6 columns]"
      ]
     },
     "execution_count": 25,
     "metadata": {},
     "output_type": "execute_result"
    }
   ],
   "source": [
    "python_java = stack_overflow[stack_overflow.get('Tags').str.contains(\"python\") |\n",
    "                             stack_overflow.get('Tags').str.contains(\"java\") & \n",
    "                             ~stack_overflow.get('Tags').str.contains(\"javascript\")]\n",
    "python_java"
   ]
  },
  {
   "cell_type": "code",
   "execution_count": 26,
   "metadata": {
    "deletable": false,
    "editable": false
   },
   "outputs": [
    {
     "data": {
      "text/html": [
       "<p><strong><pre style='display: inline;'>q1_1</pre></strong> passed!</p>"
      ],
      "text/plain": [
       "q1_1 results: All test cases passed!"
      ]
     },
     "execution_count": 26,
     "metadata": {},
     "output_type": "execute_result"
    }
   ],
   "source": [
    "grader.check(\"q1_1\")"
   ]
  },
  {
   "cell_type": "markdown",
   "metadata": {},
   "source": [
    "Upon further investigation, it looks like there are some posts that contain both the tags `'<python>'` and `'<java>'`. For the purposes of answering our question, we only want posts that have `'<python>'` or `'<java>'`, but not both. We've gone ahead and removed the posts that contained both tags and saved the resulting DataFrame to `fixed_python_java`, which you should use in Question 1.2."
   ]
  },
  {
   "cell_type": "code",
   "execution_count": 27,
   "metadata": {},
   "outputs": [
    {
     "data": {
      "text/html": [
       "<div>\n",
       "<style scoped>\n",
       "    .dataframe tbody tr th:only-of-type {\n",
       "        vertical-align: middle;\n",
       "    }\n",
       "\n",
       "    .dataframe tbody tr th {\n",
       "        vertical-align: top;\n",
       "    }\n",
       "\n",
       "    .dataframe thead th {\n",
       "        text-align: right;\n",
       "    }\n",
       "</style>\n",
       "<table border=\"1\" class=\"dataframe\">\n",
       "  <thead>\n",
       "    <tr style=\"text-align: right;\">\n",
       "      <th></th>\n",
       "      <th>Id</th>\n",
       "      <th>Title</th>\n",
       "      <th>Body</th>\n",
       "      <th>Tags</th>\n",
       "      <th>CreationDate</th>\n",
       "      <th>Ratings</th>\n",
       "    </tr>\n",
       "  </thead>\n",
       "  <tbody>\n",
       "    <tr>\n",
       "      <th>2</th>\n",
       "      <td>34555135</td>\n",
       "      <td>Pandas: read_html</td>\n",
       "      <td>&lt;p&gt;I'm trying to extract US states from wiki U...</td>\n",
       "      <td>&lt;python&gt;&lt;pandas&gt;</td>\n",
       "      <td>2016-01-01 09:55:22</td>\n",
       "      <td>HQ</td>\n",
       "    </tr>\n",
       "    <tr>\n",
       "      <th>9</th>\n",
       "      <td>34559136</td>\n",
       "      <td>Print list content in a given order</td>\n",
       "      <td>&lt;pre&gt;&lt;code&gt;lt = ['7,777.7', '777.7', '77,777.7...</td>\n",
       "      <td>&lt;python&gt;&lt;list&gt;&lt;python-2.7&gt;&lt;for-loop&gt;</td>\n",
       "      <td>2016-01-01 19:08:12</td>\n",
       "      <td>LQ_CLOSE</td>\n",
       "    </tr>\n",
       "    <tr>\n",
       "      <th>13</th>\n",
       "      <td>34562473</td>\n",
       "      <td>Most Pythonic way to kill a thread after some ...</td>\n",
       "      <td>&lt;p&gt;I would like to run a process in a thread (...</td>\n",
       "      <td>&lt;python&gt;&lt;multithreading&gt;</td>\n",
       "      <td>2016-01-02 04:01:41</td>\n",
       "      <td>HQ</td>\n",
       "    </tr>\n",
       "    <tr>\n",
       "      <th>16</th>\n",
       "      <td>34563454</td>\n",
       "      <td>Django ImageField upload_to path</td>\n",
       "      <td>&lt;p&gt;I'm having trouble understanding and using ...</td>\n",
       "      <td>&lt;python&gt;&lt;django&gt;</td>\n",
       "      <td>2016-01-02 06:54:41</td>\n",
       "      <td>HQ</td>\n",
       "    </tr>\n",
       "    <tr>\n",
       "      <th>19</th>\n",
       "      <td>34564356</td>\n",
       "      <td>i am new to pythn and was trying to fix indent...</td>\n",
       "      <td>class Cylinder(object):\\r\\n        self.pi = 3...</td>\n",
       "      <td>&lt;python&gt;</td>\n",
       "      <td>2016-01-02 09:22:24</td>\n",
       "      <td>LQ_EDIT</td>\n",
       "    </tr>\n",
       "    <tr>\n",
       "      <th>...</th>\n",
       "      <td>...</td>\n",
       "      <td>...</td>\n",
       "      <td>...</td>\n",
       "      <td>...</td>\n",
       "      <td>...</td>\n",
       "      <td>...</td>\n",
       "    </tr>\n",
       "    <tr>\n",
       "      <th>14986</th>\n",
       "      <td>60433781</td>\n",
       "      <td>Make this code shorter without using loops</td>\n",
       "      <td>&lt;pre&gt;&lt;code&gt;import random\\na = random.randrange...</td>\n",
       "      <td>&lt;python&gt;&lt;if-statement&gt;</td>\n",
       "      <td>2020-02-27 12:56:18</td>\n",
       "      <td>LQ_CLOSE</td>\n",
       "    </tr>\n",
       "    <tr>\n",
       "      <th>14987</th>\n",
       "      <td>60434191</td>\n",
       "      <td>sort hashmap value of type list using java 8</td>\n",
       "      <td>&lt;p&gt;I have a map of String key and Value is Lis...</td>\n",
       "      <td>&lt;java&gt;&lt;arrays&gt;</td>\n",
       "      <td>2020-02-27 13:20:20</td>\n",
       "      <td>LQ_CLOSE</td>\n",
       "    </tr>\n",
       "    <tr>\n",
       "      <th>14988</th>\n",
       "      <td>60436878</td>\n",
       "      <td>Sort python dictionary by value and the value ...</td>\n",
       "      <td>&lt;p&gt;I need to sort this dictionary by points: &lt;...</td>\n",
       "      <td>&lt;python&gt;&lt;dictionary&gt;</td>\n",
       "      <td>2020-02-27 15:44:19</td>\n",
       "      <td>LQ_CLOSE</td>\n",
       "    </tr>\n",
       "    <tr>\n",
       "      <th>14991</th>\n",
       "      <td>60451203</td>\n",
       "      <td>What is the name of the algorithm that can onl...</td>\n",
       "      <td>&lt;p&gt;I have tried googling this but no luck.&lt;/p&gt;...</td>\n",
       "      <td>&lt;python&gt;&lt;algorithm&gt;&lt;sorting&gt;</td>\n",
       "      <td>2020-02-28 11:53:59</td>\n",
       "      <td>LQ_CLOSE</td>\n",
       "    </tr>\n",
       "    <tr>\n",
       "      <th>14994</th>\n",
       "      <td>60461322</td>\n",
       "      <td>Python3: Numerical Tic-Tac-Toe winning condition</td>\n",
       "      <td>This is a Numerical Tic Tac Toe game. I try to...</td>\n",
       "      <td>&lt;python&gt;&lt;python-3.x&gt;&lt;tic-tac-toe&gt;</td>\n",
       "      <td>2020-02-29 01:53:50</td>\n",
       "      <td>LQ_EDIT</td>\n",
       "    </tr>\n",
       "  </tbody>\n",
       "</table>\n",
       "<p>3410 rows × 6 columns</p>\n",
       "</div>"
      ],
      "text/plain": [
       "             Id                                              Title  \\\n",
       "2      34555135                                  Pandas: read_html   \n",
       "9      34559136                Print list content in a given order   \n",
       "13     34562473  Most Pythonic way to kill a thread after some ...   \n",
       "16     34563454                   Django ImageField upload_to path   \n",
       "19     34564356  i am new to pythn and was trying to fix indent...   \n",
       "...         ...                                                ...   \n",
       "14986  60433781         Make this code shorter without using loops   \n",
       "14987  60434191       sort hashmap value of type list using java 8   \n",
       "14988  60436878  Sort python dictionary by value and the value ...   \n",
       "14991  60451203  What is the name of the algorithm that can onl...   \n",
       "14994  60461322   Python3: Numerical Tic-Tac-Toe winning condition   \n",
       "\n",
       "                                                    Body  \\\n",
       "2      <p>I'm trying to extract US states from wiki U...   \n",
       "9      <pre><code>lt = ['7,777.7', '777.7', '77,777.7...   \n",
       "13     <p>I would like to run a process in a thread (...   \n",
       "16     <p>I'm having trouble understanding and using ...   \n",
       "19     class Cylinder(object):\\r\\n        self.pi = 3...   \n",
       "...                                                  ...   \n",
       "14986  <pre><code>import random\\na = random.randrange...   \n",
       "14987  <p>I have a map of String key and Value is Lis...   \n",
       "14988  <p>I need to sort this dictionary by points: <...   \n",
       "14991  <p>I have tried googling this but no luck.</p>...   \n",
       "14994  This is a Numerical Tic Tac Toe game. I try to...   \n",
       "\n",
       "                                       Tags         CreationDate   Ratings  \n",
       "2                          <python><pandas>  2016-01-01 09:55:22        HQ  \n",
       "9      <python><list><python-2.7><for-loop>  2016-01-01 19:08:12  LQ_CLOSE  \n",
       "13                 <python><multithreading>  2016-01-02 04:01:41        HQ  \n",
       "16                         <python><django>  2016-01-02 06:54:41        HQ  \n",
       "19                                 <python>  2016-01-02 09:22:24   LQ_EDIT  \n",
       "...                                     ...                  ...       ...  \n",
       "14986                <python><if-statement>  2020-02-27 12:56:18  LQ_CLOSE  \n",
       "14987                        <java><arrays>  2020-02-27 13:20:20  LQ_CLOSE  \n",
       "14988                  <python><dictionary>  2020-02-27 15:44:19  LQ_CLOSE  \n",
       "14991          <python><algorithm><sorting>  2020-02-28 11:53:59  LQ_CLOSE  \n",
       "14994     <python><python-3.x><tic-tac-toe>  2020-02-29 01:53:50   LQ_EDIT  \n",
       "\n",
       "[3410 rows x 6 columns]"
      ]
     },
     "execution_count": 27,
     "metadata": {},
     "output_type": "execute_result"
    }
   ],
   "source": [
    "# Don't change this cell; just run it.\n",
    "fixed_python_java = python_java[python_java.get('Tags').str.contains('<python>') & python_java.get('Tags').str.contains('<java>') == False]\n",
    "fixed_python_java"
   ]
  },
  {
   "cell_type": "markdown",
   "metadata": {},
   "source": [
    "**Question 1.2.** Each post has associated with it many tags, but the only piece of information in the `'Tags'` column we're interested in is whether the language of the post is Python or Java.\n",
    "\n",
    "Complete the implementation of the function `simplify_tag`, which takes in a string of tags associated with a single post and returns either `'Python'` or `'Java'`. Once you've done that, create a new DataFrame named `python_java_with_language` that has all the same columns as `fixed_python_java`, in the same order, with an additional column named `'CodingLanguage'` that contains the coding language associated with the post."
   ]
  },
  {
   "cell_type": "code",
   "execution_count": 28,
   "metadata": {},
   "outputs": [
    {
     "data": {
      "text/html": [
       "<div>\n",
       "<style scoped>\n",
       "    .dataframe tbody tr th:only-of-type {\n",
       "        vertical-align: middle;\n",
       "    }\n",
       "\n",
       "    .dataframe tbody tr th {\n",
       "        vertical-align: top;\n",
       "    }\n",
       "\n",
       "    .dataframe thead th {\n",
       "        text-align: right;\n",
       "    }\n",
       "</style>\n",
       "<table border=\"1\" class=\"dataframe\">\n",
       "  <thead>\n",
       "    <tr style=\"text-align: right;\">\n",
       "      <th></th>\n",
       "      <th>Id</th>\n",
       "      <th>Title</th>\n",
       "      <th>Body</th>\n",
       "      <th>Tags</th>\n",
       "      <th>CreationDate</th>\n",
       "      <th>Ratings</th>\n",
       "      <th>CodingLanguage</th>\n",
       "    </tr>\n",
       "  </thead>\n",
       "  <tbody>\n",
       "    <tr>\n",
       "      <th>2</th>\n",
       "      <td>34555135</td>\n",
       "      <td>Pandas: read_html</td>\n",
       "      <td>&lt;p&gt;I'm trying to extract US states from wiki U...</td>\n",
       "      <td>&lt;python&gt;&lt;pandas&gt;</td>\n",
       "      <td>2016-01-01 09:55:22</td>\n",
       "      <td>HQ</td>\n",
       "      <td>Python</td>\n",
       "    </tr>\n",
       "    <tr>\n",
       "      <th>9</th>\n",
       "      <td>34559136</td>\n",
       "      <td>Print list content in a given order</td>\n",
       "      <td>&lt;pre&gt;&lt;code&gt;lt = ['7,777.7', '777.7', '77,777.7...</td>\n",
       "      <td>&lt;python&gt;&lt;list&gt;&lt;python-2.7&gt;&lt;for-loop&gt;</td>\n",
       "      <td>2016-01-01 19:08:12</td>\n",
       "      <td>LQ_CLOSE</td>\n",
       "      <td>Python</td>\n",
       "    </tr>\n",
       "    <tr>\n",
       "      <th>13</th>\n",
       "      <td>34562473</td>\n",
       "      <td>Most Pythonic way to kill a thread after some ...</td>\n",
       "      <td>&lt;p&gt;I would like to run a process in a thread (...</td>\n",
       "      <td>&lt;python&gt;&lt;multithreading&gt;</td>\n",
       "      <td>2016-01-02 04:01:41</td>\n",
       "      <td>HQ</td>\n",
       "      <td>Python</td>\n",
       "    </tr>\n",
       "    <tr>\n",
       "      <th>16</th>\n",
       "      <td>34563454</td>\n",
       "      <td>Django ImageField upload_to path</td>\n",
       "      <td>&lt;p&gt;I'm having trouble understanding and using ...</td>\n",
       "      <td>&lt;python&gt;&lt;django&gt;</td>\n",
       "      <td>2016-01-02 06:54:41</td>\n",
       "      <td>HQ</td>\n",
       "      <td>Python</td>\n",
       "    </tr>\n",
       "    <tr>\n",
       "      <th>19</th>\n",
       "      <td>34564356</td>\n",
       "      <td>i am new to pythn and was trying to fix indent...</td>\n",
       "      <td>class Cylinder(object):\\r\\n        self.pi = 3...</td>\n",
       "      <td>&lt;python&gt;</td>\n",
       "      <td>2016-01-02 09:22:24</td>\n",
       "      <td>LQ_EDIT</td>\n",
       "      <td>Python</td>\n",
       "    </tr>\n",
       "    <tr>\n",
       "      <th>...</th>\n",
       "      <td>...</td>\n",
       "      <td>...</td>\n",
       "      <td>...</td>\n",
       "      <td>...</td>\n",
       "      <td>...</td>\n",
       "      <td>...</td>\n",
       "      <td>...</td>\n",
       "    </tr>\n",
       "    <tr>\n",
       "      <th>14986</th>\n",
       "      <td>60433781</td>\n",
       "      <td>Make this code shorter without using loops</td>\n",
       "      <td>&lt;pre&gt;&lt;code&gt;import random\\na = random.randrange...</td>\n",
       "      <td>&lt;python&gt;&lt;if-statement&gt;</td>\n",
       "      <td>2020-02-27 12:56:18</td>\n",
       "      <td>LQ_CLOSE</td>\n",
       "      <td>Python</td>\n",
       "    </tr>\n",
       "    <tr>\n",
       "      <th>14987</th>\n",
       "      <td>60434191</td>\n",
       "      <td>sort hashmap value of type list using java 8</td>\n",
       "      <td>&lt;p&gt;I have a map of String key and Value is Lis...</td>\n",
       "      <td>&lt;java&gt;&lt;arrays&gt;</td>\n",
       "      <td>2020-02-27 13:20:20</td>\n",
       "      <td>LQ_CLOSE</td>\n",
       "      <td>Java</td>\n",
       "    </tr>\n",
       "    <tr>\n",
       "      <th>14988</th>\n",
       "      <td>60436878</td>\n",
       "      <td>Sort python dictionary by value and the value ...</td>\n",
       "      <td>&lt;p&gt;I need to sort this dictionary by points: &lt;...</td>\n",
       "      <td>&lt;python&gt;&lt;dictionary&gt;</td>\n",
       "      <td>2020-02-27 15:44:19</td>\n",
       "      <td>LQ_CLOSE</td>\n",
       "      <td>Python</td>\n",
       "    </tr>\n",
       "    <tr>\n",
       "      <th>14991</th>\n",
       "      <td>60451203</td>\n",
       "      <td>What is the name of the algorithm that can onl...</td>\n",
       "      <td>&lt;p&gt;I have tried googling this but no luck.&lt;/p&gt;...</td>\n",
       "      <td>&lt;python&gt;&lt;algorithm&gt;&lt;sorting&gt;</td>\n",
       "      <td>2020-02-28 11:53:59</td>\n",
       "      <td>LQ_CLOSE</td>\n",
       "      <td>Python</td>\n",
       "    </tr>\n",
       "    <tr>\n",
       "      <th>14994</th>\n",
       "      <td>60461322</td>\n",
       "      <td>Python3: Numerical Tic-Tac-Toe winning condition</td>\n",
       "      <td>This is a Numerical Tic Tac Toe game. I try to...</td>\n",
       "      <td>&lt;python&gt;&lt;python-3.x&gt;&lt;tic-tac-toe&gt;</td>\n",
       "      <td>2020-02-29 01:53:50</td>\n",
       "      <td>LQ_EDIT</td>\n",
       "      <td>Python</td>\n",
       "    </tr>\n",
       "  </tbody>\n",
       "</table>\n",
       "<p>3410 rows × 7 columns</p>\n",
       "</div>"
      ],
      "text/plain": [
       "             Id                                              Title  \\\n",
       "2      34555135                                  Pandas: read_html   \n",
       "9      34559136                Print list content in a given order   \n",
       "13     34562473  Most Pythonic way to kill a thread after some ...   \n",
       "16     34563454                   Django ImageField upload_to path   \n",
       "19     34564356  i am new to pythn and was trying to fix indent...   \n",
       "...         ...                                                ...   \n",
       "14986  60433781         Make this code shorter without using loops   \n",
       "14987  60434191       sort hashmap value of type list using java 8   \n",
       "14988  60436878  Sort python dictionary by value and the value ...   \n",
       "14991  60451203  What is the name of the algorithm that can onl...   \n",
       "14994  60461322   Python3: Numerical Tic-Tac-Toe winning condition   \n",
       "\n",
       "                                                    Body  \\\n",
       "2      <p>I'm trying to extract US states from wiki U...   \n",
       "9      <pre><code>lt = ['7,777.7', '777.7', '77,777.7...   \n",
       "13     <p>I would like to run a process in a thread (...   \n",
       "16     <p>I'm having trouble understanding and using ...   \n",
       "19     class Cylinder(object):\\r\\n        self.pi = 3...   \n",
       "...                                                  ...   \n",
       "14986  <pre><code>import random\\na = random.randrange...   \n",
       "14987  <p>I have a map of String key and Value is Lis...   \n",
       "14988  <p>I need to sort this dictionary by points: <...   \n",
       "14991  <p>I have tried googling this but no luck.</p>...   \n",
       "14994  This is a Numerical Tic Tac Toe game. I try to...   \n",
       "\n",
       "                                       Tags         CreationDate   Ratings  \\\n",
       "2                          <python><pandas>  2016-01-01 09:55:22        HQ   \n",
       "9      <python><list><python-2.7><for-loop>  2016-01-01 19:08:12  LQ_CLOSE   \n",
       "13                 <python><multithreading>  2016-01-02 04:01:41        HQ   \n",
       "16                         <python><django>  2016-01-02 06:54:41        HQ   \n",
       "19                                 <python>  2016-01-02 09:22:24   LQ_EDIT   \n",
       "...                                     ...                  ...       ...   \n",
       "14986                <python><if-statement>  2020-02-27 12:56:18  LQ_CLOSE   \n",
       "14987                        <java><arrays>  2020-02-27 13:20:20  LQ_CLOSE   \n",
       "14988                  <python><dictionary>  2020-02-27 15:44:19  LQ_CLOSE   \n",
       "14991          <python><algorithm><sorting>  2020-02-28 11:53:59  LQ_CLOSE   \n",
       "14994     <python><python-3.x><tic-tac-toe>  2020-02-29 01:53:50   LQ_EDIT   \n",
       "\n",
       "      CodingLanguage  \n",
       "2             Python  \n",
       "9             Python  \n",
       "13            Python  \n",
       "16            Python  \n",
       "19            Python  \n",
       "...              ...  \n",
       "14986         Python  \n",
       "14987           Java  \n",
       "14988         Python  \n",
       "14991         Python  \n",
       "14994         Python  \n",
       "\n",
       "[3410 rows x 7 columns]"
      ]
     },
     "execution_count": 28,
     "metadata": {},
     "output_type": "execute_result"
    }
   ],
   "source": [
    "def simplify_tag(tag):\n",
    "    if \"<python>\" in tag:\n",
    "        return \"Python\"\n",
    "    elif \"<java>\" in tag:\n",
    "        return \"Java\"\n",
    "    else:\n",
    "        return None\n",
    "\n",
    "# Create new DataFrame with 'CodingLanguage' column\n",
    "python_java_with_language = fixed_python_java.assign(CodingLanguage=fixed_python_java.get('Tags').apply(simplify_tag))\n",
    "python_java_with_language"
   ]
  },
  {
   "cell_type": "code",
   "execution_count": 29,
   "metadata": {
    "deletable": false,
    "editable": false
   },
   "outputs": [
    {
     "data": {
      "text/html": [
       "<p><strong style='color: red;'><pre style='display: inline;'>q1_2</pre> results:</strong></p><p><strong><pre style='display: inline;'>q1_2 - 1</pre> result:</strong></p><pre>    Trying:\n",
       "        import numbers\n",
       "    Expecting nothing\n",
       "    ok\n",
       "    Trying:\n",
       "        python_java_with_language.shape == (3308, 7)\n",
       "    Expecting:\n",
       "        True\n",
       "    **********************************************************************\n",
       "    Line 2, in q1_2 0\n",
       "    Failed example:\n",
       "        python_java_with_language.shape == (3308, 7)\n",
       "    Expected:\n",
       "        True\n",
       "    Got:\n",
       "        False\n",
       "</pre><p><strong><pre style='display: inline;'>q1_2 - 2</pre> result:</strong></p><pre>    Test case passed!</pre>"
      ],
      "text/plain": [
       "q1_2 results:\n",
       "    q1_2 - 1 result:\n",
       "        Trying:\n",
       "            import numbers\n",
       "        Expecting nothing\n",
       "        ok\n",
       "        Trying:\n",
       "            python_java_with_language.shape == (3308, 7)\n",
       "        Expecting:\n",
       "            True\n",
       "        **********************************************************************\n",
       "        Line 2, in q1_2 0\n",
       "        Failed example:\n",
       "            python_java_with_language.shape == (3308, 7)\n",
       "        Expected:\n",
       "            True\n",
       "        Got:\n",
       "            False\n",
       "\n",
       "    q1_2 - 2 result:\n",
       "        Test case passed!"
      ]
     },
     "execution_count": 29,
     "metadata": {},
     "output_type": "execute_result"
    }
   ],
   "source": [
    "grader.check(\"q1_2\")"
   ]
  },
  {
   "cell_type": "markdown",
   "metadata": {},
   "source": [
    "**Question 1.3.** As a reminder, we're interested in exploring whether Python posts have higher ratings than Java posts. In order to do that, we need to have ratings in the form of numbers, but right now, the `'Ratings'` column contains categorical values. The [Kaggle](https://www.kaggle.com/datasets/imoore/60k-stack-overflow-questions-with-quality-rate?resource=download&select=train.csv) page describes these values as follows: \n",
    "\n",
    "- `'HQ'`: High-quality posts without a single edit.\n",
    "- `'LQ_EDIT'`: Low-quality posts with a negative score, and multiple community edits. However, they still remain open after those changes.\n",
    "- `'LQ_CLOSE'`: Low-quality posts that were closed by the community without a single edit.\n",
    "\n",
    "We're going to assign a numerical rating of `1` to low-quality posts (`'LQ_CLOSE'` and `'LQ_EDIT'`) and a numerical rating of `2` to high-quality posts (`'HQ'`).\n",
    "\n",
    "Complete the implementation of the function `numerical_rating`, which takes in a **string** from the `'Ratings'` column and returns the corresponding numerical rating as described above. Once you've implemented `numerical_rating`, use it to replace the values in the `'Ratings'` column of `python_java_with_language` with the corresponding numerical ratings.\n",
    "\n",
    "*Note*: Our solution is only two lines long, and one of the lines involves defining a dictionary. You don't have to use a dictionary in your implementation, but doing so will help keep your code concise!"
   ]
  },
  {
   "cell_type": "code",
   "execution_count": 30,
   "metadata": {},
   "outputs": [],
   "source": [
    "# Just do the column equal to a new column to replace"
   ]
  },
  {
   "cell_type": "code",
   "execution_count": 31,
   "metadata": {
    "scrolled": true
   },
   "outputs": [
    {
     "data": {
      "text/html": [
       "<div>\n",
       "<style scoped>\n",
       "    .dataframe tbody tr th:only-of-type {\n",
       "        vertical-align: middle;\n",
       "    }\n",
       "\n",
       "    .dataframe tbody tr th {\n",
       "        vertical-align: top;\n",
       "    }\n",
       "\n",
       "    .dataframe thead th {\n",
       "        text-align: right;\n",
       "    }\n",
       "</style>\n",
       "<table border=\"1\" class=\"dataframe\">\n",
       "  <thead>\n",
       "    <tr style=\"text-align: right;\">\n",
       "      <th></th>\n",
       "      <th>Id</th>\n",
       "      <th>Title</th>\n",
       "      <th>Body</th>\n",
       "      <th>Tags</th>\n",
       "      <th>CreationDate</th>\n",
       "      <th>Ratings</th>\n",
       "      <th>CodingLanguage</th>\n",
       "    </tr>\n",
       "  </thead>\n",
       "  <tbody>\n",
       "    <tr>\n",
       "      <th>2</th>\n",
       "      <td>34555135</td>\n",
       "      <td>Pandas: read_html</td>\n",
       "      <td>&lt;p&gt;I'm trying to extract US states from wiki U...</td>\n",
       "      <td>&lt;python&gt;&lt;pandas&gt;</td>\n",
       "      <td>2016-01-01 09:55:22</td>\n",
       "      <td>2</td>\n",
       "      <td>Python</td>\n",
       "    </tr>\n",
       "    <tr>\n",
       "      <th>9</th>\n",
       "      <td>34559136</td>\n",
       "      <td>Print list content in a given order</td>\n",
       "      <td>&lt;pre&gt;&lt;code&gt;lt = ['7,777.7', '777.7', '77,777.7...</td>\n",
       "      <td>&lt;python&gt;&lt;list&gt;&lt;python-2.7&gt;&lt;for-loop&gt;</td>\n",
       "      <td>2016-01-01 19:08:12</td>\n",
       "      <td>1</td>\n",
       "      <td>Python</td>\n",
       "    </tr>\n",
       "    <tr>\n",
       "      <th>13</th>\n",
       "      <td>34562473</td>\n",
       "      <td>Most Pythonic way to kill a thread after some ...</td>\n",
       "      <td>&lt;p&gt;I would like to run a process in a thread (...</td>\n",
       "      <td>&lt;python&gt;&lt;multithreading&gt;</td>\n",
       "      <td>2016-01-02 04:01:41</td>\n",
       "      <td>2</td>\n",
       "      <td>Python</td>\n",
       "    </tr>\n",
       "    <tr>\n",
       "      <th>16</th>\n",
       "      <td>34563454</td>\n",
       "      <td>Django ImageField upload_to path</td>\n",
       "      <td>&lt;p&gt;I'm having trouble understanding and using ...</td>\n",
       "      <td>&lt;python&gt;&lt;django&gt;</td>\n",
       "      <td>2016-01-02 06:54:41</td>\n",
       "      <td>2</td>\n",
       "      <td>Python</td>\n",
       "    </tr>\n",
       "    <tr>\n",
       "      <th>19</th>\n",
       "      <td>34564356</td>\n",
       "      <td>i am new to pythn and was trying to fix indent...</td>\n",
       "      <td>class Cylinder(object):\\r\\n        self.pi = 3...</td>\n",
       "      <td>&lt;python&gt;</td>\n",
       "      <td>2016-01-02 09:22:24</td>\n",
       "      <td>1</td>\n",
       "      <td>Python</td>\n",
       "    </tr>\n",
       "    <tr>\n",
       "      <th>...</th>\n",
       "      <td>...</td>\n",
       "      <td>...</td>\n",
       "      <td>...</td>\n",
       "      <td>...</td>\n",
       "      <td>...</td>\n",
       "      <td>...</td>\n",
       "      <td>...</td>\n",
       "    </tr>\n",
       "    <tr>\n",
       "      <th>14986</th>\n",
       "      <td>60433781</td>\n",
       "      <td>Make this code shorter without using loops</td>\n",
       "      <td>&lt;pre&gt;&lt;code&gt;import random\\na = random.randrange...</td>\n",
       "      <td>&lt;python&gt;&lt;if-statement&gt;</td>\n",
       "      <td>2020-02-27 12:56:18</td>\n",
       "      <td>1</td>\n",
       "      <td>Python</td>\n",
       "    </tr>\n",
       "    <tr>\n",
       "      <th>14987</th>\n",
       "      <td>60434191</td>\n",
       "      <td>sort hashmap value of type list using java 8</td>\n",
       "      <td>&lt;p&gt;I have a map of String key and Value is Lis...</td>\n",
       "      <td>&lt;java&gt;&lt;arrays&gt;</td>\n",
       "      <td>2020-02-27 13:20:20</td>\n",
       "      <td>1</td>\n",
       "      <td>Java</td>\n",
       "    </tr>\n",
       "    <tr>\n",
       "      <th>14988</th>\n",
       "      <td>60436878</td>\n",
       "      <td>Sort python dictionary by value and the value ...</td>\n",
       "      <td>&lt;p&gt;I need to sort this dictionary by points: &lt;...</td>\n",
       "      <td>&lt;python&gt;&lt;dictionary&gt;</td>\n",
       "      <td>2020-02-27 15:44:19</td>\n",
       "      <td>1</td>\n",
       "      <td>Python</td>\n",
       "    </tr>\n",
       "    <tr>\n",
       "      <th>14991</th>\n",
       "      <td>60451203</td>\n",
       "      <td>What is the name of the algorithm that can onl...</td>\n",
       "      <td>&lt;p&gt;I have tried googling this but no luck.&lt;/p&gt;...</td>\n",
       "      <td>&lt;python&gt;&lt;algorithm&gt;&lt;sorting&gt;</td>\n",
       "      <td>2020-02-28 11:53:59</td>\n",
       "      <td>1</td>\n",
       "      <td>Python</td>\n",
       "    </tr>\n",
       "    <tr>\n",
       "      <th>14994</th>\n",
       "      <td>60461322</td>\n",
       "      <td>Python3: Numerical Tic-Tac-Toe winning condition</td>\n",
       "      <td>This is a Numerical Tic Tac Toe game. I try to...</td>\n",
       "      <td>&lt;python&gt;&lt;python-3.x&gt;&lt;tic-tac-toe&gt;</td>\n",
       "      <td>2020-02-29 01:53:50</td>\n",
       "      <td>1</td>\n",
       "      <td>Python</td>\n",
       "    </tr>\n",
       "  </tbody>\n",
       "</table>\n",
       "<p>3410 rows × 7 columns</p>\n",
       "</div>"
      ],
      "text/plain": [
       "             Id                                              Title  \\\n",
       "2      34555135                                  Pandas: read_html   \n",
       "9      34559136                Print list content in a given order   \n",
       "13     34562473  Most Pythonic way to kill a thread after some ...   \n",
       "16     34563454                   Django ImageField upload_to path   \n",
       "19     34564356  i am new to pythn and was trying to fix indent...   \n",
       "...         ...                                                ...   \n",
       "14986  60433781         Make this code shorter without using loops   \n",
       "14987  60434191       sort hashmap value of type list using java 8   \n",
       "14988  60436878  Sort python dictionary by value and the value ...   \n",
       "14991  60451203  What is the name of the algorithm that can onl...   \n",
       "14994  60461322   Python3: Numerical Tic-Tac-Toe winning condition   \n",
       "\n",
       "                                                    Body  \\\n",
       "2      <p>I'm trying to extract US states from wiki U...   \n",
       "9      <pre><code>lt = ['7,777.7', '777.7', '77,777.7...   \n",
       "13     <p>I would like to run a process in a thread (...   \n",
       "16     <p>I'm having trouble understanding and using ...   \n",
       "19     class Cylinder(object):\\r\\n        self.pi = 3...   \n",
       "...                                                  ...   \n",
       "14986  <pre><code>import random\\na = random.randrange...   \n",
       "14987  <p>I have a map of String key and Value is Lis...   \n",
       "14988  <p>I need to sort this dictionary by points: <...   \n",
       "14991  <p>I have tried googling this but no luck.</p>...   \n",
       "14994  This is a Numerical Tic Tac Toe game. I try to...   \n",
       "\n",
       "                                       Tags         CreationDate  Ratings  \\\n",
       "2                          <python><pandas>  2016-01-01 09:55:22        2   \n",
       "9      <python><list><python-2.7><for-loop>  2016-01-01 19:08:12        1   \n",
       "13                 <python><multithreading>  2016-01-02 04:01:41        2   \n",
       "16                         <python><django>  2016-01-02 06:54:41        2   \n",
       "19                                 <python>  2016-01-02 09:22:24        1   \n",
       "...                                     ...                  ...      ...   \n",
       "14986                <python><if-statement>  2020-02-27 12:56:18        1   \n",
       "14987                        <java><arrays>  2020-02-27 13:20:20        1   \n",
       "14988                  <python><dictionary>  2020-02-27 15:44:19        1   \n",
       "14991          <python><algorithm><sorting>  2020-02-28 11:53:59        1   \n",
       "14994     <python><python-3.x><tic-tac-toe>  2020-02-29 01:53:50        1   \n",
       "\n",
       "      CodingLanguage  \n",
       "2             Python  \n",
       "9             Python  \n",
       "13            Python  \n",
       "16            Python  \n",
       "19            Python  \n",
       "...              ...  \n",
       "14986         Python  \n",
       "14987           Java  \n",
       "14988         Python  \n",
       "14991         Python  \n",
       "14994         Python  \n",
       "\n",
       "[3410 rows x 7 columns]"
      ]
     },
     "execution_count": 31,
     "metadata": {},
     "output_type": "execute_result"
    }
   ],
   "source": [
    "def numerical_rating(rating):\n",
    "    if \"HQ\" in rating:\n",
    "        return 2\n",
    "    elif \"LQ_EDIT\" or \"LQ_CLOSE\" in rating:\n",
    "        return 1\n",
    "    else:\n",
    "        return None\n",
    "\n",
    "python_java_with_language = python_java_with_language.assign(Ratings = python_java_with_language.get('Ratings').apply(numerical_rating))\n",
    "python_java_with_language"
   ]
  },
  {
   "cell_type": "code",
   "execution_count": 32,
   "metadata": {
    "deletable": false,
    "editable": false
   },
   "outputs": [
    {
     "data": {
      "text/html": [
       "<p><strong><pre style='display: inline;'>q1_3</pre></strong> passed!</p>"
      ],
      "text/plain": [
       "q1_3 results: All test cases passed!"
      ]
     },
     "execution_count": 32,
     "metadata": {},
     "output_type": "execute_result"
    }
   ],
   "source": [
    "grader.check(\"q1_3\")"
   ]
  },
  {
   "cell_type": "markdown",
   "metadata": {},
   "source": [
    "**Question 1.4.** Using the DataFrame `python_java_with_language`, calculate the difference between the **mean** `'Rating'` of Python posts and Java posts. Assign your answer to `observed_difference`.\n",
    "\n",
    "$$\\text{observed difference} = \\text{mean Python post rating} - \\text{mean Java post rating}$$"
   ]
  },
  {
   "cell_type": "code",
   "execution_count": 33,
   "metadata": {},
   "outputs": [
    {
     "data": {
      "text/plain": [
       "0.1353065297006404"
      ]
     },
     "execution_count": 33,
     "metadata": {},
     "output_type": "execute_result"
    }
   ],
   "source": [
    "python_posts = python_java_with_language[python_java_with_language.get('CodingLanguage') == 'Python']\n",
    "mean_python_rating = python_posts.get(\"Ratings\").mean()\n",
    "\n",
    "java_posts = python_java_with_language[python_java_with_language.get('CodingLanguage') == 'Java']\n",
    "mean_java_rating = java_posts.get(\"Ratings\").mean()\n",
    "\n",
    "observed_difference = mean_python_rating - mean_java_rating\n",
    "\n",
    "observed_difference"
   ]
  },
  {
   "cell_type": "code",
   "execution_count": 34,
   "metadata": {
    "deletable": false,
    "editable": false
   },
   "outputs": [
    {
     "data": {
      "text/html": [
       "<p><strong><pre style='display: inline;'>q1_4</pre></strong> passed!</p>"
      ],
      "text/plain": [
       "q1_4 results: All test cases passed!"
      ]
     },
     "execution_count": 34,
     "metadata": {},
     "output_type": "execute_result"
    }
   ],
   "source": [
    "grader.check(\"q1_4\")"
   ]
  },
  {
   "cell_type": "markdown",
   "metadata": {},
   "source": [
    "**Question 1.5.** What does the number you obtained for `observed_difference` mean? Assign `q1_4` to 1, 2, 3, or 4, corresponding to the best explanation below."
   ]
  },
  {
   "cell_type": "markdown",
   "metadata": {},
   "source": [
    "1. In our sample, the mean Python post rating is higher than the mean Java post rating by about 14 percent.\n",
    "1. In our sample, the mean Python post rating is higher than the mean Java post rating by about 14 points.\n",
    "1. In our sample, the mean Java post rating is higher than the mean Python post rating by about 14 percent.\n",
    "1. In our sample, the mean Java post rating is higher than the mean Python post rating by about 14 points."
   ]
  },
  {
   "cell_type": "code",
   "execution_count": 35,
   "metadata": {},
   "outputs": [],
   "source": [
    "q1_4 = 2"
   ]
  },
  {
   "cell_type": "code",
   "execution_count": 36,
   "metadata": {
    "deletable": false,
    "editable": false
   },
   "outputs": [
    {
     "data": {
      "text/html": [
       "<p><strong><pre style='display: inline;'>q1_5</pre></strong> passed!</p>"
      ],
      "text/plain": [
       "q1_5 results: All test cases passed!"
      ]
     },
     "execution_count": 36,
     "metadata": {},
     "output_type": "execute_result"
    }
   ],
   "source": [
    "grader.check(\"q1_5\")"
   ]
  },
  {
   "cell_type": "markdown",
   "metadata": {
    "deletable": false,
    "editable": false
   },
   "source": [
    "Now we want to conduct a permutation test to see if it is by chance that the average rating for Python posts is higher than the average rating of Java posts in our sample, or if Python posts have a higher rating on average than Java posts.\n",
    "\n",
    "- **Null Hypothesis**: The rating of Python posts and Java posts come from the same distribution.  \n",
    "- **Alternative Hypothesis**: The rating of Python posts are higher on average than the rating of Java posts.\n",
    "\n",
    "**Question 1.6.** Assign `python_java_rating` to a DataFrame with only two columns, `'CodingLanguage'` and `'Ratings'`, since these are the only relevant columns in `python_java_with_language` for this permutation test.\n",
    "\n",
    "<!--\n",
    "BEGIN QUESTION\n",
    "name: q1_6\n",
    "-->"
   ]
  },
  {
   "cell_type": "code",
   "execution_count": 37,
   "metadata": {},
   "outputs": [
    {
     "data": {
      "text/html": [
       "<div>\n",
       "<style scoped>\n",
       "    .dataframe tbody tr th:only-of-type {\n",
       "        vertical-align: middle;\n",
       "    }\n",
       "\n",
       "    .dataframe tbody tr th {\n",
       "        vertical-align: top;\n",
       "    }\n",
       "\n",
       "    .dataframe thead th {\n",
       "        text-align: right;\n",
       "    }\n",
       "</style>\n",
       "<table border=\"1\" class=\"dataframe\">\n",
       "  <thead>\n",
       "    <tr style=\"text-align: right;\">\n",
       "      <th></th>\n",
       "      <th>CodingLanguage</th>\n",
       "      <th>Ratings</th>\n",
       "    </tr>\n",
       "  </thead>\n",
       "  <tbody>\n",
       "    <tr>\n",
       "      <th>2</th>\n",
       "      <td>Python</td>\n",
       "      <td>2</td>\n",
       "    </tr>\n",
       "    <tr>\n",
       "      <th>9</th>\n",
       "      <td>Python</td>\n",
       "      <td>1</td>\n",
       "    </tr>\n",
       "    <tr>\n",
       "      <th>13</th>\n",
       "      <td>Python</td>\n",
       "      <td>2</td>\n",
       "    </tr>\n",
       "    <tr>\n",
       "      <th>16</th>\n",
       "      <td>Python</td>\n",
       "      <td>2</td>\n",
       "    </tr>\n",
       "    <tr>\n",
       "      <th>19</th>\n",
       "      <td>Python</td>\n",
       "      <td>1</td>\n",
       "    </tr>\n",
       "    <tr>\n",
       "      <th>...</th>\n",
       "      <td>...</td>\n",
       "      <td>...</td>\n",
       "    </tr>\n",
       "    <tr>\n",
       "      <th>14986</th>\n",
       "      <td>Python</td>\n",
       "      <td>1</td>\n",
       "    </tr>\n",
       "    <tr>\n",
       "      <th>14987</th>\n",
       "      <td>Java</td>\n",
       "      <td>1</td>\n",
       "    </tr>\n",
       "    <tr>\n",
       "      <th>14988</th>\n",
       "      <td>Python</td>\n",
       "      <td>1</td>\n",
       "    </tr>\n",
       "    <tr>\n",
       "      <th>14991</th>\n",
       "      <td>Python</td>\n",
       "      <td>1</td>\n",
       "    </tr>\n",
       "    <tr>\n",
       "      <th>14994</th>\n",
       "      <td>Python</td>\n",
       "      <td>1</td>\n",
       "    </tr>\n",
       "  </tbody>\n",
       "</table>\n",
       "<p>3410 rows × 2 columns</p>\n",
       "</div>"
      ],
      "text/plain": [
       "      CodingLanguage  Ratings\n",
       "2             Python        2\n",
       "9             Python        1\n",
       "13            Python        2\n",
       "16            Python        2\n",
       "19            Python        1\n",
       "...              ...      ...\n",
       "14986         Python        1\n",
       "14987           Java        1\n",
       "14988         Python        1\n",
       "14991         Python        1\n",
       "14994         Python        1\n",
       "\n",
       "[3410 rows x 2 columns]"
      ]
     },
     "execution_count": 37,
     "metadata": {},
     "output_type": "execute_result"
    }
   ],
   "source": [
    "python_java_rating = python_java_with_language.get(['CodingLanguage', 'Ratings'])\n",
    "python_java_rating"
   ]
  },
  {
   "cell_type": "code",
   "execution_count": 38,
   "metadata": {
    "deletable": false,
    "editable": false
   },
   "outputs": [
    {
     "data": {
      "text/html": [
       "<p><strong style='color: red;'><pre style='display: inline;'>q1_6</pre> results:</strong></p><p><strong><pre style='display: inline;'>q1_6 - 1</pre> result:</strong></p><pre>    Trying:\n",
       "        python_java_rating.shape == (3308, 2)\n",
       "    Expecting:\n",
       "        True\n",
       "    **********************************************************************\n",
       "    Line 1, in q1_6 0\n",
       "    Failed example:\n",
       "        python_java_rating.shape == (3308, 2)\n",
       "    Expected:\n",
       "        True\n",
       "    Got:\n",
       "        False\n",
       "</pre>"
      ],
      "text/plain": [
       "q1_6 results:\n",
       "    q1_6 - 1 result:\n",
       "        Trying:\n",
       "            python_java_rating.shape == (3308, 2)\n",
       "        Expecting:\n",
       "            True\n",
       "        **********************************************************************\n",
       "        Line 1, in q1_6 0\n",
       "        Failed example:\n",
       "            python_java_rating.shape == (3308, 2)\n",
       "        Expected:\n",
       "            True\n",
       "        Got:\n",
       "            False"
      ]
     },
     "execution_count": 38,
     "metadata": {},
     "output_type": "execute_result"
    }
   ],
   "source": [
    "grader.check(\"q1_6\")"
   ]
  },
  {
   "cell_type": "markdown",
   "metadata": {},
   "source": [
    "**Question 1.7.** To perform the permutation test, 1000 times, create two random groups by shuffling the `'CodingLanguage'` column of `python_java_rating`. Don't change the `'Ratings'` column. For each pair of random groups, calculate the difference in mean ratings (Python minus Java) and store your 1000 differences in the `differences` array.  \n",
    "\n",
    "*Note*: Since we are working with a relatively large data set, it may take **up to five minutes** to generate 1000 permutations. One suggestion is to make sure your code works correctly with fewer repetitions, say, 20, before using 1000 repetitions."
   ]
  },
  {
   "cell_type": "code",
   "execution_count": 39,
   "metadata": {},
   "outputs": [
    {
     "ename": "NameError",
     "evalue": "name 'pd' is not defined",
     "output_type": "error",
     "traceback": [
      "\u001b[0;31m---------------------------------------------------------------------------\u001b[0m",
      "\u001b[0;31mNameError\u001b[0m                                 Traceback (most recent call last)",
      "\u001b[0;32m/tmp/ipykernel_360/2436992447.py\u001b[0m in \u001b[0;36m<module>\u001b[0;34m\u001b[0m\n\u001b[1;32m      3\u001b[0m \u001b[0;34m\u001b[0m\u001b[0m\n\u001b[1;32m      4\u001b[0m \u001b[0;32mfor\u001b[0m \u001b[0m_\u001b[0m \u001b[0;32min\u001b[0m \u001b[0mrange\u001b[0m\u001b[0;34m(\u001b[0m\u001b[0mn_repetitions\u001b[0m\u001b[0;34m)\u001b[0m\u001b[0;34m:\u001b[0m\u001b[0;34m\u001b[0m\u001b[0;34m\u001b[0m\u001b[0m\n\u001b[0;32m----> 5\u001b[0;31m     \u001b[0mshuffled_language\u001b[0m \u001b[0;34m=\u001b[0m \u001b[0mpd\u001b[0m\u001b[0;34m.\u001b[0m\u001b[0mDataFrame\u001b[0m\u001b[0;34m(\u001b[0m\u001b[0mpython_java_rating\u001b[0m\u001b[0;34m.\u001b[0m\u001b[0mto_df\u001b[0m\u001b[0;34m(\u001b[0m\u001b[0;34m)\u001b[0m\u001b[0;34m.\u001b[0m\u001b[0mget\u001b[0m\u001b[0;34m(\u001b[0m\u001b[0;34m'CodingLanguage'\u001b[0m\u001b[0;34m)\u001b[0m\u001b[0;34m.\u001b[0m\u001b[0msample\u001b[0m\u001b[0;34m(\u001b[0m\u001b[0mfrac\u001b[0m\u001b[0;34m=\u001b[0m\u001b[0;36m1\u001b[0m\u001b[0;34m)\u001b[0m\u001b[0;34m.\u001b[0m\u001b[0mreset_index\u001b[0m\u001b[0;34m(\u001b[0m\u001b[0mdrop\u001b[0m\u001b[0;34m=\u001b[0m\u001b[0;32mTrue\u001b[0m\u001b[0;34m)\u001b[0m\u001b[0;34m)\u001b[0m\u001b[0;34m\u001b[0m\u001b[0;34m\u001b[0m\u001b[0m\n\u001b[0m\u001b[1;32m      6\u001b[0m     \u001b[0mshuffled_df\u001b[0m \u001b[0;34m=\u001b[0m \u001b[0mpython_java_rating\u001b[0m\u001b[0;34m.\u001b[0m\u001b[0mto_df\u001b[0m\u001b[0;34m(\u001b[0m\u001b[0;34m)\u001b[0m\u001b[0;34m.\u001b[0m\u001b[0massign\u001b[0m\u001b[0;34m(\u001b[0m\u001b[0mCodingLanguage\u001b[0m\u001b[0;34m=\u001b[0m\u001b[0mshuffled_language\u001b[0m\u001b[0;34m[\u001b[0m\u001b[0;34m'CodingLanguage'\u001b[0m\u001b[0;34m]\u001b[0m\u001b[0;34m)\u001b[0m\u001b[0;34m\u001b[0m\u001b[0;34m\u001b[0m\u001b[0m\n\u001b[1;32m      7\u001b[0m     \u001b[0mpython_mean\u001b[0m \u001b[0;34m=\u001b[0m \u001b[0mshuffled_df\u001b[0m\u001b[0;34m.\u001b[0m\u001b[0mloc\u001b[0m\u001b[0;34m[\u001b[0m\u001b[0mshuffled_df\u001b[0m\u001b[0;34m.\u001b[0m\u001b[0mget\u001b[0m\u001b[0;34m(\u001b[0m\u001b[0;34m'CodingLanguage'\u001b[0m\u001b[0;34m)\u001b[0m \u001b[0;34m==\u001b[0m \u001b[0;34m'Python'\u001b[0m\u001b[0;34m,\u001b[0m \u001b[0;34m'Ratings'\u001b[0m\u001b[0;34m]\u001b[0m\u001b[0;34m.\u001b[0m\u001b[0mmean\u001b[0m\u001b[0;34m(\u001b[0m\u001b[0;34m)\u001b[0m\u001b[0;34m\u001b[0m\u001b[0;34m\u001b[0m\u001b[0m\n",
      "\u001b[0;31mNameError\u001b[0m: name 'pd' is not defined"
     ]
    }
   ],
   "source": [
    "n_repetitions = 1000\n",
    "differences = []\n",
    "\n",
    "for _ in range(n_repetitions):\n",
    "    shuffled_language = pd.DataFrame(python_java_rating.to_df().get('CodingLanguage').sample(frac=1).reset_index(drop=True))\n",
    "    shuffled_df = python_java_rating.to_df().assign(CodingLanguage=shuffled_language['CodingLanguage'])\n",
    "    python_mean = shuffled_df.loc[shuffled_df.get('CodingLanguage') == 'Python', 'Ratings'].mean()\n",
    "    java_mean = shuffled_df.loc[shuffled_df.get('CodingLanguage') == 'Java', 'Ratings'].mean()\n",
    "    differences.append(python_mean - java_mean)\n",
    "\n",
    "differences = np.array(differences)"
   ]
  },
  {
   "cell_type": "code",
   "execution_count": 40,
   "metadata": {
    "deletable": false,
    "editable": false
   },
   "outputs": [
    {
     "data": {
      "text/html": [
       "<p><strong style='color: red;'><pre style='display: inline;'>q1_7</pre> results:</strong></p><p><strong><pre style='display: inline;'>q1_7 - 1</pre> result:</strong></p><pre>    Trying:\n",
       "        isinstance(differences, np.ndarray) and len(differences) == 1000\n",
       "    Expecting:\n",
       "        True\n",
       "    **********************************************************************\n",
       "    Line 1, in q1_7 0\n",
       "    Failed example:\n",
       "        isinstance(differences, np.ndarray) and len(differences) == 1000\n",
       "    Expected:\n",
       "        True\n",
       "    Got:\n",
       "        False\n",
       "</pre>"
      ],
      "text/plain": [
       "q1_7 results:\n",
       "    q1_7 - 1 result:\n",
       "        Trying:\n",
       "            isinstance(differences, np.ndarray) and len(differences) == 1000\n",
       "        Expecting:\n",
       "            True\n",
       "        **********************************************************************\n",
       "        Line 1, in q1_7 0\n",
       "        Failed example:\n",
       "            isinstance(differences, np.ndarray) and len(differences) == 1000\n",
       "        Expected:\n",
       "            True\n",
       "        Got:\n",
       "            False"
      ]
     },
     "execution_count": 40,
     "metadata": {},
     "output_type": "execute_result"
    }
   ],
   "source": [
    "grader.check(\"q1_7\")"
   ]
  },
  {
   "cell_type": "markdown",
   "metadata": {},
   "source": [
    "**Question 1.8.** Compute a p-value for this hypothesis test and assign your answer to `p_val`. To decide whether to use `<=` or `>=` in the calculation of the p-value, think about whether larger values or smaller values of our test statistic favor the alternative hypothesis."
   ]
  },
  {
   "cell_type": "code",
   "execution_count": 41,
   "metadata": {},
   "outputs": [
    {
     "data": {
      "text/plain": [
       "0.0"
      ]
     },
     "execution_count": 41,
     "metadata": {},
     "output_type": "execute_result"
    }
   ],
   "source": [
    "python_ratings = python_java_rating.loc[python_java_rating.get('CodingLanguage') == 'Python'].get('Ratings').mean()\n",
    "java_ratings = python_java_rating.loc[python_java_rating.get('CodingLanguage') == 'Java'].get('Ratings').mean()\n",
    "\n",
    "observed_difference = python_ratings - java_ratings\n",
    "p_val = np.count_nonzero(differences >= observed_difference) / n_repetitions\n",
    "p_val\n"
   ]
  },
  {
   "cell_type": "code",
   "execution_count": 42,
   "metadata": {
    "deletable": false,
    "editable": false
   },
   "outputs": [
    {
     "data": {
      "text/html": [
       "<p><strong><pre style='display: inline;'>q1_8</pre></strong> passed!</p>"
      ],
      "text/plain": [
       "q1_8 results: All test cases passed!"
      ]
     },
     "execution_count": 42,
     "metadata": {},
     "output_type": "execute_result"
    }
   ],
   "source": [
    "grader.check(\"q1_8\")"
   ]
  },
  {
   "cell_type": "markdown",
   "metadata": {},
   "source": [
    "**Question 1.9.** Assign the variable `q1_9` to a **list** of all the true statements below."
   ]
  },
  {
   "cell_type": "markdown",
   "metadata": {},
   "source": [
    "1. We accept the null hypothesis at the 0.05 significance level.\n",
    "2. We reject the null hypothesis at the 0.01 significance level.\n",
    "3. We fail to reject the null hypothesis at the 0.01 significance level.\n",
    "4. We accept the null hypothesis at the 0.01 significance level.\n",
    "5. We fail to reject the null hypothesis at the 0.05 significance level.\n",
    "6. We reject the null hypothesis at the 0.05 significance level."
   ]
  },
  {
   "cell_type": "code",
   "execution_count": 43,
   "metadata": {},
   "outputs": [],
   "source": [
    "q1_9 = q1_9 = [1, 3, 6]"
   ]
  },
  {
   "cell_type": "code",
   "execution_count": 44,
   "metadata": {
    "deletable": false,
    "editable": false
   },
   "outputs": [
    {
     "data": {
      "text/html": [
       "<p><strong><pre style='display: inline;'>q1_9</pre></strong> passed!</p>"
      ],
      "text/plain": [
       "q1_9 results: All test cases passed!"
      ]
     },
     "execution_count": 44,
     "metadata": {},
     "output_type": "execute_result"
    }
   ],
   "source": [
    "grader.check(\"q1_9\")"
   ]
  },
  {
   "cell_type": "markdown",
   "metadata": {},
   "source": [
    "**Question 1.10.** Suppose in this question you had shuffled the `'Ratings'` column instead and kept the `'CodingLanguage'` column in the same order. Assign `q1_10` to either 1, 2, 3, or 4, corresponding to the true statement below.\n",
    "\n",
    "\n",
    "1. The new p-value from shuffling `'Ratings'` would be $1 - p$, where $p$ is the old p-value from shuffling `'CodingLanguage'` (i.e. your answer to Question 1.8).\n",
    "2. We would need to change our null hypothesis in order to shuffle the `'Ratings'` column. \n",
    "3. There would be no difference in the conclusion of the test if we had shuffled the `'Ratings'` column instead.\n",
    "4. The `'Ratings'` column cannot be shuffled because it contains numbers."
   ]
  },
  {
   "cell_type": "code",
   "execution_count": 45,
   "metadata": {},
   "outputs": [],
   "source": [
    "q1_10 = 2"
   ]
  },
  {
   "cell_type": "code",
   "execution_count": 46,
   "metadata": {
    "deletable": false,
    "editable": false
   },
   "outputs": [
    {
     "data": {
      "text/html": [
       "<p><strong><pre style='display: inline;'>q1_10</pre></strong> passed!</p>"
      ],
      "text/plain": [
       "q1_10 results: All test cases passed!"
      ]
     },
     "execution_count": 46,
     "metadata": {},
     "output_type": "execute_result"
    }
   ],
   "source": [
    "grader.check(\"q1_10\")"
   ]
  },
  {
   "cell_type": "markdown",
   "metadata": {},
   "source": [
    "**Question 1.11.** Which of the following choices best describes the purpose of shuffling one of the columns in our dataset in a permutation test? Assign `q1_11` to either 1, 2, 3, or 4.\n",
    "\n",
    "1. Shuffling mitigates noise in our data by generating new permutations of the data.\n",
    "1. Shuffling is a special case of bootstrapping and allows us to produce interval estimates.\n",
    "1. Shuffling allows us to generate new data under the null hypothesis, which we can use in testing our hypothesis.\n",
    "1. Shuffling allows us to generate new data under the alternative hypothesis, which explains that the data come from different distributions."
   ]
  },
  {
   "cell_type": "code",
   "execution_count": 47,
   "metadata": {},
   "outputs": [],
   "source": [
    "q1_11 = 3"
   ]
  },
  {
   "cell_type": "code",
   "execution_count": 48,
   "metadata": {
    "deletable": false,
    "editable": false
   },
   "outputs": [
    {
     "data": {
      "text/html": [
       "<p><strong><pre style='display: inline;'>q1_11</pre></strong> passed!</p>"
      ],
      "text/plain": [
       "q1_11 results: All test cases passed!"
      ]
     },
     "execution_count": 48,
     "metadata": {},
     "output_type": "execute_result"
    }
   ],
   "source": [
    "grader.check(\"q1_11\")"
   ]
  },
  {
   "cell_type": "markdown",
   "metadata": {},
   "source": [
    "## 2. Video Game Price Percentiles 🎮"
   ]
  },
  {
   "cell_type": "markdown",
   "metadata": {},
   "source": [
    "Percentiles associate numbers in a dataset to their positions when the dataset is sorted in ascending order. You may be familiar with the idea of percentiles from height and weight measurements at the doctor's office, or from standardized test scores.\n",
    "\n",
    "There are many different ways to precisely define a percentile. In [Lecture 19](https://dsc10.com/resources/lectures/lec19/lec19.html#Percentiles), we saw two different approaches:\n",
    "- Using a mathematical definition (see the slide in Lecture 19 titled _[How to calculate percentiles using the mathematical definition](https://dsc10.com/resources/lectures/lec19/lec10.html#How-to-calculate-percentiles-using-the-mathematical-definition)_).\n",
    "- Using `np.percentile`.\n",
    "\n",
    "In Questions 2.1 through 2.4, we will use the mathematical definition, and in Question 2.5, we will use `np.percentile`."
   ]
  },
  {
   "cell_type": "markdown",
   "metadata": {},
   "source": [
    "The file `steam_games.csv` contains information about various games sold on the online video game store and distribution service [Steam](https://store.steampowered.com/). The data comes from [Kaggle](https://www.kaggle.com/datasets/thedevastator/get-your-game-on-metacritic-recommendations-and?resource=download).\n",
    "\n",
    "The columns are:\n",
    "- `'Game'`: The name of the video game\n",
    "- `'ReleaseDate'`: The date it was released\n",
    "- `'Metacritic'`: The review score it earned on [metacritic.com](https://www.metacritic.com/), or 0 if it's not reviewed\n",
    "- `'RecommendationCount'`: Number of times it has been recommended in Steam \n",
    "- `'IsFree'`: Whether the game is free or not\n",
    "- `'GenreIsXXX'`:  Whether the game belongs to genre XXX (many such columns)\n",
    "- `'Price'`: The price of the game when it was initially released"
   ]
  },
  {
   "cell_type": "markdown",
   "metadata": {},
   "source": [
    "Let's read in the data and explore the full set of column names."
   ]
  },
  {
   "cell_type": "code",
   "execution_count": 49,
   "metadata": {},
   "outputs": [
    {
     "data": {
      "text/html": [
       "<div>\n",
       "<style scoped>\n",
       "    .dataframe tbody tr th:only-of-type {\n",
       "        vertical-align: middle;\n",
       "    }\n",
       "\n",
       "    .dataframe tbody tr th {\n",
       "        vertical-align: top;\n",
       "    }\n",
       "\n",
       "    .dataframe thead th {\n",
       "        text-align: right;\n",
       "    }\n",
       "</style>\n",
       "<table border=\"1\" class=\"dataframe\">\n",
       "  <thead>\n",
       "    <tr style=\"text-align: right;\">\n",
       "      <th></th>\n",
       "      <th>Game</th>\n",
       "      <th>ReleaseDate</th>\n",
       "      <th>Metacritic</th>\n",
       "      <th>RecommendationCount</th>\n",
       "      <th>IsFree</th>\n",
       "      <th>GenreIsNonGame</th>\n",
       "      <th>GenreIsIndie</th>\n",
       "      <th>GenreIsAction</th>\n",
       "      <th>GenreIsAdventure</th>\n",
       "      <th>GenreIsCasual</th>\n",
       "      <th>GenreIsStrategy</th>\n",
       "      <th>GenreIsRPG</th>\n",
       "      <th>GenreIsSimulation</th>\n",
       "      <th>GenreIsEarlyAccess</th>\n",
       "      <th>GenreIsFreeToPlay</th>\n",
       "      <th>GenreIsSports</th>\n",
       "      <th>GenreIsRacing</th>\n",
       "      <th>GenreIsMassivelyMultiplayer</th>\n",
       "      <th>Price</th>\n",
       "    </tr>\n",
       "  </thead>\n",
       "  <tbody>\n",
       "    <tr>\n",
       "      <th>0</th>\n",
       "      <td>Counter-Strike</td>\n",
       "      <td>Nov 1 2000</td>\n",
       "      <td>88</td>\n",
       "      <td>68991</td>\n",
       "      <td>False</td>\n",
       "      <td>False</td>\n",
       "      <td>False</td>\n",
       "      <td>True</td>\n",
       "      <td>False</td>\n",
       "      <td>False</td>\n",
       "      <td>False</td>\n",
       "      <td>False</td>\n",
       "      <td>False</td>\n",
       "      <td>False</td>\n",
       "      <td>False</td>\n",
       "      <td>False</td>\n",
       "      <td>False</td>\n",
       "      <td>False</td>\n",
       "      <td>9.99</td>\n",
       "    </tr>\n",
       "    <tr>\n",
       "      <th>1</th>\n",
       "      <td>Team Fortress Classic</td>\n",
       "      <td>Apr 1 1999</td>\n",
       "      <td>0</td>\n",
       "      <td>2439</td>\n",
       "      <td>False</td>\n",
       "      <td>False</td>\n",
       "      <td>False</td>\n",
       "      <td>True</td>\n",
       "      <td>False</td>\n",
       "      <td>False</td>\n",
       "      <td>False</td>\n",
       "      <td>False</td>\n",
       "      <td>False</td>\n",
       "      <td>False</td>\n",
       "      <td>False</td>\n",
       "      <td>False</td>\n",
       "      <td>False</td>\n",
       "      <td>False</td>\n",
       "      <td>4.99</td>\n",
       "    </tr>\n",
       "    <tr>\n",
       "      <th>2</th>\n",
       "      <td>Day of Defeat</td>\n",
       "      <td>May 1 2003</td>\n",
       "      <td>79</td>\n",
       "      <td>2319</td>\n",
       "      <td>False</td>\n",
       "      <td>False</td>\n",
       "      <td>False</td>\n",
       "      <td>True</td>\n",
       "      <td>False</td>\n",
       "      <td>False</td>\n",
       "      <td>False</td>\n",
       "      <td>False</td>\n",
       "      <td>False</td>\n",
       "      <td>False</td>\n",
       "      <td>False</td>\n",
       "      <td>False</td>\n",
       "      <td>False</td>\n",
       "      <td>False</td>\n",
       "      <td>4.99</td>\n",
       "    </tr>\n",
       "    <tr>\n",
       "      <th>3</th>\n",
       "      <td>Deathmatch Classic</td>\n",
       "      <td>Jun 1 2001</td>\n",
       "      <td>0</td>\n",
       "      <td>888</td>\n",
       "      <td>False</td>\n",
       "      <td>False</td>\n",
       "      <td>False</td>\n",
       "      <td>True</td>\n",
       "      <td>False</td>\n",
       "      <td>False</td>\n",
       "      <td>False</td>\n",
       "      <td>False</td>\n",
       "      <td>False</td>\n",
       "      <td>False</td>\n",
       "      <td>False</td>\n",
       "      <td>False</td>\n",
       "      <td>False</td>\n",
       "      <td>False</td>\n",
       "      <td>4.99</td>\n",
       "    </tr>\n",
       "    <tr>\n",
       "      <th>4</th>\n",
       "      <td>Half-Life: Opposing Force</td>\n",
       "      <td>Nov 1 1999</td>\n",
       "      <td>0</td>\n",
       "      <td>2934</td>\n",
       "      <td>False</td>\n",
       "      <td>False</td>\n",
       "      <td>False</td>\n",
       "      <td>True</td>\n",
       "      <td>False</td>\n",
       "      <td>False</td>\n",
       "      <td>False</td>\n",
       "      <td>False</td>\n",
       "      <td>False</td>\n",
       "      <td>False</td>\n",
       "      <td>False</td>\n",
       "      <td>False</td>\n",
       "      <td>False</td>\n",
       "      <td>False</td>\n",
       "      <td>4.99</td>\n",
       "    </tr>\n",
       "    <tr>\n",
       "      <th>...</th>\n",
       "      <td>...</td>\n",
       "      <td>...</td>\n",
       "      <td>...</td>\n",
       "      <td>...</td>\n",
       "      <td>...</td>\n",
       "      <td>...</td>\n",
       "      <td>...</td>\n",
       "      <td>...</td>\n",
       "      <td>...</td>\n",
       "      <td>...</td>\n",
       "      <td>...</td>\n",
       "      <td>...</td>\n",
       "      <td>...</td>\n",
       "      <td>...</td>\n",
       "      <td>...</td>\n",
       "      <td>...</td>\n",
       "      <td>...</td>\n",
       "      <td>...</td>\n",
       "      <td>...</td>\n",
       "    </tr>\n",
       "    <tr>\n",
       "      <th>12618</th>\n",
       "      <td>VR RunningJoe</td>\n",
       "      <td>Oct 31 2016</td>\n",
       "      <td>0</td>\n",
       "      <td>0</td>\n",
       "      <td>False</td>\n",
       "      <td>False</td>\n",
       "      <td>False</td>\n",
       "      <td>False</td>\n",
       "      <td>False</td>\n",
       "      <td>True</td>\n",
       "      <td>False</td>\n",
       "      <td>False</td>\n",
       "      <td>False</td>\n",
       "      <td>False</td>\n",
       "      <td>False</td>\n",
       "      <td>False</td>\n",
       "      <td>True</td>\n",
       "      <td>False</td>\n",
       "      <td>0.00</td>\n",
       "    </tr>\n",
       "    <tr>\n",
       "      <th>12619</th>\n",
       "      <td>ObserVR Beta</td>\n",
       "      <td>Oct 26 2016</td>\n",
       "      <td>0</td>\n",
       "      <td>0</td>\n",
       "      <td>True</td>\n",
       "      <td>True</td>\n",
       "      <td>False</td>\n",
       "      <td>False</td>\n",
       "      <td>False</td>\n",
       "      <td>False</td>\n",
       "      <td>False</td>\n",
       "      <td>False</td>\n",
       "      <td>False</td>\n",
       "      <td>True</td>\n",
       "      <td>False</td>\n",
       "      <td>False</td>\n",
       "      <td>False</td>\n",
       "      <td>False</td>\n",
       "      <td>0.00</td>\n",
       "    </tr>\n",
       "    <tr>\n",
       "      <th>12620</th>\n",
       "      <td>Fiber Twig: Midnight Puzzle</td>\n",
       "      <td>Oct 26 2016</td>\n",
       "      <td>0</td>\n",
       "      <td>0</td>\n",
       "      <td>False</td>\n",
       "      <td>False</td>\n",
       "      <td>True</td>\n",
       "      <td>False</td>\n",
       "      <td>False</td>\n",
       "      <td>True</td>\n",
       "      <td>False</td>\n",
       "      <td>False</td>\n",
       "      <td>False</td>\n",
       "      <td>False</td>\n",
       "      <td>False</td>\n",
       "      <td>False</td>\n",
       "      <td>False</td>\n",
       "      <td>False</td>\n",
       "      <td>2.99</td>\n",
       "    </tr>\n",
       "    <tr>\n",
       "      <th>12621</th>\n",
       "      <td>Charm Tale Quest</td>\n",
       "      <td>Oct 27 2016</td>\n",
       "      <td>0</td>\n",
       "      <td>0</td>\n",
       "      <td>False</td>\n",
       "      <td>False</td>\n",
       "      <td>True</td>\n",
       "      <td>False</td>\n",
       "      <td>False</td>\n",
       "      <td>True</td>\n",
       "      <td>False</td>\n",
       "      <td>False</td>\n",
       "      <td>False</td>\n",
       "      <td>False</td>\n",
       "      <td>False</td>\n",
       "      <td>False</td>\n",
       "      <td>False</td>\n",
       "      <td>False</td>\n",
       "      <td>2.99</td>\n",
       "    </tr>\n",
       "    <tr>\n",
       "      <th>12622</th>\n",
       "      <td>What The Heck Dude?</td>\n",
       "      <td>Nov 2 2016</td>\n",
       "      <td>0</td>\n",
       "      <td>0</td>\n",
       "      <td>False</td>\n",
       "      <td>False</td>\n",
       "      <td>True</td>\n",
       "      <td>True</td>\n",
       "      <td>False</td>\n",
       "      <td>True</td>\n",
       "      <td>False</td>\n",
       "      <td>False</td>\n",
       "      <td>True</td>\n",
       "      <td>True</td>\n",
       "      <td>False</td>\n",
       "      <td>False</td>\n",
       "      <td>False</td>\n",
       "      <td>False</td>\n",
       "      <td>0.00</td>\n",
       "    </tr>\n",
       "  </tbody>\n",
       "</table>\n",
       "<p>12623 rows × 19 columns</p>\n",
       "</div>"
      ],
      "text/plain": [
       "                              Game  ReleaseDate  Metacritic  \\\n",
       "0                   Counter-Strike   Nov 1 2000          88   \n",
       "1            Team Fortress Classic   Apr 1 1999           0   \n",
       "2                    Day of Defeat   May 1 2003          79   \n",
       "3               Deathmatch Classic   Jun 1 2001           0   \n",
       "4        Half-Life: Opposing Force   Nov 1 1999           0   \n",
       "...                            ...          ...         ...   \n",
       "12618                VR RunningJoe  Oct 31 2016           0   \n",
       "12619                 ObserVR Beta  Oct 26 2016           0   \n",
       "12620  Fiber Twig: Midnight Puzzle  Oct 26 2016           0   \n",
       "12621             Charm Tale Quest  Oct 27 2016           0   \n",
       "12622          What The Heck Dude?   Nov 2 2016           0   \n",
       "\n",
       "       RecommendationCount  IsFree  GenreIsNonGame  GenreIsIndie  \\\n",
       "0                    68991   False           False         False   \n",
       "1                     2439   False           False         False   \n",
       "2                     2319   False           False         False   \n",
       "3                      888   False           False         False   \n",
       "4                     2934   False           False         False   \n",
       "...                    ...     ...             ...           ...   \n",
       "12618                    0   False           False         False   \n",
       "12619                    0    True            True         False   \n",
       "12620                    0   False           False          True   \n",
       "12621                    0   False           False          True   \n",
       "12622                    0   False           False          True   \n",
       "\n",
       "       GenreIsAction  GenreIsAdventure  GenreIsCasual  GenreIsStrategy  \\\n",
       "0               True             False          False            False   \n",
       "1               True             False          False            False   \n",
       "2               True             False          False            False   \n",
       "3               True             False          False            False   \n",
       "4               True             False          False            False   \n",
       "...              ...               ...            ...              ...   \n",
       "12618          False             False           True            False   \n",
       "12619          False             False          False            False   \n",
       "12620          False             False           True            False   \n",
       "12621          False             False           True            False   \n",
       "12622           True             False           True            False   \n",
       "\n",
       "       GenreIsRPG  GenreIsSimulation  GenreIsEarlyAccess  GenreIsFreeToPlay  \\\n",
       "0           False              False               False              False   \n",
       "1           False              False               False              False   \n",
       "2           False              False               False              False   \n",
       "3           False              False               False              False   \n",
       "4           False              False               False              False   \n",
       "...           ...                ...                 ...                ...   \n",
       "12618       False              False               False              False   \n",
       "12619       False              False                True              False   \n",
       "12620       False              False               False              False   \n",
       "12621       False              False               False              False   \n",
       "12622       False               True                True              False   \n",
       "\n",
       "       GenreIsSports  GenreIsRacing  GenreIsMassivelyMultiplayer  Price  \n",
       "0              False          False                        False   9.99  \n",
       "1              False          False                        False   4.99  \n",
       "2              False          False                        False   4.99  \n",
       "3              False          False                        False   4.99  \n",
       "4              False          False                        False   4.99  \n",
       "...              ...            ...                          ...    ...  \n",
       "12618          False           True                        False   0.00  \n",
       "12619          False          False                        False   0.00  \n",
       "12620          False          False                        False   2.99  \n",
       "12621          False          False                        False   2.99  \n",
       "12622          False          False                        False   0.00  \n",
       "\n",
       "[12623 rows x 19 columns]"
      ]
     },
     "execution_count": 49,
     "metadata": {},
     "output_type": "execute_result"
    }
   ],
   "source": [
    "steam = bpd.read_csv('data/steam_games.csv')\n",
    "steam"
   ]
  },
  {
   "cell_type": "markdown",
   "metadata": {},
   "source": [
    "**Question 2.1.** Pick the best choice of bins below for a histogram showing the distribution of `'Price'`, then create the histogram. Make sure all the data is included!\n",
    "\n",
    "Use one of the following:\n",
    "\n",
    "- `rating_bins = np.arange(0, 100, 10)`\n",
    "- `rating_bins = np.arange(0, 200, 10)`\n",
    "- `rating_bins = np.arange(0, 500, 10)`\n",
    "- `rating_bins = np.arange(0, 700, 10)`"
   ]
  },
  {
   "cell_type": "code",
   "execution_count": 50,
   "metadata": {},
   "outputs": [
    {
     "data": {
      "text/plain": [
       "<AxesSubplot:ylabel='Frequency'>"
      ]
     },
     "execution_count": 50,
     "metadata": {},
     "output_type": "execute_result"
    },
    {
     "data": {
      "image/png": "[encoded data removed]",
      "text/plain": [
       "<Figure size 432x288 with 1 Axes>"
      ]
     },
     "metadata": {},
     "output_type": "display_data"
    }
   ],
   "source": [
    "rating_bins = max_price = steam.get('Price').max()\n",
    "\n",
    "\n",
    "# Now create a density histogram showing the distribution of rating using rating_bins\n",
    "bins_range = np.arange(0, 200, 10) # Change this as necessary\n",
    "steam.get('Price').plot(kind='hist', bins=bins_range, density=True)\n"
   ]
  },
  {
   "cell_type": "markdown",
   "metadata": {},
   "source": [
    "Some games are marked as not free according to the `'IsFree'` column, yet their `'Price'` is listed as 0. This is likely due to the game having a page on the Steam website before it was readily available to be purchased. We'll say that a game is a *paid game* if both `'IsFree'` is `False` and `'Price'` is nonzero.\n",
    "\n",
    "For the paid games only, let's compare the prices of indie games and non-indie games. An indie (short for independent) game is one that has been developed by an individual or small team as opposed to a large studio.\n",
    "\n",
    "Run the cell below to create a DataFrame of paid games that are not indie games, and a sorted array of their prices."
   ]
  },
  {
   "cell_type": "code",
   "execution_count": 51,
   "metadata": {},
   "outputs": [
    {
     "data": {
      "text/plain": [
       "array([  0.9 ,   0.99,   0.99, ..., 399.  , 399.99, 449.99])"
      ]
     },
     "execution_count": 51,
     "metadata": {},
     "output_type": "execute_result"
    }
   ],
   "source": [
    "paid_not_indie_df = steam[(steam.get('GenreIsIndie') == False) & \n",
    "                          (steam.get('IsFree') == False) & \n",
    "                          (steam.get('Price') != 0)]\n",
    "paid_not_indie_prices  = paid_not_indie_df.get('Price')\n",
    "paid_not_indie_prices = np.sort(paid_not_indie_prices)\n",
    "paid_not_indie_prices"
   ]
  },
  {
   "cell_type": "markdown",
   "metadata": {},
   "source": [
    "**Question 2.2.** Calculate the 63rd percentile of `paid_not_indie_prices` using the [mathematical definition](https://dsc10.com/resources/lectures/lec19/lec19.html#How-to-calculate-percentiles-using-the-mathematical-definition) given in Lecture 19. That is:\n",
    "- Set `n` to be the number of elements in `paid_not_indie_prices`. \n",
    "- Set `k` to be the smallest integer greater than or equal to $\\frac {63}{100} \\cdot n$. \n",
    "- Assign the 47rd percentile of the array `paid_not_indie_prices` to `paid_not_indie_prices_63rd`.\n",
    "\n",
    "You must use the variables provided for you when solving this problem. For this problem, **do not** use `np.percentile`."
   ]
  },
  {
   "cell_type": "code",
   "execution_count": 52,
   "metadata": {},
   "outputs": [],
   "source": [
    "is_not_indie = steam.get('GenreIsIndie') == False\n",
    "is_not_free = steam.get('IsFree') == False\n",
    "has_price = steam.get('Price') != 0\n",
    "\n",
    "paid_not_indie_df = steam.loc[is_not_indie & is_not_free & has_price]\n",
    "\n",
    "paid_not_indie_prices = paid_not_indie_df.get('Price').values\n",
    "paid_not_indie_prices = np.sort(paid_not_indie_prices)\n",
    "\n",
    "n = len(paid_not_indie_prices)\n",
    "k = int(np.ceil(63/100 * n))\n",
    "\n",
    "paid_not_indie_prices_63rd = paid_not_indie_prices[k-1]\n"
   ]
  },
  {
   "cell_type": "code",
   "execution_count": 53,
   "metadata": {
    "deletable": false,
    "editable": false
   },
   "outputs": [
    {
     "data": {
      "text/html": [
       "<p><strong><pre style='display: inline;'>q2_2</pre></strong> passed!</p>"
      ],
      "text/plain": [
       "q2_2 results: All test cases passed!"
      ]
     },
     "execution_count": 53,
     "metadata": {},
     "output_type": "execute_result"
    }
   ],
   "source": [
    "grader.check(\"q2_2\")"
   ]
  },
  {
   "cell_type": "markdown",
   "metadata": {},
   "source": [
    "**Question 2.3.** Now we'll compare the value we just calculated with the 63rd percentile of the prices of non-free **indie** games.\n",
    "\n",
    "Create a DataFrame called `paid_indie_df` containing only the paid games that belong to the indie genre. Calculate the 63rd percentile of prices for these games, using the same mathematical procedure. Assign to the variable `absolute_difference` the absolute difference in the 63rd percentile of prices for paid indie games and paid non-indie games.\n",
    "\n",
    "As before, use the variables provided and **do not** use `np.percentile`.\n",
    "\n",
    "*Hint*:  Remember to sort the prices using `np.sort` before computing percentiles."
   ]
  },
  {
   "cell_type": "code",
   "execution_count": 54,
   "metadata": {},
   "outputs": [],
   "source": [
    "# Create Boolean Series for filter\n",
    "is_indie = steam.get('GenreIsIndie') == True\n",
    "is_not_free = steam.get('IsFree') == False\n",
    "has_price = steam.get('Price') != 0\n",
    "\n",
    "# Apply filter using loc\n",
    "paid_indie_df = steam.loc[is_indie & is_not_free & has_price]\n",
    "\n",
    "paid_indie_prices = paid_indie_df.get('Price').values\n",
    "paid_indie_prices = np.sort(paid_indie_prices)\n",
    "\n",
    "n_2 = len(paid_indie_prices)\n",
    "k_2 = int(np.ceil(63/100 * n_2))\n",
    "\n",
    "paid_indie_prices_63rd = paid_indie_prices[k_2-1]\n",
    "\n",
    "absolute_difference = abs(paid_not_indie_prices_63rd - paid_indie_prices_63rd)\n"
   ]
  },
  {
   "cell_type": "code",
   "execution_count": 55,
   "metadata": {
    "deletable": false,
    "editable": false
   },
   "outputs": [
    {
     "data": {
      "text/html": [
       "<p><strong><pre style='display: inline;'>q2_3</pre></strong> passed!</p>"
      ],
      "text/plain": [
       "q2_3 results: All test cases passed!"
      ]
     },
     "execution_count": 55,
     "metadata": {},
     "output_type": "execute_result"
    }
   ],
   "source": [
    "grader.check(\"q2_3\")"
   ]
  },
  {
   "cell_type": "markdown",
   "metadata": {},
   "source": [
    "**Question 2.4.** Say that UCSD is developing a new game where students will be able to create custom avatars of themselves and take classes at a virtual UCSD. The university decides to set the price of this new game at 15 dollars and then advertise it as a great bargain for an excellent education.\n",
    "\n",
    "This game is one that is: \n",
    "- Not free.\n",
    "- Still in early access (that is, not finished yet).\n",
    "- Massively multiplayer.\n",
    "- Not indie.\n",
    "\n",
    "Consider a new collection of values, containing the prices of all the games that share these characteristics, plus one more, $15 for UCSD's game:"
   ]
  },
  {
   "cell_type": "code",
   "execution_count": 56,
   "metadata": {},
   "outputs": [
    {
     "data": {
      "text/plain": [
       "array([ 3.99,  4.99,  4.99,  5.99,  9.99,  9.99, 14.99, 14.99, 14.99,\n",
       "       15.  , 17.99, 19.99, 19.99, 19.99, 19.99, 29.99, 29.99, 29.99,\n",
       "       34.99, 39.99, 39.99])"
      ]
     },
     "execution_count": 56,
     "metadata": {},
     "output_type": "execute_result"
    }
   ],
   "source": [
    "new_collection_df = steam[(steam.get('IsFree') == False) & \n",
    "                          (steam.get('Price') != 0 ) & \n",
    "                          (steam.get('GenreIsEarlyAccess') == True ) &  \n",
    "                          (steam.get('GenreIsMassivelyMultiplayer') == True ) & \n",
    "                          (steam.get('GenreIsIndie') == False)]\n",
    "new_collection = np.array(new_collection_df.get('Price'))\n",
    "new_collection = np.sort(np.append(new_collection, 15))\n",
    "new_collection"
   ]
  },
  {
   "cell_type": "markdown",
   "metadata": {},
   "source": [
    "For what integer values of $p$ would we be able to say that this new collection of values has 15 as its $p$th percentile? Create a **list** called `percentile_range` of all integer values of $p$ such that the $p$th percentile of the new collection equals 15, according to the **mathematical** definition of percentile. \n",
    "\n",
    "This is a math question, not a coding question. You should create the list `percentile_range` manually, by solving a math problem on paper and inputting your answer in the form of a Python list.\n",
    "\n",
    "**Do not use `np.percentile`.**"
   ]
  },
  {
   "cell_type": "code",
   "execution_count": 57,
   "metadata": {},
   "outputs": [],
   "source": [
    "percentile_range = [48]"
   ]
  },
  {
   "cell_type": "code",
   "execution_count": 58,
   "metadata": {
    "deletable": false,
    "editable": false
   },
   "outputs": [
    {
     "data": {
      "text/html": [
       "<p><strong><pre style='display: inline;'>q2_4</pre></strong> passed!</p>"
      ],
      "text/plain": [
       "q2_4 results: All test cases passed!"
      ]
     },
     "execution_count": 58,
     "metadata": {},
     "output_type": "execute_result"
    }
   ],
   "source": [
    "grader.check(\"q2_4\")"
   ]
  },
  {
   "cell_type": "markdown",
   "metadata": {},
   "source": [
    "**Question 2.5**. The first _quartile_ of a numerical collection is the 25th percentile, the second quartile is the 50th percentile, and the third quartile is the 75th percentile. Quartiles are so named because they divide the collection into quarters.\n",
    "\n",
    "Make a list called `price_quartiles` that contains the values for the first, second, and third quartiles (in that order) of the `'Price'` data provided in `steam`. For this problem, calculate the percentiles **using `np.percentile`**."
   ]
  },
  {
   "cell_type": "code",
   "execution_count": 59,
   "metadata": {},
   "outputs": [
    {
     "data": {
      "text/plain": [
       "[1.99, 5.99, 9.99]"
      ]
     },
     "execution_count": 59,
     "metadata": {},
     "output_type": "execute_result"
    }
   ],
   "source": [
    "price_quartiles = list(np.percentile(steam.get('Price'), [25, 50, 75]))\n",
    "price_quartiles"
   ]
  },
  {
   "cell_type": "code",
   "execution_count": 60,
   "metadata": {
    "deletable": false,
    "editable": false
   },
   "outputs": [
    {
     "data": {
      "text/html": [
       "<p><strong><pre style='display: inline;'>q2_5</pre></strong> passed!</p>"
      ],
      "text/plain": [
       "q2_5 results: All test cases passed!"
      ]
     },
     "execution_count": 60,
     "metadata": {},
     "output_type": "execute_result"
    }
   ],
   "source": [
    "grader.check(\"q2_5\")"
   ]
  },
  {
   "cell_type": "markdown",
   "metadata": {},
   "source": [
    "## 3. Live Crystal Scoops 🔮"
   ]
  },
  {
   "cell_type": "markdown",
   "metadata": {},
   "source": [
    "<center><img src='images/crystals.jpg' width=30%>(<a href=\"https://www.youtube.com/watch?v=JHdKb-LumRk\">source</a>)</center>\n",
    "\n",
    "Over the last year, _live crystal scoops_ have become popular on TikTok. There are TikTok pages that collect and sell [crystals](https://en.wikipedia.org/wiki/Crystal), which some believe have the power to heal both the body and the mind. These pages don't sell crystals individually, but rather they \"scoop\" a random collection of their inventory, put the collected crystals in a bag, and send that bag to the customer. What makes them _live_ crystal scoops is that these pages typically livestream the act of scooping these crystals for every order they receive and include the order number in the stream, so that customers can verify that what they receive is actually what was scooped. For instance, [@chloesmith.uk](https://www.tiktok.com/@chloesmith.uk) is one such page.\n",
    "\n",
    "Last night, you were scrolling endlessly on TikTok, and came across crystal scooping livestreams by two accounts, _Scoops by Shelly_ and _Crystals by Cathy_. Both are selling scoops for $29.99. Intrigued, you decide to order a scoop from Cathy, and in the livestream it seems that you pulled a hefty scoop. When your order is finally delivered, however, you're disappointed to find that the total weight of the crystals you received is much lower than what you expected given what you saw on the livestream. Should you have purchased a scoop from Shelly instead?"
   ]
  },
  {
   "cell_type": "markdown",
   "metadata": {},
   "source": [
    "**Question 3.1.** Ideally, you want to determine the mean weight of **all** scoops from *Crystals by Cathy*. However, it's not feasible to do so, because her scoops are very expensive and she has many other customers. Instead, you will collect a sample of scoops to obtain a ____________ statistic to estimate this ____________ parameter.\n",
    "\n",
    "Complete the sentence above by filling in the blanks. Set `q3_1` to 1, 2, 3, or 4.\n",
    "\n",
    "1. sample; population\n",
    "2. test; sample\n",
    "3. population; sample\n",
    "4. test; population"
   ]
  },
  {
   "cell_type": "code",
   "execution_count": 61,
   "metadata": {},
   "outputs": [],
   "source": [
    "q3_1 = 1"
   ]
  },
  {
   "cell_type": "code",
   "execution_count": 62,
   "metadata": {
    "deletable": false,
    "editable": false
   },
   "outputs": [
    {
     "data": {
      "text/html": [
       "<p><strong><pre style='display: inline;'>q3_1</pre></strong> passed!</p>"
      ],
      "text/plain": [
       "q3_1 results: All test cases passed!"
      ]
     },
     "execution_count": 62,
     "metadata": {},
     "output_type": "execute_result"
    }
   ],
   "source": [
    "grader.check(\"q3_1\")"
   ]
  },
  {
   "cell_type": "markdown",
   "metadata": {},
   "source": [
    "Fortunately, you have an incredible crystal resource at your disposal, the [Crystals Live Share Group](https://www.facebook.com/groups/846961549165998) on Facebook. You make a post and ask the members who've bought scoops from *Scoops by Shelly* and *Crystals by Cathy* to weigh their packages in grams. You're overwhelmed by the amazing community response and receive 80 different scoop weights in total from other buyers, 40 from *Scoops by Shelly* buyers and 40 from *Crystals by Cathy* buyers.  \n",
    "\n",
    "Let's look at all the data that you crowdsourced. Each entry in the `'Weight'` column represents the weight of one scoop, in grams."
   ]
  },
  {
   "cell_type": "code",
   "execution_count": 63,
   "metadata": {},
   "outputs": [
    {
     "data": {
      "text/html": [
       "<div>\n",
       "<style scoped>\n",
       "    .dataframe tbody tr th:only-of-type {\n",
       "        vertical-align: middle;\n",
       "    }\n",
       "\n",
       "    .dataframe tbody tr th {\n",
       "        vertical-align: top;\n",
       "    }\n",
       "\n",
       "    .dataframe thead th {\n",
       "        text-align: right;\n",
       "    }\n",
       "</style>\n",
       "<table border=\"1\" class=\"dataframe\">\n",
       "  <thead>\n",
       "    <tr style=\"text-align: right;\">\n",
       "      <th></th>\n",
       "      <th>Seller</th>\n",
       "      <th>Weight</th>\n",
       "    </tr>\n",
       "  </thead>\n",
       "  <tbody>\n",
       "    <tr>\n",
       "      <th>0</th>\n",
       "      <td>Scoops by Shelly</td>\n",
       "      <td>224.26</td>\n",
       "    </tr>\n",
       "    <tr>\n",
       "      <th>1</th>\n",
       "      <td>Scoops by Shelly</td>\n",
       "      <td>298.35</td>\n",
       "    </tr>\n",
       "    <tr>\n",
       "      <th>2</th>\n",
       "      <td>Scoops by Shelly</td>\n",
       "      <td>259.49</td>\n",
       "    </tr>\n",
       "    <tr>\n",
       "      <th>3</th>\n",
       "      <td>Scoops by Shelly</td>\n",
       "      <td>371.21</td>\n",
       "    </tr>\n",
       "    <tr>\n",
       "      <th>4</th>\n",
       "      <td>Scoops by Shelly</td>\n",
       "      <td>296.12</td>\n",
       "    </tr>\n",
       "    <tr>\n",
       "      <th>...</th>\n",
       "      <td>...</td>\n",
       "      <td>...</td>\n",
       "    </tr>\n",
       "    <tr>\n",
       "      <th>75</th>\n",
       "      <td>Crystals by Cathy</td>\n",
       "      <td>448.93</td>\n",
       "    </tr>\n",
       "    <tr>\n",
       "      <th>76</th>\n",
       "      <td>Crystals by Cathy</td>\n",
       "      <td>403.07</td>\n",
       "    </tr>\n",
       "    <tr>\n",
       "      <th>77</th>\n",
       "      <td>Crystals by Cathy</td>\n",
       "      <td>480.70</td>\n",
       "    </tr>\n",
       "    <tr>\n",
       "      <th>78</th>\n",
       "      <td>Crystals by Cathy</td>\n",
       "      <td>382.05</td>\n",
       "    </tr>\n",
       "    <tr>\n",
       "      <th>79</th>\n",
       "      <td>Crystals by Cathy</td>\n",
       "      <td>314.21</td>\n",
       "    </tr>\n",
       "  </tbody>\n",
       "</table>\n",
       "<p>80 rows × 2 columns</p>\n",
       "</div>"
      ],
      "text/plain": [
       "               Seller  Weight\n",
       "0    Scoops by Shelly  224.26\n",
       "1    Scoops by Shelly  298.35\n",
       "2    Scoops by Shelly  259.49\n",
       "3    Scoops by Shelly  371.21\n",
       "4    Scoops by Shelly  296.12\n",
       "..                ...     ...\n",
       "75  Crystals by Cathy  448.93\n",
       "76  Crystals by Cathy  403.07\n",
       "77  Crystals by Cathy  480.70\n",
       "78  Crystals by Cathy  382.05\n",
       "79  Crystals by Cathy  314.21\n",
       "\n",
       "[80 rows x 2 columns]"
      ]
     },
     "execution_count": 63,
     "metadata": {},
     "output_type": "execute_result"
    }
   ],
   "source": [
    "crystal_weights = bpd.read_csv('data/crystals.csv')\n",
    "crystal_weights"
   ]
  },
  {
   "cell_type": "markdown",
   "metadata": {},
   "source": [
    "**Question 3.2.** To start, we'll look at only the scoops in our sample from *Crystals by Cathy*. Below, assign `cathy_crystals` to a DataFrame with only the scoops from *Crystals by Cathy*. Then, assign `cathy_mean` to the mean weight of the *Crystals by Cathy* scoops in our sample."
   ]
  },
  {
   "cell_type": "code",
   "execution_count": 64,
   "metadata": {},
   "outputs": [
    {
     "data": {
      "text/plain": [
       "402.823"
      ]
     },
     "execution_count": 64,
     "metadata": {},
     "output_type": "execute_result"
    }
   ],
   "source": [
    "cathy_crystals = crystal_weights[crystal_weights.get('Seller') == 'Crystals by Cathy']\n",
    "cathy_mean = cathy_crystals.get('Weight').mean()\n",
    "\n",
    "cathy_mean"
   ]
  },
  {
   "cell_type": "code",
   "execution_count": 65,
   "metadata": {
    "deletable": false,
    "editable": false
   },
   "outputs": [
    {
     "data": {
      "text/html": [
       "<p><strong><pre style='display: inline;'>q3_2</pre></strong> passed!</p>"
      ],
      "text/plain": [
       "q3_2 results: All test cases passed!"
      ]
     },
     "execution_count": 65,
     "metadata": {},
     "output_type": "execute_result"
    }
   ],
   "source": [
    "grader.check(\"q3_2\")"
   ]
  },
  {
   "cell_type": "markdown",
   "metadata": {},
   "source": [
    "You're done! Or are you? You have a single estimate for the true mean weight of Cathy's scoops. However, you don't know how close that estimate is, or how much it could have varied if you'd had a different sample. In other words, you have an estimate, but no understanding of how close that estimate is to the true mean weight of *all* of Cathy's scoops.\n",
    "\n",
    "This is where the idea of resampling via **[bootstrapping](https://inferentialthinking.com/chapters/13/2/Bootstrap.html)** comes in. Assuming that our sample resembles the population fairly well, we can resample from our original sample to produce more samples. From each of these resamples, we can produce another estimate for the true mean weight, which gives us a distribution of sample means that describes how the estimate might vary given different samples. We can then use this distribution to produce an interval that estimates the true mean weight of Cathy's scoops."
   ]
  },
  {
   "cell_type": "markdown",
   "metadata": {},
   "source": [
    "**Question 3.3.** Complete the following code to produce 1000 bootstrapped estimates for the mean weight of Cathy's scoops. Store your 1000 estimates in an array called `resample_means`."
   ]
  },
  {
   "cell_type": "code",
   "execution_count": 66,
   "metadata": {},
   "outputs": [
    {
     "data": {
      "text/plain": [
       "array([413.294  , 404.775  , 402.23225, 406.97875, 405.9815 , 412.18425,\n",
       "       412.1445 , 394.0315 , 402.268  , 407.5055 , 418.88875, 408.95675,\n",
       "       401.5015 , 399.23625, 391.98375, 401.42675, 402.132  , 396.038  ,\n",
       "       395.9005 , 404.59925, 399.84275, 394.156  , 394.659  , 404.598  ,\n",
       "       414.7475 , 404.57725, 398.93175, 394.00875, 403.09975, 393.7225 ,\n",
       "       406.22975, 412.99925, 405.6135 , 394.47225, 402.1865 , 413.48875,\n",
       "       408.0365 , 408.65925, 401.35725, 413.17475, 412.092  , 384.97525,\n",
       "       392.0285 , 407.787  , 416.9125 , 397.834  , 410.50425, 397.6885 ,\n",
       "       417.55975, 392.283  , 392.817  , 415.02275, 403.868  , 390.4335 ,\n",
       "       387.69075, 405.92   , 395.53575, 403.0805 , 399.15725, 405.604  ,\n",
       "       402.0275 , 415.5955 , 403.571  , 408.30975, 408.09925, 408.014  ,\n",
       "       416.30675, 388.357  , 395.579  , 405.9025 , 400.7545 , 406.86775,\n",
       "       391.13775, 400.82225, 408.767  , 398.9425 , 403.68425, 388.8605 ,\n",
       "       398.8515 , 407.39575, 409.77425, 399.49525, 392.89875, 399.6615 ,\n",
       "       397.35775, 406.327  , 410.46125, 412.729  , 403.388  , 400.23325,\n",
       "       402.39725, 400.3645 , 396.3395 , 402.7115 , 398.52425, 404.952  ,\n",
       "       400.431  , 410.49225, 407.588  , 388.58675, 404.0105 , 397.58025,\n",
       "       402.61   , 405.49625, 410.06875, 421.80775, 399.6285 , 387.489  ,\n",
       "       391.5795 , 414.2355 , 394.44325, 401.01075, 398.26975, 396.991  ,\n",
       "       402.155  , 394.812  , 412.86925, 402.1815 , 410.52225, 407.88025,\n",
       "       407.6715 , 415.4455 , 408.7855 , 412.33075, 404.0495 , 403.13175,\n",
       "       411.5765 , 411.35425, 408.8965 , 419.601  , 396.69825, 408.50875,\n",
       "       401.41275, 419.34525, 395.40875, 408.209  , 394.43775, 394.34075,\n",
       "       417.49675, 399.90175, 400.67375, 400.6425 , 393.66625, 400.995  ,\n",
       "       401.9085 , 404.82175, 401.96175, 395.90425, 401.85175, 408.803  ,\n",
       "       390.61225, 409.26125, 402.99425, 394.12925, 399.94675, 404.5145 ,\n",
       "       403.89775, 418.42975, 400.19775, 399.1315 , 398.14   , 391.65275,\n",
       "       403.335  , 410.47525, 389.573  , 407.858  , 402.86875, 401.49975,\n",
       "       395.307  , 392.7715 , 409.6085 , 402.48675, 400.74925, 406.9505 ,\n",
       "       404.99125, 412.957  , 391.897  , 406.6505 , 401.63625, 410.715  ,\n",
       "       399.9315 , 395.92   , 416.48775, 409.5065 , 390.29825, 396.75525,\n",
       "       404.80675, 414.83   , 405.4445 , 404.14375, 402.40575, 406.1695 ,\n",
       "       396.40925, 406.77375, 404.0255 , 412.14025, 406.97425, 405.28375,\n",
       "       394.9335 , 398.46325, 403.50375, 397.488  , 401.0175 , 408.94825,\n",
       "       406.47575, 393.2355 , 402.1365 , 383.854  , 400.52425, 400.04575,\n",
       "       406.089  , 385.14525, 394.64   , 400.356  , 396.63   , 401.87925,\n",
       "       407.791  , 415.86025, 395.965  , 405.73325, 402.38475, 409.50025,\n",
       "       405.21325, 390.405  , 403.34375, 398.108  , 407.065  , 395.25675,\n",
       "       405.16825, 401.55125, 384.03475, 402.78625, 393.2855 , 391.92225,\n",
       "       399.14825, 411.39125, 408.4585 , 409.436  , 405.81025, 398.2295 ,\n",
       "       400.423  , 406.82975, 411.98025, 398.47125, 412.65875, 394.1505 ,\n",
       "       405.96375, 405.9065 , 415.107  , 402.42925, 383.36   , 401.04275,\n",
       "       401.7615 , 403.7245 , 401.97075, 411.03025, 397.34775, 410.019  ,\n",
       "       401.44025, 388.75825, 405.50375, 403.55325, 405.83025, 407.8905 ,\n",
       "       391.66125, 397.731  , 417.87875, 411.02475, 394.14275, 402.6275 ,\n",
       "       400.66425, 404.42   , 402.2135 , 395.5905 , 384.53675, 396.25925,\n",
       "       405.18175, 397.04625, 412.2565 , 411.63775, 394.1845 , 398.81375,\n",
       "       414.04325, 396.68525, 410.70325, 410.5105 , 390.2015 , 405.471  ,\n",
       "       402.67   , 406.3285 , 408.764  , 398.35025, 401.3625 , 404.6055 ,\n",
       "       407.0375 , 411.39425, 399.88025, 401.5355 , 404.4795 , 397.9765 ,\n",
       "       407.596  , 397.28225, 398.64575, 391.12825, 401.52825, 403.6285 ,\n",
       "       400.879  , 395.29225, 403.2615 , 398.084  , 404.146  , 404.77775,\n",
       "       395.2295 , 413.9795 , 404.127  , 396.93025, 399.12475, 404.51425,\n",
       "       404.48125, 389.5525 , 412.77625, 406.04675, 411.73025, 399.986  ,\n",
       "       406.9905 , 417.413  , 403.8655 , 413.83625, 398.817  , 413.534  ,\n",
       "       394.0985 , 405.04925, 400.4925 , 406.1955 , 398.84575, 404.778  ,\n",
       "       403.4    , 396.4745 , 399.50675, 410.544  , 407.62175, 406.08525,\n",
       "       401.034  , 390.5455 , 416.664  , 405.05325, 394.0015 , 418.49025,\n",
       "       409.0025 , 402.52075, 405.97625, 396.06625, 406.772  , 407.207  ,\n",
       "       405.5385 , 421.86925, 383.7555 , 403.16   , 402.32775, 411.45475,\n",
       "       386.8805 , 400.795  , 393.401  , 409.13975, 399.9055 , 403.589  ,\n",
       "       406.165  , 407.55325, 403.259  , 402.93325, 408.0345 , 407.20775,\n",
       "       392.382  , 409.39   , 399.38925, 400.19275, 404.30475, 396.055  ,\n",
       "       405.5185 , 403.37375, 404.875  , 387.72475, 408.4985 , 410.09925,\n",
       "       385.9015 , 396.13325, 397.60725, 409.69525, 402.848  , 404.9565 ,\n",
       "       417.8735 , 398.39725, 413.75575, 407.5965 , 408.47   , 414.35925,\n",
       "       417.225  , 407.474  , 407.01175, 403.24475, 396.99475, 397.779  ,\n",
       "       393.547  , 387.486  , 394.7765 , 396.19275, 407.3885 , 398.0285 ,\n",
       "       404.087  , 407.9495 , 406.70825, 405.18375, 407.77575, 408.9105 ,\n",
       "       402.7875 , 406.3175 , 391.82425, 393.73675, 408.4795 , 406.22675,\n",
       "       400.78125, 410.547  , 396.77775, 405.355  , 400.8395 , 416.12375,\n",
       "       408.924  , 405.1055 , 391.1965 , 399.0485 , 401.37375, 408.88175,\n",
       "       393.3965 , 404.07975, 400.357  , 410.20275, 405.6535 , 408.32275,\n",
       "       412.11225, 413.79475, 403.4025 , 407.12675, 393.937  , 387.9675 ,\n",
       "       393.321  , 396.87575, 402.559  , 407.646  , 389.39125, 410.383  ,\n",
       "       402.70325, 404.20475, 410.8135 , 398.39725, 400.572  , 397.7535 ,\n",
       "       397.8805 , 404.93675, 410.3315 , 394.0815 , 408.51625, 405.02475,\n",
       "       392.7175 , 412.53025, 406.50375, 397.45925, 400.67125, 410.587  ,\n",
       "       405.55925, 393.052  , 409.53975, 412.55025, 393.85025, 402.18825,\n",
       "       401.85775, 401.85125, 410.40975, 409.914  , 406.456  , 412.4845 ,\n",
       "       384.25   , 408.1145 , 407.48025, 405.86025, 407.83   , 400.9525 ,\n",
       "       416.50475, 411.3075 , 401.69375, 396.306  , 394.2915 , 389.044  ,\n",
       "       393.669  , 392.58375, 411.39   , 408.75075, 389.5085 , 400.101  ,\n",
       "       405.312  , 404.7105 , 402.313  , 388.631  , 395.61825, 395.04375,\n",
       "       399.085  , 405.6185 , 397.7035 , 400.7795 , 406.2365 , 401.17175,\n",
       "       412.672  , 403.386  , 395.70925, 404.41575, 421.7585 , 397.37375,\n",
       "       400.09825, 401.146  , 402.99575, 397.523  , 396.832  , 404.91525,\n",
       "       412.89625, 399.431  , 403.4795 , 409.559  , 402.09425, 411.8205 ,\n",
       "       404.41275, 410.96275, 394.486  , 411.51025, 399.522  , 407.30925,\n",
       "       400.73   , 407.548  , 414.39825, 399.675  , 416.30925, 412.48325,\n",
       "       388.0495 , 408.87575, 398.31275, 401.31675, 405.23975, 396.2775 ,\n",
       "       398.916  , 398.7685 , 400.554  , 405.93875, 399.8015 , 415.9665 ,\n",
       "       399.2995 , 406.51125, 416.7175 , 407.022  , 392.1045 , 410.49775,\n",
       "       401.91125, 397.584  , 404.943  , 402.9355 , 407.96875, 416.02725,\n",
       "       401.3795 , 403.7735 , 408.6955 , 406.8455 , 408.089  , 405.387  ,\n",
       "       387.92175, 410.37575, 411.30275, 406.68025, 389.159  , 396.551  ,\n",
       "       408.34775, 396.60325, 400.03725, 392.78725, 408.187  , 405.00475,\n",
       "       409.689  , 409.48075, 392.62825, 403.2945 , 405.498  , 414.574  ,\n",
       "       400.63875, 407.679  , 407.80725, 394.46   , 416.50725, 407.2035 ,\n",
       "       396.999  , 387.611  , 409.06375, 403.55225, 407.59475, 387.6385 ,\n",
       "       403.205  , 407.25325, 395.3745 , 395.0035 , 396.64475, 392.216  ,\n",
       "       403.25025, 395.27975, 385.33475, 382.8915 , 397.07075, 394.57475,\n",
       "       406.1915 , 411.558  , 399.29975, 405.08325, 394.53375, 417.24   ,\n",
       "       396.5605 , 396.19125, 399.63725, 391.2365 , 410.653  , 408.1645 ,\n",
       "       404.43775, 410.7165 , 399.95925, 391.29225, 398.74025, 410.0495 ,\n",
       "       414.39175, 410.347  , 408.21625, 410.0995 , 410.5475 , 395.36375,\n",
       "       400.276  , 408.93875, 403.00775, 408.013  , 407.358  , 407.523  ,\n",
       "       410.932  , 405.797  , 394.042  , 402.19275, 398.40175, 402.378  ,\n",
       "       411.12075, 404.039  , 408.904  , 404.57575, 413.8285 , 412.144  ,\n",
       "       395.16925, 402.5445 , 401.42925, 405.2935 , 418.02025, 405.87675,\n",
       "       411.48025, 395.4985 , 401.3205 , 399.612  , 414.7175 , 415.166  ,\n",
       "       397.60125, 405.411  , 395.2045 , 414.95375, 410.7045 , 405.44625,\n",
       "       388.848  , 397.599  , 394.448  , 409.1495 , 412.547  , 405.999  ,\n",
       "       400.9675 , 408.33275, 401.1645 , 398.59425, 395.2725 , 408.00825,\n",
       "       405.4085 , 408.802  , 406.2665 , 385.04725, 415.29025, 409.03325,\n",
       "       407.078  , 409.937  , 406.065  , 386.952  , 411.6975 , 403.58025,\n",
       "       413.0185 , 398.626  , 403.93525, 401.24175, 394.1975 , 401.104  ,\n",
       "       391.003  , 400.273  , 411.405  , 403.519  , 405.8505 , 398.33775,\n",
       "       398.211  , 403.41   , 417.964  , 398.827  , 392.8335 , 401.5505 ,\n",
       "       390.73325, 411.243  , 394.249  , 402.054  , 408.2555 , 397.7195 ,\n",
       "       401.6255 , 404.0015 , 404.1245 , 414.939  , 397.84   , 408.86625,\n",
       "       411.60575, 400.37725, 408.7195 , 396.483  , 404.1295 , 411.5765 ,\n",
       "       395.61575, 408.21925, 408.74075, 403.85125, 405.85325, 402.43625,\n",
       "       408.38   , 395.9645 , 405.47775, 401.617  , 408.295  , 398.157  ,\n",
       "       407.63875, 408.45325, 407.85525, 417.5405 , 397.15975, 398.90275,\n",
       "       393.67075, 395.719  , 409.06075, 394.83125, 400.762  , 394.2215 ,\n",
       "       408.30375, 401.383  , 401.31875, 404.0995 , 397.72075, 401.6535 ,\n",
       "       395.42775, 404.748  , 399.798  , 409.20075, 395.49325, 413.147  ,\n",
       "       408.4435 , 403.38475, 403.228  , 417.01125, 401.74725, 398.5985 ,\n",
       "       400.93525, 404.01825, 397.63525, 402.95225, 401.46675, 403.2995 ,\n",
       "       414.34625, 403.84575, 407.6505 , 395.209  , 406.289  , 396.44775,\n",
       "       406.56575, 397.28725, 406.41025, 392.85625, 397.89475, 397.0165 ,\n",
       "       396.104  , 394.243  , 422.7125 , 406.801  , 401.9475 , 407.0965 ,\n",
       "       413.0715 , 395.477  , 395.10425, 411.5695 , 410.8245 , 409.2075 ,\n",
       "       407.66625, 402.3005 , 396.777  , 406.31125, 406.1745 , 399.09475,\n",
       "       397.81175, 404.21075, 398.71175, 395.45625, 412.247  , 400.89725,\n",
       "       399.765  , 405.38025, 389.53   , 418.17675, 403.09925, 396.24425,\n",
       "       402.87925, 410.46525, 407.28425, 413.35025, 413.711  , 418.37225,\n",
       "       410.25325, 390.56575, 415.50025, 389.36525, 399.332  , 397.6625 ,\n",
       "       390.89875, 388.762  , 399.87725, 401.463  , 405.174  , 387.6105 ,\n",
       "       405.391  , 413.62075, 388.04775, 402.31775, 393.91325, 406.1155 ,\n",
       "       401.90525, 393.92625, 408.09925, 398.22875, 410.872  , 401.3235 ,\n",
       "       403.00025, 396.972  , 412.7545 , 408.8945 , 404.81025, 394.416  ,\n",
       "       398.106  , 414.67425, 418.45875, 405.95675, 394.75475, 397.20175,\n",
       "       413.2255 , 405.193  , 405.784  , 406.725  , 410.951  , 406.03625,\n",
       "       410.5865 , 411.014  , 409.00025, 409.07375, 409.89025, 397.54875,\n",
       "       400.05975, 396.33875, 395.0945 , 403.4585 , 378.831  , 398.013  ,\n",
       "       408.5155 , 395.328  , 412.8955 , 407.887  , 393.2775 , 400.28875,\n",
       "       396.9145 , 387.00275, 404.9615 , 407.7105 , 407.9465 , 398.613  ,\n",
       "       403.18575, 400.40525, 401.954  , 401.909  , 405.23875, 389.70525,\n",
       "       406.7485 , 409.622  , 394.72225, 404.5955 , 397.829  , 414.91725,\n",
       "       410.55425, 399.0715 , 397.92625, 393.729  , 407.75325, 414.345  ,\n",
       "       416.92075, 409.11325, 398.3145 , 409.496  , 391.648  , 409.91625,\n",
       "       404.05475, 405.20675, 387.96425, 405.42825, 406.99375, 396.146  ,\n",
       "       397.57325, 395.99775, 405.56975, 411.5615 , 407.16575, 398.27325,\n",
       "       392.77375, 408.9255 , 399.591  , 401.27125, 401.64025, 404.96575,\n",
       "       403.42275, 403.797  , 411.0135 , 411.62375, 391.7505 , 403.03975,\n",
       "       401.47925, 404.314  , 400.3505 , 394.37825, 411.57775, 402.32675,\n",
       "       400.96725, 388.12525, 409.48725, 401.653  , 410.39425, 396.67025,\n",
       "       406.64775, 416.366  , 412.75075, 396.2575 , 403.9595 , 399.44525,\n",
       "       415.88225, 407.01775, 396.51   , 414.35325, 418.04275, 425.11975,\n",
       "       384.658  , 403.869  , 392.25425, 396.04975, 398.406  , 398.333  ,\n",
       "       407.26925, 396.71025, 401.6995 , 400.563  , 401.77175, 417.08   ,\n",
       "       406.71475, 402.7015 , 393.57875, 417.32525, 401.92225, 397.21675,\n",
       "       396.8935 , 403.06025, 408.7155 , 400.9575 , 389.68425, 414.7835 ,\n",
       "       417.99   , 403.786  , 400.3415 , 402.451  , 404.864  , 404.80325,\n",
       "       396.926  , 410.75525, 397.4955 , 404.5555 ])"
      ]
     },
     "execution_count": 66,
     "metadata": {},
     "output_type": "execute_result"
    }
   ],
   "source": [
    "resample_means = np.array([])\n",
    "for i in np.arange(1000):\n",
    "    resample = cathy_crystals.sample(n=len(cathy_crystals.get('Weight')), replace=True)\n",
    "    resample_mean = resample.get('Weight').mean()\n",
    "    resample_means = np.append(resample_means, resample_mean)\n",
    "\n",
    "resample_means"
   ]
  },
  {
   "cell_type": "code",
   "execution_count": 67,
   "metadata": {
    "deletable": false,
    "editable": false
   },
   "outputs": [
    {
     "data": {
      "text/html": [
       "<p><strong><pre style='display: inline;'>q3_3</pre></strong> passed!</p>"
      ],
      "text/plain": [
       "q3_3 results: All test cases passed!"
      ]
     },
     "execution_count": 67,
     "metadata": {},
     "output_type": "execute_result"
    }
   ],
   "source": [
    "grader.check(\"q3_3\")"
   ]
  },
  {
   "cell_type": "markdown",
   "metadata": {},
   "source": [
    "Let's look at the distribution of your estimates:"
   ]
  },
  {
   "cell_type": "code",
   "execution_count": 68,
   "metadata": {},
   "outputs": [
    {
     "data": {
      "image/png": "[encoded data removed]",
      "text/plain": [
       "<Figure size 720x360 with 1 Axes>"
      ]
     },
     "metadata": {},
     "output_type": "display_data"
    }
   ],
   "source": [
    "bpd.DataFrame().assign(BootstrappedMeans = resample_means).plot(kind='hist', density=True, ec='w', bins=20, figsize=(10, 5));"
   ]
  },
  {
   "cell_type": "markdown",
   "metadata": {},
   "source": [
    "**Question 3.4.** Using the array `resample_means`, compute an approximate 95% confidence interval for the true mean weight of Cathy's scoops. Save the lower and upper bounds of the interval as `cathy_lower_bound` and `cathy_upper_bound`, respectively.\n",
    "\n",
    "*Hint*: Use `np.percentile`."
   ]
  },
  {
   "cell_type": "code",
   "execution_count": 69,
   "metadata": {},
   "outputs": [
    {
     "name": "stdout",
     "output_type": "stream",
     "text": [
      "Bootstrapped 95% confidence interval for the true mean weight of Cathy's scoops: [387.963188, 417.225375]\n"
     ]
    }
   ],
   "source": [
    "cathy_lower_bound = np.percentile(resample_means, 2.5)\n",
    "cathy_upper_bound = np.percentile(resample_means, 97.5)\n",
    "\n",
    "# Print the confidence interval.\n",
    "print(\"Bootstrapped 95% confidence interval for the true mean weight of Cathy's scoops: [{:f}, {:f}]\".format(cathy_lower_bound, cathy_upper_bound))"
   ]
  },
  {
   "cell_type": "code",
   "execution_count": 70,
   "metadata": {
    "deletable": false,
    "editable": false
   },
   "outputs": [
    {
     "data": {
      "text/html": [
       "<p><strong><pre style='display: inline;'>q3_4</pre></strong> passed!</p>"
      ],
      "text/plain": [
       "q3_4 results: All test cases passed!"
      ]
     },
     "execution_count": 70,
     "metadata": {},
     "output_type": "execute_result"
    }
   ],
   "source": [
    "grader.check(\"q3_4\")"
   ]
  },
  {
   "cell_type": "markdown",
   "metadata": {},
   "source": [
    "**Question 3.5.** Which of the following would likely make the histogram from Question 3.3 wider? If you believe more than one would, choose the answer with the most substantial effect. Assign to `q3_5` either 1, 2, 3, or 4.\n",
    "\n",
    "1. Increasing the number of resamples (repetitions of the bootstrap) to 3000.\n",
    "1. Decreasing the number of resamples (repetitions of the bootstrap) to 500.\n",
    "1. Starting with a larger sample of 100 scoops.\n",
    "1. Starting with a smaller sample of 20 scoops."
   ]
  },
  {
   "cell_type": "code",
   "execution_count": 71,
   "metadata": {},
   "outputs": [
    {
     "data": {
      "text/plain": [
       "4"
      ]
     },
     "execution_count": 71,
     "metadata": {},
     "output_type": "execute_result"
    }
   ],
   "source": [
    "q3_5 = 4\n",
    "q3_5"
   ]
  },
  {
   "cell_type": "code",
   "execution_count": 72,
   "metadata": {
    "deletable": false,
    "editable": false
   },
   "outputs": [
    {
     "data": {
      "text/html": [
       "<p><strong><pre style='display: inline;'>q3_5</pre></strong> passed!</p>"
      ],
      "text/plain": [
       "q3_5 results: All test cases passed!"
      ]
     },
     "execution_count": 72,
     "metadata": {},
     "output_type": "execute_result"
    }
   ],
   "source": [
    "grader.check(\"q3_5\")"
   ]
  },
  {
   "cell_type": "markdown",
   "metadata": {},
   "source": [
    "**Question 3.6.** Suppose you want to estimate the weight of the lightest scoop Cathy has ever scooped, her biggest scam. Would bootstrapping be effective in estimating this weight? Assign `bootstrapping_effective` to either `True` or `False`, representing your answer."
   ]
  },
  {
   "cell_type": "code",
   "execution_count": 73,
   "metadata": {},
   "outputs": [],
   "source": [
    "bootstrapping_effective = False"
   ]
  },
  {
   "cell_type": "code",
   "execution_count": 74,
   "metadata": {
    "deletable": false,
    "editable": false
   },
   "outputs": [
    {
     "data": {
      "text/html": [
       "<p><strong><pre style='display: inline;'>q3_6</pre></strong> passed!</p>"
      ],
      "text/plain": [
       "q3_6 results: All test cases passed!"
      ]
     },
     "execution_count": 74,
     "metadata": {},
     "output_type": "execute_result"
    }
   ],
   "source": [
    "grader.check(\"q3_6\")"
   ]
  },
  {
   "cell_type": "markdown",
   "metadata": {},
   "source": [
    "**Question 3.7.** Now let's address a different question: how does the average weight of a *Scoops by Shelly* scoop compare to the average weight of a *Crystals by Cathy* scoop? Create a DataFrame called `shelly_scoops` that contains only the weights of scoops from *Scoops by Shelly*, and set `shelly_mean` equal to the mean weight of Shelly's scoops as you did for *Crystals by Cathy* in Question 3.2. Then, set `observed_diff_mean` to the difference in mean scoop weight for the Cathy and Shelly's scoops in our sample.\n",
    "\n",
    "$$\\text{difference} = \\text{mean weight of Cathy's scoops} - \\text{mean weight of Shelly's scoops}$$"
   ]
  },
  {
   "cell_type": "code",
   "execution_count": 75,
   "metadata": {
    "scrolled": true
   },
   "outputs": [
    {
     "data": {
      "text/plain": [
       "88.43224999999995"
      ]
     },
     "execution_count": 75,
     "metadata": {},
     "output_type": "execute_result"
    }
   ],
   "source": [
    "shelly_scoops = crystal_weights[crystal_weights.get('Seller') == 'Scoops by Shelly']\n",
    "shelly_mean = shelly_scoops.get('Weight').mean()\n",
    "observed_diff_mean = cathy_mean - shelly_mean\n",
    "observed_diff_mean"
   ]
  },
  {
   "cell_type": "code",
   "execution_count": 76,
   "metadata": {
    "deletable": false,
    "editable": false
   },
   "outputs": [
    {
     "data": {
      "text/html": [
       "<p><strong><pre style='display: inline;'>q3_7</pre></strong> passed!</p>"
      ],
      "text/plain": [
       "q3_7 results: All test cases passed!"
      ]
     },
     "execution_count": 76,
     "metadata": {},
     "output_type": "execute_result"
    }
   ],
   "source": [
    "grader.check(\"q3_7\")"
   ]
  },
  {
   "cell_type": "markdown",
   "metadata": {},
   "source": [
    "If you completed Question 3.7 correctly, you should have found that Shelly and Cathy's mean scoop weights were quite different. Remember, all we have access to are samples of size 40 from each seller. Would we see this large of a difference if we had access to the population – that is, the weights of all scoops ever produced by both sellers – or was it just by chance that our samples displayed this difference? Let's do a **hypothesis test** to find out. We'll state our hypotheses as follows:\n",
    "\n",
    "- **Null Hypothesis**: The mean weight of scoops from *Crystals by Cathy* is equal to the mean weight of scoops from *Scoops by Shelly*. Equivalently, the difference in the mean scoop weight for the two sellers equals 0 grams.\n",
    "\n",
    "- **Alternative Hypothesis**: The mean weight of scoops from *Crystals by Cathy* is not equal to the mean weight of scoops from *Scoops by Shelly*. Equivalently, the difference in the mean scoop weight for the two sellers does not equal 0 grams.\n",
    "\n",
    "Since we were able to set up our hypothesis test as a question of whether a certain population parameter – the difference in mean scoop weight for *Crystals by Cathy* and *Scoops by Shelly* – is equal to a certain value, we can **test our hypotheses by constructing a confidence interval** for the parameter. This is the method we used in [Lecture 20](https://dsc10.com/resources/lectures/lec20/lec20.html). You can read more about conducting a hypothesis test with a confidence interval in [CIT 13.4](https://inferentialthinking.com/chapters/13/4/Using_Confidence_Intervals.html).\n",
    "\n",
    "*Note*: We are not conducting a permutation test here, although that would also be a valid approach to test these hypotheses."
   ]
  },
  {
   "cell_type": "markdown",
   "metadata": {},
   "source": [
    "**Question 3.8.** Compute 1000 bootstrapped estimates for the difference in the mean scoop weight for *Scoops by Shelly* and *Crystals by Cathy*. As in Question 3.7, do Cathy minus Shelly. Store your 1000 estimates in the `difference_means` array.\n",
    "\n",
    "You should generate your Shelly resamples by sampling from `shelly_scoops`, and your Cathy resamples by sampling from `cathy_crystals`. You should not use `crystal_weights` at all."
   ]
  },
  {
   "cell_type": "code",
   "execution_count": 77,
   "metadata": {},
   "outputs": [
    {
     "data": {
      "text/plain": [
       "array([ 78.70525,  93.47725,  93.79975, 126.55325,  65.628  ,  86.71875,\n",
       "       104.98375,  92.31425,  60.486  ,  92.91175])"
      ]
     },
     "execution_count": 77,
     "metadata": {},
     "output_type": "execute_result"
    }
   ],
   "source": [
    "np.random.seed(23) # Ignore this, and don't change it.\n",
    "\n",
    "difference_means = np.array([])\n",
    "for i in np.arange(1000):\n",
    "    resample_shelly = shelly_scoops.sample(n=shelly_scoops.shape[0], replace=True)\n",
    "    resample_cathy = cathy_crystals.sample(n=cathy_crystals.shape[0], replace=True)\n",
    "    resample_mean_diff = resample_cathy.get('Weight').mean() - resample_shelly.get('Weight').mean()\n",
    "    difference_means = np.append(difference_means, resample_mean_diff)\n",
    "    \n",
    "\n",
    "# Just display the first ten differences.\n",
    "difference_means[:10]"
   ]
  },
  {
   "cell_type": "code",
   "execution_count": 78,
   "metadata": {
    "deletable": false,
    "editable": false
   },
   "outputs": [
    {
     "data": {
      "text/html": [
       "<p><strong><pre style='display: inline;'>q3_8</pre></strong> passed!</p>"
      ],
      "text/plain": [
       "q3_8 results: All test cases passed!"
      ]
     },
     "execution_count": 78,
     "metadata": {},
     "output_type": "execute_result"
    }
   ],
   "source": [
    "grader.check(\"q3_8\")"
   ]
  },
  {
   "cell_type": "markdown",
   "metadata": {},
   "source": [
    "Let's visualize your estimates:"
   ]
  },
  {
   "cell_type": "code",
   "execution_count": 79,
   "metadata": {},
   "outputs": [
    {
     "data": {
      "image/png": "[encoded data removed]",
      "text/plain": [
       "<Figure size 720x360 with 1 Axes>"
      ]
     },
     "metadata": {},
     "output_type": "display_data"
    }
   ],
   "source": [
    "bpd.DataFrame().assign(BootstrappedDifferenceMeans = difference_means).plot(kind = 'hist', density=True, ec='w', bins=20, figsize=(10, 5));"
   ]
  },
  {
   "cell_type": "markdown",
   "metadata": {},
   "source": [
    "**Question 3.9.** Compute a 95% confidence interval for the difference in mean weights of Shelly and Cathy's scoops (as before, Cathy minus Shelly). Assign the left and right endpoints of this confidence interval to `left_endpoint` and `right_endpoint` respectively. Use `np.percentile` to find the endpoints."
   ]
  },
  {
   "cell_type": "code",
   "execution_count": 80,
   "metadata": {},
   "outputs": [
    {
     "name": "stdout",
     "output_type": "stream",
     "text": [
      "Bootstrapped 95% confidence interval for the mean difference in weights of Shelly and Cathy's scoops:\n",
      " [67.133513, 109.333006]\n"
     ]
    }
   ],
   "source": [
    "left_endpoint = np.percentile(difference_means, 2.5)\n",
    "right_endpoint = np.percentile(difference_means, 97.5)\n",
    "\n",
    "print(\"Bootstrapped 95% confidence interval for the mean difference in weights of Shelly and Cathy's scoops:\\n [{:f}, {:f}]\".format(left_endpoint, right_endpoint))"
   ]
  },
  {
   "cell_type": "code",
   "execution_count": 81,
   "metadata": {
    "deletable": false,
    "editable": false
   },
   "outputs": [
    {
     "data": {
      "text/html": [
       "<p><strong><pre style='display: inline;'>q3_9</pre></strong> passed!</p>"
      ],
      "text/plain": [
       "q3_9 results: All test cases passed!"
      ]
     },
     "execution_count": 81,
     "metadata": {},
     "output_type": "execute_result"
    }
   ],
   "source": [
    "grader.check(\"q3_9\")"
   ]
  },
  {
   "cell_type": "markdown",
   "metadata": {},
   "source": [
    "**Question 3.10.** Based on the confidence interval you've created, would you reject the null hypothesis at the 0.05 significance level? Set `reject_null` to True if you would reject the null hypothesis, and False if you would not."
   ]
  },
  {
   "cell_type": "code",
   "execution_count": 82,
   "metadata": {},
   "outputs": [],
   "source": [
    "reject_null = 0 < left_endpoint or 0 > right_endpoint"
   ]
  },
  {
   "cell_type": "code",
   "execution_count": 83,
   "metadata": {
    "deletable": false,
    "editable": false
   },
   "outputs": [
    {
     "data": {
      "text/html": [
       "<p><strong><pre style='display: inline;'>q3_10</pre></strong> passed!</p>"
      ],
      "text/plain": [
       "q3_10 results: All test cases passed!"
      ]
     },
     "execution_count": 83,
     "metadata": {},
     "output_type": "execute_result"
    }
   ],
   "source": [
    "grader.check(\"q3_10\")"
   ]
  },
  {
   "cell_type": "markdown",
   "metadata": {},
   "source": [
    "**Question 3.11.** What if the Facebook group members had recorded all of their scoop weights in pounds instead of grams? Would your hypothesis test still come to the same conclusion either way? Set `same_conclusion` to True or False."
   ]
  },
  {
   "cell_type": "code",
   "execution_count": 84,
   "metadata": {},
   "outputs": [],
   "source": [
    "same_conclusion = True"
   ]
  },
  {
   "cell_type": "code",
   "execution_count": 85,
   "metadata": {
    "deletable": false,
    "editable": false
   },
   "outputs": [
    {
     "data": {
      "text/html": [
       "<p><strong><pre style='display: inline;'>q3_11</pre></strong> passed!</p>"
      ],
      "text/plain": [
       "q3_11 results: All test cases passed!"
      ]
     },
     "execution_count": 85,
     "metadata": {},
     "output_type": "execute_result"
    }
   ],
   "source": [
    "grader.check(\"q3_11\")"
   ]
  },
  {
   "cell_type": "markdown",
   "metadata": {},
   "source": [
    "## 4. Chocolate Shop  🍫"
   ]
  },
  {
   "cell_type": "markdown",
   "metadata": {},
   "source": [
    "You are planning to open a chocolate shop and you want to get a sense of the local residents' chocolate preferences. You survey 510 randomly-selected local residents and ask which type of chocolate they prefer the most among four options – `'dark'`, `'milk'`, `'white'`, `'bittersweet'`. You also record some indecisive individuals as `'undecided'`.\n",
    "\n",
    "Run the next cell to load in the results of the survey."
   ]
  },
  {
   "cell_type": "code",
   "execution_count": 86,
   "metadata": {},
   "outputs": [
    {
     "data": {
      "text/html": [
       "<div>\n",
       "<style scoped>\n",
       "    .dataframe tbody tr th:only-of-type {\n",
       "        vertical-align: middle;\n",
       "    }\n",
       "\n",
       "    .dataframe tbody tr th {\n",
       "        vertical-align: top;\n",
       "    }\n",
       "\n",
       "    .dataframe thead th {\n",
       "        text-align: right;\n",
       "    }\n",
       "</style>\n",
       "<table border=\"1\" class=\"dataframe\">\n",
       "  <thead>\n",
       "    <tr style=\"text-align: right;\">\n",
       "      <th></th>\n",
       "      <th>chocolate</th>\n",
       "    </tr>\n",
       "  </thead>\n",
       "  <tbody>\n",
       "    <tr>\n",
       "      <th>0</th>\n",
       "      <td>dark</td>\n",
       "    </tr>\n",
       "    <tr>\n",
       "      <th>1</th>\n",
       "      <td>milk</td>\n",
       "    </tr>\n",
       "    <tr>\n",
       "      <th>2</th>\n",
       "      <td>white</td>\n",
       "    </tr>\n",
       "    <tr>\n",
       "      <th>3</th>\n",
       "      <td>white</td>\n",
       "    </tr>\n",
       "    <tr>\n",
       "      <th>4</th>\n",
       "      <td>undecided</td>\n",
       "    </tr>\n",
       "    <tr>\n",
       "      <th>...</th>\n",
       "      <td>...</td>\n",
       "    </tr>\n",
       "    <tr>\n",
       "      <th>505</th>\n",
       "      <td>white</td>\n",
       "    </tr>\n",
       "    <tr>\n",
       "      <th>506</th>\n",
       "      <td>dark</td>\n",
       "    </tr>\n",
       "    <tr>\n",
       "      <th>507</th>\n",
       "      <td>bittersweet</td>\n",
       "    </tr>\n",
       "    <tr>\n",
       "      <th>508</th>\n",
       "      <td>white</td>\n",
       "    </tr>\n",
       "    <tr>\n",
       "      <th>509</th>\n",
       "      <td>bittersweet</td>\n",
       "    </tr>\n",
       "  </tbody>\n",
       "</table>\n",
       "<p>510 rows × 1 columns</p>\n",
       "</div>"
      ],
      "text/plain": [
       "       chocolate\n",
       "0           dark\n",
       "1           milk\n",
       "2          white\n",
       "3          white\n",
       "4      undecided\n",
       "..           ...\n",
       "505        white\n",
       "506         dark\n",
       "507  bittersweet\n",
       "508        white\n",
       "509  bittersweet\n",
       "\n",
       "[510 rows x 1 columns]"
      ]
     },
     "execution_count": 86,
     "metadata": {},
     "output_type": "execute_result"
    }
   ],
   "source": [
    "chocolate = bpd.read_csv('data/chocolate.csv')\n",
    "chocolate"
   ]
  },
  {
   "cell_type": "markdown",
   "metadata": {},
   "source": [
    "Assume that your sample is a uniform random sample of the local population. Below, we compute the proportion of people in your sample that prefer each type of chocolate."
   ]
  },
  {
   "cell_type": "code",
   "execution_count": 87,
   "metadata": {},
   "outputs": [
    {
     "data": {
      "text/plain": [
       "chocolate\n",
       "bittersweet    0.060784\n",
       "dark           0.282353\n",
       "milk           0.237255\n",
       "undecided      0.100000\n",
       "white          0.319608\n",
       "Name: counts, dtype: float64"
      ]
     },
     "execution_count": 87,
     "metadata": {},
     "output_type": "execute_result"
    }
   ],
   "source": [
    "chocolate.assign(counts=chocolate.get('chocolate')).groupby('chocolate').count().get('counts') / chocolate.shape[0]"
   ]
  },
  {
   "cell_type": "markdown",
   "metadata": {},
   "source": [
    "What you're truly interested in, though, is the proportion of *all local residents* that prefer each type of chocolate. These are *population parameters* (plural, because there are 5 proportions).\n",
    "\n",
    "In this question, we will start by computing a confidence interval for the true proportion of residents that prefer `'dark'` chocolate, and then later compute a confidence interval for the true difference in proportions of residents that prefer `'dark'` chocolate over `'milk'` chocolate. "
   ]
  },
  {
   "cell_type": "markdown",
   "metadata": {},
   "source": [
    "<center><img src=\"images/choco-pun.jpeg\" width=35%></center>\n",
    "\n",
    "\n",
    "Below, we have given you code that computes 1000 bootstrapped estimates of the true proportion of residents who prefer `'dark'` chocolate over the other options. Run the next cell to calculate these estimates and display a histogram of their values."
   ]
  },
  {
   "cell_type": "code",
   "execution_count": 88,
   "metadata": {},
   "outputs": [
    {
     "data": {
      "image/png": "[encoded data removed]",
      "text/plain": [
       "<Figure size 720x360 with 1 Axes>"
      ]
     },
     "metadata": {},
     "output_type": "display_data"
    }
   ],
   "source": [
    "def proportions_in_resamples():\n",
    "    np.random.seed(55) # Ignore this, and don't change it.\n",
    "    num_residents = chocolate.shape[0]\n",
    "    proportions = np.array([])\n",
    "    for i in np.arange(1000):\n",
    "        resample = chocolate.sample(num_residents, replace = True)\n",
    "        resample_proportion = np.count_nonzero(resample.get('chocolate') == 'dark') / num_residents\n",
    "        proportions = np.append(proportions, resample_proportion)\n",
    "    return proportions\n",
    "\n",
    "boot_dark_proportions = proportions_in_resamples()\n",
    "bpd.DataFrame().assign(Estimated_Proportion_Dark=boot_dark_proportions).plot(kind='hist', density=True, ec='w', figsize=(10, 5));"
   ]
  },
  {
   "cell_type": "markdown",
   "metadata": {},
   "source": [
    "**Question 4.1.** Using the array `boot_dark_proportions`, compute an approximate **99%** (not 95%) confidence interval for the true proportion of residents who prefer `'dark'` chocolate.  Compute the lower and upper ends of the interval, named `dark_lower_bound` and `dark_upper_bound`, respectively.\n",
    "\n",
    "*Note*: As we did in lecture, use `np.percentile` whenever computing confidence intervals."
   ]
  },
  {
   "cell_type": "code",
   "execution_count": 89,
   "metadata": {},
   "outputs": [
    {
     "name": "stdout",
     "output_type": "stream",
     "text": [
      "Bootstrapped 99% confidence interval for the true proportion of residents who prefer dark chocolate in the population:\n",
      "[0.231373, 0.335304]\n"
     ]
    }
   ],
   "source": [
    "dark_lower_bound = np.percentile(boot_dark_proportions, 0.5)\n",
    "dark_upper_bound = np.percentile(boot_dark_proportions, 99.5)\n",
    "\n",
    "# Print the confidence interval:\n",
    "print(\"Bootstrapped 99% confidence interval for the true proportion of residents who prefer dark chocolate in the population:\\n[{:f}, {:f}]\".format(dark_lower_bound, dark_upper_bound))"
   ]
  },
  {
   "cell_type": "code",
   "execution_count": 90,
   "metadata": {
    "deletable": false,
    "editable": false
   },
   "outputs": [
    {
     "data": {
      "text/html": [
       "<p><strong><pre style='display: inline;'>q4_1</pre></strong> passed!</p>"
      ],
      "text/plain": [
       "q4_1 results: All test cases passed!"
      ]
     },
     "execution_count": 90,
     "metadata": {},
     "output_type": "execute_result"
    }
   ],
   "source": [
    "grader.check(\"q4_1\")"
   ]
  },
  {
   "cell_type": "markdown",
   "metadata": {},
   "source": [
    "**Question 4.2.**\n",
    "Is it true that 99% of the population lies in the range `dark_lower_bound` to `dark_upper_bound`? Assign the variable `q4_2` to either `True` or `False`. "
   ]
  },
  {
   "cell_type": "code",
   "execution_count": 91,
   "metadata": {},
   "outputs": [],
   "source": [
    "q4_2 = False"
   ]
  },
  {
   "cell_type": "code",
   "execution_count": 92,
   "metadata": {
    "deletable": false,
    "editable": false
   },
   "outputs": [
    {
     "data": {
      "text/html": [
       "<p><strong><pre style='display: inline;'>q4_2</pre></strong> passed!</p>"
      ],
      "text/plain": [
       "q4_2 results: All test cases passed!"
      ]
     },
     "execution_count": 92,
     "metadata": {},
     "output_type": "execute_result"
    }
   ],
   "source": [
    "grader.check(\"q4_2\")"
   ]
  },
  {
   "cell_type": "markdown",
   "metadata": {},
   "source": [
    "**Question 4.3.**\n",
    "Is it true that the true proportion of residents who prefer `'dark'` chocolate over the other chocolates is a random quantity with approximately a 99% chance of falling between `dark_lower_bound` and `dark_upper_bound`? Assign the variable `q4_3` to either `True` or `False`."
   ]
  },
  {
   "cell_type": "code",
   "execution_count": 93,
   "metadata": {},
   "outputs": [],
   "source": [
    "q4_3 = False"
   ]
  },
  {
   "cell_type": "code",
   "execution_count": 94,
   "metadata": {
    "deletable": false,
    "editable": false
   },
   "outputs": [
    {
     "data": {
      "text/html": [
       "<p><strong><pre style='display: inline;'>q4_3</pre></strong> passed!</p>"
      ],
      "text/plain": [
       "q4_3 results: All test cases passed!"
      ]
     },
     "execution_count": 94,
     "metadata": {},
     "output_type": "execute_result"
    }
   ],
   "source": [
    "grader.check(\"q4_3\")"
   ]
  },
  {
   "cell_type": "markdown",
   "metadata": {},
   "source": [
    "**Question 4.4.**\n",
    "Suppose we were somehow able to produce 20,000 new samples, each one a uniform random sample of 510 residents taken directly from the population. For each of those 20,000 new samples, we create a 99% confidence interval for the proportion of residents who prefer `'dark'` chocolate. Roughly how many of those 20,000 intervals should we expect to actually contain the true proportion of the population? Assign your answer to the variable `how_many` below. It should be of type `int`, representing the *number* of intervals, not the proportion or percentage."
   ]
  },
  {
   "cell_type": "code",
   "execution_count": 95,
   "metadata": {
    "scrolled": true
   },
   "outputs": [
    {
     "data": {
      "text/plain": [
       "19800"
      ]
     },
     "execution_count": 95,
     "metadata": {},
     "output_type": "execute_result"
    }
   ],
   "source": [
    "how_many = int(0.99 * 20000)\n",
    "how_many"
   ]
  },
  {
   "cell_type": "code",
   "execution_count": 96,
   "metadata": {
    "deletable": false,
    "editable": false
   },
   "outputs": [
    {
     "data": {
      "text/html": [
       "<p><strong><pre style='display: inline;'>q4_4</pre></strong> passed!</p>"
      ],
      "text/plain": [
       "q4_4 results: All test cases passed!"
      ]
     },
     "execution_count": 96,
     "metadata": {},
     "output_type": "execute_result"
    }
   ],
   "source": [
    "grader.check(\"q4_4\")"
   ]
  },
  {
   "cell_type": "markdown",
   "metadata": {},
   "source": [
    "**Question 4.5.** We also created 90%, 95%, and 99.9% confidence intervals from one sample (shown below), but forgot to label which confidence intervals were which! Match the interval to the percent of confidence the interval represents and assign your choices (either 1, 2, or 3) to variables `ci_90`, `ci_95`, and `ci_999`, corresponding to the 90%, 95%, and 99.9% confidence intervals respectively.\n",
    "\n",
    "*Hint*: Drawing the confidence intervals out on paper might help you visualize them better."
   ]
  },
  {
   "cell_type": "markdown",
   "metadata": {},
   "source": [
    "1. $[0.273, 0.363]$\n",
    "\n",
    "\n",
    "2. $[0.268, 0.380]$\n",
    "\n",
    "\n",
    "3. $[0.295, 0.354]$\n"
   ]
  },
  {
   "cell_type": "code",
   "execution_count": 97,
   "metadata": {},
   "outputs": [
    {
     "data": {
      "text/plain": [
       "(2, 1, 3)"
      ]
     },
     "execution_count": 97,
     "metadata": {},
     "output_type": "execute_result"
    }
   ],
   "source": [
    "ci_90 = 2\n",
    "ci_95 = 1\n",
    "ci_999 = 3\n",
    "ci_90, ci_95, ci_999"
   ]
  },
  {
   "cell_type": "code",
   "execution_count": 98,
   "metadata": {
    "deletable": false,
    "editable": false
   },
   "outputs": [
    {
     "data": {
      "text/html": [
       "<p><strong><pre style='display: inline;'>q4_5</pre></strong> passed!</p>"
      ],
      "text/plain": [
       "q4_5 results: All test cases passed!"
      ]
     },
     "execution_count": 98,
     "metadata": {},
     "output_type": "execute_result"
    }
   ],
   "source": [
    "grader.check(\"q4_5\")"
   ]
  },
  {
   "cell_type": "markdown",
   "metadata": {},
   "source": [
    "**Question 4.6.** Based on the survey results shown at the start of the question, it seems that `'dark'` chocolate is more popular than `'milk'` chocolate among residents. We would like to construct a range of likely values – that is, a confidence interval – for the difference in popularity, which we define as:\n",
    "\n",
    "$$\\text{(Proportion of residents who prefer dark chocolate)} - \\text{(Proportion of residents who prefer milk chocolate)}$$\n",
    "\n",
    "Create a function, `differences_in_resamples`, that creates **1000 bootstrapped resamples of the original survey data** in the `chocolate` DataFrame, computes the difference in proportions for each resample, and returns an array of these differences. Store your bootstrapped estimates in an array called `boot_differences` and plot a histogram of these estimates.\n",
    "\n",
    "*Note*: While this might sound like a job for permutation testing, this is instead a bootstrapping question. Note that our goal is to estimate a population parameter – the difference between the proportion of all residents that prefer dark chocolate and the proportion of all residents that prefer milk chocolate – not to answer a question about whether two samples come from the same distribution.\n",
    "\n",
    "*Hint*: Use the code for `proportions_in_resamples` given to you above as a starting point."
   ]
  },
  {
   "cell_type": "code",
   "execution_count": 99,
   "metadata": {
    "for_assignment_type": "student",
    "manual_problem_id": "election_2"
   },
   "outputs": [
    {
     "data": {
      "text/plain": [
       "<AxesSubplot:ylabel='Frequency'>"
      ]
     },
     "execution_count": 99,
     "metadata": {},
     "output_type": "execute_result"
    },
    {
     "data": {
      "image/png": "[encoded data removed]",
      "text/plain": [
       "<Figure size 720x360 with 1 Axes>"
      ]
     },
     "metadata": {},
     "output_type": "display_data"
    }
   ],
   "source": [
    "def differences_in_resamples():\n",
    "    np.random.seed(55) # Ignore this, and don't change it.\n",
    "    differences = np.array([])\n",
    "    num_residents = chocolate.shape[0]\n",
    "\n",
    "    for _ in range(1000):\n",
    "        bootstrap = chocolate.sample(n=num_residents, replace=True)\n",
    "        dark_proportion = (bootstrap.get('chocolate') == 'dark').mean()\n",
    "        milk_proportion = (bootstrap.get('chocolate') == 'milk').mean()\n",
    "        difference = dark_proportion - milk_proportion\n",
    "        differences = np.append(differences, difference)\n",
    "\n",
    "    return differences\n",
    "\n",
    "boot_differences = differences_in_resamples()\n",
    "\n",
    "# Plotting the histogram\n",
    "bpd.DataFrame().assign(Difference=boot_differences).plot(kind='hist', density=True, ec='w', figsize=(10, 5))\n"
   ]
  },
  {
   "cell_type": "code",
   "execution_count": 100,
   "metadata": {
    "deletable": false,
    "editable": false
   },
   "outputs": [
    {
     "data": {
      "text/html": [
       "<p><strong><pre style='display: inline;'>q4_6</pre></strong> passed!</p>"
      ],
      "text/plain": [
       "q4_6 results: All test cases passed!"
      ]
     },
     "execution_count": 100,
     "metadata": {},
     "output_type": "execute_result"
    }
   ],
   "source": [
    "grader.check(\"q4_6\")"
   ]
  },
  {
   "cell_type": "markdown",
   "metadata": {},
   "source": [
    "**Question 4.7.** Compute an approximate 99% confidence interval for the difference in proportions. Assign the lower and upper bounds of the interval to `diff_lower_bound` and `diff_upper_bound`, respectively."
   ]
  },
  {
   "cell_type": "code",
   "execution_count": 101,
   "metadata": {},
   "outputs": [
    {
     "name": "stdout",
     "output_type": "stream",
     "text": [
      "Bootstrapped 99% confidence interval for the difference in popularity between dark chocolate and milk chocolate:\n",
      "[-0.037265, 0.123549]\n"
     ]
    }
   ],
   "source": [
    "diff_lower_bound = np.percentile(boot_differences, 0.5)\n",
    "diff_upper_bound = np.percentile(boot_differences, 99.5)\n",
    "\n",
    "\n",
    "# Print the confidence interval:\n",
    "print(\"Bootstrapped 99% confidence interval for the difference in popularity between dark chocolate and milk chocolate:\\n[{:f}, {:f}]\".format(diff_lower_bound, diff_upper_bound))"
   ]
  },
  {
   "cell_type": "code",
   "execution_count": 102,
   "metadata": {
    "deletable": false,
    "editable": false
   },
   "outputs": [
    {
     "data": {
      "text/html": [
       "<p><strong><pre style='display: inline;'>q4_7</pre></strong> passed!</p>"
      ],
      "text/plain": [
       "q4_7 results: All test cases passed!"
      ]
     },
     "execution_count": 102,
     "metadata": {},
     "output_type": "execute_result"
    }
   ],
   "source": [
    "grader.check(\"q4_7\")"
   ]
  },
  {
   "cell_type": "markdown",
   "metadata": {},
   "source": [
    "**Question 4.8.** In this question, you computed two 99% confidence intervals:\n",
    "- In Question 4.1, you found a 99% confidence interval for the proportion of residents who prefer `'dark'` chocolate among the four chocolate options. Let's call this the \"dark chocolate CI.\"\n",
    "- In Question 4.7, you found a 99% confidence interval for the difference between the proportion of residents who prefer `'dark'` chocolate and the proportion of residents who prefer `'milk'` chocolate. Let's call this the \"difference CI.\" \n",
    "\n",
    "Which of the explanations below best describes the widths of these two confidence intervals? Set `q4_8` to either 1, 2, 3, or 4.\n",
    "\n",
    "1. The dark chocolate CI is **wider** than the difference CI because we have **more certainty** in an estimate of a single unknown parameter than in the difference between two unknown parameters.\n",
    "1. The dark chocolate CI is **narrower** than the difference CI because we have **more certainty** in an estimate of a single unknown parameter than in the difference between two unknown parameters.\n",
    "1. The dark chocolate CI is **wider** than the difference CI because we have **less certainty** in an estimate of a single unknown parameter than in the difference between two unknown parameters.\n",
    "1. The dark chocolate CI is **narrower** than the difference CI because we have **less certainty** in an estimate of a single unknown parameter than in the difference between two unknown parameters."
   ]
  },
  {
   "cell_type": "code",
   "execution_count": 103,
   "metadata": {},
   "outputs": [],
   "source": [
    "q4_8 = 2"
   ]
  },
  {
   "cell_type": "code",
   "execution_count": 104,
   "metadata": {
    "deletable": false,
    "editable": false
   },
   "outputs": [
    {
     "data": {
      "text/html": [
       "<p><strong><pre style='display: inline;'>q4_8</pre></strong> passed!</p>"
      ],
      "text/plain": [
       "q4_8 results: All test cases passed!"
      ]
     },
     "execution_count": 104,
     "metadata": {},
     "output_type": "execute_result"
    }
   ],
   "source": [
    "grader.check(\"q4_8\")"
   ]
  },
  {
   "cell_type": "markdown",
   "metadata": {},
   "source": [
    "## Finish Line 🏁\n",
    "\n",
    "Congratulations! You are done with Homework 5, the second-to-last homework of the quarter!\n",
    "\n",
    "To submit your assignment:\n",
    "\n",
    "1. Select `Kernel -> Restart & Run All` to ensure that you have executed all cells, including the test cells.\n",
    "1. Read through the notebook to make sure everything is fine and all tests passed.\n",
    "1. Run the cell below to run all tests, and make sure that they all pass.\n",
    "1. Download your notebook using `File -> Download as -> Notebook (.ipynb)`, then upload your notebook to Gradescope.\n",
    "1. Stick around while the Gradescope autograder grades your work. Make sure you see that all tests have passed on Gradescope.\n",
    "1. Check that you have a confirmation email from Gradescope and save it as proof of your submission."
   ]
  },
  {
   "cell_type": "code",
   "execution_count": 105,
   "metadata": {},
   "outputs": [
    {
     "data": {
      "text/plain": [
       "q1_1 results: All test cases passed!\n",
       "\n",
       "q1_10 results: All test cases passed!\n",
       "\n",
       "q1_11 results: All test cases passed!\n",
       "\n",
       "q1_2 results:\n",
       "    q1_2 - 1 result:\n",
       "        Trying:\n",
       "            import numbers\n",
       "        Expecting nothing\n",
       "        ok\n",
       "        Trying:\n",
       "            python_java_with_language.shape == (3308, 7)\n",
       "        Expecting:\n",
       "            True\n",
       "        **********************************************************************\n",
       "        Line 2, in q1_2 0\n",
       "        Failed example:\n",
       "            python_java_with_language.shape == (3308, 7)\n",
       "        Expected:\n",
       "            True\n",
       "        Got:\n",
       "            False\n",
       "\n",
       "    q1_2 - 2 result:\n",
       "        Test case passed!\n",
       "\n",
       "q1_3 results: All test cases passed!\n",
       "\n",
       "q1_4 results: All test cases passed!\n",
       "\n",
       "q1_5 results: All test cases passed!\n",
       "\n",
       "q1_6 results:\n",
       "    q1_6 - 1 result:\n",
       "        Trying:\n",
       "            python_java_rating.shape == (3308, 2)\n",
       "        Expecting:\n",
       "            True\n",
       "        **********************************************************************\n",
       "        Line 1, in q1_6 0\n",
       "        Failed example:\n",
       "            python_java_rating.shape == (3308, 2)\n",
       "        Expected:\n",
       "            True\n",
       "        Got:\n",
       "            False\n",
       "\n",
       "q1_7 results:\n",
       "    q1_7 - 1 result:\n",
       "        Trying:\n",
       "            isinstance(differences, np.ndarray) and len(differences) == 1000\n",
       "        Expecting:\n",
       "            True\n",
       "        **********************************************************************\n",
       "        Line 1, in q1_7 0\n",
       "        Failed example:\n",
       "            isinstance(differences, np.ndarray) and len(differences) == 1000\n",
       "        Expected:\n",
       "            True\n",
       "        Got:\n",
       "            False\n",
       "\n",
       "q1_8 results: All test cases passed!\n",
       "\n",
       "q1_9 results: All test cases passed!\n",
       "\n",
       "q2_2 results: All test cases passed!\n",
       "\n",
       "q2_3 results: All test cases passed!\n",
       "\n",
       "q2_4 results: All test cases passed!\n",
       "\n",
       "q2_5 results: All test cases passed!\n",
       "\n",
       "q3_1 results: All test cases passed!\n",
       "\n",
       "q3_10 results: All test cases passed!\n",
       "\n",
       "q3_11 results: All test cases passed!\n",
       "\n",
       "q3_2 results: All test cases passed!\n",
       "\n",
       "q3_3 results: All test cases passed!\n",
       "\n",
       "q3_4 results: All test cases passed!\n",
       "\n",
       "q3_5 results: All test cases passed!\n",
       "\n",
       "q3_6 results: All test cases passed!\n",
       "\n",
       "q3_7 results: All test cases passed!\n",
       "\n",
       "q3_8 results: All test cases passed!\n",
       "\n",
       "q3_9 results: All test cases passed!\n",
       "\n",
       "q4_1 results: All test cases passed!\n",
       "\n",
       "q4_2 results: All test cases passed!\n",
       "\n",
       "q4_3 results: All test cases passed!\n",
       "\n",
       "q4_4 results: All test cases passed!\n",
       "\n",
       "q4_5 results: All test cases passed!\n",
       "\n",
       "q4_6 results: All test cases passed!\n",
       "\n",
       "q4_7 results: All test cases passed!\n",
       "\n",
       "q4_8 results: All test cases passed!"
      ]
     },
     "execution_count": 105,
     "metadata": {},
     "output_type": "execute_result"
    }
   ],
   "source": [
    "# For your convenience, you can run this cell to run all the tests at once!\n",
    "grader.check_all()"
   ]
  }
 ],
 "metadata": {
  "kernelspec": {
   "display_name": "Python 3 (ipykernel)",
   "language": "python",
   "name": "python3"
  },
  "language_info": {
   "codemirror_mode": {
    "name": "ipython",
    "version": 3
   },
   "file_extension": ".py",
   "mimetype": "text/x-python",
   "name": "python",
   "nbconvert_exporter": "python",
   "pygments_lexer": "ipython3",
   "version": "3.9.5"
  }
 },
 "nbformat": 4,
 "nbformat_minor": 4
}
