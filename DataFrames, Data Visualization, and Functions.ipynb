{
 "cells": [
  {
   "cell_type": "markdown",
   "metadata": {},
   "source": [
    "# Homework 2: DataFrames, Data Visualization, and Functions\n",
    "\n",
    "## Due Tuesday, April 25 at 11:59PM\n",
    "\n",
    "Welcome to Homework 2! This week, we will cover DataFrame manipulations, making visualizations, and defining functions. You can find additional help on these topics in  [BPD 6, 9-12](https://notes.dsc10.com/01-getting_started/functions-defining.html) in the `babypandas` notes and [CIT 7-7.3](https://inferentialthinking.com/chapters/07/Visualization.html) in the textbook."
   ]
  },
  {
   "cell_type": "markdown",
   "metadata": {},
   "source": [
    "### Instructions\n",
    "\n",
    "Remember to start early and submit often. You are given six slip days throughout the quarter to extend deadlines. See the syllabus for more details. With the exception of using slip days, late work will not be accepted unless you have made special arrangements with your instructor.\n",
    "\n",
    "**Important**: For homeworks, the `otter` tests don't usually tell you that your answer is correct. More often, they help catch careless mistakes. It's up to you to ensure that your answer is correct. If you're not sure, ask someone (not for the answer, but for some guidance about your approach). These are great questions for office hours (see the schedule on the [Calendar](https://dsc10.com/calendar)) or Ed. Directly sharing answers is not okay, but discussing problems with the course staff or with other students is encouraged. \n",
    "\n",
    "**Please do not use for-loops for any questions in this homework.** If you don't know what a for-loop is, don't worry – we haven't covered them yet. But if you do know what they are and are wondering why it's not OK to use them, it is because loops in Python are slow, and looping over arrays and DataFrames should usually be avoided."
   ]
  },
  {
   "cell_type": "code",
   "execution_count": 139,
   "metadata": {},
   "outputs": [],
   "source": [
    "# Please don't change this cell, but do make sure to run it\n",
    "import babypandas as bpd\n",
    "import numpy as np\n",
    "\n",
    "import matplotlib.pyplot as plt\n",
    "plt.style.use('ggplot')\n",
    "plt.rcParams['figure.figsize'] = (10, 5)\n",
    "\n",
    "import otter\n",
    "grader = otter.Notebook()\n",
    "\n",
    "import warnings\n",
    "warnings.simplefilter('ignore')"
   ]
  },
  {
   "cell_type": "markdown",
   "metadata": {},
   "source": [
    "## 1. Are You Scared Yet? Analyzing Horror Movies 🎃😱"
   ]
  },
  {
   "cell_type": "markdown",
   "metadata": {},
   "source": [
    "<center><img src=\"./images/hocus_pocus.jpg\" width = 400/></center>\n",
    "\n",
    "Spooky season may have passed a few months ago, but it's never too late to watch horror movies! We've provided a file, `data/horror_movies.csv`, that contains information about 464 movies. For each movie, we have 10 pieces of information (see the data description below) that we'll use to generate some insights about the state of horror movies in recent years. \n",
    "\n",
    "| Column      | Description |\n",
    "| ----------- | ----------- |\n",
    "| `'Title'`      | Title of the movie       |\n",
    "| `'Country'`   | Country the movie was originally released in        |\n",
    "| `'Maturity Rating'` | A rating given to the movie by the Motion Picture Association |\n",
    "| `'Review Rating'` | The IMDb rating of the film, representing how good it was | \n",
    "| `'Language'` | The language the movie is in | \n",
    "| `'Filming Locations'` | The location in which the movie was filmed |\n",
    "| `'Budget'` | The total amount spent on the movie |\n",
    "| `'Release Month'` | The month the movie was released |\n",
    "| `'Release Day'` | The day the movie was released |\n",
    "| `'Run Time'` | The length of the film in minutes |"
   ]
  },
  {
   "cell_type": "markdown",
   "metadata": {},
   "source": [
    "Run the cell below to read the file containing all of the horror movies into a DataFrame called `horror`."
   ]
  },
  {
   "cell_type": "code",
   "execution_count": 140,
   "metadata": {},
   "outputs": [
    {
     "data": {
      "text/html": [
       "<div>\n",
       "<style scoped>\n",
       "    .dataframe tbody tr th:only-of-type {\n",
       "        vertical-align: middle;\n",
       "    }\n",
       "\n",
       "    .dataframe tbody tr th {\n",
       "        vertical-align: top;\n",
       "    }\n",
       "\n",
       "    .dataframe thead th {\n",
       "        text-align: right;\n",
       "    }\n",
       "</style>\n",
       "<table border=\"1\" class=\"dataframe\">\n",
       "  <thead>\n",
       "    <tr style=\"text-align: right;\">\n",
       "      <th></th>\n",
       "      <th>Title</th>\n",
       "      <th>Country</th>\n",
       "      <th>Maturity Rating</th>\n",
       "      <th>Review Rating</th>\n",
       "      <th>Language</th>\n",
       "      <th>Filming Locations</th>\n",
       "      <th>Budget</th>\n",
       "      <th>Release Month</th>\n",
       "      <th>Release Day</th>\n",
       "      <th>Run Time</th>\n",
       "    </tr>\n",
       "  </thead>\n",
       "  <tbody>\n",
       "    <tr>\n",
       "      <th>0</th>\n",
       "      <td>Rise of the Animals (2011)</td>\n",
       "      <td>USA</td>\n",
       "      <td>NOT RATED</td>\n",
       "      <td>3.6</td>\n",
       "      <td>English</td>\n",
       "      <td>Rochester, New York, USA</td>\n",
       "      <td>7000</td>\n",
       "      <td>May</td>\n",
       "      <td>1</td>\n",
       "      <td>70</td>\n",
       "    </tr>\n",
       "    <tr>\n",
       "      <th>1</th>\n",
       "      <td>Zombie Resurrection (2014)</td>\n",
       "      <td>UK</td>\n",
       "      <td>NOT RATED</td>\n",
       "      <td>2.7</td>\n",
       "      <td>English</td>\n",
       "      <td>Hampshire, England, UK</td>\n",
       "      <td>100000</td>\n",
       "      <td>March</td>\n",
       "      <td>23</td>\n",
       "      <td>86</td>\n",
       "    </tr>\n",
       "    <tr>\n",
       "      <th>2</th>\n",
       "      <td>Before Dawn (2013)</td>\n",
       "      <td>Japan</td>\n",
       "      <td>NOT RATED</td>\n",
       "      <td>4.7</td>\n",
       "      <td>English</td>\n",
       "      <td>Yorkshire, England, UK</td>\n",
       "      <td>25000</td>\n",
       "      <td>June</td>\n",
       "      <td>8</td>\n",
       "      <td>82</td>\n",
       "    </tr>\n",
       "    <tr>\n",
       "      <th>3</th>\n",
       "      <td>Apparition (2015)</td>\n",
       "      <td>USA</td>\n",
       "      <td>NOT RATED</td>\n",
       "      <td>4.0</td>\n",
       "      <td>English</td>\n",
       "      <td>Philadelphia, Pennsylvania, USA</td>\n",
       "      <td>3000000</td>\n",
       "      <td>May</td>\n",
       "      <td>5</td>\n",
       "      <td>100</td>\n",
       "    </tr>\n",
       "    <tr>\n",
       "      <th>4</th>\n",
       "      <td>Her Cry: La Llorona Investigation (2013)</td>\n",
       "      <td>USA</td>\n",
       "      <td>NOT RATED</td>\n",
       "      <td>5.4</td>\n",
       "      <td>English</td>\n",
       "      <td>Houston, Texas, USA</td>\n",
       "      <td>60000</td>\n",
       "      <td>April</td>\n",
       "      <td>19</td>\n",
       "      <td>89</td>\n",
       "    </tr>\n",
       "    <tr>\n",
       "      <th>...</th>\n",
       "      <td>...</td>\n",
       "      <td>...</td>\n",
       "      <td>...</td>\n",
       "      <td>...</td>\n",
       "      <td>...</td>\n",
       "      <td>...</td>\n",
       "      <td>...</td>\n",
       "      <td>...</td>\n",
       "      <td>...</td>\n",
       "      <td>...</td>\n",
       "    </tr>\n",
       "    <tr>\n",
       "      <th>459</th>\n",
       "      <td>Insidious: Chapter 3 (2015)</td>\n",
       "      <td>USA</td>\n",
       "      <td>PG-13</td>\n",
       "      <td>6.1</td>\n",
       "      <td>English</td>\n",
       "      <td>929 South Broadway, Downtown, Los Angeles, Cal...</td>\n",
       "      <td>10000000</td>\n",
       "      <td>June</td>\n",
       "      <td>5</td>\n",
       "      <td>97</td>\n",
       "    </tr>\n",
       "    <tr>\n",
       "      <th>460</th>\n",
       "      <td>The Purge (2013)</td>\n",
       "      <td>USA</td>\n",
       "      <td>R</td>\n",
       "      <td>5.7</td>\n",
       "      <td>English</td>\n",
       "      <td>Chatsworth, Los Angeles, California, USA</td>\n",
       "      <td>3000000</td>\n",
       "      <td>June</td>\n",
       "      <td>7</td>\n",
       "      <td>85</td>\n",
       "    </tr>\n",
       "    <tr>\n",
       "      <th>461</th>\n",
       "      <td>13 Sins (2014)</td>\n",
       "      <td>Poland</td>\n",
       "      <td>R</td>\n",
       "      <td>6.3</td>\n",
       "      <td>English</td>\n",
       "      <td>New Orleans, Louisiana, USA</td>\n",
       "      <td>4000000</td>\n",
       "      <td>April</td>\n",
       "      <td>11</td>\n",
       "      <td>93</td>\n",
       "    </tr>\n",
       "    <tr>\n",
       "      <th>462</th>\n",
       "      <td>Victor Frankenstein (2015)</td>\n",
       "      <td>USA</td>\n",
       "      <td>PG-13</td>\n",
       "      <td>6.0</td>\n",
       "      <td>English</td>\n",
       "      <td>London, England, UK</td>\n",
       "      <td>40000000</td>\n",
       "      <td>November</td>\n",
       "      <td>25</td>\n",
       "      <td>110</td>\n",
       "    </tr>\n",
       "    <tr>\n",
       "      <th>463</th>\n",
       "      <td>BloodRayne: The Third Reich (2011)</td>\n",
       "      <td>Japan</td>\n",
       "      <td>R</td>\n",
       "      <td>3.0</td>\n",
       "      <td>English</td>\n",
       "      <td>Zagreb, Croatia</td>\n",
       "      <td>10000000</td>\n",
       "      <td>March</td>\n",
       "      <td>17</td>\n",
       "      <td>79</td>\n",
       "    </tr>\n",
       "  </tbody>\n",
       "</table>\n",
       "<p>464 rows × 10 columns</p>\n",
       "</div>"
      ],
      "text/plain": [
       "                                        Title Country Maturity Rating  \\\n",
       "0                  Rise of the Animals (2011)     USA       NOT RATED   \n",
       "1                  Zombie Resurrection (2014)      UK       NOT RATED   \n",
       "2                          Before Dawn (2013)   Japan       NOT RATED   \n",
       "3                           Apparition (2015)     USA       NOT RATED   \n",
       "4    Her Cry: La Llorona Investigation (2013)     USA       NOT RATED   \n",
       "..                                        ...     ...             ...   \n",
       "459               Insidious: Chapter 3 (2015)     USA           PG-13   \n",
       "460                          The Purge (2013)     USA               R   \n",
       "461                            13 Sins (2014)  Poland               R   \n",
       "462                Victor Frankenstein (2015)     USA           PG-13   \n",
       "463        BloodRayne: The Third Reich (2011)   Japan               R   \n",
       "\n",
       "     Review Rating Language  \\\n",
       "0              3.6  English   \n",
       "1              2.7  English   \n",
       "2              4.7  English   \n",
       "3              4.0  English   \n",
       "4              5.4  English   \n",
       "..             ...      ...   \n",
       "459            6.1  English   \n",
       "460            5.7  English   \n",
       "461            6.3  English   \n",
       "462            6.0  English   \n",
       "463            3.0  English   \n",
       "\n",
       "                                     Filming Locations    Budget  \\\n",
       "0                             Rochester, New York, USA      7000   \n",
       "1                               Hampshire, England, UK    100000   \n",
       "2                               Yorkshire, England, UK     25000   \n",
       "3                      Philadelphia, Pennsylvania, USA   3000000   \n",
       "4                                  Houston, Texas, USA     60000   \n",
       "..                                                 ...       ...   \n",
       "459  929 South Broadway, Downtown, Los Angeles, Cal...  10000000   \n",
       "460           Chatsworth, Los Angeles, California, USA   3000000   \n",
       "461                        New Orleans, Louisiana, USA   4000000   \n",
       "462                                London, England, UK  40000000   \n",
       "463                                    Zagreb, Croatia  10000000   \n",
       "\n",
       "    Release Month  Release Day  Run Time  \n",
       "0             May            1        70  \n",
       "1           March           23        86  \n",
       "2            June            8        82  \n",
       "3             May            5       100  \n",
       "4           April           19        89  \n",
       "..            ...          ...       ...  \n",
       "459          June            5        97  \n",
       "460          June            7        85  \n",
       "461         April           11        93  \n",
       "462      November           25       110  \n",
       "463         March           17        79  \n",
       "\n",
       "[464 rows x 10 columns]"
      ]
     },
     "execution_count": 140,
     "metadata": {},
     "output_type": "execute_result"
    }
   ],
   "source": [
    "horror = bpd.read_csv('data/horror_movies.csv') \n",
    "horror"
   ]
  },
  {
   "cell_type": "markdown",
   "metadata": {},
   "source": [
    "**Question 1.1.** Examine the columns available in `horror` and consider which would be the best choice of index for this DataFrame. Change the `horror` DataFrame so that it's indexed by the values in this column instead of the default index."
   ]
  },
  {
   "cell_type": "code",
   "execution_count": 141,
   "metadata": {
    "scrolled": true
   },
   "outputs": [
    {
     "data": {
      "text/html": [
       "<div>\n",
       "<style scoped>\n",
       "    .dataframe tbody tr th:only-of-type {\n",
       "        vertical-align: middle;\n",
       "    }\n",
       "\n",
       "    .dataframe tbody tr th {\n",
       "        vertical-align: top;\n",
       "    }\n",
       "\n",
       "    .dataframe thead th {\n",
       "        text-align: right;\n",
       "    }\n",
       "</style>\n",
       "<table border=\"1\" class=\"dataframe\">\n",
       "  <thead>\n",
       "    <tr style=\"text-align: right;\">\n",
       "      <th></th>\n",
       "      <th>Country</th>\n",
       "      <th>Maturity Rating</th>\n",
       "      <th>Review Rating</th>\n",
       "      <th>Language</th>\n",
       "      <th>Filming Locations</th>\n",
       "      <th>Budget</th>\n",
       "      <th>Release Month</th>\n",
       "      <th>Release Day</th>\n",
       "      <th>Run Time</th>\n",
       "    </tr>\n",
       "    <tr>\n",
       "      <th>Title</th>\n",
       "      <th></th>\n",
       "      <th></th>\n",
       "      <th></th>\n",
       "      <th></th>\n",
       "      <th></th>\n",
       "      <th></th>\n",
       "      <th></th>\n",
       "      <th></th>\n",
       "      <th></th>\n",
       "    </tr>\n",
       "  </thead>\n",
       "  <tbody>\n",
       "    <tr>\n",
       "      <th>Rise of the Animals (2011)</th>\n",
       "      <td>USA</td>\n",
       "      <td>NOT RATED</td>\n",
       "      <td>3.6</td>\n",
       "      <td>English</td>\n",
       "      <td>Rochester, New York, USA</td>\n",
       "      <td>7000</td>\n",
       "      <td>May</td>\n",
       "      <td>1</td>\n",
       "      <td>70</td>\n",
       "    </tr>\n",
       "    <tr>\n",
       "      <th>Zombie Resurrection (2014)</th>\n",
       "      <td>UK</td>\n",
       "      <td>NOT RATED</td>\n",
       "      <td>2.7</td>\n",
       "      <td>English</td>\n",
       "      <td>Hampshire, England, UK</td>\n",
       "      <td>100000</td>\n",
       "      <td>March</td>\n",
       "      <td>23</td>\n",
       "      <td>86</td>\n",
       "    </tr>\n",
       "    <tr>\n",
       "      <th>Before Dawn (2013)</th>\n",
       "      <td>Japan</td>\n",
       "      <td>NOT RATED</td>\n",
       "      <td>4.7</td>\n",
       "      <td>English</td>\n",
       "      <td>Yorkshire, England, UK</td>\n",
       "      <td>25000</td>\n",
       "      <td>June</td>\n",
       "      <td>8</td>\n",
       "      <td>82</td>\n",
       "    </tr>\n",
       "    <tr>\n",
       "      <th>Apparition (2015)</th>\n",
       "      <td>USA</td>\n",
       "      <td>NOT RATED</td>\n",
       "      <td>4.0</td>\n",
       "      <td>English</td>\n",
       "      <td>Philadelphia, Pennsylvania, USA</td>\n",
       "      <td>3000000</td>\n",
       "      <td>May</td>\n",
       "      <td>5</td>\n",
       "      <td>100</td>\n",
       "    </tr>\n",
       "    <tr>\n",
       "      <th>Her Cry: La Llorona Investigation (2013)</th>\n",
       "      <td>USA</td>\n",
       "      <td>NOT RATED</td>\n",
       "      <td>5.4</td>\n",
       "      <td>English</td>\n",
       "      <td>Houston, Texas, USA</td>\n",
       "      <td>60000</td>\n",
       "      <td>April</td>\n",
       "      <td>19</td>\n",
       "      <td>89</td>\n",
       "    </tr>\n",
       "    <tr>\n",
       "      <th>...</th>\n",
       "      <td>...</td>\n",
       "      <td>...</td>\n",
       "      <td>...</td>\n",
       "      <td>...</td>\n",
       "      <td>...</td>\n",
       "      <td>...</td>\n",
       "      <td>...</td>\n",
       "      <td>...</td>\n",
       "      <td>...</td>\n",
       "    </tr>\n",
       "    <tr>\n",
       "      <th>Insidious: Chapter 3 (2015)</th>\n",
       "      <td>USA</td>\n",
       "      <td>PG-13</td>\n",
       "      <td>6.1</td>\n",
       "      <td>English</td>\n",
       "      <td>929 South Broadway, Downtown, Los Angeles, Cal...</td>\n",
       "      <td>10000000</td>\n",
       "      <td>June</td>\n",
       "      <td>5</td>\n",
       "      <td>97</td>\n",
       "    </tr>\n",
       "    <tr>\n",
       "      <th>The Purge (2013)</th>\n",
       "      <td>USA</td>\n",
       "      <td>R</td>\n",
       "      <td>5.7</td>\n",
       "      <td>English</td>\n",
       "      <td>Chatsworth, Los Angeles, California, USA</td>\n",
       "      <td>3000000</td>\n",
       "      <td>June</td>\n",
       "      <td>7</td>\n",
       "      <td>85</td>\n",
       "    </tr>\n",
       "    <tr>\n",
       "      <th>13 Sins (2014)</th>\n",
       "      <td>Poland</td>\n",
       "      <td>R</td>\n",
       "      <td>6.3</td>\n",
       "      <td>English</td>\n",
       "      <td>New Orleans, Louisiana, USA</td>\n",
       "      <td>4000000</td>\n",
       "      <td>April</td>\n",
       "      <td>11</td>\n",
       "      <td>93</td>\n",
       "    </tr>\n",
       "    <tr>\n",
       "      <th>Victor Frankenstein (2015)</th>\n",
       "      <td>USA</td>\n",
       "      <td>PG-13</td>\n",
       "      <td>6.0</td>\n",
       "      <td>English</td>\n",
       "      <td>London, England, UK</td>\n",
       "      <td>40000000</td>\n",
       "      <td>November</td>\n",
       "      <td>25</td>\n",
       "      <td>110</td>\n",
       "    </tr>\n",
       "    <tr>\n",
       "      <th>BloodRayne: The Third Reich (2011)</th>\n",
       "      <td>Japan</td>\n",
       "      <td>R</td>\n",
       "      <td>3.0</td>\n",
       "      <td>English</td>\n",
       "      <td>Zagreb, Croatia</td>\n",
       "      <td>10000000</td>\n",
       "      <td>March</td>\n",
       "      <td>17</td>\n",
       "      <td>79</td>\n",
       "    </tr>\n",
       "  </tbody>\n",
       "</table>\n",
       "<p>464 rows × 9 columns</p>\n",
       "</div>"
      ],
      "text/plain": [
       "                                         Country Maturity Rating  \\\n",
       "Title                                                              \n",
       "Rise of the Animals (2011)                   USA       NOT RATED   \n",
       "Zombie Resurrection (2014)                    UK       NOT RATED   \n",
       "Before Dawn (2013)                         Japan       NOT RATED   \n",
       "Apparition (2015)                            USA       NOT RATED   \n",
       "Her Cry: La Llorona Investigation (2013)     USA       NOT RATED   \n",
       "...                                          ...             ...   \n",
       "Insidious: Chapter 3 (2015)                  USA           PG-13   \n",
       "The Purge (2013)                             USA               R   \n",
       "13 Sins (2014)                            Poland               R   \n",
       "Victor Frankenstein (2015)                   USA           PG-13   \n",
       "BloodRayne: The Third Reich (2011)         Japan               R   \n",
       "\n",
       "                                          Review Rating Language  \\\n",
       "Title                                                              \n",
       "Rise of the Animals (2011)                          3.6  English   \n",
       "Zombie Resurrection (2014)                          2.7  English   \n",
       "Before Dawn (2013)                                  4.7  English   \n",
       "Apparition (2015)                                   4.0  English   \n",
       "Her Cry: La Llorona Investigation (2013)            5.4  English   \n",
       "...                                                 ...      ...   \n",
       "Insidious: Chapter 3 (2015)                         6.1  English   \n",
       "The Purge (2013)                                    5.7  English   \n",
       "13 Sins (2014)                                      6.3  English   \n",
       "Victor Frankenstein (2015)                          6.0  English   \n",
       "BloodRayne: The Third Reich (2011)                  3.0  English   \n",
       "\n",
       "                                                                          Filming Locations  \\\n",
       "Title                                                                                         \n",
       "Rise of the Animals (2011)                                         Rochester, New York, USA   \n",
       "Zombie Resurrection (2014)                                           Hampshire, England, UK   \n",
       "Before Dawn (2013)                                                   Yorkshire, England, UK   \n",
       "Apparition (2015)                                           Philadelphia, Pennsylvania, USA   \n",
       "Her Cry: La Llorona Investigation (2013)                                Houston, Texas, USA   \n",
       "...                                                                                     ...   \n",
       "Insidious: Chapter 3 (2015)               929 South Broadway, Downtown, Los Angeles, Cal...   \n",
       "The Purge (2013)                                   Chatsworth, Los Angeles, California, USA   \n",
       "13 Sins (2014)                                                  New Orleans, Louisiana, USA   \n",
       "Victor Frankenstein (2015)                                              London, England, UK   \n",
       "BloodRayne: The Third Reich (2011)                                          Zagreb, Croatia   \n",
       "\n",
       "                                            Budget Release Month  Release Day  \\\n",
       "Title                                                                           \n",
       "Rise of the Animals (2011)                    7000           May            1   \n",
       "Zombie Resurrection (2014)                  100000         March           23   \n",
       "Before Dawn (2013)                           25000          June            8   \n",
       "Apparition (2015)                          3000000           May            5   \n",
       "Her Cry: La Llorona Investigation (2013)     60000         April           19   \n",
       "...                                            ...           ...          ...   \n",
       "Insidious: Chapter 3 (2015)               10000000          June            5   \n",
       "The Purge (2013)                           3000000          June            7   \n",
       "13 Sins (2014)                             4000000         April           11   \n",
       "Victor Frankenstein (2015)                40000000      November           25   \n",
       "BloodRayne: The Third Reich (2011)        10000000         March           17   \n",
       "\n",
       "                                          Run Time  \n",
       "Title                                               \n",
       "Rise of the Animals (2011)                      70  \n",
       "Zombie Resurrection (2014)                      86  \n",
       "Before Dawn (2013)                              82  \n",
       "Apparition (2015)                              100  \n",
       "Her Cry: La Llorona Investigation (2013)        89  \n",
       "...                                            ...  \n",
       "Insidious: Chapter 3 (2015)                     97  \n",
       "The Purge (2013)                                85  \n",
       "13 Sins (2014)                                  93  \n",
       "Victor Frankenstein (2015)                     110  \n",
       "BloodRayne: The Third Reich (2011)              79  \n",
       "\n",
       "[464 rows x 9 columns]"
      ]
     },
     "execution_count": 141,
     "metadata": {},
     "output_type": "execute_result"
    }
   ],
   "source": [
    "horror = horror.set_index(\"Title\")\n",
    "horror"
   ]
  },
  {
   "cell_type": "code",
   "execution_count": 142,
   "metadata": {
    "deletable": false,
    "editable": false
   },
   "outputs": [
    {
     "data": {
      "text/html": [
       "<p><strong><pre style='display: inline;'>q1_1</pre></strong> passed!</p>"
      ],
      "text/plain": [
       "q1_1 results: All test cases passed!"
      ]
     },
     "execution_count": 142,
     "metadata": {},
     "output_type": "execute_result"
    }
   ],
   "source": [
    "grader.check(\"q1_1\")"
   ]
  },
  {
   "cell_type": "markdown",
   "metadata": {},
   "source": [
    "_Note:_ If you were to run the cell where you set the index of `horror` again, you'd see an error message. Stop and think about _why_ you'd run into an error. Once you've thought about it, click the thinking emoji below to see the reason for the error.\n",
    "\n",
    "<br>\n",
    "\n",
    "<details>\n",
    "    <summary>Why would there be an error? 🤔</summary>\n",
    "    There would be an error since you'd be trying to set the index of <code>horror</code> to a column that no longer exists in <code>horror</code> – the column wouldn't exist because it was converted to the index the first time you ran the cell (and the index is not a column)!\n",
    "</details>\n",
    "\n",
    "If you acually ran the cell twice and got an error message, don't worry. To get rid of it, re-run the cell in 1.1 where you defined the `horror` DataFrame, then run the cell in 1.2 just once, and you'll be good to go.\n",
    "\n",
    "When you submit your work for autograding, the entire notebook will be run from start to finish. Each cell will run only once, so it's no problem if your code errors on the second run. In this case, it means you're doing something right!"
   ]
  },
  {
   "cell_type": "markdown",
   "metadata": {},
   "source": [
    "**Question 1.2.** *Dream Nightmare*, released in 2016, is one of the three lowest-budget movies in our dataset. What is the budget of `'Dream Nightmare (2016)'`, and what is its `'Review Rating'`? Assign your answers to variables `DN_budget` and `DN_rating`, respectively."
   ]
  },
  {
   "cell_type": "code",
   "execution_count": 143,
   "metadata": {},
   "outputs": [
    {
     "name": "stdout",
     "output_type": "stream",
     "text": [
      "The budget for Dream Nightmare was 8.0 and the rating was 500.0\n"
     ]
    }
   ],
   "source": [
    "DN_budget = horror.loc[\"Dream Nightmare (2016)\", 'Review Rating']\n",
    "DN_rating = float(horror.loc[\"Dream Nightmare (2016)\", 'Budget'])\n",
    "print(\"The budget for Dream Nightmare was\", DN_budget, \"and the rating was\", DN_rating)"
   ]
  },
  {
   "cell_type": "code",
   "execution_count": 144,
   "metadata": {
    "deletable": false,
    "editable": false
   },
   "outputs": [
    {
     "data": {
      "text/html": [
       "<p><strong><pre style='display: inline;'>q1_2</pre></strong> passed!</p>"
      ],
      "text/plain": [
       "q1_2 results: All test cases passed!"
      ]
     },
     "execution_count": 144,
     "metadata": {},
     "output_type": "execute_result"
    }
   ],
   "source": [
    "grader.check(\"q1_2\")"
   ]
  },
  {
   "cell_type": "markdown",
   "metadata": {},
   "source": [
    "**Question 1.3.** Assign `lowest_rated_movie` to the name of the movie with the lowest `'Review Rating'` (including the year in parentheses), and set the `'Review Rating'` of that movie to `lowest_rating`."
   ]
  },
  {
   "cell_type": "code",
   "execution_count": 145,
   "metadata": {},
   "outputs": [
    {
     "name": "stdout",
     "output_type": "stream",
     "text": [
      "The lowest-rated movie is Slash 2 (2014) with a rating of 1.6\n"
     ]
    }
   ],
   "source": [
    "sorted_lowest = horror.sort_values(by = \"Budget\")\n",
    "lowest_rated_movie = sorted_lowest.index[0]\n",
    "lowest_rating = horror.get('Review Rating').min()\n",
    "print(\"The lowest-rated movie is\", lowest_rated_movie, \"with a rating of\", lowest_rating)"
   ]
  },
  {
   "cell_type": "code",
   "execution_count": 146,
   "metadata": {
    "deletable": false,
    "editable": false
   },
   "outputs": [
    {
     "data": {
      "text/html": [
       "<p><strong><pre style='display: inline;'>q1_3</pre></strong> passed!</p>"
      ],
      "text/plain": [
       "q1_3 results: All test cases passed!"
      ]
     },
     "execution_count": 146,
     "metadata": {},
     "output_type": "execute_result"
    }
   ],
   "source": [
    "grader.check(\"q1_3\")"
   ]
  },
  {
   "cell_type": "markdown",
   "metadata": {},
   "source": [
    "**Question 1.4.** That's a very low rating, but how does that compare to the other movies included in the dataset? First, plot a density histogram that shows the distribution of `'Review Rating'`. Then compute the difference between the lowest rating and the **median** movie rating, and assign the result to the variable `below_med`.\n",
    "\n",
    "When plotting your histogram, remember to set `density=True` and `ec='w'`. You don't have to set the `bins` argument."
   ]
  },
  {
   "cell_type": "code",
   "execution_count": 147,
   "metadata": {},
   "outputs": [
    {
     "data": {
      "text/plain": [
       "-3.4"
      ]
     },
     "execution_count": 147,
     "metadata": {},
     "output_type": "execute_result"
    },
    {
     "data": {
      "image/png": "[encoded data removed]",
      "text/plain": [
       "<Figure size 720x360 with 1 Axes>"
      ]
     },
     "metadata": {},
     "output_type": "display_data"
    }
   ],
   "source": [
    "# Create your histogram here.\n",
    "horror.get('Review Rating').plot(kind = \"hist\", density=True, ec='w')\n",
    "\n",
    "# Then calculate below_med.\n",
    "below_med = lowest_rating-(horror.get('Review Rating').median())\n",
    "below_med"
   ]
  },
  {
   "cell_type": "code",
   "execution_count": 148,
   "metadata": {
    "deletable": false,
    "editable": false
   },
   "outputs": [
    {
     "data": {
      "text/html": [
       "<p><strong><pre style='display: inline;'>q1_4</pre></strong> passed!</p>"
      ],
      "text/plain": [
       "q1_4 results: All test cases passed!"
      ]
     },
     "execution_count": 148,
     "metadata": {},
     "output_type": "execute_result"
    }
   ],
   "source": [
    "grader.check(\"q1_4\")"
   ]
  },
  {
   "cell_type": "markdown",
   "metadata": {},
   "source": [
    "**Question 1.5.** How many movies in our dataset were released in April and have been given a `'Maturity Rating'`? Note that movies without a `'Maturity Rating'` appear as either `'NOT RATED'` or `'UNRATED'`.  Set the number of such movies equal to the variable `apr_rated_count`."
   ]
  },
  {
   "cell_type": "code",
   "execution_count": 149,
   "metadata": {},
   "outputs": [
    {
     "data": {
      "text/plain": [
       "19"
      ]
     },
     "execution_count": 149,
     "metadata": {},
     "output_type": "execute_result"
    }
   ],
   "source": [
    "apr_rated_count = horror[(horror.get(\"Release Month\") == \"April\") & ((horror.get(\"Maturity Rating\") != 'NOT RATED') & (horror.get(\"Maturity Rating\") != 'UNRATED'))].shape[0]\n",
    "apr_rated_count\n"
   ]
  },
  {
   "cell_type": "code",
   "execution_count": 150,
   "metadata": {
    "deletable": false,
    "editable": false
   },
   "outputs": [
    {
     "data": {
      "text/html": [
       "<p><strong><pre style='display: inline;'>q1_5</pre></strong> passed!</p>"
      ],
      "text/plain": [
       "q1_5 results: All test cases passed!"
      ]
     },
     "execution_count": 150,
     "metadata": {},
     "output_type": "execute_result"
    }
   ],
   "source": [
    "grader.check(\"q1_5\")"
   ]
  },
  {
   "cell_type": "markdown",
   "metadata": {},
   "source": [
    "**Question 1.6.** Which movie titles contain the word `'night'`, with any capitalization? Create an *array* called `night_movies` containing the titles of all such movies, capitalized exactly as they appear in the DataFrame. \n",
    "\n",
    "*Hints:*\n",
    "- To convert a Series into an array, call the function `np.array` on the Series.\n",
    "- The movie names are all strings, so they may have inconsistencies in how they're capitalized. We want to count movie titles with the words `'Night'`, `'night'`, and even `'NiGHt'`. If we want to account for variations in capitalization, what operation should we call on the movie names **first**? (You may end up using `.str` twice! [This video](https://www.youtube.com/watch?v=TCcEhVA6Euw&list=PLDNbnocpJUhbczUw2Rw6bqreEECMvZ8gN&index=2) and [this section of Lecture 6](https://dsc10.com/resources/lectures/lec06/lec06.html#How-do-we-include-songs-with-other-artists,-as-well?) may help.)"
   ]
  },
  {
   "cell_type": "code",
   "execution_count": 151,
   "metadata": {},
   "outputs": [
    {
     "data": {
      "text/plain": [
       "array(['Silent Night, Bloody Night: The Homecoming (2013)',\n",
       "       'Dream Nightmare (2016)', \"Hyde's Secret Nightmare (2011)\",\n",
       "       'Night Terrors (2014)', \"All Sinner's Night (2014)\",\n",
       "       'Darkest Night (2012)', 'Evil Night (2014)',\n",
       "       'Darker Than Night (2014)',\n",
       "       'Poultrygeist: Night of the Chicken Dead (2006)',\n",
       "       'It Comes at Night (2017)'], dtype=object)"
      ]
     },
     "execution_count": 151,
     "metadata": {},
     "output_type": "execute_result"
    }
   ],
   "source": [
    "night_movies = np.array(horror[horror.index.str.lower().str.contains('night')].index)\n",
    "night_movies"
   ]
  },
  {
   "cell_type": "code",
   "execution_count": 152,
   "metadata": {
    "deletable": false,
    "editable": false
   },
   "outputs": [
    {
     "data": {
      "text/html": [
       "<p><strong><pre style='display: inline;'>q1_6</pre></strong> passed!</p>"
      ],
      "text/plain": [
       "q1_6 results: All test cases passed!"
      ]
     },
     "execution_count": 152,
     "metadata": {},
     "output_type": "execute_result"
    }
   ],
   "source": [
    "grader.check(\"q1_6\")"
   ]
  },
  {
   "cell_type": "markdown",
   "metadata": {},
   "source": [
    "**Question 1.7.** What proportion of movies in our dataset were originally released in each country? Create a DataFrame indexed by `'Country'` with one column called `'Proportion'` containing the proportion of movies in the dataset that were released in that country. Order the rows in descending order of `'Proportion'` and assign this DataFrame to `country_proportions`.\n",
    "\n",
    "*Hints:*\n",
    "- Proportions can be easily calculated from counts.\n",
    "- If you pass in a **list** of columns names to `.get()`, the result will be a DataFrame containing only the columns specified in the list. "
   ]
  },
  {
   "cell_type": "code",
   "execution_count": 153,
   "metadata": {},
   "outputs": [
    {
     "data": {
      "text/html": [
       "<div>\n",
       "<style scoped>\n",
       "    .dataframe tbody tr th:only-of-type {\n",
       "        vertical-align: middle;\n",
       "    }\n",
       "\n",
       "    .dataframe tbody tr th {\n",
       "        vertical-align: top;\n",
       "    }\n",
       "\n",
       "    .dataframe thead th {\n",
       "        text-align: right;\n",
       "    }\n",
       "</style>\n",
       "<table border=\"1\" class=\"dataframe\">\n",
       "  <thead>\n",
       "    <tr style=\"text-align: right;\">\n",
       "      <th></th>\n",
       "      <th>Proportion</th>\n",
       "    </tr>\n",
       "    <tr>\n",
       "      <th>Country</th>\n",
       "      <th></th>\n",
       "    </tr>\n",
       "  </thead>\n",
       "  <tbody>\n",
       "    <tr>\n",
       "      <th>USA</th>\n",
       "      <td>0.756466</td>\n",
       "    </tr>\n",
       "    <tr>\n",
       "      <th>UK</th>\n",
       "      <td>0.058190</td>\n",
       "    </tr>\n",
       "    <tr>\n",
       "      <th>Japan</th>\n",
       "      <td>0.015086</td>\n",
       "    </tr>\n",
       "    <tr>\n",
       "      <th>Kuwait</th>\n",
       "      <td>0.012931</td>\n",
       "    </tr>\n",
       "    <tr>\n",
       "      <th>Philippines</th>\n",
       "      <td>0.012931</td>\n",
       "    </tr>\n",
       "    <tr>\n",
       "      <th>...</th>\n",
       "      <td>...</td>\n",
       "    </tr>\n",
       "    <tr>\n",
       "      <th>Denmark</th>\n",
       "      <td>0.002155</td>\n",
       "    </tr>\n",
       "    <tr>\n",
       "      <th>Belarus</th>\n",
       "      <td>0.002155</td>\n",
       "    </tr>\n",
       "    <tr>\n",
       "      <th>Bahrain</th>\n",
       "      <td>0.002155</td>\n",
       "    </tr>\n",
       "    <tr>\n",
       "      <th>Austria</th>\n",
       "      <td>0.002155</td>\n",
       "    </tr>\n",
       "    <tr>\n",
       "      <th>Venezuela</th>\n",
       "      <td>0.002155</td>\n",
       "    </tr>\n",
       "  </tbody>\n",
       "</table>\n",
       "<p>38 rows × 1 columns</p>\n",
       "</div>"
      ],
      "text/plain": [
       "             Proportion\n",
       "Country                \n",
       "USA            0.756466\n",
       "UK             0.058190\n",
       "Japan          0.015086\n",
       "Kuwait         0.012931\n",
       "Philippines    0.012931\n",
       "...                 ...\n",
       "Denmark        0.002155\n",
       "Belarus        0.002155\n",
       "Bahrain        0.002155\n",
       "Austria        0.002155\n",
       "Venezuela      0.002155\n",
       "\n",
       "[38 rows x 1 columns]"
      ]
     },
     "execution_count": 153,
     "metadata": {},
     "output_type": "execute_result"
    }
   ],
   "source": [
    "country_counts = horror.groupby('Country').count().get('Maturity Rating')\n",
    "total_movies = horror.shape[0]\n",
    "country_proportions_series = country_counts / total_movies\n",
    "country_proportions = bpd.DataFrame().assign(Proportion=country_proportions_series).sort_values(by='Proportion', ascending=False)\n",
    "country_proportions\n"
   ]
  },
  {
   "cell_type": "code",
   "execution_count": 154,
   "metadata": {
    "deletable": false,
    "editable": false
   },
   "outputs": [
    {
     "data": {
      "text/html": [
       "<p><strong><pre style='display: inline;'>q1_7</pre></strong> passed!</p>"
      ],
      "text/plain": [
       "q1_7 results: All test cases passed!"
      ]
     },
     "execution_count": 154,
     "metadata": {},
     "output_type": "execute_result"
    }
   ],
   "source": [
    "grader.check(\"q1_7\")"
   ]
  },
  {
   "cell_type": "markdown",
   "metadata": {},
   "source": [
    "**Question 1.8**  Create a horizontal bar chart that displays the median `'Review Rating'` for each country. Sort the bars so the country that with the lowest median appears at the very top, and the country with the highest median appears at the bottom.\n",
    "\n",
    "_*Hint*_: To get the bar chart to display nicely, try adding the keyword argument `figsize=(10, 10)`."
   ]
  },
  {
   "cell_type": "markdown",
   "metadata": {
    "deletable": false,
    "editable": false
   },
   "source": [
    "<!-- BEGIN QUESTION -->\n",
    "\n",
    "<!--\n",
    "BEGIN QUESTION\n",
    "name: q1_8\n",
    "manual: True\n",
    "-->"
   ]
  },
  {
   "cell_type": "code",
   "execution_count": 155,
   "metadata": {},
   "outputs": [
    {
     "data": {
      "text/plain": [
       "<AxesSubplot:ylabel='Country'>"
      ]
     },
     "execution_count": 155,
     "metadata": {},
     "output_type": "execute_result"
    },
    {
     "data": {
      "image/png": "[encoded data removed]",
      "text/plain": [
       "<Figure size 720x720 with 1 Axes>"
      ]
     },
     "metadata": {},
     "output_type": "display_data"
    }
   ],
   "source": [
    "median_ratings = horror.groupby('Country').median().get('Review Rating').sort_values()\n",
    "median_ratings.plot(kind='barh', figsize=(10, 10))"
   ]
  },
  {
   "cell_type": "markdown",
   "metadata": {},
   "source": [
    "<!-- END QUESTION -->\n",
    "\n",
    "\n",
    "\n",
    "## 2. Shine Bright Like a Diamond 💎"
   ]
  },
  {
   "cell_type": "markdown",
   "metadata": {},
   "source": [
    "In this section, we're going to be working alongside Jack the Jeweler to learn more about the diamond business! The data in `data/diamonds.csv` contains details about 10,000 diamonds, including the quality, dimensions, and price. The information about these diamonds can help Jack get a better understanding about what is valued most in the diamond business. The columns are described below:\n",
    "\n",
    "| Column      | Description |\n",
    "| ----------- | ----------- |\n",
    "| `'carat'`      | The number of carats of the diamond       |\n",
    "| `'cut'`   | The cut quality of the diamond   |\n",
    "| `'color'` | The color of the diamond |\n",
    "| `'clarity'` | The clarity of the diamond | \n",
    "| `'price'` | The diamond's price |\n",
    "| `'x'` | The length of the diamond, in mm |\n",
    "| `'y'` | The width of the diamond, in mm |\n",
    "| `'z'` | The depth of the diamond, in mm |"
   ]
  },
  {
   "cell_type": "markdown",
   "metadata": {},
   "source": [
    "Run the cell below to read in the data."
   ]
  },
  {
   "cell_type": "code",
   "execution_count": 156,
   "metadata": {},
   "outputs": [
    {
     "data": {
      "text/html": [
       "<div>\n",
       "<style scoped>\n",
       "    .dataframe tbody tr th:only-of-type {\n",
       "        vertical-align: middle;\n",
       "    }\n",
       "\n",
       "    .dataframe tbody tr th {\n",
       "        vertical-align: top;\n",
       "    }\n",
       "\n",
       "    .dataframe thead th {\n",
       "        text-align: right;\n",
       "    }\n",
       "</style>\n",
       "<table border=\"1\" class=\"dataframe\">\n",
       "  <thead>\n",
       "    <tr style=\"text-align: right;\">\n",
       "      <th></th>\n",
       "      <th>carat</th>\n",
       "      <th>cut</th>\n",
       "      <th>color</th>\n",
       "      <th>clarity</th>\n",
       "      <th>price</th>\n",
       "      <th>x</th>\n",
       "      <th>y</th>\n",
       "      <th>z</th>\n",
       "    </tr>\n",
       "  </thead>\n",
       "  <tbody>\n",
       "    <tr>\n",
       "      <th>0</th>\n",
       "      <td>2.04</td>\n",
       "      <td>Very Good</td>\n",
       "      <td>J</td>\n",
       "      <td>SI2</td>\n",
       "      <td>9482</td>\n",
       "      <td>8.07</td>\n",
       "      <td>8.04</td>\n",
       "      <td>5.11</td>\n",
       "    </tr>\n",
       "    <tr>\n",
       "      <th>1</th>\n",
       "      <td>0.59</td>\n",
       "      <td>Very Good</td>\n",
       "      <td>H</td>\n",
       "      <td>VVS2</td>\n",
       "      <td>1771</td>\n",
       "      <td>5.39</td>\n",
       "      <td>5.48</td>\n",
       "      <td>3.32</td>\n",
       "    </tr>\n",
       "    <tr>\n",
       "      <th>2</th>\n",
       "      <td>0.34</td>\n",
       "      <td>Very Good</td>\n",
       "      <td>H</td>\n",
       "      <td>VS2</td>\n",
       "      <td>689</td>\n",
       "      <td>4.45</td>\n",
       "      <td>4.39</td>\n",
       "      <td>2.80</td>\n",
       "    </tr>\n",
       "    <tr>\n",
       "      <th>3</th>\n",
       "      <td>1.01</td>\n",
       "      <td>Good</td>\n",
       "      <td>H</td>\n",
       "      <td>SI2</td>\n",
       "      <td>3888</td>\n",
       "      <td>6.32</td>\n",
       "      <td>6.35</td>\n",
       "      <td>4.05</td>\n",
       "    </tr>\n",
       "    <tr>\n",
       "      <th>4</th>\n",
       "      <td>0.50</td>\n",
       "      <td>Ideal</td>\n",
       "      <td>D</td>\n",
       "      <td>VS2</td>\n",
       "      <td>1635</td>\n",
       "      <td>5.10</td>\n",
       "      <td>5.13</td>\n",
       "      <td>3.19</td>\n",
       "    </tr>\n",
       "    <tr>\n",
       "      <th>...</th>\n",
       "      <td>...</td>\n",
       "      <td>...</td>\n",
       "      <td>...</td>\n",
       "      <td>...</td>\n",
       "      <td>...</td>\n",
       "      <td>...</td>\n",
       "      <td>...</td>\n",
       "      <td>...</td>\n",
       "    </tr>\n",
       "    <tr>\n",
       "      <th>9995</th>\n",
       "      <td>0.32</td>\n",
       "      <td>Premium</td>\n",
       "      <td>G</td>\n",
       "      <td>VS2</td>\n",
       "      <td>561</td>\n",
       "      <td>4.33</td>\n",
       "      <td>4.38</td>\n",
       "      <td>2.70</td>\n",
       "    </tr>\n",
       "    <tr>\n",
       "      <th>9996</th>\n",
       "      <td>0.41</td>\n",
       "      <td>Good</td>\n",
       "      <td>J</td>\n",
       "      <td>IF</td>\n",
       "      <td>1061</td>\n",
       "      <td>4.75</td>\n",
       "      <td>4.72</td>\n",
       "      <td>3.01</td>\n",
       "    </tr>\n",
       "    <tr>\n",
       "      <th>9997</th>\n",
       "      <td>0.30</td>\n",
       "      <td>Ideal</td>\n",
       "      <td>G</td>\n",
       "      <td>VS2</td>\n",
       "      <td>545</td>\n",
       "      <td>4.35</td>\n",
       "      <td>4.38</td>\n",
       "      <td>2.67</td>\n",
       "    </tr>\n",
       "    <tr>\n",
       "      <th>9998</th>\n",
       "      <td>1.25</td>\n",
       "      <td>Premium</td>\n",
       "      <td>J</td>\n",
       "      <td>SI2</td>\n",
       "      <td>4018</td>\n",
       "      <td>6.98</td>\n",
       "      <td>6.95</td>\n",
       "      <td>4.27</td>\n",
       "    </tr>\n",
       "    <tr>\n",
       "      <th>9999</th>\n",
       "      <td>0.34</td>\n",
       "      <td>Ideal</td>\n",
       "      <td>E</td>\n",
       "      <td>VVS1</td>\n",
       "      <td>1014</td>\n",
       "      <td>4.47</td>\n",
       "      <td>4.51</td>\n",
       "      <td>2.78</td>\n",
       "    </tr>\n",
       "  </tbody>\n",
       "</table>\n",
       "<p>10000 rows × 8 columns</p>\n",
       "</div>"
      ],
      "text/plain": [
       "      carat        cut color clarity  price     x     y     z\n",
       "0      2.04  Very Good     J     SI2   9482  8.07  8.04  5.11\n",
       "1      0.59  Very Good     H    VVS2   1771  5.39  5.48  3.32\n",
       "2      0.34  Very Good     H     VS2    689  4.45  4.39  2.80\n",
       "3      1.01       Good     H     SI2   3888  6.32  6.35  4.05\n",
       "4      0.50      Ideal     D     VS2   1635  5.10  5.13  3.19\n",
       "...     ...        ...   ...     ...    ...   ...   ...   ...\n",
       "9995   0.32    Premium     G     VS2    561  4.33  4.38  2.70\n",
       "9996   0.41       Good     J      IF   1061  4.75  4.72  3.01\n",
       "9997   0.30      Ideal     G     VS2    545  4.35  4.38  2.67\n",
       "9998   1.25    Premium     J     SI2   4018  6.98  6.95  4.27\n",
       "9999   0.34      Ideal     E    VVS1   1014  4.47  4.51  2.78\n",
       "\n",
       "[10000 rows x 8 columns]"
      ]
     },
     "execution_count": 156,
     "metadata": {},
     "output_type": "execute_result"
    }
   ],
   "source": [
    "diamonds = bpd.read_csv('data/diamonds.csv')\n",
    "diamonds"
   ]
  },
  {
   "cell_type": "markdown",
   "metadata": {},
   "source": [
    "**Question 2.1.** One of the first things that Jack learned about when entering the diamond business was the *depth percentage* measurement. The depth percentage of a diamond is ratio of the depth to the mean of the width and length, times 100:\n",
    "\n",
    "$$\\text{depth percentage} =\\dfrac{\\text{depth (in mm)}}{\\text{mean of width and length (in mm)}} \\cdot 100$$\n",
    "    \n",
    "Assign to the variable `depth_percentage` a Series with the depth percentage of each diamond in `diamonds`. Then, add a column named `'depth_percentage'` containing this Series to the `diamonds` DataFrame."
   ]
  },
  {
   "cell_type": "code",
   "execution_count": 157,
   "metadata": {},
   "outputs": [
    {
     "data": {
      "text/html": [
       "<div>\n",
       "<style scoped>\n",
       "    .dataframe tbody tr th:only-of-type {\n",
       "        vertical-align: middle;\n",
       "    }\n",
       "\n",
       "    .dataframe tbody tr th {\n",
       "        vertical-align: top;\n",
       "    }\n",
       "\n",
       "    .dataframe thead th {\n",
       "        text-align: right;\n",
       "    }\n",
       "</style>\n",
       "<table border=\"1\" class=\"dataframe\">\n",
       "  <thead>\n",
       "    <tr style=\"text-align: right;\">\n",
       "      <th></th>\n",
       "      <th>carat</th>\n",
       "      <th>cut</th>\n",
       "      <th>color</th>\n",
       "      <th>clarity</th>\n",
       "      <th>price</th>\n",
       "      <th>x</th>\n",
       "      <th>y</th>\n",
       "      <th>z</th>\n",
       "      <th>depth_percentage</th>\n",
       "    </tr>\n",
       "  </thead>\n",
       "  <tbody>\n",
       "    <tr>\n",
       "      <th>0</th>\n",
       "      <td>2.04</td>\n",
       "      <td>Very Good</td>\n",
       "      <td>J</td>\n",
       "      <td>SI2</td>\n",
       "      <td>9482</td>\n",
       "      <td>8.07</td>\n",
       "      <td>8.04</td>\n",
       "      <td>5.11</td>\n",
       "      <td>63.438858</td>\n",
       "    </tr>\n",
       "    <tr>\n",
       "      <th>1</th>\n",
       "      <td>0.59</td>\n",
       "      <td>Very Good</td>\n",
       "      <td>H</td>\n",
       "      <td>VVS2</td>\n",
       "      <td>1771</td>\n",
       "      <td>5.39</td>\n",
       "      <td>5.48</td>\n",
       "      <td>3.32</td>\n",
       "      <td>61.085557</td>\n",
       "    </tr>\n",
       "    <tr>\n",
       "      <th>2</th>\n",
       "      <td>0.34</td>\n",
       "      <td>Very Good</td>\n",
       "      <td>H</td>\n",
       "      <td>VS2</td>\n",
       "      <td>689</td>\n",
       "      <td>4.45</td>\n",
       "      <td>4.39</td>\n",
       "      <td>2.80</td>\n",
       "      <td>63.348416</td>\n",
       "    </tr>\n",
       "    <tr>\n",
       "      <th>3</th>\n",
       "      <td>1.01</td>\n",
       "      <td>Good</td>\n",
       "      <td>H</td>\n",
       "      <td>SI2</td>\n",
       "      <td>3888</td>\n",
       "      <td>6.32</td>\n",
       "      <td>6.35</td>\n",
       "      <td>4.05</td>\n",
       "      <td>63.930545</td>\n",
       "    </tr>\n",
       "    <tr>\n",
       "      <th>4</th>\n",
       "      <td>0.50</td>\n",
       "      <td>Ideal</td>\n",
       "      <td>D</td>\n",
       "      <td>VS2</td>\n",
       "      <td>1635</td>\n",
       "      <td>5.10</td>\n",
       "      <td>5.13</td>\n",
       "      <td>3.19</td>\n",
       "      <td>62.365591</td>\n",
       "    </tr>\n",
       "    <tr>\n",
       "      <th>...</th>\n",
       "      <td>...</td>\n",
       "      <td>...</td>\n",
       "      <td>...</td>\n",
       "      <td>...</td>\n",
       "      <td>...</td>\n",
       "      <td>...</td>\n",
       "      <td>...</td>\n",
       "      <td>...</td>\n",
       "      <td>...</td>\n",
       "    </tr>\n",
       "    <tr>\n",
       "      <th>9995</th>\n",
       "      <td>0.32</td>\n",
       "      <td>Premium</td>\n",
       "      <td>G</td>\n",
       "      <td>VS2</td>\n",
       "      <td>561</td>\n",
       "      <td>4.33</td>\n",
       "      <td>4.38</td>\n",
       "      <td>2.70</td>\n",
       "      <td>61.997704</td>\n",
       "    </tr>\n",
       "    <tr>\n",
       "      <th>9996</th>\n",
       "      <td>0.41</td>\n",
       "      <td>Good</td>\n",
       "      <td>J</td>\n",
       "      <td>IF</td>\n",
       "      <td>1061</td>\n",
       "      <td>4.75</td>\n",
       "      <td>4.72</td>\n",
       "      <td>3.01</td>\n",
       "      <td>63.569166</td>\n",
       "    </tr>\n",
       "    <tr>\n",
       "      <th>9997</th>\n",
       "      <td>0.30</td>\n",
       "      <td>Ideal</td>\n",
       "      <td>G</td>\n",
       "      <td>VS2</td>\n",
       "      <td>545</td>\n",
       "      <td>4.35</td>\n",
       "      <td>4.38</td>\n",
       "      <td>2.67</td>\n",
       "      <td>61.168385</td>\n",
       "    </tr>\n",
       "    <tr>\n",
       "      <th>9998</th>\n",
       "      <td>1.25</td>\n",
       "      <td>Premium</td>\n",
       "      <td>J</td>\n",
       "      <td>SI2</td>\n",
       "      <td>4018</td>\n",
       "      <td>6.98</td>\n",
       "      <td>6.95</td>\n",
       "      <td>4.27</td>\n",
       "      <td>61.306533</td>\n",
       "    </tr>\n",
       "    <tr>\n",
       "      <th>9999</th>\n",
       "      <td>0.34</td>\n",
       "      <td>Ideal</td>\n",
       "      <td>E</td>\n",
       "      <td>VVS1</td>\n",
       "      <td>1014</td>\n",
       "      <td>4.47</td>\n",
       "      <td>4.51</td>\n",
       "      <td>2.78</td>\n",
       "      <td>61.915367</td>\n",
       "    </tr>\n",
       "  </tbody>\n",
       "</table>\n",
       "<p>10000 rows × 9 columns</p>\n",
       "</div>"
      ],
      "text/plain": [
       "      carat        cut color clarity  price     x     y     z  \\\n",
       "0      2.04  Very Good     J     SI2   9482  8.07  8.04  5.11   \n",
       "1      0.59  Very Good     H    VVS2   1771  5.39  5.48  3.32   \n",
       "2      0.34  Very Good     H     VS2    689  4.45  4.39  2.80   \n",
       "3      1.01       Good     H     SI2   3888  6.32  6.35  4.05   \n",
       "4      0.50      Ideal     D     VS2   1635  5.10  5.13  3.19   \n",
       "...     ...        ...   ...     ...    ...   ...   ...   ...   \n",
       "9995   0.32    Premium     G     VS2    561  4.33  4.38  2.70   \n",
       "9996   0.41       Good     J      IF   1061  4.75  4.72  3.01   \n",
       "9997   0.30      Ideal     G     VS2    545  4.35  4.38  2.67   \n",
       "9998   1.25    Premium     J     SI2   4018  6.98  6.95  4.27   \n",
       "9999   0.34      Ideal     E    VVS1   1014  4.47  4.51  2.78   \n",
       "\n",
       "      depth_percentage  \n",
       "0            63.438858  \n",
       "1            61.085557  \n",
       "2            63.348416  \n",
       "3            63.930545  \n",
       "4            62.365591  \n",
       "...                ...  \n",
       "9995         61.997704  \n",
       "9996         63.569166  \n",
       "9997         61.168385  \n",
       "9998         61.306533  \n",
       "9999         61.915367  \n",
       "\n",
       "[10000 rows x 9 columns]"
      ]
     },
     "execution_count": 157,
     "metadata": {},
     "output_type": "execute_result"
    }
   ],
   "source": [
    "depth_percentage = diamonds.get('z') / ((diamonds.get('x') + diamonds.get('y')) / 2) * 100\n",
    "diamonds = diamonds.assign(depth_percentage=depth_percentage)\n",
    "diamonds"
   ]
  },
  {
   "cell_type": "code",
   "execution_count": 158,
   "metadata": {
    "deletable": false,
    "editable": false
   },
   "outputs": [
    {
     "data": {
      "text/html": [
       "<p><strong><pre style='display: inline;'>q2_1</pre></strong> passed!</p>"
      ],
      "text/plain": [
       "q2_1 results: All test cases passed!"
      ]
     },
     "execution_count": 158,
     "metadata": {},
     "output_type": "execute_result"
    }
   ],
   "source": [
    "grader.check(\"q2_1\")"
   ]
  },
  {
   "cell_type": "markdown",
   "metadata": {},
   "source": [
    "Depth percentage is important to jewelers because it determines how light refracts through the stone, which in turn affects the visual appearance of the diamond. Diamonds that are too shallow have grey rings (called \"fish eyes\" 🐟 ), and diamonds that are too deep have dark spots in the middle (called \"nail heads\" 🔨). The ideal depth percentage for a diamond is between 54 and 66 percent, inclusive. These diamonds really sparkle! ✨"
   ]
  },
  {
   "cell_type": "markdown",
   "metadata": {},
   "source": [
    "<center><img src=images/depth_percentage.jpg width=500>\n",
    "(<a href=\"https://www.ori-diamonds.com/blog/diamond-depth\">source</a>)</center>"
   ]
  },
  {
   "cell_type": "markdown",
   "metadata": {},
   "source": [
    "**Question 2.2.** Jack is curious as to how common ideally proportioned diamonds actually are. Calculate the proportion of diamonds that have an ideal depth percentage (between 54 to 66 percent, inclusive) and set the result to the variable `ideal_prop`."
   ]
  },
  {
   "cell_type": "code",
   "execution_count": 159,
   "metadata": {
    "scrolled": true
   },
   "outputs": [
    {
     "data": {
      "text/plain": [
       "0.9928"
      ]
     },
     "execution_count": 159,
     "metadata": {},
     "output_type": "execute_result"
    }
   ],
   "source": [
    "ideal_prop = diamonds[(diamonds.get('depth_percentage') >= 54) & (diamonds.get('depth_percentage') <= 66)].shape[0] / diamonds.shape[0]\n",
    "ideal_prop\n"
   ]
  },
  {
   "cell_type": "code",
   "execution_count": 160,
   "metadata": {
    "deletable": false,
    "editable": false
   },
   "outputs": [
    {
     "data": {
      "text/html": [
       "<p><strong><pre style='display: inline;'>q2_2</pre></strong> passed!</p>"
      ],
      "text/plain": [
       "q2_2 results: All test cases passed!"
      ]
     },
     "execution_count": 160,
     "metadata": {},
     "output_type": "execute_result"
    }
   ],
   "source": [
    "grader.check(\"q2_2\")"
   ]
  },
  {
   "cell_type": "markdown",
   "metadata": {},
   "source": [
    "**Question 2.3.** Jack has been taught that the depth percentage has an impact on the visual impact of a diamond, which he suspects also affects the price. Create a scatter plot showing how the price of a diamond varies with its depth percentage."
   ]
  },
  {
   "cell_type": "markdown",
   "metadata": {
    "deletable": false,
    "editable": false
   },
   "source": [
    "<!-- BEGIN QUESTION -->\n",
    "\n",
    "<!--\n",
    "BEGIN QUESTION\n",
    "name: q2_3\n",
    "manual: True\n",
    "-->"
   ]
  },
  {
   "cell_type": "code",
   "execution_count": 161,
   "metadata": {},
   "outputs": [
    {
     "data": {
      "text/plain": [
       "<AxesSubplot:xlabel='depth_percentage', ylabel='price'>"
      ]
     },
     "execution_count": 161,
     "metadata": {},
     "output_type": "execute_result"
    },
    {
     "data": {
      "image/png": "[encoded data removed]",
      "text/plain": [
       "<Figure size 720x360 with 1 Axes>"
      ]
     },
     "metadata": {},
     "output_type": "display_data"
    }
   ],
   "source": [
    "# Create your scatter plot here.\n",
    "diamonds.plot(kind='scatter', x='depth_percentage', y='price')"
   ]
  },
  {
   "cell_type": "markdown",
   "metadata": {},
   "source": [
    "<!-- END QUESTION -->\n",
    "\n",
    "\n",
    "\n",
    "Hmm... perhaps there's a bit more to diamond pricing than just depth percentage! Jack explains that there are four common measures of the quality of a diamond, sometimes called the 4 C's: `'carat'`, `'cut'`, `'clarity'`, and `'color'`.\n",
    "\n",
    "1) The `'carat'` simply measures the weight of the diamond. \n",
    "\n",
    "2) The `'cut'` is related to the depth proportion, and is considered either Ideal, Premium, Very Good, Good, or Fair (in descending order of quality).\n",
    "\n",
    "3) The `'clarity'` describes whether the diamond has any flaws. In descending order of quality, the values of `'clarity'` in our dataset are `'IF'` (which stands for \"internally flawless\"), `'VVS1'`, `'VVS2'`, `'VS1'`, `'VS2'`, `'SI1'`, `'SI2'`, and `'I1'`.\n",
    "\n",
    "<br>\n",
    "\n",
    "<center><img src=images/clarity.jpg width=400>\n",
    "(<a href=\"https://www.petragems.com/education/diamond-clarity/\">source</a>)</center>\n",
    "\n",
    "4) The `'color'` of each diamond in our dataset is described by a letter between `'D'` and `'J'`, where `'D'` represents a diamond with no color, and `'J'` represents a diamond with some color to it. Diamonds with less color are considered higher quality.\n",
    "\n",
    "<center><img src=images/color.jpg width=200>\n",
    "(<a href=\"https://bashertjewelry.com/pages/diamonds-color-grading\">source</a>)</center>\n",
    "\n",
    "The `'carat'` column of `diamonds` contains numerical data, but the columns for the other 3 C's contain ordered categorical data. Since the data has an order to it, we can convert the values in those columns into numerical values, to make for easier comparisons. For example, if we assign all the values of `'J'` in the `'color'` column to 1, all the values of `'I'` in the `'color'` column to 2, etc., we'll more easily be able to search for diamonds where the color is better than an `'F'` (we could search for color values greater than 5).\n",
    "\n",
    "For each of `'cut'`, `'clarity'`, and `'color'`, let's translate the data from categorical values to numerical values. For all three of these quality measures, we'll use the number 1 to represent the lowest quality category, and we'll count up from there by one for each category. For example, the numbers for `'clarity'` will range from 1 (for `'I1'`-rated diamonds) to 8 (for internally flawless, or `'IF'`-rated diamonds).\n"
   ]
  },
  {
   "cell_type": "markdown",
   "metadata": {},
   "source": [
    "One way to do this conversion is to use a Python [dictionary](https://www.tutorialspoint.com/python/python_dictionary.htm).  A dictionary is a simple way to map a unique key to a value.  For example, the dictionary below maps course codes to course names."
   ]
  },
  {
   "cell_type": "code",
   "execution_count": 162,
   "metadata": {},
   "outputs": [],
   "source": [
    "dsc_courses = {\n",
    "    # key: value\n",
    "    'DSC 10': 'Principles of Data Science',\n",
    "    'DSC 20': 'Programming and Basic Data Structures for Data Science',\n",
    "    'DSC 30': 'Data Structures and Algorithms for Data Science',\n",
    "    'DSC 40A': 'Theoretical Foundations of Data Science I',\n",
    "    'DSC 40B': 'Theoretical Foundations of Data Science II',\n",
    "    'DSC 80': 'The Practice and Application of Data Science'\n",
    "}"
   ]
  },
  {
   "cell_type": "markdown",
   "metadata": {},
   "source": [
    "We can access the value corresponding to each key using bracket notation."
   ]
  },
  {
   "cell_type": "code",
   "execution_count": 163,
   "metadata": {},
   "outputs": [
    {
     "data": {
      "text/plain": [
       "'Data Structures and Algorithms for Data Science'"
      ]
     },
     "execution_count": 163,
     "metadata": {},
     "output_type": "execute_result"
    }
   ],
   "source": [
    "dsc30_name = dsc_courses['DSC 30']\n",
    "dsc30_name"
   ]
  },
  {
   "cell_type": "markdown",
   "metadata": {},
   "source": [
    "Here, `'DSC 30'` is the key and `'Data Structures and Algorithms for Data Science'` is the value.\n",
    "\n",
    "Use dictionaries to help in categorical to numerical value conversions. For example, below is a dictionary containing each category in `'clarity'` as keys and numbers 1-8 as values."
   ]
  },
  {
   "cell_type": "code",
   "execution_count": 164,
   "metadata": {},
   "outputs": [],
   "source": [
    "clarity_nums = {\n",
    "    'IF': 8,\n",
    "    'VVS1': 7,\n",
    "    'VVS2': 6,\n",
    "    'VS1': 5,\n",
    "    'VS2': 4,\n",
    "    'SI1': 3,\n",
    "    'SI2': 2,\n",
    "    'I1': 1\n",
    "}"
   ]
  },
  {
   "cell_type": "markdown",
   "metadata": {},
   "source": [
    "**Question 2.4.** Create three functions, called `cut_numerical`, `clarity_numerical` and `color_numerical`, where each function takes in a string value describing the categorical quality for the `'cut'`, `'clarity'`, or `'color'`, respectively, and outputs the corresponding numerical value, as described above.\n",
    "\n",
    "*Hint*: When implementing `clarity_numerical`, you can use the dictionary `clarity_nums` defined above; if you do so, your implementation of `clarity_numerical` should only take one line of code. When implementing the other two functions, you may want to define your own dictionaries. There is a way to implement these functions that doesn't involve dictionaries, but you'll find that the dictionary approach is much more concise."
   ]
  },
  {
   "cell_type": "code",
   "execution_count": 165,
   "metadata": {},
   "outputs": [],
   "source": [
    "def cut_numerical(cut):\n",
    "    cut_nums = {'Ideal': 5, 'Premium': 4, 'Very Good': 3, 'Good': 2, 'Fair': 1}\n",
    "    return cut_nums[cut]\n",
    "\n",
    "def clarity_numerical(clarity):\n",
    "    clarity_nums = {'IF': 8, 'VVS1': 7, 'VVS2': 6, 'VS1': 5, 'VS2': 4, 'SI1': 3, 'SI2': 2, 'I1': 1}\n",
    "    return clarity_nums[clarity]\n",
    "\n",
    "def color_numerical(color):\n",
    "    color_nums = {'D': 7, 'E': 6, 'F': 5, 'G': 4, 'H': 3, 'I': 2, 'J': 1}\n",
    "    return color_nums[color]\n"
   ]
  },
  {
   "cell_type": "code",
   "execution_count": 166,
   "metadata": {
    "deletable": false,
    "editable": false
   },
   "outputs": [
    {
     "data": {
      "text/html": [
       "<p><strong><pre style='display: inline;'>q2_4</pre></strong> passed!</p>"
      ],
      "text/plain": [
       "q2_4 results: All test cases passed!"
      ]
     },
     "execution_count": 166,
     "metadata": {},
     "output_type": "execute_result"
    }
   ],
   "source": [
    "grader.check(\"q2_4\")"
   ]
  },
  {
   "cell_type": "markdown",
   "metadata": {},
   "source": [
    "**Question 2.5.** Now, replace the categorical values in the `'cut'`, `'clarity'`, and `'color'` columns of `diamonds` with their numerical equivalents.\n",
    "\n",
    "_Hint_: You can use the `.assign` method to replace values in a column, without having to create additional columns."
   ]
  },
  {
   "cell_type": "code",
   "execution_count": 167,
   "metadata": {},
   "outputs": [
    {
     "data": {
      "text/html": [
       "<div>\n",
       "<style scoped>\n",
       "    .dataframe tbody tr th:only-of-type {\n",
       "        vertical-align: middle;\n",
       "    }\n",
       "\n",
       "    .dataframe tbody tr th {\n",
       "        vertical-align: top;\n",
       "    }\n",
       "\n",
       "    .dataframe thead th {\n",
       "        text-align: right;\n",
       "    }\n",
       "</style>\n",
       "<table border=\"1\" class=\"dataframe\">\n",
       "  <thead>\n",
       "    <tr style=\"text-align: right;\">\n",
       "      <th></th>\n",
       "      <th>carat</th>\n",
       "      <th>cut</th>\n",
       "      <th>color</th>\n",
       "      <th>clarity</th>\n",
       "      <th>price</th>\n",
       "      <th>x</th>\n",
       "      <th>y</th>\n",
       "      <th>z</th>\n",
       "      <th>depth_percentage</th>\n",
       "    </tr>\n",
       "  </thead>\n",
       "  <tbody>\n",
       "    <tr>\n",
       "      <th>0</th>\n",
       "      <td>2.04</td>\n",
       "      <td>3</td>\n",
       "      <td>1</td>\n",
       "      <td>2</td>\n",
       "      <td>9482</td>\n",
       "      <td>8.07</td>\n",
       "      <td>8.04</td>\n",
       "      <td>5.11</td>\n",
       "      <td>63.438858</td>\n",
       "    </tr>\n",
       "    <tr>\n",
       "      <th>1</th>\n",
       "      <td>0.59</td>\n",
       "      <td>3</td>\n",
       "      <td>3</td>\n",
       "      <td>6</td>\n",
       "      <td>1771</td>\n",
       "      <td>5.39</td>\n",
       "      <td>5.48</td>\n",
       "      <td>3.32</td>\n",
       "      <td>61.085557</td>\n",
       "    </tr>\n",
       "    <tr>\n",
       "      <th>2</th>\n",
       "      <td>0.34</td>\n",
       "      <td>3</td>\n",
       "      <td>3</td>\n",
       "      <td>4</td>\n",
       "      <td>689</td>\n",
       "      <td>4.45</td>\n",
       "      <td>4.39</td>\n",
       "      <td>2.80</td>\n",
       "      <td>63.348416</td>\n",
       "    </tr>\n",
       "    <tr>\n",
       "      <th>3</th>\n",
       "      <td>1.01</td>\n",
       "      <td>2</td>\n",
       "      <td>3</td>\n",
       "      <td>2</td>\n",
       "      <td>3888</td>\n",
       "      <td>6.32</td>\n",
       "      <td>6.35</td>\n",
       "      <td>4.05</td>\n",
       "      <td>63.930545</td>\n",
       "    </tr>\n",
       "    <tr>\n",
       "      <th>4</th>\n",
       "      <td>0.50</td>\n",
       "      <td>5</td>\n",
       "      <td>7</td>\n",
       "      <td>4</td>\n",
       "      <td>1635</td>\n",
       "      <td>5.10</td>\n",
       "      <td>5.13</td>\n",
       "      <td>3.19</td>\n",
       "      <td>62.365591</td>\n",
       "    </tr>\n",
       "    <tr>\n",
       "      <th>...</th>\n",
       "      <td>...</td>\n",
       "      <td>...</td>\n",
       "      <td>...</td>\n",
       "      <td>...</td>\n",
       "      <td>...</td>\n",
       "      <td>...</td>\n",
       "      <td>...</td>\n",
       "      <td>...</td>\n",
       "      <td>...</td>\n",
       "    </tr>\n",
       "    <tr>\n",
       "      <th>9995</th>\n",
       "      <td>0.32</td>\n",
       "      <td>4</td>\n",
       "      <td>4</td>\n",
       "      <td>4</td>\n",
       "      <td>561</td>\n",
       "      <td>4.33</td>\n",
       "      <td>4.38</td>\n",
       "      <td>2.70</td>\n",
       "      <td>61.997704</td>\n",
       "    </tr>\n",
       "    <tr>\n",
       "      <th>9996</th>\n",
       "      <td>0.41</td>\n",
       "      <td>2</td>\n",
       "      <td>1</td>\n",
       "      <td>8</td>\n",
       "      <td>1061</td>\n",
       "      <td>4.75</td>\n",
       "      <td>4.72</td>\n",
       "      <td>3.01</td>\n",
       "      <td>63.569166</td>\n",
       "    </tr>\n",
       "    <tr>\n",
       "      <th>9997</th>\n",
       "      <td>0.30</td>\n",
       "      <td>5</td>\n",
       "      <td>4</td>\n",
       "      <td>4</td>\n",
       "      <td>545</td>\n",
       "      <td>4.35</td>\n",
       "      <td>4.38</td>\n",
       "      <td>2.67</td>\n",
       "      <td>61.168385</td>\n",
       "    </tr>\n",
       "    <tr>\n",
       "      <th>9998</th>\n",
       "      <td>1.25</td>\n",
       "      <td>4</td>\n",
       "      <td>1</td>\n",
       "      <td>2</td>\n",
       "      <td>4018</td>\n",
       "      <td>6.98</td>\n",
       "      <td>6.95</td>\n",
       "      <td>4.27</td>\n",
       "      <td>61.306533</td>\n",
       "    </tr>\n",
       "    <tr>\n",
       "      <th>9999</th>\n",
       "      <td>0.34</td>\n",
       "      <td>5</td>\n",
       "      <td>6</td>\n",
       "      <td>7</td>\n",
       "      <td>1014</td>\n",
       "      <td>4.47</td>\n",
       "      <td>4.51</td>\n",
       "      <td>2.78</td>\n",
       "      <td>61.915367</td>\n",
       "    </tr>\n",
       "  </tbody>\n",
       "</table>\n",
       "<p>10000 rows × 9 columns</p>\n",
       "</div>"
      ],
      "text/plain": [
       "      carat  cut  color  clarity  price     x     y     z  depth_percentage\n",
       "0      2.04    3      1        2   9482  8.07  8.04  5.11         63.438858\n",
       "1      0.59    3      3        6   1771  5.39  5.48  3.32         61.085557\n",
       "2      0.34    3      3        4    689  4.45  4.39  2.80         63.348416\n",
       "3      1.01    2      3        2   3888  6.32  6.35  4.05         63.930545\n",
       "4      0.50    5      7        4   1635  5.10  5.13  3.19         62.365591\n",
       "...     ...  ...    ...      ...    ...   ...   ...   ...               ...\n",
       "9995   0.32    4      4        4    561  4.33  4.38  2.70         61.997704\n",
       "9996   0.41    2      1        8   1061  4.75  4.72  3.01         63.569166\n",
       "9997   0.30    5      4        4    545  4.35  4.38  2.67         61.168385\n",
       "9998   1.25    4      1        2   4018  6.98  6.95  4.27         61.306533\n",
       "9999   0.34    5      6        7   1014  4.47  4.51  2.78         61.915367\n",
       "\n",
       "[10000 rows x 9 columns]"
      ]
     },
     "execution_count": 167,
     "metadata": {},
     "output_type": "execute_result"
    }
   ],
   "source": [
    "diamonds = diamonds.assign(cut=diamonds.get('cut').apply(cut_numerical),\n",
    "                           clarity=diamonds.get('clarity').apply(clarity_numerical),\n",
    "                           color=diamonds.get('color').apply(color_numerical))\n",
    "\n",
    "diamonds"
   ]
  },
  {
   "cell_type": "code",
   "execution_count": 168,
   "metadata": {
    "deletable": false,
    "editable": false
   },
   "outputs": [
    {
     "data": {
      "text/html": [
       "<p><strong><pre style='display: inline;'>q2_5</pre></strong> passed!</p>"
      ],
      "text/plain": [
       "q2_5 results: All test cases passed!"
      ]
     },
     "execution_count": 168,
     "metadata": {},
     "output_type": "execute_result"
    }
   ],
   "source": [
    "grader.check(\"q2_5\")"
   ]
  },
  {
   "cell_type": "markdown",
   "metadata": {},
   "source": [
    "**Question 2.6.** One of Jack's customers comes into Jack's store asking for a diamond whose `'cut'` is `'Premium'` or better, and whose `'color'` is `'F'` or better. The customer only has $500 to spend on a diamond. Assign `customer_choices` to a DataFrame of all the diamonds in `diamonds` that fit the customer's criteria and budget."
   ]
  },
  {
   "cell_type": "code",
   "execution_count": 169,
   "metadata": {},
   "outputs": [
    {
     "data": {
      "text/html": [
       "<div>\n",
       "<style scoped>\n",
       "    .dataframe tbody tr th:only-of-type {\n",
       "        vertical-align: middle;\n",
       "    }\n",
       "\n",
       "    .dataframe tbody tr th {\n",
       "        vertical-align: top;\n",
       "    }\n",
       "\n",
       "    .dataframe thead th {\n",
       "        text-align: right;\n",
       "    }\n",
       "</style>\n",
       "<table border=\"1\" class=\"dataframe\">\n",
       "  <thead>\n",
       "    <tr style=\"text-align: right;\">\n",
       "      <th></th>\n",
       "      <th>carat</th>\n",
       "      <th>cut</th>\n",
       "      <th>color</th>\n",
       "      <th>clarity</th>\n",
       "      <th>price</th>\n",
       "      <th>x</th>\n",
       "      <th>y</th>\n",
       "      <th>z</th>\n",
       "      <th>depth_percentage</th>\n",
       "    </tr>\n",
       "  </thead>\n",
       "  <tbody>\n",
       "  </tbody>\n",
       "</table>\n",
       "</div>"
      ],
      "text/plain": [
       "Empty DataFrame\n",
       "Columns: [carat, cut, color, clarity, price, x, y, z, depth_percentage]\n",
       "Index: []"
      ]
     },
     "execution_count": 169,
     "metadata": {},
     "output_type": "execute_result"
    }
   ],
   "source": [
    "customer_choices = diamonds[((diamonds.get('cut') == 'Premium') | (diamonds.get('cut') == 'Ideal')) & \n",
    "                            ((diamonds.get('color') == 'F') | (diamonds.get('color') == 'E') | (diamonds.get('color') == 'D')) & \n",
    "                            (diamonds.get('price') <= 500)]\n",
    "\n",
    "# display the resulting DataFrame\n",
    "customer_choices"
   ]
  },
  {
   "cell_type": "code",
   "execution_count": 170,
   "metadata": {
    "deletable": false,
    "editable": false
   },
   "outputs": [
    {
     "data": {
      "text/html": [
       "<p><strong><pre style='display: inline;'>q2_6</pre></strong> passed!</p>"
      ],
      "text/plain": [
       "q2_6 results: All test cases passed!"
      ]
     },
     "execution_count": 170,
     "metadata": {},
     "output_type": "execute_result"
    }
   ],
   "source": [
    "grader.check(\"q2_6\")"
   ]
  },
  {
   "cell_type": "markdown",
   "metadata": {},
   "source": [
    "**Question 2.7.** Jack wants you to find out which of the 4 C's is most closely connected to the price of a diamond. Assign an integer from 1 to 4 representing your answer to Jack's question to the variable `best_price_indicator`.\n",
    "\n",
    "1. `'carat'`\n",
    "2. `'cut'`\n",
    "3. `'clarity'`\n",
    "4. `'color'`\n",
    "\n",
    "*Hint*: Use scatter plots to see the relationship of each variable with `'price'`."
   ]
  },
  {
   "cell_type": "code",
   "execution_count": 233,
   "metadata": {},
   "outputs": [
    {
     "data": {
      "image/png": "[encoded data removed]",
      "text/plain": [
       "<Figure size 432x432 with 1 Axes>"
      ]
     },
     "metadata": {},
     "output_type": "display_data"
    },
    {
     "data": {
      "image/png": "[encoded data removed]",
      "text/plain": [
       "<Figure size 432x432 with 1 Axes>"
      ]
     },
     "metadata": {},
     "output_type": "display_data"
    },
    {
     "data": {
      "image/png": "[encoded data removed]",
      "text/plain": [
       "<Figure size 432x432 with 1 Axes>"
      ]
     },
     "metadata": {},
     "output_type": "display_data"
    },
    {
     "data": {
      "image/png": "[encoded data removed]",
      "text/plain": [
       "<Figure size 432x432 with 1 Axes>"
      ]
     },
     "metadata": {},
     "output_type": "display_data"
    }
   ],
   "source": [
    "import matplotlib.pyplot as plt\n",
    "\n",
    "plt.figure(figsize=(6, 6))\n",
    "plt.scatter(diamonds.get('carat'), diamonds.get('price'))\n",
    "plt.title('Carat vs Price')\n",
    "plt.xlabel('Carat')\n",
    "plt.ylabel('Price')\n",
    "plt.show()\n",
    "\n",
    "plt.figure(figsize=(6, 6))\n",
    "plt.scatter(diamonds.get('cut'), diamonds.get('price'))\n",
    "plt.title('Cut vs Price')\n",
    "plt.xlabel('Cut')\n",
    "plt.ylabel('Price')\n",
    "plt.show()\n",
    "\n",
    "plt.figure(figsize=(6, 6))\n",
    "plt.scatter(diamonds.get('clarity'), diamonds.get('price'))\n",
    "plt.title('Clarity vs Price')\n",
    "plt.xlabel('Clarity')\n",
    "plt.ylabel('Price')\n",
    "plt.show()\n",
    "\n",
    "plt.figure(figsize=(6, 6))\n",
    "plt.scatter(diamonds.get('color'), diamonds.get('price'))\n",
    "plt.title('Color vs Price')\n",
    "plt.xlabel('Color')\n",
    "plt.ylabel('Price')\n",
    "plt.show()\n",
    "\n",
    "# Based on the scatter plots, we can see that 'carat' is most closely connected to the price of a diamond\n",
    "best_price_indicator = 1\n"
   ]
  },
  {
   "cell_type": "code",
   "execution_count": 234,
   "metadata": {
    "deletable": false,
    "editable": false
   },
   "outputs": [
    {
     "data": {
      "text/html": [
       "<p><strong><pre style='display: inline;'>q2_7</pre></strong> passed!</p>"
      ],
      "text/plain": [
       "q2_7 results: All test cases passed!"
      ]
     },
     "execution_count": 234,
     "metadata": {},
     "output_type": "execute_result"
    }
   ],
   "source": [
    "grader.check(\"q2_7\")"
   ]
  },
  {
   "cell_type": "markdown",
   "metadata": {},
   "source": [
    "**Question 2.8.** Jack asks you to show him the median price of a diamond as the length of the diamond (in mm) increases. Since Jack is more of a visuals type of person, he wants you to show him this trend in a graph. Create a plot that shows the trend of the median price of a diamond as the length of the diamond increases."
   ]
  },
  {
   "cell_type": "markdown",
   "metadata": {
    "deletable": false,
    "editable": false
   },
   "source": [
    "<!-- BEGIN QUESTION -->\n",
    "\n",
    "<!--\n",
    "BEGIN QUESTION\n",
    "name: q2_8\n",
    "manual: True\n",
    "-->"
   ]
  },
  {
   "cell_type": "code",
   "execution_count": 235,
   "metadata": {},
   "outputs": [
    {
     "ename": "AttributeError",
     "evalue": "'Series' object has no attribute 'round'",
     "output_type": "error",
     "traceback": [
      "\u001b[0;31m---------------------------------------------------------------------------\u001b[0m",
      "\u001b[0;31mAttributeError\u001b[0m                            Traceback (most recent call last)",
      "\u001b[0;32m/tmp/ipykernel_190/845356386.py\u001b[0m in \u001b[0;36m<module>\u001b[0;34m\u001b[0m\n\u001b[0;32m----> 1\u001b[0;31m \u001b[0mdiamonds\u001b[0m\u001b[0;34m[\u001b[0m\u001b[0;34m'x_rounded'\u001b[0m\u001b[0;34m]\u001b[0m \u001b[0;34m=\u001b[0m \u001b[0mdiamonds\u001b[0m\u001b[0;34m.\u001b[0m\u001b[0mget\u001b[0m\u001b[0;34m(\u001b[0m\u001b[0;34m'x'\u001b[0m\u001b[0;34m)\u001b[0m\u001b[0;34m.\u001b[0m\u001b[0mround\u001b[0m\u001b[0;34m(\u001b[0m\u001b[0;34m)\u001b[0m\u001b[0;34m\u001b[0m\u001b[0;34m\u001b[0m\u001b[0m\n\u001b[0m\u001b[1;32m      2\u001b[0m \u001b[0mmedian_prices_by_length\u001b[0m \u001b[0;34m=\u001b[0m \u001b[0mdiamonds\u001b[0m\u001b[0;34m.\u001b[0m\u001b[0mgroupby\u001b[0m\u001b[0;34m(\u001b[0m\u001b[0;34m'x_rounded'\u001b[0m\u001b[0;34m)\u001b[0m\u001b[0;34m.\u001b[0m\u001b[0mmedian\u001b[0m\u001b[0;34m(\u001b[0m\u001b[0;34m)\u001b[0m\u001b[0;34m.\u001b[0m\u001b[0mget\u001b[0m\u001b[0;34m(\u001b[0m\u001b[0;34m[\u001b[0m\u001b[0;34m'price'\u001b[0m\u001b[0;34m]\u001b[0m\u001b[0;34m)\u001b[0m\u001b[0;34m\u001b[0m\u001b[0;34m\u001b[0m\u001b[0m\n\u001b[1;32m      3\u001b[0m \u001b[0;34m\u001b[0m\u001b[0m\n\u001b[1;32m      4\u001b[0m \u001b[0mplt\u001b[0m\u001b[0;34m.\u001b[0m\u001b[0mfigure\u001b[0m\u001b[0;34m(\u001b[0m\u001b[0mfigsize\u001b[0m\u001b[0;34m=\u001b[0m\u001b[0;34m(\u001b[0m\u001b[0;36m8\u001b[0m\u001b[0;34m,\u001b[0m \u001b[0;36m6\u001b[0m\u001b[0;34m)\u001b[0m\u001b[0;34m)\u001b[0m\u001b[0;34m\u001b[0m\u001b[0;34m\u001b[0m\u001b[0m\n\u001b[1;32m      5\u001b[0m \u001b[0mplt\u001b[0m\u001b[0;34m.\u001b[0m\u001b[0mplot\u001b[0m\u001b[0;34m(\u001b[0m\u001b[0mmedian_prices_by_length\u001b[0m\u001b[0;34m.\u001b[0m\u001b[0mindex\u001b[0m\u001b[0;34m,\u001b[0m \u001b[0mmedian_prices_by_length\u001b[0m\u001b[0;34m[\u001b[0m\u001b[0;34m'price'\u001b[0m\u001b[0;34m]\u001b[0m\u001b[0;34m)\u001b[0m\u001b[0;34m\u001b[0m\u001b[0;34m\u001b[0m\u001b[0m\n",
      "\u001b[0;31mAttributeError\u001b[0m: 'Series' object has no attribute 'round'"
     ]
    }
   ],
   "source": [
    "diamonds['x_rounded'] = diamonds.get('x').round()\n",
    "median_prices_by_length = diamonds.groupby('x_rounded').median().get(['price'])\n",
    "\n",
    "plt.figure(figsize=(8, 6))\n",
    "plt.plot(median_prices_by_length.index, median_prices_by_length['price'])\n",
    "plt.xlabel('Length (mm)')\n",
    "plt.ylabel('Median Price')\n",
    "plt.title('Median Price of a Diamond as the Length Increases')\n",
    "plt.show()\n"
   ]
  },
  {
   "cell_type": "markdown",
   "metadata": {},
   "source": [
    "<!-- END QUESTION -->\n",
    "\n",
    "\n",
    "\n",
    "## 3. Game On! 🎮"
   ]
  },
  {
   "cell_type": "markdown",
   "metadata": {},
   "source": [
    "Here, we'll be working with a dataset taken from [Kaggle](https://www.kaggle.com/datasets/rush4ratio/video-game-sales-with-ratings) that contains sales information for thousands of video games, including some released this year. In the cell below, we load the dataset in as a DataFrame named `video_games`. Take some time to understand what each column of `video_games` represents, as we haven't provided you with a description of each column."
   ]
  },
  {
   "cell_type": "code",
   "execution_count": 83,
   "metadata": {},
   "outputs": [
    {
     "data": {
      "text/html": [
       "<div>\n",
       "<style scoped>\n",
       "    .dataframe tbody tr th:only-of-type {\n",
       "        vertical-align: middle;\n",
       "    }\n",
       "\n",
       "    .dataframe tbody tr th {\n",
       "        vertical-align: top;\n",
       "    }\n",
       "\n",
       "    .dataframe thead th {\n",
       "        text-align: right;\n",
       "    }\n",
       "</style>\n",
       "<table border=\"1\" class=\"dataframe\">\n",
       "  <thead>\n",
       "    <tr style=\"text-align: right;\">\n",
       "      <th></th>\n",
       "      <th>title</th>\n",
       "      <th>year</th>\n",
       "      <th>genre</th>\n",
       "      <th>rating</th>\n",
       "      <th>votes</th>\n",
       "      <th>directors</th>\n",
       "      <th>plot</th>\n",
       "    </tr>\n",
       "  </thead>\n",
       "  <tbody>\n",
       "    <tr>\n",
       "      <th>0</th>\n",
       "      <td>The Last of Us: Part I</td>\n",
       "      <td>2022</td>\n",
       "      <td>Action, Adventure, Drama</td>\n",
       "      <td>9.8</td>\n",
       "      <td>601</td>\n",
       "      <td>Matthew Gallant, Bruce Straley</td>\n",
       "      <td>Experience the emotional storytelling and unfo...</td>\n",
       "    </tr>\n",
       "    <tr>\n",
       "      <th>1</th>\n",
       "      <td>Red Dead Redemption II</td>\n",
       "      <td>2018</td>\n",
       "      <td>Action, Adventure, Crime</td>\n",
       "      <td>9.7</td>\n",
       "      <td>36,441</td>\n",
       "      <td>Missing</td>\n",
       "      <td>Amidst the decline of the Wild West at the tur...</td>\n",
       "    </tr>\n",
       "    <tr>\n",
       "      <th>2</th>\n",
       "      <td>The Witcher 3: Wild Hunt - Blood and Wine</td>\n",
       "      <td>2016</td>\n",
       "      <td>Action, Adventure, Drama</td>\n",
       "      <td>9.7</td>\n",
       "      <td>7,610</td>\n",
       "      <td>Konrad Tomaszkiewicz</td>\n",
       "      <td>Geralt is in the southern province of Toussain...</td>\n",
       "    </tr>\n",
       "    <tr>\n",
       "      <th>3</th>\n",
       "      <td>The Witcher 3: Wild Hunt</td>\n",
       "      <td>2015</td>\n",
       "      <td>Action, Adventure, Drama</td>\n",
       "      <td>9.7</td>\n",
       "      <td>26,328</td>\n",
       "      <td>Konrad Tomaszkiewicz</td>\n",
       "      <td>A monster hunter for hire embarks on an epic j...</td>\n",
       "    </tr>\n",
       "    <tr>\n",
       "      <th>4</th>\n",
       "      <td>The Last of Us</td>\n",
       "      <td>2013</td>\n",
       "      <td>Action, Adventure, Drama</td>\n",
       "      <td>9.7</td>\n",
       "      <td>61,103</td>\n",
       "      <td>Neil Druckmann, Bruce Straley</td>\n",
       "      <td>In a hostile, post-pandemic world, Joel and El...</td>\n",
       "    </tr>\n",
       "    <tr>\n",
       "      <th>...</th>\n",
       "      <td>...</td>\n",
       "      <td>...</td>\n",
       "      <td>...</td>\n",
       "      <td>...</td>\n",
       "      <td>...</td>\n",
       "      <td>...</td>\n",
       "      <td>...</td>\n",
       "    </tr>\n",
       "    <tr>\n",
       "      <th>12630</th>\n",
       "      <td>Superman</td>\n",
       "      <td>1999</td>\n",
       "      <td>Action, Adventure, Family</td>\n",
       "      <td>1.4</td>\n",
       "      <td>646</td>\n",
       "      <td>Missing</td>\n",
       "      <td>The first 3D Superman game. Your friends Lois ...</td>\n",
       "    </tr>\n",
       "    <tr>\n",
       "      <th>12631</th>\n",
       "      <td>Action 52</td>\n",
       "      <td>1991</td>\n",
       "      <td>Action, Family, Fantasy</td>\n",
       "      <td>1.3</td>\n",
       "      <td>135</td>\n",
       "      <td>Raul Gomila, Vince Perri</td>\n",
       "      <td>Play the action at your fingertips with 52 gam...</td>\n",
       "    </tr>\n",
       "    <tr>\n",
       "      <th>12632</th>\n",
       "      <td>Plumbers Don't Wear Ties</td>\n",
       "      <td>1994</td>\n",
       "      <td>Comedy, Romance</td>\n",
       "      <td>1.3</td>\n",
       "      <td>338</td>\n",
       "      <td>Michael Anderson</td>\n",
       "      <td>John, an unattached plumber, meets and falls i...</td>\n",
       "    </tr>\n",
       "    <tr>\n",
       "      <th>12633</th>\n",
       "      <td>Animal Soccer World</td>\n",
       "      <td>2005</td>\n",
       "      <td>Animation, Sport</td>\n",
       "      <td>1.2</td>\n",
       "      <td>125</td>\n",
       "      <td>Roswitha Haas</td>\n",
       "      <td>Everybody is busy with the preparations for th...</td>\n",
       "    </tr>\n",
       "    <tr>\n",
       "      <th>12634</th>\n",
       "      <td>CrazyBus</td>\n",
       "      <td>2004</td>\n",
       "      <td>Adventure, Family</td>\n",
       "      <td>1.0</td>\n",
       "      <td>126</td>\n",
       "      <td>Tom Maneiro</td>\n",
       "      <td>You get to select your bus and drive it across...</td>\n",
       "    </tr>\n",
       "  </tbody>\n",
       "</table>\n",
       "<p>12635 rows × 7 columns</p>\n",
       "</div>"
      ],
      "text/plain": [
       "                                           title  year  \\\n",
       "0                         The Last of Us: Part I  2022   \n",
       "1                         Red Dead Redemption II  2018   \n",
       "2      The Witcher 3: Wild Hunt - Blood and Wine  2016   \n",
       "3                       The Witcher 3: Wild Hunt  2015   \n",
       "4                                 The Last of Us  2013   \n",
       "...                                          ...   ...   \n",
       "12630                                   Superman  1999   \n",
       "12631                                  Action 52  1991   \n",
       "12632                   Plumbers Don't Wear Ties  1994   \n",
       "12633                        Animal Soccer World  2005   \n",
       "12634                                   CrazyBus  2004   \n",
       "\n",
       "                           genre  rating   votes  \\\n",
       "0       Action, Adventure, Drama     9.8     601   \n",
       "1       Action, Adventure, Crime     9.7  36,441   \n",
       "2       Action, Adventure, Drama     9.7   7,610   \n",
       "3       Action, Adventure, Drama     9.7  26,328   \n",
       "4       Action, Adventure, Drama     9.7  61,103   \n",
       "...                          ...     ...     ...   \n",
       "12630  Action, Adventure, Family     1.4     646   \n",
       "12631    Action, Family, Fantasy     1.3     135   \n",
       "12632            Comedy, Romance     1.3     338   \n",
       "12633           Animation, Sport     1.2     125   \n",
       "12634          Adventure, Family     1.0     126   \n",
       "\n",
       "                            directors  \\\n",
       "0      Matthew Gallant, Bruce Straley   \n",
       "1                             Missing   \n",
       "2                Konrad Tomaszkiewicz   \n",
       "3                Konrad Tomaszkiewicz   \n",
       "4       Neil Druckmann, Bruce Straley   \n",
       "...                               ...   \n",
       "12630                         Missing   \n",
       "12631        Raul Gomila, Vince Perri   \n",
       "12632                Michael Anderson   \n",
       "12633                   Roswitha Haas   \n",
       "12634                     Tom Maneiro   \n",
       "\n",
       "                                                    plot  \n",
       "0      Experience the emotional storytelling and unfo...  \n",
       "1      Amidst the decline of the Wild West at the tur...  \n",
       "2      Geralt is in the southern province of Toussain...  \n",
       "3      A monster hunter for hire embarks on an epic j...  \n",
       "4      In a hostile, post-pandemic world, Joel and El...  \n",
       "...                                                  ...  \n",
       "12630  The first 3D Superman game. Your friends Lois ...  \n",
       "12631  Play the action at your fingertips with 52 gam...  \n",
       "12632  John, an unattached plumber, meets and falls i...  \n",
       "12633  Everybody is busy with the preparations for th...  \n",
       "12634  You get to select your bus and drive it across...  \n",
       "\n",
       "[12635 rows x 7 columns]"
      ]
     },
     "execution_count": 83,
     "metadata": {},
     "output_type": "execute_result"
    }
   ],
   "source": [
    "# Run this cell to load the dataset.\n",
    "video_games = bpd.read_csv('data/video_game_ratings.csv')\n",
    "video_games"
   ]
  },
  {
   "cell_type": "markdown",
   "metadata": {},
   "source": [
    "**Question 3.1.** If you look at the `'votes'` column in the DataFrame, you'll notice that there are commas in some of the numbers. For example, in the second row of the DataFrame, the value in the `'votes'` column is `'36,441'`. These commas indicate that the `'votes'` column contains strings, not integers, since Python never displays integers with commas.\n",
    "\n",
    "Write a function `convert_votes_to_int` that takes in a string `v` as input and outputs `v` as an integer, after removing any commas. \n",
    "\n",
    "Then, use your function to update the `'votes'` column in the `video_games` DataFrame so that it contains integers rather than strings. Make sure to \"save\" your changes in the `video_games` DataFrame!"
   ]
  },
  {
   "cell_type": "code",
   "execution_count": 72,
   "metadata": {},
   "outputs": [],
   "source": [
    "def convert_votes_to_int(v):\n",
    "    return int(v.replace(',', ''))"
   ]
  },
  {
   "cell_type": "code",
   "execution_count": 88,
   "metadata": {},
   "outputs": [
    {
     "data": {
      "text/html": [
       "<div>\n",
       "<style scoped>\n",
       "    .dataframe tbody tr th:only-of-type {\n",
       "        vertical-align: middle;\n",
       "    }\n",
       "\n",
       "    .dataframe tbody tr th {\n",
       "        vertical-align: top;\n",
       "    }\n",
       "\n",
       "    .dataframe thead th {\n",
       "        text-align: right;\n",
       "    }\n",
       "</style>\n",
       "<table border=\"1\" class=\"dataframe\">\n",
       "  <thead>\n",
       "    <tr style=\"text-align: right;\">\n",
       "      <th></th>\n",
       "      <th>title</th>\n",
       "      <th>year</th>\n",
       "      <th>genre</th>\n",
       "      <th>rating</th>\n",
       "      <th>votes</th>\n",
       "      <th>directors</th>\n",
       "      <th>plot</th>\n",
       "    </tr>\n",
       "  </thead>\n",
       "  <tbody>\n",
       "    <tr>\n",
       "      <th>0</th>\n",
       "      <td>The Last of Us: Part I</td>\n",
       "      <td>2022</td>\n",
       "      <td>Action, Adventure, Drama</td>\n",
       "      <td>9.8</td>\n",
       "      <td>601</td>\n",
       "      <td>Matthew Gallant, Bruce Straley</td>\n",
       "      <td>Experience the emotional storytelling and unfo...</td>\n",
       "    </tr>\n",
       "    <tr>\n",
       "      <th>1</th>\n",
       "      <td>Red Dead Redemption II</td>\n",
       "      <td>2018</td>\n",
       "      <td>Action, Adventure, Crime</td>\n",
       "      <td>9.7</td>\n",
       "      <td>36441</td>\n",
       "      <td>Missing</td>\n",
       "      <td>Amidst the decline of the Wild West at the tur...</td>\n",
       "    </tr>\n",
       "    <tr>\n",
       "      <th>2</th>\n",
       "      <td>The Witcher 3: Wild Hunt - Blood and Wine</td>\n",
       "      <td>2016</td>\n",
       "      <td>Action, Adventure, Drama</td>\n",
       "      <td>9.7</td>\n",
       "      <td>7610</td>\n",
       "      <td>Konrad Tomaszkiewicz</td>\n",
       "      <td>Geralt is in the southern province of Toussain...</td>\n",
       "    </tr>\n",
       "    <tr>\n",
       "      <th>3</th>\n",
       "      <td>The Witcher 3: Wild Hunt</td>\n",
       "      <td>2015</td>\n",
       "      <td>Action, Adventure, Drama</td>\n",
       "      <td>9.7</td>\n",
       "      <td>26328</td>\n",
       "      <td>Konrad Tomaszkiewicz</td>\n",
       "      <td>A monster hunter for hire embarks on an epic j...</td>\n",
       "    </tr>\n",
       "    <tr>\n",
       "      <th>4</th>\n",
       "      <td>The Last of Us</td>\n",
       "      <td>2013</td>\n",
       "      <td>Action, Adventure, Drama</td>\n",
       "      <td>9.7</td>\n",
       "      <td>61103</td>\n",
       "      <td>Neil Druckmann, Bruce Straley</td>\n",
       "      <td>In a hostile, post-pandemic world, Joel and El...</td>\n",
       "    </tr>\n",
       "    <tr>\n",
       "      <th>...</th>\n",
       "      <td>...</td>\n",
       "      <td>...</td>\n",
       "      <td>...</td>\n",
       "      <td>...</td>\n",
       "      <td>...</td>\n",
       "      <td>...</td>\n",
       "      <td>...</td>\n",
       "    </tr>\n",
       "    <tr>\n",
       "      <th>12630</th>\n",
       "      <td>Superman</td>\n",
       "      <td>1999</td>\n",
       "      <td>Action, Adventure, Family</td>\n",
       "      <td>1.4</td>\n",
       "      <td>646</td>\n",
       "      <td>Missing</td>\n",
       "      <td>The first 3D Superman game. Your friends Lois ...</td>\n",
       "    </tr>\n",
       "    <tr>\n",
       "      <th>12631</th>\n",
       "      <td>Action 52</td>\n",
       "      <td>1991</td>\n",
       "      <td>Action, Family, Fantasy</td>\n",
       "      <td>1.3</td>\n",
       "      <td>135</td>\n",
       "      <td>Raul Gomila, Vince Perri</td>\n",
       "      <td>Play the action at your fingertips with 52 gam...</td>\n",
       "    </tr>\n",
       "    <tr>\n",
       "      <th>12632</th>\n",
       "      <td>Plumbers Don't Wear Ties</td>\n",
       "      <td>1994</td>\n",
       "      <td>Comedy, Romance</td>\n",
       "      <td>1.3</td>\n",
       "      <td>338</td>\n",
       "      <td>Michael Anderson</td>\n",
       "      <td>John, an unattached plumber, meets and falls i...</td>\n",
       "    </tr>\n",
       "    <tr>\n",
       "      <th>12633</th>\n",
       "      <td>Animal Soccer World</td>\n",
       "      <td>2005</td>\n",
       "      <td>Animation, Sport</td>\n",
       "      <td>1.2</td>\n",
       "      <td>125</td>\n",
       "      <td>Roswitha Haas</td>\n",
       "      <td>Everybody is busy with the preparations for th...</td>\n",
       "    </tr>\n",
       "    <tr>\n",
       "      <th>12634</th>\n",
       "      <td>CrazyBus</td>\n",
       "      <td>2004</td>\n",
       "      <td>Adventure, Family</td>\n",
       "      <td>1.0</td>\n",
       "      <td>126</td>\n",
       "      <td>Tom Maneiro</td>\n",
       "      <td>You get to select your bus and drive it across...</td>\n",
       "    </tr>\n",
       "  </tbody>\n",
       "</table>\n",
       "<p>12635 rows × 7 columns</p>\n",
       "</div>"
      ],
      "text/plain": [
       "                                           title  year  \\\n",
       "0                         The Last of Us: Part I  2022   \n",
       "1                         Red Dead Redemption II  2018   \n",
       "2      The Witcher 3: Wild Hunt - Blood and Wine  2016   \n",
       "3                       The Witcher 3: Wild Hunt  2015   \n",
       "4                                 The Last of Us  2013   \n",
       "...                                          ...   ...   \n",
       "12630                                   Superman  1999   \n",
       "12631                                  Action 52  1991   \n",
       "12632                   Plumbers Don't Wear Ties  1994   \n",
       "12633                        Animal Soccer World  2005   \n",
       "12634                                   CrazyBus  2004   \n",
       "\n",
       "                           genre  rating  votes  \\\n",
       "0       Action, Adventure, Drama     9.8    601   \n",
       "1       Action, Adventure, Crime     9.7  36441   \n",
       "2       Action, Adventure, Drama     9.7   7610   \n",
       "3       Action, Adventure, Drama     9.7  26328   \n",
       "4       Action, Adventure, Drama     9.7  61103   \n",
       "...                          ...     ...    ...   \n",
       "12630  Action, Adventure, Family     1.4    646   \n",
       "12631    Action, Family, Fantasy     1.3    135   \n",
       "12632            Comedy, Romance     1.3    338   \n",
       "12633           Animation, Sport     1.2    125   \n",
       "12634          Adventure, Family     1.0    126   \n",
       "\n",
       "                            directors  \\\n",
       "0      Matthew Gallant, Bruce Straley   \n",
       "1                             Missing   \n",
       "2                Konrad Tomaszkiewicz   \n",
       "3                Konrad Tomaszkiewicz   \n",
       "4       Neil Druckmann, Bruce Straley   \n",
       "...                               ...   \n",
       "12630                         Missing   \n",
       "12631        Raul Gomila, Vince Perri   \n",
       "12632                Michael Anderson   \n",
       "12633                   Roswitha Haas   \n",
       "12634                     Tom Maneiro   \n",
       "\n",
       "                                                    plot  \n",
       "0      Experience the emotional storytelling and unfo...  \n",
       "1      Amidst the decline of the Wild West at the tur...  \n",
       "2      Geralt is in the southern province of Toussain...  \n",
       "3      A monster hunter for hire embarks on an epic j...  \n",
       "4      In a hostile, post-pandemic world, Joel and El...  \n",
       "...                                                  ...  \n",
       "12630  The first 3D Superman game. Your friends Lois ...  \n",
       "12631  Play the action at your fingertips with 52 gam...  \n",
       "12632  John, an unattached plumber, meets and falls i...  \n",
       "12633  Everybody is busy with the preparations for th...  \n",
       "12634  You get to select your bus and drive it across...  \n",
       "\n",
       "[12635 rows x 7 columns]"
      ]
     },
     "execution_count": 88,
     "metadata": {},
     "output_type": "execute_result"
    }
   ],
   "source": [
    "video_games = video_games.assign(votes=video_games.get('votes').apply(convert_votes_to_int))\n",
    "video_games"
   ]
  },
  {
   "cell_type": "code",
   "execution_count": 89,
   "metadata": {
    "deletable": false,
    "editable": false
   },
   "outputs": [
    {
     "data": {
      "text/html": [
       "<p><strong><pre style='display: inline;'>q3_1</pre></strong> passed!</p>"
      ],
      "text/plain": [
       "q3_1 results: All test cases passed!"
      ]
     },
     "execution_count": 89,
     "metadata": {},
     "output_type": "execute_result"
    }
   ],
   "source": [
    "grader.check(\"q3_1\")"
   ]
  },
  {
   "cell_type": "markdown",
   "metadata": {},
   "source": [
    "**Question 3.2.** You are curious as to whether there is a relationship between the number of votes a game receives and the rating of the game. Create an appropriate plot that shows the relationship between these two variables."
   ]
  },
  {
   "cell_type": "code",
   "execution_count": 93,
   "metadata": {},
   "outputs": [
    {
     "data": {
      "image/png": "[encoded data removed]",
      "text/plain": [
       "<Figure size 720x360 with 1 Axes>"
      ]
     },
     "metadata": {},
     "output_type": "display_data"
    }
   ],
   "source": [
    "plt.scatter(video_games.get('votes'), video_games.get('rating'))\n",
    "plt.xlabel('Votes')\n",
    "plt.ylabel('Rating')\n",
    "plt.title('Votes vs Rating')\n",
    "plt.show()\n",
    "\n",
    "q3_2 = 1\n"
   ]
  },
  {
   "cell_type": "markdown",
   "metadata": {},
   "source": [
    "Now, use the plot you made to answer the following question: \n",
    "\n",
    "> What type of ratings do video games with a higher number of votes tend to have?\n",
    "\n",
    "Assign an integer from 1 to 3 representing your answer to the variable `q3_2`.\n",
    "\n",
    "1. Video games with a higher number of votes tend to have higher ratings.\n",
    "2. Video games with a higher number of votes tend to have lower ratings.\n",
    "3. There is no association between number of votes and rating."
   ]
  },
  {
   "cell_type": "code",
   "execution_count": 94,
   "metadata": {},
   "outputs": [
    {
     "data": {
      "text/plain": [
       "1"
      ]
     },
     "execution_count": 94,
     "metadata": {},
     "output_type": "execute_result"
    }
   ],
   "source": [
    "q3_2 = 1\n",
    "q3_2"
   ]
  },
  {
   "cell_type": "code",
   "execution_count": 95,
   "metadata": {
    "deletable": false,
    "editable": false
   },
   "outputs": [
    {
     "data": {
      "text/html": [
       "<p><strong><pre style='display: inline;'>q3_2</pre></strong> passed!</p>"
      ],
      "text/plain": [
       "q3_2 results: All test cases passed!"
      ]
     },
     "execution_count": 95,
     "metadata": {},
     "output_type": "execute_result"
    }
   ],
   "source": [
    "grader.check(\"q3_2\")"
   ]
  },
  {
   "cell_type": "markdown",
   "metadata": {},
   "source": [
    "**Question 3.3.** Assign `most_common_genres` to a DataFrame that contains the ten most common genres of video games, in descending order. The DataFrame should be indexed by `'genre'` and have only one column, `'count'`, which is the number of video games in that genre.\n",
    "\n",
    "*Note:* For this question, we will treat each video game as having only one genre. For example, `'Action, Adventure, Drama'` is considered to be its own genre."
   ]
  },
  {
   "cell_type": "code",
   "execution_count": 104,
   "metadata": {
    "scrolled": true
   },
   "outputs": [
    {
     "data": {
      "text/html": [
       "<div>\n",
       "<style scoped>\n",
       "    .dataframe tbody tr th:only-of-type {\n",
       "        vertical-align: middle;\n",
       "    }\n",
       "\n",
       "    .dataframe tbody tr th {\n",
       "        vertical-align: top;\n",
       "    }\n",
       "\n",
       "    .dataframe thead th {\n",
       "        text-align: right;\n",
       "    }\n",
       "</style>\n",
       "<table border=\"1\" class=\"dataframe\">\n",
       "  <thead>\n",
       "    <tr style=\"text-align: right;\">\n",
       "      <th></th>\n",
       "      <th>count</th>\n",
       "    </tr>\n",
       "    <tr>\n",
       "      <th>genre</th>\n",
       "      <th></th>\n",
       "    </tr>\n",
       "  </thead>\n",
       "  <tbody>\n",
       "    <tr>\n",
       "      <th>Action</th>\n",
       "      <td>1402</td>\n",
       "    </tr>\n",
       "    <tr>\n",
       "      <th>Action, Adventure, Fantasy</th>\n",
       "      <td>1329</td>\n",
       "    </tr>\n",
       "    <tr>\n",
       "      <th>Sport</th>\n",
       "      <td>789</td>\n",
       "    </tr>\n",
       "    <tr>\n",
       "      <th>Adventure</th>\n",
       "      <td>701</td>\n",
       "    </tr>\n",
       "    <tr>\n",
       "      <th>Action, Adventure, Sci-Fi</th>\n",
       "      <td>534</td>\n",
       "    </tr>\n",
       "    <tr>\n",
       "      <th>Action, Sci-Fi</th>\n",
       "      <td>533</td>\n",
       "    </tr>\n",
       "    <tr>\n",
       "      <th>Action, Adventure, Comedy</th>\n",
       "      <td>440</td>\n",
       "    </tr>\n",
       "    <tr>\n",
       "      <th>Action, Adventure, Family</th>\n",
       "      <td>430</td>\n",
       "    </tr>\n",
       "    <tr>\n",
       "      <th>Action, Adventure</th>\n",
       "      <td>381</td>\n",
       "    </tr>\n",
       "    <tr>\n",
       "      <th>Family</th>\n",
       "      <td>318</td>\n",
       "    </tr>\n",
       "  </tbody>\n",
       "</table>\n",
       "</div>"
      ],
      "text/plain": [
       "                            count\n",
       "genre                            \n",
       "Action                       1402\n",
       "Action, Adventure, Fantasy   1329\n",
       "Sport                         789\n",
       "Adventure                     701\n",
       "Action, Adventure, Sci-Fi     534\n",
       "Action, Sci-Fi                533\n",
       "Action, Adventure, Comedy     440\n",
       "Action, Adventure, Family     430\n",
       "Action, Adventure             381\n",
       "Family                        318"
      ]
     },
     "execution_count": 104,
     "metadata": {},
     "output_type": "execute_result"
    }
   ],
   "source": [
    "most_common_genres = (\n",
    "    video_games.groupby('genre')\n",
    "    .count()\n",
    "    .sort_values(by='title', ascending=False)\n",
    "    .iloc[:10]\n",
    "    .drop(columns=['year', 'rating', 'votes', 'directors', 'plot'])\n",
    ")\n",
    "most_common_genres = most_common_genres.assign(count=most_common_genres.get('title')).drop(columns=['title'])\n",
    "most_common_genres"
   ]
  },
  {
   "cell_type": "code",
   "execution_count": 105,
   "metadata": {
    "deletable": false,
    "editable": false
   },
   "outputs": [
    {
     "data": {
      "text/html": [
       "<p><strong><pre style='display: inline;'>q3_3</pre></strong> passed!</p>"
      ],
      "text/plain": [
       "q3_3 results: All test cases passed!"
      ]
     },
     "execution_count": 105,
     "metadata": {},
     "output_type": "execute_result"
    }
   ],
   "source": [
    "grader.check(\"q3_3\")"
   ]
  },
  {
   "cell_type": "markdown",
   "metadata": {},
   "source": [
    "**Question 3.4.** Using the `most_common_genres` DataFrame you created in Question 3.3, create a horizontal bar chart that shows the distribution of video games into these ten genres. Make sure your plot has the most common genre as the top-most bar in the bar chart."
   ]
  },
  {
   "cell_type": "markdown",
   "metadata": {
    "deletable": false,
    "editable": false
   },
   "source": [
    "<!-- BEGIN QUESTION -->\n",
    "\n",
    "<!--\n",
    "BEGIN QUESTION\n",
    "name: q3_4\n",
    "manual: true\n",
    "-->"
   ]
  },
  {
   "cell_type": "code",
   "execution_count": 107,
   "metadata": {},
   "outputs": [
    {
     "data": {
      "image/png": "[encoded data removed]",
      "text/plain": [
       "<Figure size 576x432 with 1 Axes>"
      ]
     },
     "metadata": {},
     "output_type": "display_data"
    }
   ],
   "source": [
    "# Create your plot here.\n",
    "most_common_genres.plot(kind='barh', figsize=(8, 6))\n",
    "plt.xlabel('Count')\n",
    "plt.ylabel('Genre')\n",
    "plt.title('Top 10 Most Common Video Game Genres')\n",
    "plt.gca().invert_yaxis()\n",
    "plt.show()\n"
   ]
  },
  {
   "cell_type": "markdown",
   "metadata": {},
   "source": [
    "<!-- END QUESTION -->\n",
    "\n",
    "\n",
    "\n",
    "**Question 3.5.** Assign the variable `third_lowest` to the genre of video games with the third lowest average rating (among all genres, not just the ones you looked at in Questions 3.3 and 3.4).\n",
    "\n",
    "Do not manually type out your answer. Use `babypandas` methods to produce the answer.\n",
    "\n",
    "*Note:* Again, we will consider a video game with multiple genres to have only one genre. For example, `'Action, Adventure, Drama'` is considered to be its own genre."
   ]
  },
  {
   "cell_type": "code",
   "execution_count": 109,
   "metadata": {},
   "outputs": [
    {
     "data": {
      "text/plain": [
       "'Animation, Drama, Romance'"
      ]
     },
     "execution_count": 109,
     "metadata": {},
     "output_type": "execute_result"
    }
   ],
   "source": [
    "third_lowest = (\n",
    "    video_games.groupby('genre')\n",
    "    .mean()\n",
    "    .sort_values(by='rating', ascending=True)\n",
    "    .reset_index()\n",
    "    .loc[2, 'genre']\n",
    ")\n",
    "third_lowest\n"
   ]
  },
  {
   "cell_type": "code",
   "execution_count": 110,
   "metadata": {
    "deletable": false,
    "editable": false
   },
   "outputs": [
    {
     "data": {
      "text/html": [
       "<p><strong><pre style='display: inline;'>q3_5</pre></strong> passed!</p>"
      ],
      "text/plain": [
       "q3_5 results: All test cases passed!"
      ]
     },
     "execution_count": 110,
     "metadata": {},
     "output_type": "execute_result"
    }
   ],
   "source": [
    "grader.check(\"q3_5\")"
   ]
  },
  {
   "cell_type": "markdown",
   "metadata": {},
   "source": [
    "**Question 3.6.** Create a histogram showing the distribution of video game ratings in the `video_games` DataFrame.\n",
    "\n",
    "Remember to set `density=True` since we always use density histograms and `ec='w'` to make the separation of the bars more clear. You don't have to set the `bins` argument."
   ]
  },
  {
   "cell_type": "markdown",
   "metadata": {
    "deletable": false,
    "editable": false
   },
   "source": [
    "<!-- BEGIN QUESTION -->\n",
    "\n",
    "<!--\n",
    "BEGIN QUESTION\n",
    "name: q3_6\n",
    "manual: true\n",
    "-->"
   ]
  },
  {
   "cell_type": "code",
   "execution_count": 124,
   "metadata": {},
   "outputs": [
    {
     "data": {
      "image/png": "[encoded data removed]",
      "text/plain": [
       "<Figure size 720x360 with 1 Axes>"
      ]
     },
     "metadata": {},
     "output_type": "display_data"
    }
   ],
   "source": [
    "plt.hist(video_games.get('rating'), density=True, ec='w')\n",
    "plt.xlabel('Rating')\n",
    "plt.ylabel('Density')\n",
    "plt.title('Distribution of Video Game Ratings')\n",
    "plt.show()"
   ]
  },
  {
   "cell_type": "markdown",
   "metadata": {
    "deletable": false,
    "editable": false
   },
   "source": [
    "<!-- END QUESTION -->\n",
    "\n",
    "**Question 3.7.** There is one director who has directed exactly 27 video games **alone** (with no-codirectors).\n",
    "\n",
    "Below, assign `director_of_27` to the name of this director. Do not manually type out the director's name. Instead, use `babypandas` methods to extract the name.\n",
    "\n",
    "<!--\n",
    "BEGIN QUESTION\n",
    "name: q3_7\n",
    "-->"
   ]
  },
  {
   "cell_type": "code",
   "execution_count": 231,
   "metadata": {},
   "outputs": [
    {
     "data": {
      "text/plain": [
       "'Keith Arem'"
      ]
     },
     "execution_count": 231,
     "metadata": {},
     "output_type": "execute_result"
    }
   ],
   "source": [
    "director_of_27 = (\n",
    "    video_games\n",
    "    .groupby('directors')\n",
    "    .count()\n",
    "    .loc[lambda df: df.get('title') == 27]\n",
    "    .reset_index()\n",
    "    .get('directors')\n",
    "    .iloc[0]\n",
    ")\n",
    "director_of_27"
   ]
  },
  {
   "cell_type": "code",
   "execution_count": 232,
   "metadata": {
    "deletable": false,
    "editable": false
   },
   "outputs": [
    {
     "data": {
      "text/html": [
       "<p><strong><pre style='display: inline;'>q3_7</pre></strong> passed!</p>"
      ],
      "text/plain": [
       "q3_7 results: All test cases passed!"
      ]
     },
     "execution_count": 232,
     "metadata": {},
     "output_type": "execute_result"
    }
   ],
   "source": [
    "grader.check(\"q3_7\")"
   ]
  },
  {
   "cell_type": "markdown",
   "metadata": {},
   "source": [
    "## 4. Let's TED Talk 💡🎤"
   ]
  },
  {
   "cell_type": "markdown",
   "metadata": {},
   "source": [
    "TED Talks (Technology, Entertainment, and Design) are short, powerful presentations that cover a wide range of topics, delivered by experts in the field. In 2019, a few UCSD Alumni and students were even featured speakers at TEDxUCSD. Over the years, TED Talks have become an important platform for the sharing and culmination of ideas, and are viewed by millions daily. There will even be another TEDxUCSD event this May 2023!\n",
    "\n",
    "<img src=\"./images/TED-UCSD.PNG\" width=350/>\n",
    "\n",
    "We have a dataset of TED Talks on YouTube from [Kaggle](https://www.kaggle.com/datasets/purnasaikirank/ted-talks-youtube?resource=download). First, we'll read in the data from a CSV. There is no good index, so we will leave it unset."
   ]
  },
  {
   "cell_type": "code",
   "execution_count": 111,
   "metadata": {},
   "outputs": [
    {
     "data": {
      "text/html": [
       "<div>\n",
       "<style scoped>\n",
       "    .dataframe tbody tr th:only-of-type {\n",
       "        vertical-align: middle;\n",
       "    }\n",
       "\n",
       "    .dataframe tbody tr th {\n",
       "        vertical-align: top;\n",
       "    }\n",
       "\n",
       "    .dataframe thead th {\n",
       "        text-align: right;\n",
       "    }\n",
       "</style>\n",
       "<table border=\"1\" class=\"dataframe\">\n",
       "  <thead>\n",
       "    <tr style=\"text-align: right;\">\n",
       "      <th></th>\n",
       "      <th>comments</th>\n",
       "      <th>duration</th>\n",
       "      <th>event</th>\n",
       "      <th>main_speaker</th>\n",
       "      <th>title</th>\n",
       "      <th>published_date</th>\n",
       "      <th>ratings</th>\n",
       "      <th>views</th>\n",
       "    </tr>\n",
       "  </thead>\n",
       "  <tbody>\n",
       "    <tr>\n",
       "      <th>0</th>\n",
       "      <td>4553</td>\n",
       "      <td>1164</td>\n",
       "      <td>TED2006</td>\n",
       "      <td>Ken Robinson</td>\n",
       "      <td>Ken Robinson: Do schools kill creativity?</td>\n",
       "      <td>1151367060</td>\n",
       "      <td>[{'id': 7, 'name': 'Funny', 'count': 19645}, {...</td>\n",
       "      <td>47227110</td>\n",
       "    </tr>\n",
       "    <tr>\n",
       "      <th>1</th>\n",
       "      <td>265</td>\n",
       "      <td>977</td>\n",
       "      <td>TED2006</td>\n",
       "      <td>Al Gore</td>\n",
       "      <td>Al Gore: Averting the climate crisis</td>\n",
       "      <td>1151367060</td>\n",
       "      <td>[{'id': 7, 'name': 'Funny', 'count': 544}, {'i...</td>\n",
       "      <td>3200520</td>\n",
       "    </tr>\n",
       "    <tr>\n",
       "      <th>2</th>\n",
       "      <td>124</td>\n",
       "      <td>1286</td>\n",
       "      <td>TED2006</td>\n",
       "      <td>David Pogue</td>\n",
       "      <td>David Pogue: Simplicity sells</td>\n",
       "      <td>1151367060</td>\n",
       "      <td>[{'id': 7, 'name': 'Funny', 'count': 964}, {'i...</td>\n",
       "      <td>1636292</td>\n",
       "    </tr>\n",
       "    <tr>\n",
       "      <th>3</th>\n",
       "      <td>200</td>\n",
       "      <td>1116</td>\n",
       "      <td>TED2006</td>\n",
       "      <td>Majora Carter</td>\n",
       "      <td>Majora Carter: Greening the ghetto</td>\n",
       "      <td>1151367060</td>\n",
       "      <td>[{'id': 3, 'name': 'Courageous', 'count': 760}...</td>\n",
       "      <td>1697550</td>\n",
       "    </tr>\n",
       "    <tr>\n",
       "      <th>4</th>\n",
       "      <td>593</td>\n",
       "      <td>1190</td>\n",
       "      <td>TED2006</td>\n",
       "      <td>Hans Rosling</td>\n",
       "      <td>Hans Rosling: The best stats you've ever seen</td>\n",
       "      <td>1151440680</td>\n",
       "      <td>[{'id': 9, 'name': 'Ingenious', 'count': 3202}...</td>\n",
       "      <td>12005869</td>\n",
       "    </tr>\n",
       "    <tr>\n",
       "      <th>...</th>\n",
       "      <td>...</td>\n",
       "      <td>...</td>\n",
       "      <td>...</td>\n",
       "      <td>...</td>\n",
       "      <td>...</td>\n",
       "      <td>...</td>\n",
       "      <td>...</td>\n",
       "      <td>...</td>\n",
       "    </tr>\n",
       "    <tr>\n",
       "      <th>2545</th>\n",
       "      <td>17</td>\n",
       "      <td>476</td>\n",
       "      <td>TED2017</td>\n",
       "      <td>Duarte Geraldino</td>\n",
       "      <td>Duarte Geraldino: What we're missing in the de...</td>\n",
       "      <td>1505851216</td>\n",
       "      <td>[{'id': 3, 'name': 'Courageous', 'count': 24},...</td>\n",
       "      <td>450430</td>\n",
       "    </tr>\n",
       "    <tr>\n",
       "      <th>2546</th>\n",
       "      <td>6</td>\n",
       "      <td>290</td>\n",
       "      <td>TED2017</td>\n",
       "      <td>Armando Azua-Bustos</td>\n",
       "      <td>Armando Azua-Bustos: The most Martian place on...</td>\n",
       "      <td>1505919737</td>\n",
       "      <td>[{'id': 22, 'name': 'Fascinating', 'count': 32...</td>\n",
       "      <td>417470</td>\n",
       "    </tr>\n",
       "    <tr>\n",
       "      <th>2547</th>\n",
       "      <td>10</td>\n",
       "      <td>651</td>\n",
       "      <td>TED2017</td>\n",
       "      <td>Radhika Nagpal</td>\n",
       "      <td>Radhika Nagpal: What intelligent machines can ...</td>\n",
       "      <td>1506006095</td>\n",
       "      <td>[{'id': 1, 'name': 'Beautiful', 'count': 14}, ...</td>\n",
       "      <td>375647</td>\n",
       "    </tr>\n",
       "    <tr>\n",
       "      <th>2548</th>\n",
       "      <td>32</td>\n",
       "      <td>1100</td>\n",
       "      <td>TEDxMileHigh</td>\n",
       "      <td>Theo E.J. Wilson</td>\n",
       "      <td>Theo E.J. Wilson: A black man goes undercover ...</td>\n",
       "      <td>1506024042</td>\n",
       "      <td>[{'id': 11, 'name': 'Longwinded', 'count': 3},...</td>\n",
       "      <td>419309</td>\n",
       "    </tr>\n",
       "    <tr>\n",
       "      <th>2549</th>\n",
       "      <td>8</td>\n",
       "      <td>519</td>\n",
       "      <td>TED2017</td>\n",
       "      <td>Karoliina Korppoo</td>\n",
       "      <td>Karoliina Korppoo: How a video game might help...</td>\n",
       "      <td>1506092422</td>\n",
       "      <td>[{'id': 21, 'name': 'Unconvincing', 'count': 2...</td>\n",
       "      <td>391721</td>\n",
       "    </tr>\n",
       "  </tbody>\n",
       "</table>\n",
       "<p>2550 rows × 8 columns</p>\n",
       "</div>"
      ],
      "text/plain": [
       "      comments  duration         event         main_speaker  \\\n",
       "0         4553      1164       TED2006         Ken Robinson   \n",
       "1          265       977       TED2006              Al Gore   \n",
       "2          124      1286       TED2006          David Pogue   \n",
       "3          200      1116       TED2006        Majora Carter   \n",
       "4          593      1190       TED2006         Hans Rosling   \n",
       "...        ...       ...           ...                  ...   \n",
       "2545        17       476       TED2017     Duarte Geraldino   \n",
       "2546         6       290       TED2017  Armando Azua-Bustos   \n",
       "2547        10       651       TED2017       Radhika Nagpal   \n",
       "2548        32      1100  TEDxMileHigh     Theo E.J. Wilson   \n",
       "2549         8       519       TED2017    Karoliina Korppoo   \n",
       "\n",
       "                                                  title  published_date  \\\n",
       "0             Ken Robinson: Do schools kill creativity?      1151367060   \n",
       "1                  Al Gore: Averting the climate crisis      1151367060   \n",
       "2                         David Pogue: Simplicity sells      1151367060   \n",
       "3                    Majora Carter: Greening the ghetto      1151367060   \n",
       "4         Hans Rosling: The best stats you've ever seen      1151440680   \n",
       "...                                                 ...             ...   \n",
       "2545  Duarte Geraldino: What we're missing in the de...      1505851216   \n",
       "2546  Armando Azua-Bustos: The most Martian place on...      1505919737   \n",
       "2547  Radhika Nagpal: What intelligent machines can ...      1506006095   \n",
       "2548  Theo E.J. Wilson: A black man goes undercover ...      1506024042   \n",
       "2549  Karoliina Korppoo: How a video game might help...      1506092422   \n",
       "\n",
       "                                                ratings     views  \n",
       "0     [{'id': 7, 'name': 'Funny', 'count': 19645}, {...  47227110  \n",
       "1     [{'id': 7, 'name': 'Funny', 'count': 544}, {'i...   3200520  \n",
       "2     [{'id': 7, 'name': 'Funny', 'count': 964}, {'i...   1636292  \n",
       "3     [{'id': 3, 'name': 'Courageous', 'count': 760}...   1697550  \n",
       "4     [{'id': 9, 'name': 'Ingenious', 'count': 3202}...  12005869  \n",
       "...                                                 ...       ...  \n",
       "2545  [{'id': 3, 'name': 'Courageous', 'count': 24},...    450430  \n",
       "2546  [{'id': 22, 'name': 'Fascinating', 'count': 32...    417470  \n",
       "2547  [{'id': 1, 'name': 'Beautiful', 'count': 14}, ...    375647  \n",
       "2548  [{'id': 11, 'name': 'Longwinded', 'count': 3},...    419309  \n",
       "2549  [{'id': 21, 'name': 'Unconvincing', 'count': 2...    391721  \n",
       "\n",
       "[2550 rows x 8 columns]"
      ]
     },
     "execution_count": 111,
     "metadata": {},
     "output_type": "execute_result"
    }
   ],
   "source": [
    "ted_data = bpd.read_csv('data/ted_main.csv')\n",
    "ted_data"
   ]
  },
  {
   "cell_type": "markdown",
   "metadata": {},
   "source": [
    "**Question 4.1.** You'll notice that the values in the `'published_date'` column are really large integers. It turns out they're stored as Unix timestamps, which measure the number of seconds that have elapsed since midnight on January 1st, 1970. So, January 1st, 1970, at 00:00:00 UTC is time 0. (If you're curious, [this site](https://www.unixtimestamp.com) shows a live \"Unix timestamp clock.\")\n",
    "\n",
    "Define a function `timestamp_to_year` that takes a Unix timestamp as input, like the values listed in the DataFrame above, and returns the corresponding year as an integer.\n",
    "\n",
    "*Note*: Don't worry about leap years or leap seconds here."
   ]
  },
  {
   "cell_type": "code",
   "execution_count": 122,
   "metadata": {},
   "outputs": [
    {
     "data": {
      "text/plain": [
       "2017"
      ]
     },
     "execution_count": 122,
     "metadata": {},
     "output_type": "execute_result"
    }
   ],
   "source": [
    "def timestamp_to_year(timestamp):\n",
    "    return int(1970 + timestamp // (60 * 60 * 24 * 365))\n",
    "\n",
    "timestamp_to_year(1506006095)"
   ]
  },
  {
   "cell_type": "code",
   "execution_count": 123,
   "metadata": {
    "deletable": false,
    "editable": false
   },
   "outputs": [
    {
     "data": {
      "text/html": [
       "<p><strong><pre style='display: inline;'>q4_1</pre></strong> passed!</p>"
      ],
      "text/plain": [
       "q4_1 results: All test cases passed!"
      ]
     },
     "execution_count": 123,
     "metadata": {},
     "output_type": "execute_result"
    }
   ],
   "source": [
    "grader.check(\"q4_1\")"
   ]
  },
  {
   "cell_type": "markdown",
   "metadata": {},
   "source": [
    "**Question 4.2.** Use your `timestamp_to_year` function and the `.apply` method to convert all of the timestamps in the `'published_date'` column of `ted_data` into their correct year. Do this without creating an additional column or reordering the existing columns. Assign the resulting DataFrame to the variable name `ted`."
   ]
  },
  {
   "cell_type": "code",
   "execution_count": 179,
   "metadata": {},
   "outputs": [
    {
     "data": {
      "text/html": [
       "<div>\n",
       "<style scoped>\n",
       "    .dataframe tbody tr th:only-of-type {\n",
       "        vertical-align: middle;\n",
       "    }\n",
       "\n",
       "    .dataframe tbody tr th {\n",
       "        vertical-align: top;\n",
       "    }\n",
       "\n",
       "    .dataframe thead th {\n",
       "        text-align: right;\n",
       "    }\n",
       "</style>\n",
       "<table border=\"1\" class=\"dataframe\">\n",
       "  <thead>\n",
       "    <tr style=\"text-align: right;\">\n",
       "      <th></th>\n",
       "      <th>comments</th>\n",
       "      <th>duration</th>\n",
       "      <th>event</th>\n",
       "      <th>main_speaker</th>\n",
       "      <th>title</th>\n",
       "      <th>published_date</th>\n",
       "      <th>ratings</th>\n",
       "      <th>views</th>\n",
       "    </tr>\n",
       "  </thead>\n",
       "  <tbody>\n",
       "    <tr>\n",
       "      <th>0</th>\n",
       "      <td>4553</td>\n",
       "      <td>1164</td>\n",
       "      <td>TED2006</td>\n",
       "      <td>Ken Robinson</td>\n",
       "      <td>Ken Robinson: Do schools kill creativity?</td>\n",
       "      <td>2006</td>\n",
       "      <td>[{'id': 7, 'name': 'Funny', 'count': 19645}, {...</td>\n",
       "      <td>47227110</td>\n",
       "    </tr>\n",
       "    <tr>\n",
       "      <th>1</th>\n",
       "      <td>265</td>\n",
       "      <td>977</td>\n",
       "      <td>TED2006</td>\n",
       "      <td>Al Gore</td>\n",
       "      <td>Al Gore: Averting the climate crisis</td>\n",
       "      <td>2006</td>\n",
       "      <td>[{'id': 7, 'name': 'Funny', 'count': 544}, {'i...</td>\n",
       "      <td>3200520</td>\n",
       "    </tr>\n",
       "    <tr>\n",
       "      <th>2</th>\n",
       "      <td>124</td>\n",
       "      <td>1286</td>\n",
       "      <td>TED2006</td>\n",
       "      <td>David Pogue</td>\n",
       "      <td>David Pogue: Simplicity sells</td>\n",
       "      <td>2006</td>\n",
       "      <td>[{'id': 7, 'name': 'Funny', 'count': 964}, {'i...</td>\n",
       "      <td>1636292</td>\n",
       "    </tr>\n",
       "    <tr>\n",
       "      <th>3</th>\n",
       "      <td>200</td>\n",
       "      <td>1116</td>\n",
       "      <td>TED2006</td>\n",
       "      <td>Majora Carter</td>\n",
       "      <td>Majora Carter: Greening the ghetto</td>\n",
       "      <td>2006</td>\n",
       "      <td>[{'id': 3, 'name': 'Courageous', 'count': 760}...</td>\n",
       "      <td>1697550</td>\n",
       "    </tr>\n",
       "    <tr>\n",
       "      <th>4</th>\n",
       "      <td>593</td>\n",
       "      <td>1190</td>\n",
       "      <td>TED2006</td>\n",
       "      <td>Hans Rosling</td>\n",
       "      <td>Hans Rosling: The best stats you've ever seen</td>\n",
       "      <td>2006</td>\n",
       "      <td>[{'id': 9, 'name': 'Ingenious', 'count': 3202}...</td>\n",
       "      <td>12005869</td>\n",
       "    </tr>\n",
       "    <tr>\n",
       "      <th>...</th>\n",
       "      <td>...</td>\n",
       "      <td>...</td>\n",
       "      <td>...</td>\n",
       "      <td>...</td>\n",
       "      <td>...</td>\n",
       "      <td>...</td>\n",
       "      <td>...</td>\n",
       "      <td>...</td>\n",
       "    </tr>\n",
       "    <tr>\n",
       "      <th>2545</th>\n",
       "      <td>17</td>\n",
       "      <td>476</td>\n",
       "      <td>TED2017</td>\n",
       "      <td>Duarte Geraldino</td>\n",
       "      <td>Duarte Geraldino: What we're missing in the de...</td>\n",
       "      <td>2017</td>\n",
       "      <td>[{'id': 3, 'name': 'Courageous', 'count': 24},...</td>\n",
       "      <td>450430</td>\n",
       "    </tr>\n",
       "    <tr>\n",
       "      <th>2546</th>\n",
       "      <td>6</td>\n",
       "      <td>290</td>\n",
       "      <td>TED2017</td>\n",
       "      <td>Armando Azua-Bustos</td>\n",
       "      <td>Armando Azua-Bustos: The most Martian place on...</td>\n",
       "      <td>2017</td>\n",
       "      <td>[{'id': 22, 'name': 'Fascinating', 'count': 32...</td>\n",
       "      <td>417470</td>\n",
       "    </tr>\n",
       "    <tr>\n",
       "      <th>2547</th>\n",
       "      <td>10</td>\n",
       "      <td>651</td>\n",
       "      <td>TED2017</td>\n",
       "      <td>Radhika Nagpal</td>\n",
       "      <td>Radhika Nagpal: What intelligent machines can ...</td>\n",
       "      <td>2017</td>\n",
       "      <td>[{'id': 1, 'name': 'Beautiful', 'count': 14}, ...</td>\n",
       "      <td>375647</td>\n",
       "    </tr>\n",
       "    <tr>\n",
       "      <th>2548</th>\n",
       "      <td>32</td>\n",
       "      <td>1100</td>\n",
       "      <td>TEDxMileHigh</td>\n",
       "      <td>Theo E.J. Wilson</td>\n",
       "      <td>Theo E.J. Wilson: A black man goes undercover ...</td>\n",
       "      <td>2017</td>\n",
       "      <td>[{'id': 11, 'name': 'Longwinded', 'count': 3},...</td>\n",
       "      <td>419309</td>\n",
       "    </tr>\n",
       "    <tr>\n",
       "      <th>2549</th>\n",
       "      <td>8</td>\n",
       "      <td>519</td>\n",
       "      <td>TED2017</td>\n",
       "      <td>Karoliina Korppoo</td>\n",
       "      <td>Karoliina Korppoo: How a video game might help...</td>\n",
       "      <td>2017</td>\n",
       "      <td>[{'id': 21, 'name': 'Unconvincing', 'count': 2...</td>\n",
       "      <td>391721</td>\n",
       "    </tr>\n",
       "  </tbody>\n",
       "</table>\n",
       "<p>2550 rows × 8 columns</p>\n",
       "</div>"
      ],
      "text/plain": [
       "      comments  duration         event         main_speaker  \\\n",
       "0         4553      1164       TED2006         Ken Robinson   \n",
       "1          265       977       TED2006              Al Gore   \n",
       "2          124      1286       TED2006          David Pogue   \n",
       "3          200      1116       TED2006        Majora Carter   \n",
       "4          593      1190       TED2006         Hans Rosling   \n",
       "...        ...       ...           ...                  ...   \n",
       "2545        17       476       TED2017     Duarte Geraldino   \n",
       "2546         6       290       TED2017  Armando Azua-Bustos   \n",
       "2547        10       651       TED2017       Radhika Nagpal   \n",
       "2548        32      1100  TEDxMileHigh     Theo E.J. Wilson   \n",
       "2549         8       519       TED2017    Karoliina Korppoo   \n",
       "\n",
       "                                                  title  published_date  \\\n",
       "0             Ken Robinson: Do schools kill creativity?            2006   \n",
       "1                  Al Gore: Averting the climate crisis            2006   \n",
       "2                         David Pogue: Simplicity sells            2006   \n",
       "3                    Majora Carter: Greening the ghetto            2006   \n",
       "4         Hans Rosling: The best stats you've ever seen            2006   \n",
       "...                                                 ...             ...   \n",
       "2545  Duarte Geraldino: What we're missing in the de...            2017   \n",
       "2546  Armando Azua-Bustos: The most Martian place on...            2017   \n",
       "2547  Radhika Nagpal: What intelligent machines can ...            2017   \n",
       "2548  Theo E.J. Wilson: A black man goes undercover ...            2017   \n",
       "2549  Karoliina Korppoo: How a video game might help...            2017   \n",
       "\n",
       "                                                ratings     views  \n",
       "0     [{'id': 7, 'name': 'Funny', 'count': 19645}, {...  47227110  \n",
       "1     [{'id': 7, 'name': 'Funny', 'count': 544}, {'i...   3200520  \n",
       "2     [{'id': 7, 'name': 'Funny', 'count': 964}, {'i...   1636292  \n",
       "3     [{'id': 3, 'name': 'Courageous', 'count': 760}...   1697550  \n",
       "4     [{'id': 9, 'name': 'Ingenious', 'count': 3202}...  12005869  \n",
       "...                                                 ...       ...  \n",
       "2545  [{'id': 3, 'name': 'Courageous', 'count': 24},...    450430  \n",
       "2546  [{'id': 22, 'name': 'Fascinating', 'count': 32...    417470  \n",
       "2547  [{'id': 1, 'name': 'Beautiful', 'count': 14}, ...    375647  \n",
       "2548  [{'id': 11, 'name': 'Longwinded', 'count': 3},...    419309  \n",
       "2549  [{'id': 21, 'name': 'Unconvincing', 'count': 2...    391721  \n",
       "\n",
       "[2550 rows x 8 columns]"
      ]
     },
     "execution_count": 179,
     "metadata": {},
     "output_type": "execute_result"
    }
   ],
   "source": [
    "def timestamp_to_year(timestamp):\n",
    "    return 1970 + timestamp // (60 * 60 * 24 * 365)\n",
    "\n",
    "ted = ted_data.assign(published_date=ted_data.get('published_date').apply(timestamp_to_year))\n",
    "ted\n"
   ]
  },
  {
   "cell_type": "code",
   "execution_count": 180,
   "metadata": {
    "deletable": false,
    "editable": false
   },
   "outputs": [
    {
     "data": {
      "text/html": [
       "<p><strong><pre style='display: inline;'>q4_2</pre></strong> passed!</p>"
      ],
      "text/plain": [
       "q4_2 results: All test cases passed!"
      ]
     },
     "execution_count": 180,
     "metadata": {},
     "output_type": "execute_result"
    }
   ],
   "source": [
    "grader.check(\"q4_2\")"
   ]
  },
  {
   "cell_type": "markdown",
   "metadata": {},
   "source": [
    "🚨 **Important**: For the rest of the questions in this section, use the DataFrame `ted` instead of `ted_data`."
   ]
  },
  {
   "cell_type": "markdown",
   "metadata": {},
   "source": [
    "**Question 4.3.** \n",
    "Define a function named `clean_title` that takes as input a string from the `'title'` column of `ted` and returns the title of the TED talk, without the speaker's name included. Example behavior is shown below.\n",
    "\n",
    "```py\n",
    ">>> clean_title('Ken Robinson: Do schools kill creativity?')\n",
    "'Do schools kill creativity?'\n",
    "```\n",
    "\n",
    "Once you have created the function, use the `.apply` method to apply the function on all elements of the `'title'` column in `ted`. Do not create a new column or a new DataFrame.\n",
    "\n",
    "\n",
    "_*Hint*_: The string method [`.split`](https://docs.python.org/3/library/stdtypes.html#str.split) will be helpful."
   ]
  },
  {
   "cell_type": "code",
   "execution_count": 183,
   "metadata": {},
   "outputs": [
    {
     "name": "stdout",
     "output_type": "stream",
     "text": [
      "Do schools kill creativity?\n",
      "The best stats you've ever seen\n"
     ]
    }
   ],
   "source": [
    "def clean_title(title):\n",
    "    split_title = title.split(': ')\n",
    "    if len(split_title) > 1:\n",
    "        return split_title[1]\n",
    "    else:\n",
    "        return split_title[0]\n",
    "\n",
    "ted = ted.assign(title=ted.get('title').apply(clean_title))\n",
    "\n",
    "# Test cases for your own reference. Feel free to test out more!\n",
    "print(clean_title('Ken Robinson: Do schools kill creativity?'))  # Should print 'Do schools kill creativity?'\n",
    "print(clean_title(\"Hans Rosling: The best stats you've ever seen\")) # Should print 'The best stats you've ever seen'\n"
   ]
  },
  {
   "cell_type": "code",
   "execution_count": 184,
   "metadata": {
    "deletable": false,
    "editable": false
   },
   "outputs": [
    {
     "data": {
      "text/html": [
       "<p><strong><pre style='display: inline;'>q4_3</pre></strong> passed!</p>"
      ],
      "text/plain": [
       "q4_3 results: All test cases passed!"
      ]
     },
     "execution_count": 184,
     "metadata": {},
     "output_type": "execute_result"
    }
   ],
   "source": [
    "grader.check(\"q4_3\")"
   ]
  },
  {
   "cell_type": "markdown",
   "metadata": {},
   "source": [
    "**Question 4.4.** We'll say a talk's title is a question if the character `'?'` appears anywhere in the title. Add a column to `ted` named `'is_question'` that contains the value `True` for talks whose titles are questions and `False` for talks whose titles aren't questions. Save the resulting DataFrame as `ted_with_question`; **don't** modify the current `ted` DataFrame, otherwise you may start to fail some test cases you're currently passing.\n",
    "\n",
    "*Hint*: If you try and check whether a title contains `'?'` using the same method you used in Question 1.6, you'll run into an error. Instead of using just `'?'`, you'll need to use `'\\?'`. When using the Series method from Question 1.6, the `'?'` is interpreted as a special character; by using `'\\?'` as the input to that Series method, we're telling Python to find all titles that contain a literal question mark. (If you're curious, the technical term for this is \"escaping\" the `'?'` character.)"
   ]
  },
  {
   "cell_type": "code",
   "execution_count": 189,
   "metadata": {},
   "outputs": [
    {
     "name": "stdout",
     "output_type": "stream",
     "text": [
      "      comments  duration         event         main_speaker  \\\n",
      "0         4553      1164       TED2006         Ken Robinson   \n",
      "1          265       977       TED2006              Al Gore   \n",
      "2          124      1286       TED2006          David Pogue   \n",
      "3          200      1116       TED2006        Majora Carter   \n",
      "4          593      1190       TED2006         Hans Rosling   \n",
      "...        ...       ...           ...                  ...   \n",
      "2545        17       476       TED2017     Duarte Geraldino   \n",
      "2546         6       290       TED2017  Armando Azua-Bustos   \n",
      "2547        10       651       TED2017       Radhika Nagpal   \n",
      "2548        32      1100  TEDxMileHigh     Theo E.J. Wilson   \n",
      "2549         8       519       TED2017    Karoliina Korppoo   \n",
      "\n",
      "                                                  title  published_date  \\\n",
      "0                           Do schools kill creativity?            2006   \n",
      "1                           Averting the climate crisis            2006   \n",
      "2                                      Simplicity sells            2006   \n",
      "3                                   Greening the ghetto            2006   \n",
      "4                       The best stats you've ever seen            2006   \n",
      "...                                                 ...             ...   \n",
      "2545  What we're missing in the debate about immigra...            2017   \n",
      "2546                    The most Martian place on Earth            2017   \n",
      "2547  What intelligent machines can learn from a sch...            2017   \n",
      "2548       A black man goes undercover in the alt-right            2017   \n",
      "2549  How a video game might help us build better ci...            2017   \n",
      "\n",
      "                                                ratings     views  is_question  \n",
      "0     [{'id': 7, 'name': 'Funny', 'count': 19645}, {...  47227110         True  \n",
      "1     [{'id': 7, 'name': 'Funny', 'count': 544}, {'i...   3200520        False  \n",
      "2     [{'id': 7, 'name': 'Funny', 'count': 964}, {'i...   1636292        False  \n",
      "3     [{'id': 3, 'name': 'Courageous', 'count': 760}...   1697550        False  \n",
      "4     [{'id': 9, 'name': 'Ingenious', 'count': 3202}...  12005869        False  \n",
      "...                                                 ...       ...          ...  \n",
      "2545  [{'id': 3, 'name': 'Courageous', 'count': 24},...    450430        False  \n",
      "2546  [{'id': 22, 'name': 'Fascinating', 'count': 32...    417470        False  \n",
      "2547  [{'id': 1, 'name': 'Beautiful', 'count': 14}, ...    375647        False  \n",
      "2548  [{'id': 11, 'name': 'Longwinded', 'count': 3},...    419309        False  \n",
      "2549  [{'id': 21, 'name': 'Unconvincing', 'count': 2...    391721        False  \n",
      "\n",
      "[2550 rows x 9 columns]\n"
     ]
    }
   ],
   "source": [
    "def is_question(title):\n",
    "    return '?' in title\n",
    "\n",
    "ted_with_question = ted.assign(is_question=ted.get('title').apply(is_question))\n",
    "\n",
    "# Test cases for your own reference. Feel free to test out more!\n",
    "print(ted_with_question)"
   ]
  },
  {
   "cell_type": "code",
   "execution_count": 190,
   "metadata": {
    "deletable": false,
    "editable": false
   },
   "outputs": [
    {
     "data": {
      "text/html": [
       "<p><strong><pre style='display: inline;'>q4_4</pre></strong> passed!</p>"
      ],
      "text/plain": [
       "q4_4 results: All test cases passed!"
      ]
     },
     "execution_count": 190,
     "metadata": {},
     "output_type": "execute_result"
    }
   ],
   "source": [
    "grader.check(\"q4_4\")"
   ]
  },
  {
   "cell_type": "markdown",
   "metadata": {},
   "source": [
    "**Question 4.5.** Using the `'is_question'` column that you created in Question 4.4, calculate the mean number of views for titles that are questions and for titles that are not questions. Store the result for titles with a question in a variable called `mean_views_with_question`, and the result for titles without a question in a variable called `mean_views_without_question`."
   ]
  },
  {
   "cell_type": "code",
   "execution_count": 203,
   "metadata": {},
   "outputs": [
    {
     "name": "stdout",
     "output_type": "stream",
     "text": [
      "Average views of talks with questions in the title: 1969743.3883495145\n",
      "Average views of talks without questions in the title: 1674441.7406143346\n"
     ]
    }
   ],
   "source": [
    "mean_views_with_question = ted_with_question[ted_with_question.get('is_question')].get('views').mean()\n",
    "mean_views_without_question = ted_with_question[~ted_with_question.get('is_question')].get('views').mean()\n",
    "\n",
    "print('Average views of talks with questions in the title:', mean_views_with_question)\n",
    "print('Average views of talks without questions in the title:', mean_views_without_question)\n"
   ]
  },
  {
   "cell_type": "code",
   "execution_count": 204,
   "metadata": {
    "deletable": false,
    "editable": false
   },
   "outputs": [
    {
     "data": {
      "text/html": [
       "<p><strong><pre style='display: inline;'>q4_5</pre></strong> passed!</p>"
      ],
      "text/plain": [
       "q4_5 results: All test cases passed!"
      ]
     },
     "execution_count": 204,
     "metadata": {},
     "output_type": "execute_result"
    }
   ],
   "source": [
    "grader.check(\"q4_5\")"
   ]
  },
  {
   "cell_type": "markdown",
   "metadata": {},
   "source": [
    "**Question 4.6.** Create a horizontal bar chart that displays the mean views for each of the **top 20 TED Talk events** in the dataset. Sort the bars so that the event with the highest mean views appears at the very top, and the event with the lowest mean views appears at the very bottom."
   ]
  },
  {
   "cell_type": "markdown",
   "metadata": {
    "deletable": false,
    "editable": false
   },
   "source": [
    "<!-- BEGIN QUESTION -->\n",
    "\n",
    "<!--\n",
    "BEGIN QUESTION\n",
    "name: q4_6\n",
    "manual: true\n",
    "\n",
    "-->"
   ]
  },
  {
   "cell_type": "code",
   "execution_count": 216,
   "metadata": {},
   "outputs": [
    {
     "ename": "AttributeError",
     "evalue": "'DataFrameGroupBy' object has no attribute 'agg'",
     "output_type": "error",
     "traceback": [
      "\u001b[0;31m---------------------------------------------------------------------------\u001b[0m",
      "\u001b[0;31mAttributeError\u001b[0m                            Traceback (most recent call last)",
      "\u001b[0;32m/tmp/ipykernel_190/2188384777.py\u001b[0m in \u001b[0;36m<module>\u001b[0;34m\u001b[0m\n\u001b[1;32m      1\u001b[0m \u001b[0;31m# Question 4.6.\u001b[0m\u001b[0;34m\u001b[0m\u001b[0;34m\u001b[0m\u001b[0;34m\u001b[0m\u001b[0m\n\u001b[0;32m----> 2\u001b[0;31m \u001b[0mmean_views_per_event\u001b[0m \u001b[0;34m=\u001b[0m \u001b[0mted_with_question\u001b[0m\u001b[0;34m.\u001b[0m\u001b[0mgroupby\u001b[0m\u001b[0;34m(\u001b[0m\u001b[0;34m'event'\u001b[0m\u001b[0;34m)\u001b[0m\u001b[0;34m.\u001b[0m\u001b[0magg\u001b[0m\u001b[0;34m(\u001b[0m\u001b[0;34m{\u001b[0m\u001b[0;34m'views'\u001b[0m\u001b[0;34m:\u001b[0m \u001b[0;34m'mean'\u001b[0m\u001b[0;34m}\u001b[0m\u001b[0;34m)\u001b[0m\u001b[0;34m.\u001b[0m\u001b[0msort_values\u001b[0m\u001b[0;34m(\u001b[0m\u001b[0;34m'views'\u001b[0m\u001b[0;34m,\u001b[0m \u001b[0mascending\u001b[0m\u001b[0;34m=\u001b[0m\u001b[0;32mFalse\u001b[0m\u001b[0;34m)\u001b[0m\u001b[0;34m.\u001b[0m\u001b[0mhead\u001b[0m\u001b[0;34m(\u001b[0m\u001b[0;36m20\u001b[0m\u001b[0;34m)\u001b[0m\u001b[0;34m\u001b[0m\u001b[0;34m\u001b[0m\u001b[0m\n\u001b[0m\u001b[1;32m      3\u001b[0m \u001b[0mmean_views_per_event\u001b[0m\u001b[0;34m.\u001b[0m\u001b[0mplot\u001b[0m\u001b[0;34m(\u001b[0m\u001b[0mkind\u001b[0m\u001b[0;34m=\u001b[0m\u001b[0;34m'barh'\u001b[0m\u001b[0;34m,\u001b[0m \u001b[0my\u001b[0m\u001b[0;34m=\u001b[0m\u001b[0;34m'views'\u001b[0m\u001b[0;34m,\u001b[0m \u001b[0mtitle\u001b[0m\u001b[0;34m=\u001b[0m\u001b[0;34m'Mean views of top 20 TED Talk events'\u001b[0m\u001b[0;34m,\u001b[0m \u001b[0mlegend\u001b[0m\u001b[0;34m=\u001b[0m\u001b[0;32mFalse\u001b[0m\u001b[0;34m)\u001b[0m\u001b[0;34m\u001b[0m\u001b[0;34m\u001b[0m\u001b[0m\n",
      "\u001b[0;31mAttributeError\u001b[0m: 'DataFrameGroupBy' object has no attribute 'agg'"
     ]
    }
   ],
   "source": [
    "# Question 4.6.\n",
    "mean_views_per_event = ted_with_question.groupby('event').agg({'views': 'mean'}).sort_values('views', ascending=False).head(20)\n",
    "mean_views_per_event.plot(kind='barh', y='views', title='Mean views of top 20 TED Talk events', legend=False)\n"
   ]
  },
  {
   "cell_type": "markdown",
   "metadata": {},
   "source": [
    "<!-- END QUESTION -->\n",
    "\n",
    "\n",
    "\n",
    "So far, we haven't used the `'ratings'` column in `ted_with_question` at all for our analysis. The values in the `'ratings'` column appear to be formatted strangely:"
   ]
  },
  {
   "cell_type": "code",
   "execution_count": 207,
   "metadata": {},
   "outputs": [
    {
     "data": {
      "text/plain": [
       "\"[{'id': 7, 'name': 'Funny', 'count': 19645}, {'id': 1, 'name': 'Beautiful', 'count': 4573}, {'id': 9, 'name': 'Ingenious', 'count': 6073}, {'id': 3, 'name': 'Courageous', 'count': 3253}, {'id': 11, 'name': 'Longwinded', 'count': 387}, {'id': 2, 'name': 'Confusing', 'count': 242}, {'id': 8, 'name': 'Informative', 'count': 7346}, {'id': 22, 'name': 'Fascinating', 'count': 10581}, {'id': 21, 'name': 'Unconvincing', 'count': 300}, {'id': 24, 'name': 'Persuasive', 'count': 10704}, {'id': 23, 'name': 'Jaw-dropping', 'count': 4439}, {'id': 25, 'name': 'OK', 'count': 1174}, {'id': 26, 'name': 'Obnoxious', 'count': 209}, {'id': 10, 'name': 'Inspiring', 'count': 24924}]\""
      ]
     },
     "execution_count": 207,
     "metadata": {},
     "output_type": "execute_result"
    }
   ],
   "source": [
    "first_rating_string = ted_with_question.get('ratings').iloc[0]\n",
    "first_rating_string"
   ]
  },
  {
   "cell_type": "code",
   "execution_count": 208,
   "metadata": {},
   "outputs": [
    {
     "data": {
      "text/plain": [
       "str"
      ]
     },
     "execution_count": 208,
     "metadata": {},
     "output_type": "execute_result"
    }
   ],
   "source": [
    "type(first_rating_string)"
   ]
  },
  {
   "cell_type": "markdown",
   "metadata": {},
   "source": [
    "If we look closely, we see that each value in the `'ratings'` column looks like a list of dictionaries! While these values _look_ like lists, they are actually strings.\n",
    "\n",
    "Conveniently, it turns out there's a function built into Python called `eval` that takes in a string that contains a Python expression and evaluates that expression. We use it below."
   ]
  },
  {
   "cell_type": "code",
   "execution_count": 209,
   "metadata": {},
   "outputs": [
    {
     "data": {
      "text/plain": [
       "array([5, 7, 9])"
      ]
     },
     "execution_count": 209,
     "metadata": {},
     "output_type": "execute_result"
    }
   ],
   "source": [
    "eval(\"np.array([1, 2, 3]) + np.array([4, 5, 6])\")"
   ]
  },
  {
   "cell_type": "code",
   "execution_count": 210,
   "metadata": {},
   "outputs": [
    {
     "data": {
      "text/plain": [
       "2550"
      ]
     },
     "execution_count": 210,
     "metadata": {},
     "output_type": "execute_result"
    }
   ],
   "source": [
    "eval(\"ted.shape[0]\")"
   ]
  },
  {
   "cell_type": "markdown",
   "metadata": {},
   "source": [
    "In the two examples above, `eval` seemed to make things more complicated, not less complicated. However, `eval` can help turn the values in the `'ratings'` column, which are strings (of lists, of dictionaries), to actual lists.\n",
    "\n",
    "For example:"
   ]
  },
  {
   "cell_type": "code",
   "execution_count": 211,
   "metadata": {},
   "outputs": [
    {
     "data": {
      "text/plain": [
       "[{'id': 7, 'name': 'Funny', 'count': 19645},\n",
       " {'id': 1, 'name': 'Beautiful', 'count': 4573},\n",
       " {'id': 9, 'name': 'Ingenious', 'count': 6073},\n",
       " {'id': 3, 'name': 'Courageous', 'count': 3253},\n",
       " {'id': 11, 'name': 'Longwinded', 'count': 387},\n",
       " {'id': 2, 'name': 'Confusing', 'count': 242},\n",
       " {'id': 8, 'name': 'Informative', 'count': 7346},\n",
       " {'id': 22, 'name': 'Fascinating', 'count': 10581},\n",
       " {'id': 21, 'name': 'Unconvincing', 'count': 300},\n",
       " {'id': 24, 'name': 'Persuasive', 'count': 10704},\n",
       " {'id': 23, 'name': 'Jaw-dropping', 'count': 4439},\n",
       " {'id': 25, 'name': 'OK', 'count': 1174},\n",
       " {'id': 26, 'name': 'Obnoxious', 'count': 209},\n",
       " {'id': 10, 'name': 'Inspiring', 'count': 24924}]"
      ]
     },
     "execution_count": 211,
     "metadata": {},
     "output_type": "execute_result"
    }
   ],
   "source": [
    "first_rating_list = eval(first_rating_string)\n",
    "first_rating_list"
   ]
  },
  {
   "cell_type": "code",
   "execution_count": 212,
   "metadata": {},
   "outputs": [
    {
     "data": {
      "text/plain": [
       "list"
      ]
     },
     "execution_count": 212,
     "metadata": {},
     "output_type": "execute_result"
    }
   ],
   "source": [
    "type(first_rating_list)"
   ]
  },
  {
   "cell_type": "markdown",
   "metadata": {},
   "source": [
    "Now it's a bit more clear as to how these lists are formatted. Each individual dictionary corresponds to a different tag that a video received, e.g. `'Funny'` or `'Persuasive'`. The associated `'count'` values represent the number of votes, or ratings, that video received for the corresponding tag. For instance, the first talk in the dataset received 10704 votes for the `'Persuasive'` tag.\n",
    "\n",
    "Below, we've defined a function that takes in a single value from the `'ratings'` column and returns a single dictionary (not a list of dictionaries) corresponding to the most common tag for that video. You don't need to understand how the function works."
   ]
  },
  {
   "cell_type": "code",
   "execution_count": 213,
   "metadata": {},
   "outputs": [],
   "source": [
    "def most_common_tag_dict(rating_str):\n",
    "    rating_list = eval(rating_str)\n",
    "    rating_list_sorted = sorted(rating_list, key=lambda x: x['count'])\n",
    "    return rating_list_sorted[-1]"
   ]
  },
  {
   "cell_type": "markdown",
   "metadata": {},
   "source": [
    "For example, in the string below, the tag with the most votes is `'Inspiring'`:"
   ]
  },
  {
   "cell_type": "code",
   "execution_count": 214,
   "metadata": {},
   "outputs": [
    {
     "data": {
      "text/plain": [
       "\"[{'id': 7, 'name': 'Funny', 'count': 19645}, {'id': 1, 'name': 'Beautiful', 'count': 4573}, {'id': 9, 'name': 'Ingenious', 'count': 6073}, {'id': 3, 'name': 'Courageous', 'count': 3253}, {'id': 11, 'name': 'Longwinded', 'count': 387}, {'id': 2, 'name': 'Confusing', 'count': 242}, {'id': 8, 'name': 'Informative', 'count': 7346}, {'id': 22, 'name': 'Fascinating', 'count': 10581}, {'id': 21, 'name': 'Unconvincing', 'count': 300}, {'id': 24, 'name': 'Persuasive', 'count': 10704}, {'id': 23, 'name': 'Jaw-dropping', 'count': 4439}, {'id': 25, 'name': 'OK', 'count': 1174}, {'id': 26, 'name': 'Obnoxious', 'count': 209}, {'id': 10, 'name': 'Inspiring', 'count': 24924}]\""
      ]
     },
     "execution_count": 214,
     "metadata": {},
     "output_type": "execute_result"
    }
   ],
   "source": [
    "first_rating_string"
   ]
  },
  {
   "cell_type": "markdown",
   "metadata": {},
   "source": [
    "And so:"
   ]
  },
  {
   "cell_type": "code",
   "execution_count": 215,
   "metadata": {},
   "outputs": [
    {
     "data": {
      "text/plain": [
       "{'id': 10, 'name': 'Inspiring', 'count': 24924}"
      ]
     },
     "execution_count": 215,
     "metadata": {},
     "output_type": "execute_result"
    }
   ],
   "source": [
    "most_common_tag_dict(first_rating_string)"
   ]
  },
  {
   "cell_type": "markdown",
   "metadata": {},
   "source": [
    "**Question 4.7.** Complete the implementation of the function `most_common_tag_name`, which takes in a value from the `'ratings'` column of `ted_with_question` and returns the name of the most common tag as a string. For instance, `most_common_tag_name(first_rating_string)` should return `'Inspiring'`.\n",
    "\n",
    "Then, assign `ted_final` to a DataFrame with all of the same columns as `ted_with_question`, with an additional column named `'most_common_tag'` containing the most common tag name for each talk.\n",
    "\n",
    "_*Hint*_: Most of the work has already been done for you – you should use `most_common_tag_dict` in your implementation of `most_common_tag_name`."
   ]
  },
  {
   "cell_type": "code",
   "execution_count": 217,
   "metadata": {},
   "outputs": [
    {
     "data": {
      "text/html": [
       "<div>\n",
       "<style scoped>\n",
       "    .dataframe tbody tr th:only-of-type {\n",
       "        vertical-align: middle;\n",
       "    }\n",
       "\n",
       "    .dataframe tbody tr th {\n",
       "        vertical-align: top;\n",
       "    }\n",
       "\n",
       "    .dataframe thead th {\n",
       "        text-align: right;\n",
       "    }\n",
       "</style>\n",
       "<table border=\"1\" class=\"dataframe\">\n",
       "  <thead>\n",
       "    <tr style=\"text-align: right;\">\n",
       "      <th></th>\n",
       "      <th>comments</th>\n",
       "      <th>duration</th>\n",
       "      <th>event</th>\n",
       "      <th>main_speaker</th>\n",
       "      <th>title</th>\n",
       "      <th>published_date</th>\n",
       "      <th>ratings</th>\n",
       "      <th>views</th>\n",
       "      <th>is_question</th>\n",
       "      <th>most_common_tag</th>\n",
       "    </tr>\n",
       "  </thead>\n",
       "  <tbody>\n",
       "    <tr>\n",
       "      <th>0</th>\n",
       "      <td>4553</td>\n",
       "      <td>1164</td>\n",
       "      <td>TED2006</td>\n",
       "      <td>Ken Robinson</td>\n",
       "      <td>Do schools kill creativity?</td>\n",
       "      <td>2006</td>\n",
       "      <td>[{'id': 7, 'name': 'Funny', 'count': 19645}, {...</td>\n",
       "      <td>47227110</td>\n",
       "      <td>True</td>\n",
       "      <td>Inspiring</td>\n",
       "    </tr>\n",
       "    <tr>\n",
       "      <th>1</th>\n",
       "      <td>265</td>\n",
       "      <td>977</td>\n",
       "      <td>TED2006</td>\n",
       "      <td>Al Gore</td>\n",
       "      <td>Averting the climate crisis</td>\n",
       "      <td>2006</td>\n",
       "      <td>[{'id': 7, 'name': 'Funny', 'count': 544}, {'i...</td>\n",
       "      <td>3200520</td>\n",
       "      <td>False</td>\n",
       "      <td>Funny</td>\n",
       "    </tr>\n",
       "    <tr>\n",
       "      <th>2</th>\n",
       "      <td>124</td>\n",
       "      <td>1286</td>\n",
       "      <td>TED2006</td>\n",
       "      <td>David Pogue</td>\n",
       "      <td>Simplicity sells</td>\n",
       "      <td>2006</td>\n",
       "      <td>[{'id': 7, 'name': 'Funny', 'count': 964}, {'i...</td>\n",
       "      <td>1636292</td>\n",
       "      <td>False</td>\n",
       "      <td>Funny</td>\n",
       "    </tr>\n",
       "    <tr>\n",
       "      <th>3</th>\n",
       "      <td>200</td>\n",
       "      <td>1116</td>\n",
       "      <td>TED2006</td>\n",
       "      <td>Majora Carter</td>\n",
       "      <td>Greening the ghetto</td>\n",
       "      <td>2006</td>\n",
       "      <td>[{'id': 3, 'name': 'Courageous', 'count': 760}...</td>\n",
       "      <td>1697550</td>\n",
       "      <td>False</td>\n",
       "      <td>Inspiring</td>\n",
       "    </tr>\n",
       "    <tr>\n",
       "      <th>4</th>\n",
       "      <td>593</td>\n",
       "      <td>1190</td>\n",
       "      <td>TED2006</td>\n",
       "      <td>Hans Rosling</td>\n",
       "      <td>The best stats you've ever seen</td>\n",
       "      <td>2006</td>\n",
       "      <td>[{'id': 9, 'name': 'Ingenious', 'count': 3202}...</td>\n",
       "      <td>12005869</td>\n",
       "      <td>False</td>\n",
       "      <td>Informative</td>\n",
       "    </tr>\n",
       "    <tr>\n",
       "      <th>...</th>\n",
       "      <td>...</td>\n",
       "      <td>...</td>\n",
       "      <td>...</td>\n",
       "      <td>...</td>\n",
       "      <td>...</td>\n",
       "      <td>...</td>\n",
       "      <td>...</td>\n",
       "      <td>...</td>\n",
       "      <td>...</td>\n",
       "      <td>...</td>\n",
       "    </tr>\n",
       "    <tr>\n",
       "      <th>2545</th>\n",
       "      <td>17</td>\n",
       "      <td>476</td>\n",
       "      <td>TED2017</td>\n",
       "      <td>Duarte Geraldino</td>\n",
       "      <td>What we're missing in the debate about immigra...</td>\n",
       "      <td>2017</td>\n",
       "      <td>[{'id': 3, 'name': 'Courageous', 'count': 24},...</td>\n",
       "      <td>450430</td>\n",
       "      <td>False</td>\n",
       "      <td>Informative</td>\n",
       "    </tr>\n",
       "    <tr>\n",
       "      <th>2546</th>\n",
       "      <td>6</td>\n",
       "      <td>290</td>\n",
       "      <td>TED2017</td>\n",
       "      <td>Armando Azua-Bustos</td>\n",
       "      <td>The most Martian place on Earth</td>\n",
       "      <td>2017</td>\n",
       "      <td>[{'id': 22, 'name': 'Fascinating', 'count': 32...</td>\n",
       "      <td>417470</td>\n",
       "      <td>False</td>\n",
       "      <td>Informative</td>\n",
       "    </tr>\n",
       "    <tr>\n",
       "      <th>2547</th>\n",
       "      <td>10</td>\n",
       "      <td>651</td>\n",
       "      <td>TED2017</td>\n",
       "      <td>Radhika Nagpal</td>\n",
       "      <td>What intelligent machines can learn from a sch...</td>\n",
       "      <td>2017</td>\n",
       "      <td>[{'id': 1, 'name': 'Beautiful', 'count': 14}, ...</td>\n",
       "      <td>375647</td>\n",
       "      <td>False</td>\n",
       "      <td>Informative</td>\n",
       "    </tr>\n",
       "    <tr>\n",
       "      <th>2548</th>\n",
       "      <td>32</td>\n",
       "      <td>1100</td>\n",
       "      <td>TEDxMileHigh</td>\n",
       "      <td>Theo E.J. Wilson</td>\n",
       "      <td>A black man goes undercover in the alt-right</td>\n",
       "      <td>2017</td>\n",
       "      <td>[{'id': 11, 'name': 'Longwinded', 'count': 3},...</td>\n",
       "      <td>419309</td>\n",
       "      <td>False</td>\n",
       "      <td>Inspiring</td>\n",
       "    </tr>\n",
       "    <tr>\n",
       "      <th>2549</th>\n",
       "      <td>8</td>\n",
       "      <td>519</td>\n",
       "      <td>TED2017</td>\n",
       "      <td>Karoliina Korppoo</td>\n",
       "      <td>How a video game might help us build better ci...</td>\n",
       "      <td>2017</td>\n",
       "      <td>[{'id': 21, 'name': 'Unconvincing', 'count': 2...</td>\n",
       "      <td>391721</td>\n",
       "      <td>False</td>\n",
       "      <td>Inspiring</td>\n",
       "    </tr>\n",
       "  </tbody>\n",
       "</table>\n",
       "<p>2550 rows × 10 columns</p>\n",
       "</div>"
      ],
      "text/plain": [
       "      comments  duration         event         main_speaker  \\\n",
       "0         4553      1164       TED2006         Ken Robinson   \n",
       "1          265       977       TED2006              Al Gore   \n",
       "2          124      1286       TED2006          David Pogue   \n",
       "3          200      1116       TED2006        Majora Carter   \n",
       "4          593      1190       TED2006         Hans Rosling   \n",
       "...        ...       ...           ...                  ...   \n",
       "2545        17       476       TED2017     Duarte Geraldino   \n",
       "2546         6       290       TED2017  Armando Azua-Bustos   \n",
       "2547        10       651       TED2017       Radhika Nagpal   \n",
       "2548        32      1100  TEDxMileHigh     Theo E.J. Wilson   \n",
       "2549         8       519       TED2017    Karoliina Korppoo   \n",
       "\n",
       "                                                  title  published_date  \\\n",
       "0                           Do schools kill creativity?            2006   \n",
       "1                           Averting the climate crisis            2006   \n",
       "2                                      Simplicity sells            2006   \n",
       "3                                   Greening the ghetto            2006   \n",
       "4                       The best stats you've ever seen            2006   \n",
       "...                                                 ...             ...   \n",
       "2545  What we're missing in the debate about immigra...            2017   \n",
       "2546                    The most Martian place on Earth            2017   \n",
       "2547  What intelligent machines can learn from a sch...            2017   \n",
       "2548       A black man goes undercover in the alt-right            2017   \n",
       "2549  How a video game might help us build better ci...            2017   \n",
       "\n",
       "                                                ratings     views  \\\n",
       "0     [{'id': 7, 'name': 'Funny', 'count': 19645}, {...  47227110   \n",
       "1     [{'id': 7, 'name': 'Funny', 'count': 544}, {'i...   3200520   \n",
       "2     [{'id': 7, 'name': 'Funny', 'count': 964}, {'i...   1636292   \n",
       "3     [{'id': 3, 'name': 'Courageous', 'count': 760}...   1697550   \n",
       "4     [{'id': 9, 'name': 'Ingenious', 'count': 3202}...  12005869   \n",
       "...                                                 ...       ...   \n",
       "2545  [{'id': 3, 'name': 'Courageous', 'count': 24},...    450430   \n",
       "2546  [{'id': 22, 'name': 'Fascinating', 'count': 32...    417470   \n",
       "2547  [{'id': 1, 'name': 'Beautiful', 'count': 14}, ...    375647   \n",
       "2548  [{'id': 11, 'name': 'Longwinded', 'count': 3},...    419309   \n",
       "2549  [{'id': 21, 'name': 'Unconvincing', 'count': 2...    391721   \n",
       "\n",
       "      is_question most_common_tag  \n",
       "0            True       Inspiring  \n",
       "1           False           Funny  \n",
       "2           False           Funny  \n",
       "3           False       Inspiring  \n",
       "4           False     Informative  \n",
       "...           ...             ...  \n",
       "2545        False     Informative  \n",
       "2546        False     Informative  \n",
       "2547        False     Informative  \n",
       "2548        False       Inspiring  \n",
       "2549        False       Inspiring  \n",
       "\n",
       "[2550 rows x 10 columns]"
      ]
     },
     "execution_count": 217,
     "metadata": {},
     "output_type": "execute_result"
    }
   ],
   "source": [
    "def most_common_tag_name(rating_string):\n",
    "    return most_common_tag_dict(rating_string)['name']\n",
    "\n",
    "ted_final = ted_with_question.assign(most_common_tag=ted_with_question.get('ratings').apply(most_common_tag_name))\n",
    "ted_final"
   ]
  },
  {
   "cell_type": "code",
   "execution_count": 218,
   "metadata": {
    "deletable": false,
    "editable": false
   },
   "outputs": [
    {
     "data": {
      "text/html": [
       "<p><strong><pre style='display: inline;'>q4_7</pre></strong> passed!</p>"
      ],
      "text/plain": [
       "q4_7 results: All test cases passed!"
      ]
     },
     "execution_count": 218,
     "metadata": {},
     "output_type": "execute_result"
    }
   ],
   "source": [
    "grader.check(\"q4_7\")"
   ]
  },
  {
   "cell_type": "markdown",
   "metadata": {},
   "source": [
    "**Question 4.8.** Finally, create a plot that depicts the distribution of the `'most_common_tag'` column."
   ]
  },
  {
   "cell_type": "markdown",
   "metadata": {
    "deletable": false,
    "editable": false
   },
   "source": [
    "<!-- BEGIN QUESTION -->\n",
    "\n",
    "<!--\n",
    "BEGIN QUESTION\n",
    "name: q4_8\n",
    "manual: true\n",
    "-->"
   ]
  },
  {
   "cell_type": "code",
   "execution_count": 219,
   "metadata": {},
   "outputs": [
    {
     "data": {
      "text/plain": [
       "<AxesSubplot:title={'center':'Distribution of Most Common Tags'}, xlabel='most_common_tag'>"
      ]
     },
     "execution_count": 219,
     "metadata": {},
     "output_type": "execute_result"
    },
    {
     "data": {
      "image/png": "[encoded data removed]",
      "text/plain": [
       "<Figure size 720x360 with 1 Axes>"
      ]
     },
     "metadata": {},
     "output_type": "display_data"
    }
   ],
   "source": [
    "tag_distribution = ted_final.groupby('most_common_tag').count().sort_values('title', ascending=False)\n",
    "tag_distribution.plot(kind='bar', y='title', title='Distribution of Most Common Tags', legend=False)"
   ]
  },
  {
   "cell_type": "markdown",
   "metadata": {},
   "source": [
    "<!-- END QUESTION -->\n",
    "\n",
    "\n",
    "\n",
    "Are you inspired? What would you give a talk about at TEDxUCSD if given a chance?\n",
    "\n",
    "If you're curious, in the cell below, create a plot that depicts the average number of views each `'most_common_tag'` received. Which `'most_common_tag'` is the most popular, on average? 😱"
   ]
  },
  {
   "cell_type": "code",
   "execution_count": 221,
   "metadata": {},
   "outputs": [
    {
     "data": {
      "text/plain": [
       "<AxesSubplot:title={'center':'Average Views per Most Common Tag'}, xlabel='most_common_tag'>"
      ]
     },
     "execution_count": 221,
     "metadata": {},
     "output_type": "execute_result"
    },
    {
     "data": {
      "image/png": "[encoded data removed]",
      "text/plain": [
       "<Figure size 720x360 with 1 Axes>"
      ]
     },
     "metadata": {},
     "output_type": "display_data"
    }
   ],
   "source": [
    "average_views_per_tag = ted_final.groupby('most_common_tag').mean().get(['views']).sort_values('views', ascending=False)\n",
    "average_views_per_tag.plot(kind='bar', y='views', title='Average Views per Most Common Tag', legend=False)"
   ]
  },
  {
   "cell_type": "markdown",
   "metadata": {},
   "source": [
    "<div class=\"alert alert-block alert-danger\">\n",
    "    In this question, we used the Python <code>eval</code> function out of necessity. In general, it's a good idea to <b>avoid</b> the <code>eval</code> function. This is because it's possible to call it on an input that looks safe, but contains malicious code. If you're really curious, watch starting around 9 minutes in <a href=\"https://podcast.ucsd.edu/watch/wi23/dsc80_a00/15\">this video</a> – you can see an example from another data science course where we call the <code>eval</code> function and lose all of our files!\n",
    "</div>"
   ]
  },
  {
   "cell_type": "markdown",
   "metadata": {},
   "source": [
    "## 5. Final Stretch 🧘‍♀️"
   ]
  },
  {
   "cell_type": "markdown",
   "metadata": {},
   "source": [
    "Suppose we have a DataFrame called `data` with two numerical columns, `'x'` and `'y'`. Consider the following scatter plot, which was generated by calling `data.plot(kind='scatter', x='x', y='y')`:\n",
    "\n",
    "<img src=\"images/q4_scatter_plot.png\" width=400/>\n",
    "\n",
    "Now consider these two histograms:\n",
    "\n",
    "<center>\n",
    "    <table><tr>\n",
    "        <td><center><b>Histogram A</b><br> <img src=\"images/q4_histogram_one.png\" width=400></center> </td>\n",
    "        <td><center><b>Histogram B</b><br> <img src=\"images/q4_histogram_two.png\" width=400></center> </td>\n",
    "    </tr></table>\n",
    "</center>"
   ]
  },
  {
   "cell_type": "markdown",
   "metadata": {},
   "source": [
    "**Question 5.1.** Which of the following lines of code generated **Histogram B**? Assign either `1`, `2`, `3`, or `4` to `which_code`.\n",
    " 1. `data.plot(kind='hist', density=False, y='x')`\n",
    " 2. `data.plot(kind='hist', density=False, y='y')` \n",
    " 3. `data.plot(kind='hist', density=True, y='x')`\n",
    " 4. `data.plot(kind='hist', density=True, y='y')`"
   ]
  },
  {
   "cell_type": "code",
   "execution_count": 222,
   "metadata": {},
   "outputs": [],
   "source": [
    "which_code = 2"
   ]
  },
  {
   "cell_type": "code",
   "execution_count": 223,
   "metadata": {
    "deletable": false,
    "editable": false
   },
   "outputs": [
    {
     "data": {
      "text/html": [
       "<p><strong><pre style='display: inline;'>q5_1</pre></strong> passed!</p>"
      ],
      "text/plain": [
       "q5_1 results: All test cases passed!"
      ]
     },
     "execution_count": 223,
     "metadata": {},
     "output_type": "execute_result"
    }
   ],
   "source": [
    "grader.check(\"q5_1\")"
   ]
  },
  {
   "cell_type": "markdown",
   "metadata": {},
   "source": [
    "**Question 5.2.** Suppose we run this block of code:\n",
    "\n",
    "```py\n",
    "new_data = bpd.DataFrame().assign(\n",
    "    x = data.get('x') / 3,\n",
    "    y = data.get('y')\n",
    ")\n",
    "```\n",
    "    \n",
    "We then run \n",
    "\n",
    "`new_data.plot(kind='hist', density=True, y='x')`.\n",
    "\n",
    "How will this histogram look compared to the histogram created by \n",
    "\n",
    "`data.plot(kind='hist', density=True, y='x')`, \n",
    "\n",
    "assuming both histograms are drawn on the same axes? Assign `histogram_difference` to either 1, 2, 3, or 4, corresponding to your choice.\n",
    "\n",
    "1. The `new_data` histogram will be narrower and taller than the `data` histogram.\n",
    "2. The `new_data` histogram will be narrower and shorter than the `data` histogram.\n",
    "3. The `new_data` histogram will be wider and taller than the `data` histogram.\n",
    "4. The `new_data` histogram will be wider and shorter than the `data` histogram.\n",
    "\n",
    "_*Hint*_: Look at the end of [Lecture 7](https://dsc10.com/resources/lectures/lec07/lec07.html#Plotting-overlaid-histograms) for an example of two histograms drawn on the same axes."
   ]
  },
  {
   "cell_type": "code",
   "execution_count": 224,
   "metadata": {},
   "outputs": [],
   "source": [
    "histogram_difference = 1"
   ]
  },
  {
   "cell_type": "code",
   "execution_count": 225,
   "metadata": {
    "deletable": false,
    "editable": false
   },
   "outputs": [
    {
     "data": {
      "text/html": [
       "<p><strong><pre style='display: inline;'>q5_2</pre></strong> passed!</p>"
      ],
      "text/plain": [
       "q5_2 results: All test cases passed!"
      ]
     },
     "execution_count": 225,
     "metadata": {},
     "output_type": "execute_result"
    }
   ],
   "source": [
    "grader.check(\"q5_2\")"
   ]
  },
  {
   "cell_type": "markdown",
   "metadata": {},
   "source": [
    "**Question 5.3.** Below, we show Histogram A again.\n",
    "\n",
    "<img src=\"./images/q4_histogram_one.png\" width=400/>\n",
    "\n",
    "What **percent** of values in Histogram A are between -2 (inclusive) and 0 (exclusive)? While we cannot answer this question exactly since we do not know where the bins start and end, we can still approximate the answer. Assign the variable `percent_between` to a number 1 through 5, corresponding to the closest answer.\n",
    "\n",
    "1. 22% \n",
    "2. 27% \n",
    "3. 34%\n",
    "4. 41%\n",
    "5. 48%"
   ]
  },
  {
   "cell_type": "code",
   "execution_count": 226,
   "metadata": {},
   "outputs": [],
   "source": [
    "percent_between = 3"
   ]
  },
  {
   "cell_type": "code",
   "execution_count": 227,
   "metadata": {
    "deletable": false,
    "editable": false
   },
   "outputs": [
    {
     "data": {
      "text/html": [
       "<p><strong><pre style='display: inline;'>q5_3</pre></strong> passed!</p>"
      ],
      "text/plain": [
       "q5_3 results: All test cases passed!"
      ]
     },
     "execution_count": 227,
     "metadata": {},
     "output_type": "execute_result"
    }
   ],
   "source": [
    "grader.check(\"q5_3\")"
   ]
  },
  {
   "cell_type": "markdown",
   "metadata": {},
   "source": [
    "## Finish Line "
   ]
  },
  {
   "cell_type": "markdown",
   "metadata": {},
   "source": [
    "To submit your assignment:\n",
    "\n",
    "1. Select `Kernel -> Restart & Run All` to ensure that you have executed all cells, including the test cells.\n",
    "2. Read through the notebook to make sure everything is fine and all tests passed.\n",
    "3. Run the cell below to run all tests, and make sure that they all pass.\n",
    "4. Download your notebook using `File -> Download as -> Notebook (.ipynb)`, then upload your notebook to Gradescope.\n",
    "5. Stick around while the Gradescope autograder grades your work. Make sure you see that all tests have passed on Gradescope.\n",
    "6. Check that you have a confirmation email from Gradescope and save it as proof of your submission. \n",
    "\n",
    "With homeworks, unlike with labs, the grade you see on Gradescope is **not your final score**. We will run correctness tests after the assignment's due date has passed."
   ]
  },
  {
   "cell_type": "code",
   "execution_count": 228,
   "metadata": {},
   "outputs": [
    {
     "data": {
      "text/plain": [
       "q1_1 results: All test cases passed!\n",
       "\n",
       "q1_2 results: All test cases passed!\n",
       "\n",
       "q1_3 results: All test cases passed!\n",
       "\n",
       "q1_4 results: All test cases passed!\n",
       "\n",
       "q1_5 results: All test cases passed!\n",
       "\n",
       "q1_6 results: All test cases passed!\n",
       "\n",
       "q1_7 results: All test cases passed!\n",
       "\n",
       "q2_1 results: All test cases passed!\n",
       "\n",
       "q2_2 results: All test cases passed!\n",
       "\n",
       "q2_4 results: All test cases passed!\n",
       "\n",
       "q2_5 results: All test cases passed!\n",
       "\n",
       "q2_6 results: All test cases passed!\n",
       "\n",
       "q2_7 results:\n",
       "    q2_7 - 1 result:\n",
       "        Trying:\n",
       "            best_price_indicator in [1, 2, 3, 4]\n",
       "        Expecting:\n",
       "            True\n",
       "        **********************************************************************\n",
       "        Line 1, in q2_7 0\n",
       "        Failed example:\n",
       "            best_price_indicator in [1, 2, 3, 4]\n",
       "        Exception raised:\n",
       "            Traceback (most recent call last):\n",
       "              File \"/opt/conda/lib/python3.9/doctest.py\", line 1336, in __run\n",
       "                exec(compile(example.source, filename, \"single\",\n",
       "              File \"<doctest q2_7 0[0]>\", line 1, in <module>\n",
       "                best_price_indicator in [1, 2, 3, 4]\n",
       "            NameError: name 'best_price_indicator' is not defined\n",
       "\n",
       "q3_1 results: All test cases passed!\n",
       "\n",
       "q3_2 results: All test cases passed!\n",
       "\n",
       "q3_3 results: All test cases passed!\n",
       "\n",
       "q3_5 results: All test cases passed!\n",
       "\n",
       "q3_7 results:\n",
       "    q3_7 - 1 result:\n",
       "        Trying:\n",
       "            isinstance(director_of_27, str)\n",
       "        Expecting:\n",
       "            True\n",
       "        **********************************************************************\n",
       "        Line 1, in q3_7 0\n",
       "        Failed example:\n",
       "            isinstance(director_of_27, str)\n",
       "        Exception raised:\n",
       "            Traceback (most recent call last):\n",
       "              File \"/opt/conda/lib/python3.9/doctest.py\", line 1336, in __run\n",
       "                exec(compile(example.source, filename, \"single\",\n",
       "              File \"<doctest q3_7 0[0]>\", line 1, in <module>\n",
       "                isinstance(director_of_27, str)\n",
       "            NameError: name 'director_of_27' is not defined\n",
       "\n",
       "q4_1 results: All test cases passed!\n",
       "\n",
       "q4_2 results: All test cases passed!\n",
       "\n",
       "q4_3 results: All test cases passed!\n",
       "\n",
       "q4_4 results: All test cases passed!\n",
       "\n",
       "q4_5 results: All test cases passed!\n",
       "\n",
       "q4_7 results: All test cases passed!\n",
       "\n",
       "q5_1 results: All test cases passed!\n",
       "\n",
       "q5_2 results: All test cases passed!\n",
       "\n",
       "q5_3 results: All test cases passed!"
      ]
     },
     "execution_count": 228,
     "metadata": {},
     "output_type": "execute_result"
    }
   ],
   "source": [
    "grader.check_all()"
   ]
  },
  {
   "cell_type": "code",
   "execution_count": null,
   "metadata": {},
   "outputs": [],
   "source": []
  }
 ],
 "metadata": {
  "kernelspec": {
   "display_name": "Python 3 (ipykernel)",
   "language": "python",
   "name": "python3"
  },
  "language_info": {
   "codemirror_mode": {
    "name": "ipython",
    "version": 3
   },
   "file_extension": ".py",
   "mimetype": "text/x-python",
   "name": "python",
   "nbconvert_exporter": "python",
   "pygments_lexer": "ipython3",
   "version": "3.9.5"
  },
  "toc": {
   "base_numbering": 1,
   "nav_menu": {},
   "number_sections": true,
   "sideBar": true,
   "skip_h1_title": false,
   "title_cell": "Table of Contents",
   "title_sidebar": "Contents",
   "toc_cell": false,
   "toc_position": {},
   "toc_section_display": true,
   "toc_window_display": false
  }
 },
 "nbformat": 4,
 "nbformat_minor": 4
}
