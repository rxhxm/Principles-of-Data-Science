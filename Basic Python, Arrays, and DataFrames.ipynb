{
 "cells": [
  {
   "cell_type": "markdown",
   "metadata": {},
   "source": [
    "# Homework 1: Basic Python, Arrays, and DataFrames\n",
    "\n",
    "## Due Tuesday, April 18th at 11:59PM\n",
    "\n",
    "Welcome to Homework 1! This week's homework will cover basic Python, arrays, and DataFrames. You can find additional help on these topics in [Chapter 1](https://www.inferentialthinking.com/chapters/01/what-is-data-science.html) of Computational and Inferential Thinking and [BPD 1-11](https://notes.dsc10.com/01-getting_started/tools.html) in the `babypandas` notes.\n"
   ]
  },
  {
   "cell_type": "markdown",
   "metadata": {},
   "source": [
    "### Instructions\n",
    "\n",
    "Remember to start early and submit often. You are given six slip days throughout the quarter to extend deadlines. See the syllabus for more details. With the exception of using slip days, late work will not be accepted unless you have made special arrangements with your instructor.\n",
    "\n",
    "**Important**: For homeworks, the `otter` tests don't usually tell you that your answer is correct. More often, they help catch careless mistakes. It's up to you to ensure that your answer is correct. If you're not sure, ask someone (not for the answer, but for some guidance about your approach). These are great questions for office hours (the schedule can be found [here](https://dsc10.com/calendar)) or Ed. Directly sharing answers is not okay, but discussing problems with the course staff or with other students is encouraged. "
   ]
  },
  {
   "cell_type": "code",
   "execution_count": 2,
   "metadata": {},
   "outputs": [],
   "source": [
    "# Please don't change this cell, but do make sure to run it.\n",
    "import babypandas as bpd\n",
    "import matplotlib.pyplot as plt\n",
    "import numpy as np\n",
    "import otter\n",
    "grader = otter.Notebook()\n",
    "\n",
    "plt.style.use('ggplot')"
   ]
  },
  {
   "cell_type": "markdown",
   "metadata": {},
   "source": [
    "## 1. Characters in The Wonderful Wizard of Oz 👠🧠❤️🦁"
   ]
  },
  {
   "cell_type": "markdown",
   "metadata": {},
   "source": [
    "In Lecture 1, we counted the number of times that the characters Amy, Beth, Jo, Meg, and Laurie were named in each chapter of the classic book _Little Women_. In this question, we'll look at another classic book – _The Wonderful Wizard of Oz (1900)_ by L. Franke Baum and illustrated by W.W. Denslow. In 1956, the copyright protections of the original book (but not the 1939 film produced by Metro-Goldwyn-Mayer!) expired, and so sites like Project Gutenberg are now able to post copies of the book without violating any copyright laws. [Click here](https://www.gutenberg.org/files/55/55-h/55-h.htm) to read a version of the book that has all of its original illustrations!"
   ]
  },
  {
   "cell_type": "markdown",
   "metadata": {},
   "source": [
    "<center><img src=data/wizard-of-oz-illustration.png width=350>(<a href=\"https://www.nypl.org/events/exhibitions/galleries/childhood/item/5458\">source</a>)</center>"
   ]
  },
  {
   "cell_type": "markdown",
   "metadata": {},
   "source": [
    "Four of the main characters in _The Wonderful Wizard of Oz_ are Dorothy Gale (👠), Scarecrow (🧠), The Tin Man (❤️), and The Cowardly Lion (🦁).\n",
    "\n",
    "Below, we've written code that shows the number of mentions of each of these four characters in the first 12 chapters of the book. However, instead of displaying this information in a line chart, as was done in Lecture 1, we will use a bar chart.\n",
    "\n",
    "Run the cell below to generate this bar chart of the first 12 chapters. This cell contains code that hasn't yet been covered in the course. It isn't expected that you'll understand the code, but you should be able to interpret the bar chart it generates."
   ]
  },
  {
   "cell_type": "code",
   "execution_count": 3,
   "metadata": {},
   "outputs": [
    {
     "data": {
      "image/png": "[encoded data removed]",
      "text/plain": [
       "<Figure size 1008x576 with 1 Axes>"
      ]
     },
     "metadata": {},
     "output_type": "display_data"
    }
   ],
   "source": [
    "# Open the book and split it into chapters.\n",
    "book_file = 'data/the-wonderful-wizard-of-oz.txt'\n",
    "raw_book = open(book_file, encoding=\"utf-8\").read()\n",
    "end_pos = raw_book.index('Chapter XIII')\n",
    "chapters = raw_book[:end_pos].split('Chapter ')[1:]\n",
    "\n",
    "# Find the number of words in each chapter.\n",
    "chapter_lengths = (np.array([len(c.split(' ')) for c in chapters]) / 100)\n",
    "\n",
    "# Find the number of mentions per 100 words for each character and chapter.\n",
    "characters = bpd.DataFrame().assign(\n",
    "    Chapter=np.arange(1, 13),\n",
    "    Dorothy=np.char.count(chapters, 'Dorothy') / chapter_lengths,\n",
    "    Scarecrow=np.char.count(chapters, 'Scarecrow') / chapter_lengths,\n",
    "    Lion=np.char.count(chapters, 'Lion') / chapter_lengths,\n",
    "    Tin_Man=np.char.count(chapters, 'Tin Woodman') / chapter_lengths\n",
    ")\n",
    "\n",
    "characters.plot(kind='bar', x='Chapter', figsize=(14, 8))\n",
    "plt.ylabel('Mentions per 100 words in chapter');"
   ]
  },
  {
   "cell_type": "markdown",
   "metadata": {},
   "source": [
    "Looking at the bar chart, we see that the height of the bar for Dorothy in Chapter 1 is 1.62 and the y-axis of this graph is “Mentions per 100 words in chapter”;  this means that 1.62 of every 100 words in Chapter 1 are `\"Dorothy\"`. In other words, $1.62\\%$ of the words in Chapter 1 are `\"Dorothy\"`."
   ]
  },
  {
   "cell_type": "markdown",
   "metadata": {},
   "source": [
    "**Question 1.1.**  The following sentences are the very first time Scarecrow, Tin Man (real name Tim Woodman), and the Lion are mentioned in the book, respectively:\n",
    "\n",
    "> There was a great cornfield beyond the fence, and not far away she saw a Scarecrow, placed high on a pole to keep the birds from the ripe corn.\n",
    "\n",
    "> \"Oil my neck, first,\" replied the Tin Woodman.\n",
    "\n",
    "> Just as he spoke there came from the forest a terrible roar, and the next moment a great Lion bounded into the road.\n",
    "\n",
    "Which chapters are each of these sentences from? Assign the variables `scarecrow_debut`, `tin_man_debut`, `lion_debut` to an integer between 1 and 12."
   ]
  },
  {
   "cell_type": "code",
   "execution_count": 4,
   "metadata": {},
   "outputs": [],
   "source": [
    "scarecrow_debut = 3\n",
    "tin_man_debut = 5\n",
    "lion_debut = 6"
   ]
  },
  {
   "cell_type": "code",
   "execution_count": 5,
   "metadata": {
    "deletable": false,
    "editable": false
   },
   "outputs": [
    {
     "data": {
      "text/html": [
       "<p><strong><pre style='display: inline;'>q1_1</pre></strong> passed!</p>"
      ],
      "text/plain": [
       "q1_1 results: All test cases passed!"
      ]
     },
     "execution_count": 5,
     "metadata": {},
     "output_type": "execute_result"
    }
   ],
   "source": [
    "grader.check(\"q1_1\")"
   ]
  },
  {
   "cell_type": "markdown",
   "metadata": {},
   "source": [
    "**Question 1.2.** Dorothy is mentioned 38 times in Chapter 12. How many times is Lion mentioned in Chapter 12? Assign the variable `lion_mentioned` to 1, 2, 3, 4, or 5 corresponding to the answer choices below. Remember to input your answer as a **number from 1-5 corresponding to the option numbers below, and not to the number of times Lion is mentioned.** For example, if you think Lion is mentioned 13 times, you should set `lion_mentioned` to 5, not 13.\n",
    "\n",
    "1. 20 times\n",
    "1. 15 times\n",
    "1. 17 times\n",
    "1. 19 times\n",
    "1. 13 times"
   ]
  },
  {
   "cell_type": "code",
   "execution_count": 6,
   "metadata": {},
   "outputs": [],
   "source": [
    "lion_mentioned = 3"
   ]
  },
  {
   "cell_type": "code",
   "execution_count": 7,
   "metadata": {
    "deletable": false,
    "editable": false
   },
   "outputs": [
    {
     "data": {
      "text/html": [
       "<p><strong><pre style='display: inline;'>q1_2</pre></strong> passed!</p>"
      ],
      "text/plain": [
       "q1_2 results: All test cases passed!"
      ]
     },
     "execution_count": 7,
     "metadata": {},
     "output_type": "execute_result"
    }
   ],
   "source": [
    "grader.check(\"q1_2\")"
   ]
  },
  {
   "cell_type": "markdown",
   "metadata": {},
   "source": [
    "**Question 1.3.** Chapter 11 is quite long, as its the chapter when the characters reach the Emerald City. For reference, Chapter 8 is 1764 words long while Chapter 11 is 3294 words long. Based on this information and the plot, which of the following is correct? Assign the variable `oz_part3` to 1, 2, 3, or 4.\n",
    "\n",
    "1. Scarecrow is mentioned more times in Chapter 8 than in Chapter 11. Tin Man is mentioned more times in Chapter 8 than in Chapter 11.\n",
    "1. Scarecrow is mentioned more times in Chapter 8 than in Chapter 11. Tin Man is mentioned fewer times in Chapter 8 than in Chapter 11.\n",
    "1. Scarecrow is mentioned fewer times in Chapter 8 than in Chapter 11. Tin Man is mentioned more times in Chapter 8 than in Chapter 11.\n",
    "1. Scarecrow is mentioned fewer times in Chapter 8 than in Chapter 11. Tin Man is mentioned fewer times in Chapter 8 than in Chapter 11."
   ]
  },
  {
   "cell_type": "code",
   "execution_count": 8,
   "metadata": {},
   "outputs": [],
   "source": [
    "oz_part3 = 4"
   ]
  },
  {
   "cell_type": "code",
   "execution_count": 9,
   "metadata": {
    "deletable": false,
    "editable": false
   },
   "outputs": [
    {
     "data": {
      "text/html": [
       "<p><strong><pre style='display: inline;'>q1_3</pre></strong> passed!</p>"
      ],
      "text/plain": [
       "q1_3 results: All test cases passed!"
      ]
     },
     "execution_count": 9,
     "metadata": {},
     "output_type": "execute_result"
    }
   ],
   "source": [
    "grader.check(\"q1_3\")"
   ]
  },
  {
   "cell_type": "markdown",
   "metadata": {},
   "source": [
    "**Question 1.4.** Which of the following is a valid conclusion we can make based off of the above plot alone? Assign `oz_part4` to 1, 2, 3, 4, or 5. There is only one correct answer.\n",
    "\n",
    "1. Lion is mentioned more times in Chapter 10 than he is in Chapter 6.\n",
    "\n",
    "1. The chapter that Tin Man is mentioned the most in is Chapter 12.\n",
    "\n",
    "1. Lion is mentioned roughly the same number of times in each of Chapters 6, 8, and 10.\n",
    "\n",
    "1. The chapter that Dorothy is mentioned the least in is Chapter 8.\n",
    "\n",
    "1. Scarecrow and Tin Man are mentioned roughly the same number of times in Chapter 6."
   ]
  },
  {
   "cell_type": "code",
   "execution_count": 10,
   "metadata": {},
   "outputs": [],
   "source": [
    "oz_part4 = 5"
   ]
  },
  {
   "cell_type": "code",
   "execution_count": 11,
   "metadata": {
    "deletable": false,
    "editable": false
   },
   "outputs": [
    {
     "data": {
      "text/html": [
       "<p><strong><pre style='display: inline;'>q1_4</pre></strong> passed!</p>"
      ],
      "text/plain": [
       "q1_4 results: All test cases passed!"
      ]
     },
     "execution_count": 11,
     "metadata": {},
     "output_type": "execute_result"
    }
   ],
   "source": [
    "grader.check(\"q1_4\")"
   ]
  },
  {
   "cell_type": "markdown",
   "metadata": {},
   "source": [
    "*Note:* The tests in this section only check that you set each variable to a number in the correct range. Unlike in labs, tests in homeworks **do not** check that you answered correctly; they only check that your answer is *reasonable*, or in the correct format. To put it another way: all of your tests might pass, but that doesn't mean you'll get full credit – some of your answers may still be wrong. It's up to you to make sure that they're right!"
   ]
  },
  {
   "cell_type": "markdown",
   "metadata": {},
   "source": [
    "## 2. Python Basics 🐍"
   ]
  },
  {
   "cell_type": "markdown",
   "metadata": {},
   "source": [
    "**Question 2.1.** When you run the following cell, Python produces a cryptic error message."
   ]
  },
  {
   "cell_type": "code",
   "execution_count": 13,
   "metadata": {},
   "outputs": [],
   "source": [
    "#2023 = 2025 - 2.0"
   ]
  },
  {
   "cell_type": "markdown",
   "metadata": {},
   "source": [
    "Choose the best explanation of what's wrong with the code, and then assign 1, 2, 3, or 4 to `basics_part1` below to indicate your answer.\n",
    "\n",
    "1. The left hand side is an `int`, while the right hand side is a `float`. It should be `2023.0 = 2025 - 2.0`.\n",
    "\n",
    "1. This is trying to create a variable named `2023`, which doesn't make sense because `2023` is a number.\n",
    "\n",
    "1. The result should be written after the calculation. It should be `2025 - 2.0 = 2023`.\n",
    "\n",
    "1. Python is not able to subtract a `float` from an `int` because they are of different data types.\n"
   ]
  },
  {
   "cell_type": "markdown",
   "metadata": {},
   "source": [
    "<font color=red>**🚨 Important: Once you have finished this question, \"comment\"  out the above code cell out by replacing it with `# 2023 = 2025 - 2.0`. This will prevent the error message from appearing when your notebook is graded.**</font>"
   ]
  },
  {
   "cell_type": "code",
   "execution_count": 14,
   "metadata": {},
   "outputs": [],
   "source": [
    "basics_part1 = 2"
   ]
  },
  {
   "cell_type": "code",
   "execution_count": 15,
   "metadata": {
    "deletable": false,
    "editable": false
   },
   "outputs": [
    {
     "data": {
      "text/html": [
       "<p><strong><pre style='display: inline;'>q2_1</pre></strong> passed!</p>"
      ],
      "text/plain": [
       "q2_1 results: All test cases passed!"
      ]
     },
     "execution_count": 15,
     "metadata": {},
     "output_type": "execute_result"
    }
   ],
   "source": [
    "grader.check(\"q2_1\")"
   ]
  },
  {
   "cell_type": "markdown",
   "metadata": {},
   "source": [
    "**Question 2.2.** Consider the following poorly-written code."
   ]
  },
  {
   "cell_type": "code",
   "execution_count": 16,
   "metadata": {},
   "outputs": [],
   "source": [
    "two = 2\n",
    "three = 3\n",
    "two = two + three\n",
    "two = two * three\n",
    "two = two * two\n",
    "two = -two"
   ]
  },
  {
   "cell_type": "markdown",
   "metadata": {},
   "source": [
    "As this code executes, what values does the variable `two` take on? Assign 1, 2, 3, or 4 to `basics_part2` to indicate your answer.\n",
    "\n",
    "1. The variable `two` takes on the values 2, 5, 6, 4, -4.\n",
    "\n",
    "2. The variable `two` takes on the values 2, 5, 6, 12, -12.\n",
    "\n",
    "3. The variable `two` takes on the values 2, 5, 15, 225, -225.\n",
    "\n",
    "4. The variable `two` takes on the values 2, 5, 12, 144, -144."
   ]
  },
  {
   "cell_type": "code",
   "execution_count": 17,
   "metadata": {},
   "outputs": [],
   "source": [
    "basics_part2 = 3"
   ]
  },
  {
   "cell_type": "code",
   "execution_count": 18,
   "metadata": {
    "deletable": false,
    "editable": false
   },
   "outputs": [
    {
     "data": {
      "text/html": [
       "<p><strong><pre style='display: inline;'>q2_2</pre></strong> passed!</p>"
      ],
      "text/plain": [
       "q2_2 results: All test cases passed!"
      ]
     },
     "execution_count": 18,
     "metadata": {},
     "output_type": "execute_result"
    }
   ],
   "source": [
    "grader.check(\"q2_2\")"
   ]
  },
  {
   "cell_type": "markdown",
   "metadata": {},
   "source": [
    "## 3. Road Trip   🚘 "
   ]
  },
  {
   "cell_type": "markdown",
   "metadata": {},
   "source": [
    "Over spring break, you went on a road trip with a friend. Now, you want to perform some calculations on data you gathered throughout your journey. Answer the questions below, using Python to perform all the intermediate calculations, such as adding, squaring, and dividing.\n",
    "\n",
    "Note that the `math` package has not been imported. You don't need it for this question, and **you should not import it**, otherwise the autograder may produce an error.\n",
    "\n",
    "**Question 3.1.** On the first day of the trip, your friend drove the car at three different speeds, for varying lengths of time, as shown below:\n",
    "\n",
    "| Journey | Speed (miles per hour) | Time (hours)|\n",
    "| --- | --- | --- |\n",
    "| Part 1 | 56 | 3 |\n",
    "| Part 2 | 43 | 4 |\n",
    "| Part 3 | 80 | 2 |\n",
    "\n",
    "\n",
    "Using this information, calculate the average speed, in miles per hour, at which your friend drove the car that day, and assign your answer to the variable `means_part1`. Recall from math and physics that average speed is the total distance divided by total time."
   ]
  },
  {
   "cell_type": "code",
   "execution_count": 19,
   "metadata": {},
   "outputs": [
    {
     "data": {
      "text/plain": [
       "55.55555555555556"
      ]
     },
     "execution_count": 19,
     "metadata": {},
     "output_type": "execute_result"
    }
   ],
   "source": [
    "# Feel free to define intermediate variables to use in your solution.\n",
    "\n",
    "\n",
    "total_distance = ((56*3)+(43*4)+(80*2))\n",
    "total_time = 3+4+2\n",
    "means_part1 = total_distance/total_time\n",
    "means_part1"
   ]
  },
  {
   "cell_type": "code",
   "execution_count": 20,
   "metadata": {
    "deletable": false,
    "editable": false
   },
   "outputs": [
    {
     "data": {
      "text/html": [
       "<p><strong><pre style='display: inline;'>q3_1</pre></strong> passed!</p>"
      ],
      "text/plain": [
       "q3_1 results: All test cases passed!"
      ]
     },
     "execution_count": 20,
     "metadata": {},
     "output_type": "execute_result"
    }
   ],
   "source": [
    "grader.check(\"q3_1\")"
   ]
  },
  {
   "cell_type": "markdown",
   "metadata": {},
   "source": [
    "**Question 3.2.** On the second day of the trip, your friend drove the car three times again, but this time at the speeds and distances seen below:\n",
    "\n",
    "| Journey | Speed (miles per hour) | Distance (miles)|\n",
    "| --- | --- | --- |\n",
    "| Part 1 | 56 | 3 |\n",
    "| Part 2 | 43 | 4 |\n",
    "| Part 3 | 80 | 2 |\n",
    "\n",
    "Using this information, calculate the average speed, in miles per hour, at which your friend drove the car that day, and assign your answer to the variable `means_part2`. \n",
    "\n",
    "Note that the third column is **Distance (miles), not Time (hours).** Unlike in Question 3.1, you aren't given the amount of time that each part of the journey took; you need to compute these times yourself. To calculate the time taken for each part of the journey, divide the distance for that part by the speed for that part. Finally, add up the times for the three parts of the trip to find the total time."
   ]
  },
  {
   "cell_type": "code",
   "execution_count": 21,
   "metadata": {},
   "outputs": [
    {
     "data": {
      "text/plain": [
       "52.44917715392062"
      ]
     },
     "execution_count": 21,
     "metadata": {},
     "output_type": "execute_result"
    }
   ],
   "source": [
    "# Feel free to define intermediate variables to use in your solution.\n",
    "\n",
    "\n",
    "total_distance2 = 3+4+2\n",
    "total_time2 = ((3/56)+(4/43)+(2/80))\n",
    "\n",
    "means_part2 = total_distance2/total_time2\n",
    "means_part2"
   ]
  },
  {
   "cell_type": "code",
   "execution_count": 22,
   "metadata": {
    "deletable": false,
    "editable": false
   },
   "outputs": [
    {
     "data": {
      "text/html": [
       "<p><strong><pre style='display: inline;'>q3_2</pre></strong> passed!</p>"
      ],
      "text/plain": [
       "q3_2 results: All test cases passed!"
      ]
     },
     "execution_count": 22,
     "metadata": {},
     "output_type": "execute_result"
    }
   ],
   "source": [
    "grader.check(\"q3_2\")"
   ]
  },
  {
   "cell_type": "markdown",
   "metadata": {},
   "source": [
    "**Question 3.3.** On the way back home, your friend stops at a pet store to buy an aquarium. The only one available is a rectangular tank, which unfortunately doesn't fit in the car because of your suitcases. This tank has a height of 34 inches, a width of 47 inches, and a length of 65 inches. \n",
    "\n",
    "Your friend thinks that the aquarium would have fit in the car with all your suitcases if it had the same volume, but was shaped as a cube instead. What would the length of each side of such an aquarium be in inches? Save your answer in the variable `means_part3`."
   ]
  },
  {
   "cell_type": "code",
   "execution_count": 25,
   "metadata": {},
   "outputs": [
    {
     "data": {
      "text/plain": [
       "47.00709112865316"
      ]
     },
     "execution_count": 25,
     "metadata": {},
     "output_type": "execute_result"
    }
   ],
   "source": [
    "# Feel free to define intermediate variables to use in your solution.\n",
    "\n",
    "\n",
    "means_part3 = (34*47*65)**(1/3)\n",
    "means_part3"
   ]
  },
  {
   "cell_type": "code",
   "execution_count": 26,
   "metadata": {
    "deletable": false,
    "editable": false
   },
   "outputs": [
    {
     "data": {
      "text/html": [
       "<p><strong><pre style='display: inline;'>q3_3</pre></strong> passed!</p>"
      ],
      "text/plain": [
       "q3_3 results: All test cases passed!"
      ]
     },
     "execution_count": 26,
     "metadata": {},
     "output_type": "execute_result"
    }
   ],
   "source": [
    "grader.check(\"q3_3\")"
   ]
  },
  {
   "cell_type": "markdown",
   "metadata": {},
   "source": [
    "In this problem, though you calculated three different quantities in three different ways, all of your results are actually considered **means**, of various kinds!\n",
    "\n",
    "In Question 3.1., given $n$ values $x_1, x_2, ..., x_n$, you found an *arithmetic mean*, using the formula\n",
    "\n",
    "$${x_1+x_2+...+x_n \\over n},$$\n",
    "\n",
    "where the numerator represented total distance and the denominator represented total time. An arithmetic mean is the usual type of mean or average you're used to seeing. It turns out that you actually computed a more sophisticated arithmetic mean, known as a _weighted arithmetic mean_, \n",
    "\n",
    "$$\\frac{w_1 x_1 + w_2 x_2 + ... + w_n x_n}{w_1 + w_2 + ... + w_n}$$\n",
    "\n",
    "where the weights $w_1, w_2, w_3$ were the times travelled in each part of the journey.\n",
    "\n",
    "In Question 3.2., given  $n$ values $x_1, x_2, ..., x_n$, you found a *harmonic mean*, using the formula\n",
    "\n",
    "$${n \\over {{1 \\over x_1}+{1 \\over x_2}+ ... + {1 \\over x_n}}},$$ \n",
    "\n",
    "\n",
    "where the numerator represented total distance and the denominator represented total time. To calculate the total time, you needed to sum the time taken for each part of the trip, calculated using the fact that time is distance over speed. Again, it turns out that you actually computed the _weighted harmonic mean_, but this time the weights were the distances travelled. If you're curious, see the formula [here](https://en.wikipedia.org/wiki/Harmonic_mean#Weighted_harmonic_mean).\n",
    "\n",
    "Finally in Question 3.3., given $n$ values $x_1, x_2, ..., x_n$, you found a *geometric mean*, using the formula \n",
    "\n",
    "$${\\sqrt[n]{x_1 \\cdot x_2 \\cdot ... \\cdot x_n}},$$ \n",
    "\n",
    "where each value represented a dimension of the rectangular tank. \n",
    "\n",
    "As you can see, there are many different notions of mean. You'll learn about some of them if you take DSC 40A!"
   ]
  },
  {
   "cell_type": "markdown",
   "metadata": {},
   "source": [
    "## 4. Beverage Consumption Among Youth 🧃"
   ]
  },
  {
   "cell_type": "markdown",
   "metadata": {},
   "source": [
    "In this problem, we want to quantify how *dissimilar* three different age categories (little kids, big kids, and teens) are, in terms of their beverage consumption, using three commonly consumed beverages (water, milk, and soft drinks).\n",
    "\n",
    "The data below comes from the CDC's [Beverage Consumption Among Youth in the United States, 2013-2016](https://www.cdc.gov/nchs/products/databriefs/db320.htm).\n",
    "\n",
    "| Percent of Total Beverage Consumption       | Little Kids (Ages 2-5)  | Big Kids (Ages 6-11)  | Teens (Ages 12-19) |\n",
    "|-------------------------------------------|-------------|-----------|-----------|\n",
    "| Water        | 39.5 | 41.9 | 47.0 | \n",
    "| Milk       | 32.1 | 24.4 | 14.5 | \n",
    "| Soft Drinks    | 13.0 | 20.9  | 22.3 | \n",
    "\n",
    "We define the **dissimilarity** between two age groups as the largest absolute difference between their 3 respective consumption percentages.\n",
    "\n",
    "To better understand dissimilarity, consider the following hypothetical situation.\n",
    "* Age group A's *consumption of water* is **10 percent more** than age group B's.\n",
    "* Age group A's *consumption of milk* is **3 percent less** than age group B's.\n",
    "* Age group A's *consumption of soft drinks* is **7 percent less** than age group B's.\n",
    "\n",
    "Here, we would say the dissimilarity between age group A and age group B is 10, since 10 is larger than both 3 and 7."
   ]
  },
  {
   "cell_type": "markdown",
   "metadata": {},
   "source": [
    "**Question 4.1.** \n",
    "Using this method, compute the dissimilarity between big kids and teens.  Assign the result to the variable `dissimilarity`. Use a single expression (a single line of code) to compute the answer. Let Python perform all the arithmetic (like subtracting) rather than simplifying the expression yourself. \n",
    "\n",
    "*Hint:* The built-in `abs` function computes absolute values. "
   ]
  },
  {
   "cell_type": "code",
   "execution_count": 31,
   "metadata": {},
   "outputs": [
    {
     "data": {
      "text/plain": [
       "9.899999999999999"
      ]
     },
     "execution_count": 31,
     "metadata": {},
     "output_type": "execute_result"
    }
   ],
   "source": [
    "dissimilarity = max(abs(41.9 - 47.0), abs(24.4 - 14.5), abs(20.9 - 22.3))\n",
    "dissimilarity"
   ]
  },
  {
   "cell_type": "code",
   "execution_count": 32,
   "metadata": {
    "deletable": false,
    "editable": false
   },
   "outputs": [
    {
     "data": {
      "text/html": [
       "<p><strong><pre style='display: inline;'>q4_1</pre></strong> passed!</p>"
      ],
      "text/plain": [
       "q4_1 results: All test cases passed!"
      ]
     },
     "execution_count": 32,
     "metadata": {},
     "output_type": "execute_result"
    }
   ],
   "source": [
    "grader.check(\"q4_1\")"
   ]
  },
  {
   "cell_type": "markdown",
   "metadata": {},
   "source": [
    "**Question 4.2.** Which pair of age groups is **most** dissimilar, according to this measurement? Assign either 1, 2, or 3 to the variable `most_dissimilar` below.\n",
    "\n",
    "1. little kids and big kids\n",
    "1. big kids and teens\n",
    "1. little kids and teens"
   ]
  },
  {
   "cell_type": "code",
   "execution_count": 33,
   "metadata": {},
   "outputs": [],
   "source": [
    "most_dissimilar = 3"
   ]
  },
  {
   "cell_type": "code",
   "execution_count": 34,
   "metadata": {
    "deletable": false,
    "editable": false
   },
   "outputs": [
    {
     "data": {
      "text/html": [
       "<p><strong><pre style='display: inline;'>q4_2</pre></strong> passed!</p>"
      ],
      "text/plain": [
       "q4_2 results: All test cases passed!"
      ]
     },
     "execution_count": 34,
     "metadata": {},
     "output_type": "execute_result"
    }
   ],
   "source": [
    "grader.check(\"q4_2\")"
   ]
  },
  {
   "cell_type": "markdown",
   "metadata": {},
   "source": [
    "**Question 4.3.** It turns out that if we eliminated a certain one of the three beverage percentages in the table (for example, getting rid of the soft drinks row) and recalculated dissimilarities based on the remaining two percentages only, we would find the dissimilarity between each pair of age groups to be the same as if we had used all three percentages. In other words, one of the three rows of the table ends up not factoring into the calculation for dissimilarity for all three pairs of age groups.\n",
    "\n",
    "Which percentage can be eliminated without changing the dissimilarity of any pair of age groups in the table? Assign either 1, 2, or 3 to the variable `disposable` below.\n",
    "\n",
    "1. The consumption percentage of water.\n",
    "1. The consumption percentage of milk.\n",
    "1. The consumption percentage of soft drinks."
   ]
  },
  {
   "cell_type": "code",
   "execution_count": 29,
   "metadata": {},
   "outputs": [],
   "source": [
    "disposable = 1"
   ]
  },
  {
   "cell_type": "code",
   "execution_count": 30,
   "metadata": {
    "deletable": false,
    "editable": false
   },
   "outputs": [
    {
     "data": {
      "text/html": [
       "<p><strong><pre style='display: inline;'>q4_3</pre></strong> passed!</p>"
      ],
      "text/plain": [
       "q4_3 results: All test cases passed!"
      ]
     },
     "execution_count": 30,
     "metadata": {},
     "output_type": "execute_result"
    }
   ],
   "source": [
    "grader.check(\"q4_3\")"
   ]
  },
  {
   "cell_type": "markdown",
   "metadata": {},
   "source": [
    "## 5. Arrays 🗃️"
   ]
  },
  {
   "cell_type": "markdown",
   "metadata": {},
   "source": [
    "**Question 5.1.** Make an array called `quirky_numbers` containing the following numbers (in the given order):\n",
    "\n",
    "1. The square root of 54\n",
    "2. 136 degrees, in radians\n",
    "3. $6^3 + 5^8$\n",
    "4. The mathematical constant of $e$ over 4: $\\frac{e}{4}$\n",
    "5. The base 10 logarithm of 46\n",
    "\n",
    "*Hint:* Check out the functions constants available in the `numpy` module, which has been imported as `np`. If you're unsure of what function to use, a quick Google search should do the trick.  Do **not** import `math` or any other modules. \n",
    "\n",
    "*Note:* In this problem, as with all others, we'll only check that your answer is correct. There may be several valid ways to produce the correct answer."
   ]
  },
  {
   "cell_type": "code",
   "execution_count": 37,
   "metadata": {
    "scrolled": true
   },
   "outputs": [
    {
     "data": {
      "text/plain": [
       "array([  7.34846923,   2.37364778, 121.        ,   0.67957046,\n",
       "         1.66275783])"
      ]
     },
     "execution_count": 37,
     "metadata": {},
     "output_type": "execute_result"
    }
   ],
   "source": [
    "quirky_numbers = np.array([\n",
    "    np.sqrt(54),\n",
    "    np.radians(136),\n",
    "    63 + 58,\n",
    "    np.e / 4,\n",
    "    np.log10(46)])\n",
    "\n",
    "quirky_numbers"
   ]
  },
  {
   "cell_type": "code",
   "execution_count": null,
   "metadata": {
    "deletable": false,
    "editable": false
   },
   "outputs": [],
   "source": [
    "grader.check(\"q5_1\")"
   ]
  },
  {
   "cell_type": "markdown",
   "metadata": {
    "deletable": false,
    "editable": false
   },
   "source": [
    "**Question 5.2.** Make an array called `likes` containing the following three strings, in the specified order:\n",
    "- `'I like baking'`\n",
    "- `'cats'`\n",
    "- `'and tea!'`\n",
    "\n",
    "<!--\n",
    "BEGIN QUESTION\n",
    "name: q5_2\n",
    "-->"
   ]
  },
  {
   "cell_type": "code",
   "execution_count": 38,
   "metadata": {},
   "outputs": [
    {
     "data": {
      "text/plain": [
       "array(['I like baking', 'cats', 'and tea!'], dtype='<U13')"
      ]
     },
     "execution_count": 38,
     "metadata": {},
     "output_type": "execute_result"
    }
   ],
   "source": [
    "likes = np.array(['I like baking', 'cats', 'and tea!'])\n",
    "likes"
   ]
  },
  {
   "cell_type": "code",
   "execution_count": 39,
   "metadata": {
    "deletable": false,
    "editable": false
   },
   "outputs": [
    {
     "data": {
      "text/html": [
       "<p><strong><pre style='display: inline;'>q5_2</pre></strong> passed!</p>"
      ],
      "text/plain": [
       "q5_2 results: All test cases passed!"
      ]
     },
     "execution_count": 39,
     "metadata": {},
     "output_type": "execute_result"
    }
   ],
   "source": [
    "grader.check(\"q5_2\")"
   ]
  },
  {
   "cell_type": "markdown",
   "metadata": {},
   "source": [
    "<center><img src=data/cat-baking.png width=300>(<a href=\"https://www.popsugar.com/pets/videos-of-orange-cat-making-desserts-48112259\">source</a>)</center>\n",
    "\n",
    "\n",
    "In [Lecture 3](https://dsc10.com/resources/lectures/lec03/lec03.html#String-methods), we looked at several string methods, like `upper` and `replace`. Strings have another method that we haven't seen yet, called `join`. `join` takes one argument, an array of strings, and it returns a single string. Specifically, `some_string.join(some_array)` evaluates to a new string consisting of all of elements in `some_array`, with `some_string` inserted in between each element.\n",
    "\n",
    "For example, `'-'.join(np.array(['call', '858', '534', '2230']))` evaluates to `'call-858-534-2230'`.\n",
    "\n",
    "**Question 5.3.** Use the array `likes` and the method `join` to make two strings:\n",
    "\n",
    "1. `'I like baking, cats, and tea!'` (call this one `by_comma`)\n",
    "1. `'I like baking cats and tea!'` (call this one `by_space`)"
   ]
  },
  {
   "cell_type": "code",
   "execution_count": 40,
   "metadata": {
    "scrolled": true
   },
   "outputs": [
    {
     "name": "stdout",
     "output_type": "stream",
     "text": [
      "I like baking, cats, and tea!\n",
      "I like baking cats and tea!\n"
     ]
    }
   ],
   "source": [
    "by_comma = ', '.join(likes)\n",
    "by_space = ' '.join(likes)\n",
    "\n",
    "# Don't change the lines below.\n",
    "print(by_comma)\n",
    "print(by_space)"
   ]
  },
  {
   "cell_type": "code",
   "execution_count": 51,
   "metadata": {
    "deletable": false,
    "editable": false
   },
   "outputs": [
    {
     "data": {
      "text/html": [
       "<p><strong><pre style='display: inline;'>q5_3</pre></strong> passed!</p>"
      ],
      "text/plain": [
       "q5_3 results: All test cases passed!"
      ]
     },
     "execution_count": 51,
     "metadata": {},
     "output_type": "execute_result"
    }
   ],
   "source": [
    "grader.check(\"q5_3\")"
   ]
  },
  {
   "cell_type": "markdown",
   "metadata": {},
   "source": [
    "Now let's get some practice accessing individual elements of arrays.  In Python (and in many programming languages), elements are accessed by *integer position*, with the position of the first element being zero. That's probably not the way you learned to count, so it's easy to get mixed up here. Be careful!"
   ]
  },
  {
   "cell_type": "markdown",
   "metadata": {},
   "source": [
    "**Question 5.4.** The cell below creates an array of strings."
   ]
  },
  {
   "cell_type": "code",
   "execution_count": 52,
   "metadata": {
    "scrolled": true
   },
   "outputs": [
    {
     "data": {
      "text/plain": [
       "array(['flowers', '🌼', '🌸', '🌱', 'plant', 'dog', '🐶', 'cat', '🐈'],\n",
       "      dtype='<U7')"
      ]
     },
     "execution_count": 52,
     "metadata": {},
     "output_type": "execute_result"
    }
   ],
   "source": [
    "some_strings = np.array(['flowers', '🌼', '🌸', '🌱', 'plant', 'dog', '🐶', 'cat', '🐈'])\n",
    "some_strings"
   ]
  },
  {
   "cell_type": "markdown",
   "metadata": {},
   "source": [
    "What is the integer position of `'🐶'` in the array? You can just type in the answer, which should be of type `int`. This is a conceptual question, not a coding question.\n",
    "\n",
    "_Note:_ Your answer should be a **positive** integer!"
   ]
  },
  {
   "cell_type": "code",
   "execution_count": 53,
   "metadata": {},
   "outputs": [
    {
     "data": {
      "text/plain": [
       "6"
      ]
     },
     "execution_count": 53,
     "metadata": {},
     "output_type": "execute_result"
    }
   ],
   "source": [
    "dog_emoji_position = 6\n",
    "dog_emoji_position"
   ]
  },
  {
   "cell_type": "code",
   "execution_count": 54,
   "metadata": {
    "deletable": false,
    "editable": false
   },
   "outputs": [
    {
     "data": {
      "text/html": [
       "<p><strong><pre style='display: inline;'>q5_4</pre></strong> passed!</p>"
      ],
      "text/plain": [
       "q5_4 results: All test cases passed!"
      ]
     },
     "execution_count": 54,
     "metadata": {},
     "output_type": "execute_result"
    }
   ],
   "source": [
    "grader.check(\"q5_4\")"
   ]
  },
  {
   "cell_type": "markdown",
   "metadata": {},
   "source": [
    "**Question 5.5.** Suppose you have an array with 350 elements. What is the integer position of the seventh-to-last element in this array? You can just type in the answer, which should be of type `int`. This is a conceptual question, not a coding question.\n",
    "\n",
    "_Note:_ Again, your answer should be a **positive** integer!"
   ]
  },
  {
   "cell_type": "code",
   "execution_count": 55,
   "metadata": {},
   "outputs": [
    {
     "data": {
      "text/plain": [
       "342"
      ]
     },
     "execution_count": 55,
     "metadata": {},
     "output_type": "execute_result"
    }
   ],
   "source": [
    "seventh_last_position = 342\n",
    "seventh_last_position"
   ]
  },
  {
   "cell_type": "code",
   "execution_count": 56,
   "metadata": {
    "deletable": false,
    "editable": false
   },
   "outputs": [
    {
     "data": {
      "text/html": [
       "<p><strong><pre style='display: inline;'>q5_5</pre></strong> passed!</p>"
      ],
      "text/plain": [
       "q5_5 results: All test cases passed!"
      ]
     },
     "execution_count": 56,
     "metadata": {},
     "output_type": "execute_result"
    }
   ],
   "source": [
    "grader.check(\"q5_5\")"
   ]
  },
  {
   "cell_type": "markdown",
   "metadata": {},
   "source": [
    "**Question 5.6.** Suppose you have an array with 763 elements. At what integer position is the middle element of this array? You can just type in the answer, which should be of type `int`. This is a conceptual question, not a coding question.\n",
    "\n",
    "_Note:_ Again, your answer should be a **positive** integer!"
   ]
  },
  {
   "cell_type": "code",
   "execution_count": 57,
   "metadata": {},
   "outputs": [
    {
     "data": {
      "text/plain": [
       "381"
      ]
     },
     "execution_count": 57,
     "metadata": {},
     "output_type": "execute_result"
    }
   ],
   "source": [
    "mid_position = int(762/2)\n",
    "mid_position"
   ]
  },
  {
   "cell_type": "code",
   "execution_count": 58,
   "metadata": {
    "deletable": false,
    "editable": false
   },
   "outputs": [
    {
     "data": {
      "text/html": [
       "<p><strong><pre style='display: inline;'>q5_6</pre></strong> passed!</p>"
      ],
      "text/plain": [
       "q5_6 results: All test cases passed!"
      ]
     },
     "execution_count": 58,
     "metadata": {},
     "output_type": "execute_result"
    }
   ],
   "source": [
    "grader.check(\"q5_6\")"
   ]
  },
  {
   "cell_type": "markdown",
   "metadata": {},
   "source": [
    "By the way, it's also possible to use negative integer positions to access elements in an array, which can be easier than using positive integer positions sometimes.  If a position is negative, you count from the end of the array rather than from the beginning. Position -1 corresponds to the last element, -2 corresponds to the second-last element, and so on. For instance, to find the third-to-last element of `some_strings`, we could use:"
   ]
  },
  {
   "cell_type": "code",
   "execution_count": 59,
   "metadata": {
    "scrolled": true
   },
   "outputs": [
    {
     "data": {
      "text/plain": [
       "'🐶'"
      ]
     },
     "execution_count": 59,
     "metadata": {},
     "output_type": "execute_result"
    }
   ],
   "source": [
    "some_strings[-3]"
   ]
  },
  {
   "cell_type": "markdown",
   "metadata": {},
   "source": [
    "## 6. DSC 10 Enrollments 📈"
   ]
  },
  {
   "cell_type": "markdown",
   "metadata": {},
   "source": [
    "In this question, we'll look at enrollment data from the fall and winter offerings of DSC 10 this academic year. The third column of the table below shows how many UCSD undergraduate students in last winter's offering of DSC 10 come from each of the university's seven colleges. It looks like Sixth College was the most popular, with 81 students. The last column shows how many of those students are DSC majors. Even though Sixth College was the most popular, none of the DSC 10 students from the college were DSC majors!\n",
    "\n",
    "For comparison's sake, we also have the corresponding data from the Fall 2022 offering of DSC 10. You can see that most DSC majors take this course in the fall! (Fun fact – this quarter, Spring 2023, there are even fewer declared DSC majors than in the winter.)\n",
    "\n",
    "Throughout this problem, we'll assume that all students in previous offerings of DSC 10 come from one of the seven colleges in the table.\n",
    "\n",
    "|College|Fall 22 Students|Fall 22 DSC Major Students|Winter 23 Students|Winter 23 DSC Major Students|\n",
    "|---|---|---|---|---|\n",
    "|Seventh|37|21|45|2|\n",
    "|Sixth|93|54|81|0|\n",
    "|Roosevelt|67|39|46|4|\n",
    "|Warren|61|40|41|1|\n",
    "|Marshall|62|32|50|1|\n",
    "|Muir|38|27|42|2|\n",
    "|Revelle|52|31|43|2|\n",
    "\n",
    "In this question, we'll be working with the data from this table as *arrays*. Here are those arrays:"
   ]
  },
  {
   "cell_type": "code",
   "execution_count": 60,
   "metadata": {},
   "outputs": [
    {
     "data": {
      "text/plain": [
       "array([37, 93, 67, 61, 62, 38, 52])"
      ]
     },
     "execution_count": 60,
     "metadata": {},
     "output_type": "execute_result"
    }
   ],
   "source": [
    "students_22 = np.array([37, 93, 67, 61, 62, 38, 52])\n",
    "students_22"
   ]
  },
  {
   "cell_type": "code",
   "execution_count": 61,
   "metadata": {},
   "outputs": [
    {
     "data": {
      "text/plain": [
       "array([21, 54, 39, 40, 32, 27, 31])"
      ]
     },
     "execution_count": 61,
     "metadata": {},
     "output_type": "execute_result"
    }
   ],
   "source": [
    "majors_22 = np.array([21, 54, 39, 40, 32, 27, 31])\n",
    "majors_22"
   ]
  },
  {
   "cell_type": "code",
   "execution_count": 62,
   "metadata": {},
   "outputs": [
    {
     "data": {
      "text/plain": [
       "array([45, 81, 46, 41, 50, 42, 43])"
      ]
     },
     "execution_count": 62,
     "metadata": {},
     "output_type": "execute_result"
    }
   ],
   "source": [
    "students_23 = np.array([45, 81, 46, 41, 50, 42, 43])\n",
    "students_23"
   ]
  },
  {
   "cell_type": "code",
   "execution_count": 63,
   "metadata": {},
   "outputs": [
    {
     "data": {
      "text/plain": [
       "array([2, 0, 4, 1, 1, 2, 2])"
      ]
     },
     "execution_count": 63,
     "metadata": {},
     "output_type": "execute_result"
    }
   ],
   "source": [
    "majors_23 = np.array([2, 0, 4, 1, 1, 2, 2])\n",
    "majors_23"
   ]
  },
  {
   "cell_type": "markdown",
   "metadata": {},
   "source": [
    "Remember, the `numpy` package (`np` for short) provides many handy functions for working with arrays. These are specifically designed to work with arrays and are faster than using Python's built-in functions. \n",
    "\n",
    "Some frequently used array functions are `np.min()`, `np.max()`, `np.sum()`, `np.abs()`, and `np.round()`. There are many more, which you can browse by typing `np.` into a code cell and hitting the *tab* key, or by looking at the [documentation](https://numpy.org/doc/stable/reference/generated/numpy.ndarray.html)."
   ]
  },
  {
   "cell_type": "markdown",
   "metadata": {},
   "source": [
    "**Question 6.1.** Assign `enrolled_22` and `enrolled_23` to the number of students that were enrolled in DSC 10 in Fall 2022 and Winter 2023, respectively."
   ]
  },
  {
   "cell_type": "code",
   "execution_count": 64,
   "metadata": {
    "scrolled": true
   },
   "outputs": [
    {
     "name": "stdout",
     "output_type": "stream",
     "text": [
      "Students in Fall 2022: 410\n",
      "Students in Winter 2023: 348\n"
     ]
    }
   ],
   "source": [
    "enrolled_22 = np.sum(students_22)\n",
    "enrolled_23 = np.sum(students_23)\n",
    "\n",
    "# Don't change the lines below.\n",
    "print('Students in Fall 2022:', enrolled_22)\n",
    "print('Students in Winter 2023:', enrolled_23)"
   ]
  },
  {
   "cell_type": "code",
   "execution_count": 65,
   "metadata": {
    "deletable": false,
    "editable": false
   },
   "outputs": [
    {
     "data": {
      "text/html": [
       "<p><strong><pre style='display: inline;'>q6_1</pre></strong> passed!</p>"
      ],
      "text/plain": [
       "q6_1 results: All test cases passed!"
      ]
     },
     "execution_count": 65,
     "metadata": {},
     "output_type": "execute_result"
    }
   ],
   "source": [
    "grader.check(\"q6_1\")"
   ]
  },
  {
   "cell_type": "markdown",
   "metadata": {},
   "source": [
    "**Question 6.2.** How many non-DSC major students from the Fall 2022 offering of DSC 10 came from each of the seven colleges? Your answer should be an array called `non_majors_22`, with the colleges in the same order as they appear in the table above. For instance, the first element of `non_majors_22` should be the number of non-DSC majors in the Fall 2022 offering of DSC 10 who were in Seventh College.\n",
    "\n",
    "Similarly, how many non-DSC major students from the Winter 2023 offering of DSC 10 came from each of the seven colleges? Your answer should be an array called `non_majors_23`, with the colleges in the same order as they appear in the table above. \n"
   ]
  },
  {
   "cell_type": "code",
   "execution_count": 66,
   "metadata": {},
   "outputs": [
    {
     "data": {
      "text/plain": [
       "array([16, 39, 28, 21, 30, 11, 21])"
      ]
     },
     "execution_count": 66,
     "metadata": {},
     "output_type": "execute_result"
    }
   ],
   "source": [
    "non_majors_22 = students_22 - majors_22\n",
    "non_majors_22\n"
   ]
  },
  {
   "cell_type": "code",
   "execution_count": 67,
   "metadata": {
    "deletable": false,
    "editable": false
   },
   "outputs": [
    {
     "data": {
      "text/html": [
       "<p><strong><pre style='display: inline;'>q6_2_1</pre></strong> passed!</p>"
      ],
      "text/plain": [
       "q6_2_1 results: All test cases passed!"
      ]
     },
     "execution_count": 67,
     "metadata": {},
     "output_type": "execute_result"
    }
   ],
   "source": [
    "grader.check(\"q6_2_1\")"
   ]
  },
  {
   "cell_type": "code",
   "execution_count": 68,
   "metadata": {},
   "outputs": [
    {
     "data": {
      "text/plain": [
       "array([43, 81, 42, 40, 49, 40, 41])"
      ]
     },
     "execution_count": 68,
     "metadata": {},
     "output_type": "execute_result"
    }
   ],
   "source": [
    "non_majors_23 = students_23 - majors_23\n",
    "non_majors_23"
   ]
  },
  {
   "cell_type": "code",
   "execution_count": 69,
   "metadata": {
    "deletable": false,
    "editable": false
   },
   "outputs": [
    {
     "data": {
      "text/html": [
       "<p><strong><pre style='display: inline;'>q6_2_2</pre></strong> passed!</p>"
      ],
      "text/plain": [
       "q6_2_2 results: All test cases passed!"
      ]
     },
     "execution_count": 69,
     "metadata": {},
     "output_type": "execute_result"
    }
   ],
   "source": [
    "grader.check(\"q6_2_2\")"
   ]
  },
  {
   "cell_type": "markdown",
   "metadata": {},
   "source": [
    "**Question 6.3.** What percentage of Fall 2022 DSC 10 students from each college were DSC majors? Your answer should be an array called `percent_majors_22`, with the colleges in the same order as they appear in the table above, and with percentages rounded to two decimal places.\n",
    "\n",
    "Similarly, what percentage of Winter 2023 DSC 10 students from each college were DSC majors? Your answer should be an array called `percent_majors_23`, with the colleges in the same order as they appear in the table above, and with percentages rounded to two decimal places."
   ]
  },
  {
   "cell_type": "code",
   "execution_count": 70,
   "metadata": {},
   "outputs": [
    {
     "data": {
      "text/plain": [
       "array([56.76, 58.06, 58.21, 65.57, 51.61, 71.05, 59.62])"
      ]
     },
     "execution_count": 70,
     "metadata": {},
     "output_type": "execute_result"
    }
   ],
   "source": [
    "percent_majors_22 = np.round((majors_22 / students_22) * 100, 2)\n",
    "percent_majors_22"
   ]
  },
  {
   "cell_type": "code",
   "execution_count": 71,
   "metadata": {
    "deletable": false,
    "editable": false
   },
   "outputs": [
    {
     "data": {
      "text/html": [
       "<p><strong><pre style='display: inline;'>q6_3_1</pre></strong> passed!</p>"
      ],
      "text/plain": [
       "q6_3_1 results: All test cases passed!"
      ]
     },
     "execution_count": 71,
     "metadata": {},
     "output_type": "execute_result"
    }
   ],
   "source": [
    "grader.check(\"q6_3_1\")"
   ]
  },
  {
   "cell_type": "code",
   "execution_count": 72,
   "metadata": {},
   "outputs": [
    {
     "data": {
      "text/plain": [
       "array([4.44, 0.  , 8.7 , 2.44, 2.  , 4.76, 4.65])"
      ]
     },
     "execution_count": 72,
     "metadata": {},
     "output_type": "execute_result"
    }
   ],
   "source": [
    "percent_majors_23 = np.round((majors_23 / students_23) * 100, 2)\n",
    "percent_majors_23"
   ]
  },
  {
   "cell_type": "code",
   "execution_count": 73,
   "metadata": {
    "deletable": false,
    "editable": false
   },
   "outputs": [
    {
     "data": {
      "text/html": [
       "<p><strong><pre style='display: inline;'>q6_3_2</pre></strong> passed!</p>"
      ],
      "text/plain": [
       "q6_3_2 results: All test cases passed!"
      ]
     },
     "execution_count": 73,
     "metadata": {},
     "output_type": "execute_result"
    }
   ],
   "source": [
    "grader.check(\"q6_3_2\")"
   ]
  },
  {
   "cell_type": "markdown",
   "metadata": {},
   "source": [
    "**Question 6.4.** For each college, what is the absolute difference in the percentage of students enrolled in DSC 10 that are DSC majors from Fall 2022 to Winter 2023? Use `percent_majors_22` and `percent_majors_23` to create an array called `abs_differences`, with the colleges in the same order as they appear in the table above. Make sure the values in your answer are rounded to two decimal places.\n",
    "\n",
    "_Note:_ You _don't_ need to round again."
   ]
  },
  {
   "cell_type": "code",
   "execution_count": 74,
   "metadata": {},
   "outputs": [
    {
     "data": {
      "text/plain": [
       "array([52.32, 58.06, 49.51, 63.13, 49.61, 66.29, 54.97])"
      ]
     },
     "execution_count": 74,
     "metadata": {},
     "output_type": "execute_result"
    }
   ],
   "source": [
    "abs_differences = np.abs(percent_majors_22 - percent_majors_23)\n",
    "abs_differences"
   ]
  },
  {
   "cell_type": "code",
   "execution_count": 75,
   "metadata": {
    "deletable": false,
    "editable": false
   },
   "outputs": [
    {
     "data": {
      "text/html": [
       "<p><strong><pre style='display: inline;'>q6_4</pre></strong> passed!</p>"
      ],
      "text/plain": [
       "q6_4 results: All test cases passed!"
      ]
     },
     "execution_count": 75,
     "metadata": {},
     "output_type": "execute_result"
    }
   ],
   "source": [
    "grader.check(\"q6_4\")"
   ]
  },
  {
   "cell_type": "markdown",
   "metadata": {},
   "source": [
    "For your convenience, we repeat the table from the start of the question below.\n",
    "\n",
    "|College|Fall 22 Students|Fall 22 DSC Major Students|Winter 23 Students|Winter 23 DSC Major Students|\n",
    "|---|---|---|---|---|\n",
    "|Seventh|37|21|45|2|\n",
    "|Sixth|93|54|81|0|\n",
    "|Roosevelt|67|39|46|4|\n",
    "|Warren|61|40|41|1|\n",
    "|Marshall|62|32|50|1|\n",
    "|Muir|38|27|42|2|\n",
    "|Revelle|52|31|43|2|\n",
    "\n",
    "\n",
    "\n",
    "**Question 6.5.** You might say that the most consistent college is the one with the smallest absolute difference in the percentage of students enrolled in DSC 10 that are DSC majors across the two offerings of the course. Find the smallest value in the `abs_differences` array and save it as `smallest_abs_diff`. Referring back to the table, try to figure out which college that is. Assign `most_consistent_college` to the name of that college (as a string), exactly as it's displayed in the table.\n",
    "\n",
    "_Note:_ You can type the name of the college manually."
   ]
  },
  {
   "cell_type": "code",
   "execution_count": 77,
   "metadata": {},
   "outputs": [
    {
     "data": {
      "text/plain": [
       "49.510000000000005"
      ]
     },
     "execution_count": 77,
     "metadata": {},
     "output_type": "execute_result"
    }
   ],
   "source": [
    "smallest_abs_diff = np.min(abs_differences)\n",
    "most_consistent_college = \"Roosevelt\"\n",
    "smallest_abs_diff"
   ]
  },
  {
   "cell_type": "code",
   "execution_count": 78,
   "metadata": {
    "deletable": false,
    "editable": false
   },
   "outputs": [
    {
     "data": {
      "text/html": [
       "<p><strong><pre style='display: inline;'>q6_5</pre></strong> passed!</p>"
      ],
      "text/plain": [
       "q6_5 results: All test cases passed!"
      ]
     },
     "execution_count": 78,
     "metadata": {},
     "output_type": "execute_result"
    }
   ],
   "source": [
    "grader.check(\"q6_5\")"
   ]
  },
  {
   "cell_type": "markdown",
   "metadata": {},
   "source": [
    "## 7. World Cup 🌎⚽"
   ]
  },
  {
   "cell_type": "markdown",
   "metadata": {},
   "source": [
    "The Federale Internationale de Football Association (FIFA) is the international governing body of soccer (or football, depending where you're from). FIFA has 209 member countries, making it one of the most respected sports organizations in the world. The organization has hosted an international tournament, called the World Cup, every four years since 1930, except for during WWII. The most recent one took place in 2022 in Qatar. \n",
    "\n",
    "<img src=\"data/messi.jpeg\" width=60%>\n",
    "\n",
    "The file `world_cup.csv` in the `data/` directory contains information about every World Cup tournament that has ever taken place. Its columns are:\n",
    "\n",
    "| Column      | Description |\n",
    "| ----------- | ----------- |\n",
    "| `'Year'`      | Year of World Cup     |\n",
    "| `'Host'`   | Name of host country        |\n",
    "| `'Total Attendance'` | Total number of people in attendance across all matches  |\n",
    "| `'Matches'` | Total number of matches played |\n",
    "| `'Teams'` | The  total number of teams that competed in the World Cup |\n",
    "| `'First'` | Winner of the World Cup |\n",
    "| `'Second'` | The team in second place | \n",
    "| `'Third'` | The team in third place|\n",
    "| `'Fourth'` | The team in fourth place |"
   ]
  },
  {
   "cell_type": "markdown",
   "metadata": {},
   "source": [
    "**Question 7.1.** Read this file into a DataFrame called `world_cup`. "
   ]
  },
  {
   "cell_type": "code",
   "execution_count": 79,
   "metadata": {},
   "outputs": [
    {
     "data": {
      "text/html": [
       "<div>\n",
       "<style scoped>\n",
       "    .dataframe tbody tr th:only-of-type {\n",
       "        vertical-align: middle;\n",
       "    }\n",
       "\n",
       "    .dataframe tbody tr th {\n",
       "        vertical-align: top;\n",
       "    }\n",
       "\n",
       "    .dataframe thead th {\n",
       "        text-align: right;\n",
       "    }\n",
       "</style>\n",
       "<table border=\"1\" class=\"dataframe\">\n",
       "  <thead>\n",
       "    <tr style=\"text-align: right;\">\n",
       "      <th></th>\n",
       "      <th>Year</th>\n",
       "      <th>Host</th>\n",
       "      <th>Total Attendance</th>\n",
       "      <th>Matches</th>\n",
       "      <th>Teams</th>\n",
       "      <th>First</th>\n",
       "      <th>Second</th>\n",
       "      <th>Third</th>\n",
       "      <th>Fourth</th>\n",
       "    </tr>\n",
       "  </thead>\n",
       "  <tbody>\n",
       "    <tr>\n",
       "      <th>0</th>\n",
       "      <td>1930</td>\n",
       "      <td>Uruguay</td>\n",
       "      <td>590549</td>\n",
       "      <td>18</td>\n",
       "      <td>13</td>\n",
       "      <td>Uruguay</td>\n",
       "      <td>Argentina</td>\n",
       "      <td>United States</td>\n",
       "      <td>Yugoslavia</td>\n",
       "    </tr>\n",
       "    <tr>\n",
       "      <th>1</th>\n",
       "      <td>1934</td>\n",
       "      <td>Italy</td>\n",
       "      <td>363000</td>\n",
       "      <td>17</td>\n",
       "      <td>16</td>\n",
       "      <td>Italy</td>\n",
       "      <td>Czechoslovakia</td>\n",
       "      <td>Germany</td>\n",
       "      <td>Austria</td>\n",
       "    </tr>\n",
       "    <tr>\n",
       "      <th>2</th>\n",
       "      <td>1938</td>\n",
       "      <td>France</td>\n",
       "      <td>375700</td>\n",
       "      <td>18</td>\n",
       "      <td>15</td>\n",
       "      <td>Italy</td>\n",
       "      <td>Hungary</td>\n",
       "      <td>Brazil</td>\n",
       "      <td>Sweden</td>\n",
       "    </tr>\n",
       "    <tr>\n",
       "      <th>3</th>\n",
       "      <td>1950</td>\n",
       "      <td>Brazil</td>\n",
       "      <td>1045246</td>\n",
       "      <td>22</td>\n",
       "      <td>13</td>\n",
       "      <td>Uruguay</td>\n",
       "      <td>Brazil</td>\n",
       "      <td>Sweden</td>\n",
       "      <td>Spain</td>\n",
       "    </tr>\n",
       "    <tr>\n",
       "      <th>4</th>\n",
       "      <td>1954</td>\n",
       "      <td>Switzerland</td>\n",
       "      <td>768607</td>\n",
       "      <td>26</td>\n",
       "      <td>16</td>\n",
       "      <td>West Germany</td>\n",
       "      <td>Hungary</td>\n",
       "      <td>Austria</td>\n",
       "      <td>Uruguay</td>\n",
       "    </tr>\n",
       "    <tr>\n",
       "      <th>...</th>\n",
       "      <td>...</td>\n",
       "      <td>...</td>\n",
       "      <td>...</td>\n",
       "      <td>...</td>\n",
       "      <td>...</td>\n",
       "      <td>...</td>\n",
       "      <td>...</td>\n",
       "      <td>...</td>\n",
       "      <td>...</td>\n",
       "    </tr>\n",
       "    <tr>\n",
       "      <th>17</th>\n",
       "      <td>2006</td>\n",
       "      <td>Germany</td>\n",
       "      <td>3359439</td>\n",
       "      <td>64</td>\n",
       "      <td>32</td>\n",
       "      <td>Italy</td>\n",
       "      <td>France</td>\n",
       "      <td>Germany</td>\n",
       "      <td>Portugal</td>\n",
       "    </tr>\n",
       "    <tr>\n",
       "      <th>18</th>\n",
       "      <td>2010</td>\n",
       "      <td>South Africa</td>\n",
       "      <td>3178856</td>\n",
       "      <td>64</td>\n",
       "      <td>32</td>\n",
       "      <td>Spain</td>\n",
       "      <td>Netherlands</td>\n",
       "      <td>Germany</td>\n",
       "      <td>Uruguay</td>\n",
       "    </tr>\n",
       "    <tr>\n",
       "      <th>19</th>\n",
       "      <td>2014</td>\n",
       "      <td>Brazil</td>\n",
       "      <td>3429873</td>\n",
       "      <td>64</td>\n",
       "      <td>32</td>\n",
       "      <td>Germany</td>\n",
       "      <td>Argentina</td>\n",
       "      <td>Netherlands</td>\n",
       "      <td>Brazil</td>\n",
       "    </tr>\n",
       "    <tr>\n",
       "      <th>20</th>\n",
       "      <td>2018</td>\n",
       "      <td>Russia</td>\n",
       "      <td>3031768</td>\n",
       "      <td>64</td>\n",
       "      <td>32</td>\n",
       "      <td>France</td>\n",
       "      <td>Croatia</td>\n",
       "      <td>Belgium</td>\n",
       "      <td>England</td>\n",
       "    </tr>\n",
       "    <tr>\n",
       "      <th>21</th>\n",
       "      <td>2022</td>\n",
       "      <td>Qatar</td>\n",
       "      <td>3404252</td>\n",
       "      <td>64</td>\n",
       "      <td>32</td>\n",
       "      <td>Argentina</td>\n",
       "      <td>France</td>\n",
       "      <td>Croatia</td>\n",
       "      <td>Morocco</td>\n",
       "    </tr>\n",
       "  </tbody>\n",
       "</table>\n",
       "<p>22 rows × 9 columns</p>\n",
       "</div>"
      ],
      "text/plain": [
       "    Year          Host  Total Attendance  Matches  Teams         First  \\\n",
       "0   1930       Uruguay            590549       18     13       Uruguay   \n",
       "1   1934         Italy            363000       17     16         Italy   \n",
       "2   1938        France            375700       18     15         Italy   \n",
       "3   1950        Brazil           1045246       22     13       Uruguay   \n",
       "4   1954   Switzerland            768607       26     16  West Germany   \n",
       "..   ...           ...               ...      ...    ...           ...   \n",
       "17  2006       Germany           3359439       64     32         Italy   \n",
       "18  2010  South Africa           3178856       64     32         Spain   \n",
       "19  2014        Brazil           3429873       64     32       Germany   \n",
       "20  2018        Russia           3031768       64     32        France   \n",
       "21  2022         Qatar           3404252       64     32     Argentina   \n",
       "\n",
       "            Second          Third      Fourth  \n",
       "0        Argentina  United States  Yugoslavia  \n",
       "1   Czechoslovakia        Germany     Austria  \n",
       "2          Hungary         Brazil      Sweden  \n",
       "3           Brazil         Sweden       Spain  \n",
       "4          Hungary        Austria     Uruguay  \n",
       "..             ...            ...         ...  \n",
       "17          France        Germany    Portugal  \n",
       "18     Netherlands        Germany     Uruguay  \n",
       "19       Argentina    Netherlands      Brazil  \n",
       "20         Croatia        Belgium     England  \n",
       "21          France        Croatia     Morocco  \n",
       "\n",
       "[22 rows x 9 columns]"
      ]
     },
     "execution_count": 79,
     "metadata": {},
     "output_type": "execute_result"
    }
   ],
   "source": [
    "world_cup = bpd.read_csv('data/world_cup.csv')\n",
    "world_cup"
   ]
  },
  {
   "cell_type": "code",
   "execution_count": 80,
   "metadata": {
    "deletable": false,
    "editable": false
   },
   "outputs": [
    {
     "data": {
      "text/html": [
       "<p><strong><pre style='display: inline;'>q7_1</pre></strong> passed!</p>"
      ],
      "text/plain": [
       "q7_1 results: All test cases passed!"
      ]
     },
     "execution_count": 80,
     "metadata": {},
     "output_type": "execute_result"
    }
   ],
   "source": [
    "grader.check(\"q7_1\")"
   ]
  },
  {
   "cell_type": "markdown",
   "metadata": {},
   "source": [
    "**Question 7.2.** Add a column to `world_cup` called `'Average_Attendance'` that contains the average number of attendees per match in each World Cup tournament. Do not round."
   ]
  },
  {
   "cell_type": "code",
   "execution_count": 86,
   "metadata": {},
   "outputs": [
    {
     "data": {
      "text/html": [
       "<div>\n",
       "<style scoped>\n",
       "    .dataframe tbody tr th:only-of-type {\n",
       "        vertical-align: middle;\n",
       "    }\n",
       "\n",
       "    .dataframe tbody tr th {\n",
       "        vertical-align: top;\n",
       "    }\n",
       "\n",
       "    .dataframe thead th {\n",
       "        text-align: right;\n",
       "    }\n",
       "</style>\n",
       "<table border=\"1\" class=\"dataframe\">\n",
       "  <thead>\n",
       "    <tr style=\"text-align: right;\">\n",
       "      <th></th>\n",
       "      <th>Year</th>\n",
       "      <th>Host</th>\n",
       "      <th>Total Attendance</th>\n",
       "      <th>Matches</th>\n",
       "      <th>Teams</th>\n",
       "      <th>First</th>\n",
       "      <th>Second</th>\n",
       "      <th>Third</th>\n",
       "      <th>Fourth</th>\n",
       "      <th>Average_Attendance</th>\n",
       "    </tr>\n",
       "  </thead>\n",
       "  <tbody>\n",
       "    <tr>\n",
       "      <th>0</th>\n",
       "      <td>1930</td>\n",
       "      <td>Uruguay</td>\n",
       "      <td>590549</td>\n",
       "      <td>18</td>\n",
       "      <td>13</td>\n",
       "      <td>Uruguay</td>\n",
       "      <td>Argentina</td>\n",
       "      <td>United States</td>\n",
       "      <td>Yugoslavia</td>\n",
       "      <td>32808.277778</td>\n",
       "    </tr>\n",
       "    <tr>\n",
       "      <th>1</th>\n",
       "      <td>1934</td>\n",
       "      <td>Italy</td>\n",
       "      <td>363000</td>\n",
       "      <td>17</td>\n",
       "      <td>16</td>\n",
       "      <td>Italy</td>\n",
       "      <td>Czechoslovakia</td>\n",
       "      <td>Germany</td>\n",
       "      <td>Austria</td>\n",
       "      <td>21352.941176</td>\n",
       "    </tr>\n",
       "    <tr>\n",
       "      <th>2</th>\n",
       "      <td>1938</td>\n",
       "      <td>France</td>\n",
       "      <td>375700</td>\n",
       "      <td>18</td>\n",
       "      <td>15</td>\n",
       "      <td>Italy</td>\n",
       "      <td>Hungary</td>\n",
       "      <td>Brazil</td>\n",
       "      <td>Sweden</td>\n",
       "      <td>20872.222222</td>\n",
       "    </tr>\n",
       "    <tr>\n",
       "      <th>3</th>\n",
       "      <td>1950</td>\n",
       "      <td>Brazil</td>\n",
       "      <td>1045246</td>\n",
       "      <td>22</td>\n",
       "      <td>13</td>\n",
       "      <td>Uruguay</td>\n",
       "      <td>Brazil</td>\n",
       "      <td>Sweden</td>\n",
       "      <td>Spain</td>\n",
       "      <td>47511.181818</td>\n",
       "    </tr>\n",
       "    <tr>\n",
       "      <th>4</th>\n",
       "      <td>1954</td>\n",
       "      <td>Switzerland</td>\n",
       "      <td>768607</td>\n",
       "      <td>26</td>\n",
       "      <td>16</td>\n",
       "      <td>West Germany</td>\n",
       "      <td>Hungary</td>\n",
       "      <td>Austria</td>\n",
       "      <td>Uruguay</td>\n",
       "      <td>29561.807692</td>\n",
       "    </tr>\n",
       "    <tr>\n",
       "      <th>...</th>\n",
       "      <td>...</td>\n",
       "      <td>...</td>\n",
       "      <td>...</td>\n",
       "      <td>...</td>\n",
       "      <td>...</td>\n",
       "      <td>...</td>\n",
       "      <td>...</td>\n",
       "      <td>...</td>\n",
       "      <td>...</td>\n",
       "      <td>...</td>\n",
       "    </tr>\n",
       "    <tr>\n",
       "      <th>17</th>\n",
       "      <td>2006</td>\n",
       "      <td>Germany</td>\n",
       "      <td>3359439</td>\n",
       "      <td>64</td>\n",
       "      <td>32</td>\n",
       "      <td>Italy</td>\n",
       "      <td>France</td>\n",
       "      <td>Germany</td>\n",
       "      <td>Portugal</td>\n",
       "      <td>52491.234375</td>\n",
       "    </tr>\n",
       "    <tr>\n",
       "      <th>18</th>\n",
       "      <td>2010</td>\n",
       "      <td>South Africa</td>\n",
       "      <td>3178856</td>\n",
       "      <td>64</td>\n",
       "      <td>32</td>\n",
       "      <td>Spain</td>\n",
       "      <td>Netherlands</td>\n",
       "      <td>Germany</td>\n",
       "      <td>Uruguay</td>\n",
       "      <td>49669.625000</td>\n",
       "    </tr>\n",
       "    <tr>\n",
       "      <th>19</th>\n",
       "      <td>2014</td>\n",
       "      <td>Brazil</td>\n",
       "      <td>3429873</td>\n",
       "      <td>64</td>\n",
       "      <td>32</td>\n",
       "      <td>Germany</td>\n",
       "      <td>Argentina</td>\n",
       "      <td>Netherlands</td>\n",
       "      <td>Brazil</td>\n",
       "      <td>53591.765625</td>\n",
       "    </tr>\n",
       "    <tr>\n",
       "      <th>20</th>\n",
       "      <td>2018</td>\n",
       "      <td>Russia</td>\n",
       "      <td>3031768</td>\n",
       "      <td>64</td>\n",
       "      <td>32</td>\n",
       "      <td>France</td>\n",
       "      <td>Croatia</td>\n",
       "      <td>Belgium</td>\n",
       "      <td>England</td>\n",
       "      <td>47371.375000</td>\n",
       "    </tr>\n",
       "    <tr>\n",
       "      <th>21</th>\n",
       "      <td>2022</td>\n",
       "      <td>Qatar</td>\n",
       "      <td>3404252</td>\n",
       "      <td>64</td>\n",
       "      <td>32</td>\n",
       "      <td>Argentina</td>\n",
       "      <td>France</td>\n",
       "      <td>Croatia</td>\n",
       "      <td>Morocco</td>\n",
       "      <td>53191.437500</td>\n",
       "    </tr>\n",
       "  </tbody>\n",
       "</table>\n",
       "<p>22 rows × 10 columns</p>\n",
       "</div>"
      ],
      "text/plain": [
       "    Year          Host  Total Attendance  Matches  Teams         First  \\\n",
       "0   1930       Uruguay            590549       18     13       Uruguay   \n",
       "1   1934         Italy            363000       17     16         Italy   \n",
       "2   1938        France            375700       18     15         Italy   \n",
       "3   1950        Brazil           1045246       22     13       Uruguay   \n",
       "4   1954   Switzerland            768607       26     16  West Germany   \n",
       "..   ...           ...               ...      ...    ...           ...   \n",
       "17  2006       Germany           3359439       64     32         Italy   \n",
       "18  2010  South Africa           3178856       64     32         Spain   \n",
       "19  2014        Brazil           3429873       64     32       Germany   \n",
       "20  2018        Russia           3031768       64     32        France   \n",
       "21  2022         Qatar           3404252       64     32     Argentina   \n",
       "\n",
       "            Second          Third      Fourth  Average_Attendance  \n",
       "0        Argentina  United States  Yugoslavia        32808.277778  \n",
       "1   Czechoslovakia        Germany     Austria        21352.941176  \n",
       "2          Hungary         Brazil      Sweden        20872.222222  \n",
       "3           Brazil         Sweden       Spain        47511.181818  \n",
       "4          Hungary        Austria     Uruguay        29561.807692  \n",
       "..             ...            ...         ...                 ...  \n",
       "17          France        Germany    Portugal        52491.234375  \n",
       "18     Netherlands        Germany     Uruguay        49669.625000  \n",
       "19       Argentina    Netherlands      Brazil        53591.765625  \n",
       "20         Croatia        Belgium     England        47371.375000  \n",
       "21          France        Croatia     Morocco        53191.437500  \n",
       "\n",
       "[22 rows x 10 columns]"
      ]
     },
     "execution_count": 86,
     "metadata": {},
     "output_type": "execute_result"
    }
   ],
   "source": [
    "world_cup = world_cup.assign(Average_Attendance=world_cup.loc[:, 'Total Attendance'] / world_cup.loc[:, 'Matches'])\n",
    "world_cup"
   ]
  },
  {
   "cell_type": "code",
   "execution_count": 87,
   "metadata": {
    "deletable": false,
    "editable": false
   },
   "outputs": [
    {
     "data": {
      "text/html": [
       "<p><strong><pre style='display: inline;'>q7_2</pre></strong> passed!</p>"
      ],
      "text/plain": [
       "q7_2 results: All test cases passed!"
      ]
     },
     "execution_count": 87,
     "metadata": {},
     "output_type": "execute_result"
    }
   ],
   "source": [
    "grader.check(\"q7_2\")"
   ]
  },
  {
   "cell_type": "markdown",
   "metadata": {},
   "source": [
    "**Question 7.3.** Create a new DataFrame, `world_cup_by_year`, by setting the index of `world_cup` to `'Year'`. Don't change `world_cup`."
   ]
  },
  {
   "cell_type": "code",
   "execution_count": 88,
   "metadata": {
    "scrolled": true
   },
   "outputs": [
    {
     "data": {
      "text/html": [
       "<div>\n",
       "<style scoped>\n",
       "    .dataframe tbody tr th:only-of-type {\n",
       "        vertical-align: middle;\n",
       "    }\n",
       "\n",
       "    .dataframe tbody tr th {\n",
       "        vertical-align: top;\n",
       "    }\n",
       "\n",
       "    .dataframe thead th {\n",
       "        text-align: right;\n",
       "    }\n",
       "</style>\n",
       "<table border=\"1\" class=\"dataframe\">\n",
       "  <thead>\n",
       "    <tr style=\"text-align: right;\">\n",
       "      <th></th>\n",
       "      <th>Host</th>\n",
       "      <th>Total Attendance</th>\n",
       "      <th>Matches</th>\n",
       "      <th>Teams</th>\n",
       "      <th>First</th>\n",
       "      <th>Second</th>\n",
       "      <th>Third</th>\n",
       "      <th>Fourth</th>\n",
       "      <th>Average_Attendance</th>\n",
       "    </tr>\n",
       "    <tr>\n",
       "      <th>Year</th>\n",
       "      <th></th>\n",
       "      <th></th>\n",
       "      <th></th>\n",
       "      <th></th>\n",
       "      <th></th>\n",
       "      <th></th>\n",
       "      <th></th>\n",
       "      <th></th>\n",
       "      <th></th>\n",
       "    </tr>\n",
       "  </thead>\n",
       "  <tbody>\n",
       "    <tr>\n",
       "      <th>1930</th>\n",
       "      <td>Uruguay</td>\n",
       "      <td>590549</td>\n",
       "      <td>18</td>\n",
       "      <td>13</td>\n",
       "      <td>Uruguay</td>\n",
       "      <td>Argentina</td>\n",
       "      <td>United States</td>\n",
       "      <td>Yugoslavia</td>\n",
       "      <td>32808.277778</td>\n",
       "    </tr>\n",
       "    <tr>\n",
       "      <th>1934</th>\n",
       "      <td>Italy</td>\n",
       "      <td>363000</td>\n",
       "      <td>17</td>\n",
       "      <td>16</td>\n",
       "      <td>Italy</td>\n",
       "      <td>Czechoslovakia</td>\n",
       "      <td>Germany</td>\n",
       "      <td>Austria</td>\n",
       "      <td>21352.941176</td>\n",
       "    </tr>\n",
       "    <tr>\n",
       "      <th>1938</th>\n",
       "      <td>France</td>\n",
       "      <td>375700</td>\n",
       "      <td>18</td>\n",
       "      <td>15</td>\n",
       "      <td>Italy</td>\n",
       "      <td>Hungary</td>\n",
       "      <td>Brazil</td>\n",
       "      <td>Sweden</td>\n",
       "      <td>20872.222222</td>\n",
       "    </tr>\n",
       "    <tr>\n",
       "      <th>1950</th>\n",
       "      <td>Brazil</td>\n",
       "      <td>1045246</td>\n",
       "      <td>22</td>\n",
       "      <td>13</td>\n",
       "      <td>Uruguay</td>\n",
       "      <td>Brazil</td>\n",
       "      <td>Sweden</td>\n",
       "      <td>Spain</td>\n",
       "      <td>47511.181818</td>\n",
       "    </tr>\n",
       "    <tr>\n",
       "      <th>1954</th>\n",
       "      <td>Switzerland</td>\n",
       "      <td>768607</td>\n",
       "      <td>26</td>\n",
       "      <td>16</td>\n",
       "      <td>West Germany</td>\n",
       "      <td>Hungary</td>\n",
       "      <td>Austria</td>\n",
       "      <td>Uruguay</td>\n",
       "      <td>29561.807692</td>\n",
       "    </tr>\n",
       "    <tr>\n",
       "      <th>...</th>\n",
       "      <td>...</td>\n",
       "      <td>...</td>\n",
       "      <td>...</td>\n",
       "      <td>...</td>\n",
       "      <td>...</td>\n",
       "      <td>...</td>\n",
       "      <td>...</td>\n",
       "      <td>...</td>\n",
       "      <td>...</td>\n",
       "    </tr>\n",
       "    <tr>\n",
       "      <th>2006</th>\n",
       "      <td>Germany</td>\n",
       "      <td>3359439</td>\n",
       "      <td>64</td>\n",
       "      <td>32</td>\n",
       "      <td>Italy</td>\n",
       "      <td>France</td>\n",
       "      <td>Germany</td>\n",
       "      <td>Portugal</td>\n",
       "      <td>52491.234375</td>\n",
       "    </tr>\n",
       "    <tr>\n",
       "      <th>2010</th>\n",
       "      <td>South Africa</td>\n",
       "      <td>3178856</td>\n",
       "      <td>64</td>\n",
       "      <td>32</td>\n",
       "      <td>Spain</td>\n",
       "      <td>Netherlands</td>\n",
       "      <td>Germany</td>\n",
       "      <td>Uruguay</td>\n",
       "      <td>49669.625000</td>\n",
       "    </tr>\n",
       "    <tr>\n",
       "      <th>2014</th>\n",
       "      <td>Brazil</td>\n",
       "      <td>3429873</td>\n",
       "      <td>64</td>\n",
       "      <td>32</td>\n",
       "      <td>Germany</td>\n",
       "      <td>Argentina</td>\n",
       "      <td>Netherlands</td>\n",
       "      <td>Brazil</td>\n",
       "      <td>53591.765625</td>\n",
       "    </tr>\n",
       "    <tr>\n",
       "      <th>2018</th>\n",
       "      <td>Russia</td>\n",
       "      <td>3031768</td>\n",
       "      <td>64</td>\n",
       "      <td>32</td>\n",
       "      <td>France</td>\n",
       "      <td>Croatia</td>\n",
       "      <td>Belgium</td>\n",
       "      <td>England</td>\n",
       "      <td>47371.375000</td>\n",
       "    </tr>\n",
       "    <tr>\n",
       "      <th>2022</th>\n",
       "      <td>Qatar</td>\n",
       "      <td>3404252</td>\n",
       "      <td>64</td>\n",
       "      <td>32</td>\n",
       "      <td>Argentina</td>\n",
       "      <td>France</td>\n",
       "      <td>Croatia</td>\n",
       "      <td>Morocco</td>\n",
       "      <td>53191.437500</td>\n",
       "    </tr>\n",
       "  </tbody>\n",
       "</table>\n",
       "<p>22 rows × 9 columns</p>\n",
       "</div>"
      ],
      "text/plain": [
       "              Host  Total Attendance  Matches  Teams         First  \\\n",
       "Year                                                                 \n",
       "1930       Uruguay            590549       18     13       Uruguay   \n",
       "1934         Italy            363000       17     16         Italy   \n",
       "1938        France            375700       18     15         Italy   \n",
       "1950        Brazil           1045246       22     13       Uruguay   \n",
       "1954   Switzerland            768607       26     16  West Germany   \n",
       "...            ...               ...      ...    ...           ...   \n",
       "2006       Germany           3359439       64     32         Italy   \n",
       "2010  South Africa           3178856       64     32         Spain   \n",
       "2014        Brazil           3429873       64     32       Germany   \n",
       "2018        Russia           3031768       64     32        France   \n",
       "2022         Qatar           3404252       64     32     Argentina   \n",
       "\n",
       "              Second          Third      Fourth  Average_Attendance  \n",
       "Year                                                                 \n",
       "1930       Argentina  United States  Yugoslavia        32808.277778  \n",
       "1934  Czechoslovakia        Germany     Austria        21352.941176  \n",
       "1938         Hungary         Brazil      Sweden        20872.222222  \n",
       "1950          Brazil         Sweden       Spain        47511.181818  \n",
       "1954         Hungary        Austria     Uruguay        29561.807692  \n",
       "...              ...            ...         ...                 ...  \n",
       "2006          France        Germany    Portugal        52491.234375  \n",
       "2010     Netherlands        Germany     Uruguay        49669.625000  \n",
       "2014       Argentina    Netherlands      Brazil        53591.765625  \n",
       "2018         Croatia        Belgium     England        47371.375000  \n",
       "2022          France        Croatia     Morocco        53191.437500  \n",
       "\n",
       "[22 rows x 9 columns]"
      ]
     },
     "execution_count": 88,
     "metadata": {},
     "output_type": "execute_result"
    }
   ],
   "source": [
    "world_cup_by_year = world_cup.set_index('Year')\n",
    "world_cup_by_year"
   ]
  },
  {
   "cell_type": "code",
   "execution_count": null,
   "metadata": {
    "deletable": false,
    "editable": false
   },
   "outputs": [],
   "source": [
    "grader.check(\"q7_3\")"
   ]
  },
  {
   "cell_type": "markdown",
   "metadata": {},
   "source": [
    "You should think about why we've chosen to set the index to `'Year'`, instead of any other column."
   ]
  },
  {
   "cell_type": "markdown",
   "metadata": {},
   "source": [
    "**Question 7.4.** Suraj was born in 1998. Where was the World Cup held that year, and what was the average attendance per match that year? Assign your results to `location_98` and `average_98`, respectively.\n",
    "\n",
    "Don't type in the answers by hand; get Python to extract this information for you."
   ]
  },
  {
   "cell_type": "code",
   "execution_count": 89,
   "metadata": {},
   "outputs": [
    {
     "name": "stdout",
     "output_type": "stream",
     "text": [
      "Location: France\n",
      "Average attendance per match: 43517.1875\n"
     ]
    }
   ],
   "source": [
    "location_98 = world_cup_by_year.loc[1998, 'Host']\n",
    "average_98 = world_cup_by_year.loc[1998, 'Average_Attendance']\n",
    "\n",
    "# Don't change the lines below.\n",
    "print('Location:', location_98)\n",
    "print('Average attendance per match:', average_98)"
   ]
  },
  {
   "cell_type": "code",
   "execution_count": 90,
   "metadata": {
    "deletable": false,
    "editable": false
   },
   "outputs": [
    {
     "data": {
      "text/html": [
       "<p><strong><pre style='display: inline;'>q7_4</pre></strong> passed!</p>"
      ],
      "text/plain": [
       "q7_4 results: All test cases passed!"
      ]
     },
     "execution_count": 90,
     "metadata": {},
     "output_type": "execute_result"
    }
   ],
   "source": [
    "grader.check(\"q7_4\")"
   ]
  },
  {
   "cell_type": "markdown",
   "metadata": {},
   "source": [
    "**Question 7.5.** Since the first tournament in 1930, more and more countries have joined FIFA, which means more matches are played in each tournament. Using DataFrame operations, find the number of World Cup tournaments that had more than 55 matches. Assign the number of such tournaments to `over_55_matches`. "
   ]
  },
  {
   "cell_type": "code",
   "execution_count": 94,
   "metadata": {},
   "outputs": [
    {
     "data": {
      "text/plain": [
       "7"
      ]
     },
     "execution_count": 94,
     "metadata": {},
     "output_type": "execute_result"
    }
   ],
   "source": [
    "over_55_matches = world_cup[world_cup.get('Matches') > 55].shape[0]\n",
    "over_55_matches"
   ]
  },
  {
   "cell_type": "code",
   "execution_count": 95,
   "metadata": {
    "deletable": false,
    "editable": false
   },
   "outputs": [
    {
     "data": {
      "text/html": [
       "<p><strong><pre style='display: inline;'>q7_5</pre></strong> passed!</p>"
      ],
      "text/plain": [
       "q7_5 results: All test cases passed!"
      ]
     },
     "execution_count": 95,
     "metadata": {},
     "output_type": "execute_result"
    }
   ],
   "source": [
    "grader.check(\"q7_5\")"
   ]
  },
  {
   "cell_type": "markdown",
   "metadata": {},
   "source": [
    "**Question 7.6.** Assign `eighth_highest_attendance` to the eighth highest total attendance of all World Cup tournaments. Assign `eighth_highest_year` to the year in which this attendance occurred.\n",
    "\n",
    "Again, don't type in these values by hand; get Python to extract this information for you.\n",
    "\n",
    "*Note*: Remember that you can perform intermediate steps in the lines before `eighth_highest_attendance` and `eighth_highest_year`."
   ]
  },
  {
   "cell_type": "code",
   "execution_count": 109,
   "metadata": {
    "scrolled": true
   },
   "outputs": [
    {
     "name": "stdout",
     "output_type": "stream",
     "text": [
      "Attendance: 2705197\n",
      "Year: 2002\n"
     ]
    }
   ],
   "source": [
    "eighth_highest_attendance = world_cup.get('Total Attendance').sort_values(ascending=False).reset_index(drop=True).loc[7]\n",
    "eighth_highest_year = world_cup[world_cup.get('Total Attendance') == eighth_highest_attendance].get('Year').iloc[0]\n",
    "\n",
    "# Don't change the lines below.\n",
    "print('Attendance:', eighth_highest_attendance)\n",
    "print('Year:', eighth_highest_year)"
   ]
  },
  {
   "cell_type": "code",
   "execution_count": 110,
   "metadata": {
    "deletable": false,
    "editable": false
   },
   "outputs": [
    {
     "data": {
      "text/html": [
       "<p><strong><pre style='display: inline;'>q7_6</pre></strong> passed!</p>"
      ],
      "text/plain": [
       "q7_6 results: All test cases passed!"
      ]
     },
     "execution_count": 110,
     "metadata": {},
     "output_type": "execute_result"
    }
   ],
   "source": [
    "grader.check(\"q7_6\")"
   ]
  },
  {
   "cell_type": "markdown",
   "metadata": {},
   "source": [
    "**Question 7.7.** There are two countries tied for having hosted the most tournaments, France and Italy, having hosted 2 times each. \n",
    "\n",
    "Find out which country was a more popular host, by finding the sum of the `'Total Attendance'` for each country, for the two times it was a host. Assign these totals to `france_total_attendance` and `italy_total_attendance`."
   ]
  },
  {
   "cell_type": "code",
   "execution_count": 101,
   "metadata": {},
   "outputs": [
    {
     "name": "stdout",
     "output_type": "stream",
     "text": [
      "France: 3160800\n",
      "Italy:  2879215\n"
     ]
    }
   ],
   "source": [
    "france_total_attendance = world_cup[world_cup.get('Host') == 'France'].get('Total Attendance').sum()\n",
    "italy_total_attendance = world_cup[world_cup.get('Host') == 'Italy'].get('Total Attendance').sum()\n",
    "\n",
    "# Don't change the lines below.\n",
    "print('France:', france_total_attendance)\n",
    "print('Italy: ', italy_total_attendance)"
   ]
  },
  {
   "cell_type": "code",
   "execution_count": 102,
   "metadata": {
    "deletable": false,
    "editable": false
   },
   "outputs": [
    {
     "data": {
      "text/html": [
       "<p><strong><pre style='display: inline;'>q7_7</pre></strong> passed!</p>"
      ],
      "text/plain": [
       "q7_7 results: All test cases passed!"
      ]
     },
     "execution_count": 102,
     "metadata": {},
     "output_type": "execute_result"
    }
   ],
   "source": [
    "grader.check(\"q7_7\")"
   ]
  },
  {
   "cell_type": "markdown",
   "metadata": {},
   "source": [
    "**Question 7.8.** Now find out which country was the most popular host overall by finding the sum of the `'Total Attendance'` for each country that has ever hosted a World Cup tournament. Assign the name of the host country with the greatest total attendance across all World Cups to `most_popular_host`.\n",
    "\n",
    "*Hint*: Our solution for this question used only one line of code (thanks, `groupby`)!"
   ]
  },
  {
   "cell_type": "code",
   "execution_count": 104,
   "metadata": {},
   "outputs": [
    {
     "name": "stderr",
     "output_type": "stream",
     "text": [
      "/opt/conda/lib/python3.9/site-packages/babypandas/bpd.py:1533: FutureWarning: The default value of numeric_only in DataFrameGroupBy.sum is deprecated. In a future version, numeric_only will default to False. Either specify numeric_only or select only columns which should be valid for the function.\n",
      "  a = func(*vargs, **kwargs)\n"
     ]
    },
    {
     "data": {
      "text/plain": [
       "'Brazil'"
      ]
     },
     "execution_count": 104,
     "metadata": {},
     "output_type": "execute_result"
    }
   ],
   "source": [
    "most_popular_host = world_cup.groupby('Host').sum().get('Total Attendance')[host_attendance == host_attendance.max()].index[0]\n",
    "most_popular_host"
   ]
  },
  {
   "cell_type": "code",
   "execution_count": 105,
   "metadata": {
    "deletable": false,
    "editable": false
   },
   "outputs": [
    {
     "data": {
      "text/html": [
       "<p><strong><pre style='display: inline;'>q7_8</pre></strong> passed!</p>"
      ],
      "text/plain": [
       "q7_8 results: All test cases passed!"
      ]
     },
     "execution_count": 105,
     "metadata": {},
     "output_type": "execute_result"
    }
   ],
   "source": [
    "grader.check(\"q7_8\")"
   ]
  },
  {
   "cell_type": "markdown",
   "metadata": {},
   "source": [
    "**Question 7.9.** Determine which country won the World Cup championship the most number of times (i.e. the country that came in first the most number of times). Assign this country to `most_frequent_winner`, and the number of times this country won to `win_count`.\n",
    "\n",
    "Again, don't type in these values by hand; get Python to extract this information for you."
   ]
  },
  {
   "cell_type": "code",
   "execution_count": 118,
   "metadata": {},
   "outputs": [
    {
     "name": "stdout",
     "output_type": "stream",
     "text": [
      "Most frequent winner: Brazil\n",
      "Number of World Cup championships:  5\n"
     ]
    }
   ],
   "source": [
    "unique_winners = world_cup.get('First').unique()\n",
    "winner_counts = {winner: (world_cup.get('First') == winner).sum() for winner in unique_winners}\n",
    "most_frequent_winner = max(winner_counts, key=winner_counts.get)\n",
    "win_count = winner_counts[most_frequent_winner]\n",
    "\n",
    "# Don't change the lines below.\n",
    "print('Most frequent winner:', most_frequent_winner)\n",
    "print('Number of World Cup championships: ', win_count)\n"
   ]
  },
  {
   "cell_type": "code",
   "execution_count": 119,
   "metadata": {
    "deletable": false,
    "editable": false
   },
   "outputs": [
    {
     "data": {
      "text/html": [
       "<p><strong><pre style='display: inline;'>q7_9</pre></strong> passed!</p>"
      ],
      "text/plain": [
       "q7_9 results: All test cases passed!"
      ]
     },
     "execution_count": 119,
     "metadata": {},
     "output_type": "execute_result"
    }
   ],
   "source": [
    "grader.check(\"q7_9\")"
   ]
  },
  {
   "cell_type": "markdown",
   "metadata": {},
   "source": [
    "## Finish Line: Almost there, but make sure to follow the steps below to submit! 🏁"
   ]
  },
  {
   "cell_type": "markdown",
   "metadata": {},
   "source": [
    "1. Make sure to comment out the code in Question 2.1 that causes an error.\n",
    "2. Select `Kernel -> Restart & Run All` to ensure that you have executed all cells, including the test cells. \n",
    "2. Read through the notebook to make sure all cells ran and all tests passed.\n",
    "3. Run the cell below to run all tests, and make sure that they all pass.\n",
    "4. Download your notebook using `File -> Download as -> Notebook (.ipynb)`, then upload your notebook to Gradescope.\n",
    "5. Stick around while the Gradescope autograder grades your work. Make sure you see that all tests have passed on Gradescope.\n",
    "6. Check that you have a confirmation email from Gradescope and save it as proof of your submission. \n",
    "\n",
    "With homeworks, unlike with labs, the grade you see on Gradescope is **not your final score**. We will run correctness tests after the assignment's due date has passed."
   ]
  },
  {
   "cell_type": "code",
   "execution_count": 120,
   "metadata": {},
   "outputs": [
    {
     "data": {
      "text/plain": [
       "q1_1 results: All test cases passed!\n",
       "\n",
       "q1_2 results: All test cases passed!\n",
       "\n",
       "q1_3 results: All test cases passed!\n",
       "\n",
       "q1_4 results: All test cases passed!\n",
       "\n",
       "q2_1 results: All test cases passed!\n",
       "\n",
       "q2_2 results: All test cases passed!\n",
       "\n",
       "q3_1 results: All test cases passed!\n",
       "\n",
       "q3_2 results: All test cases passed!\n",
       "\n",
       "q3_3 results: All test cases passed!\n",
       "\n",
       "q4_1 results: All test cases passed!\n",
       "\n",
       "q4_2 results: All test cases passed!\n",
       "\n",
       "q4_3 results: All test cases passed!\n",
       "\n",
       "q5_1 results: All test cases passed!\n",
       "\n",
       "q5_2 results: All test cases passed!\n",
       "\n",
       "q5_3 results: All test cases passed!\n",
       "\n",
       "q5_4 results: All test cases passed!\n",
       "\n",
       "q5_5 results: All test cases passed!\n",
       "\n",
       "q5_6 results: All test cases passed!\n",
       "\n",
       "q6_1 results: All test cases passed!\n",
       "\n",
       "q6_2_1 results: All test cases passed!\n",
       "\n",
       "q6_2_2 results: All test cases passed!\n",
       "\n",
       "q6_3_1 results: All test cases passed!\n",
       "\n",
       "q6_3_2 results: All test cases passed!\n",
       "\n",
       "q6_4 results: All test cases passed!\n",
       "\n",
       "q6_5 results: All test cases passed!\n",
       "\n",
       "q7_1 results: All test cases passed!\n",
       "\n",
       "q7_2 results: All test cases passed!\n",
       "\n",
       "q7_3 results: All test cases passed!\n",
       "\n",
       "q7_4 results: All test cases passed!\n",
       "\n",
       "q7_5 results: All test cases passed!\n",
       "\n",
       "q7_6 results: All test cases passed!\n",
       "\n",
       "q7_7 results: All test cases passed!\n",
       "\n",
       "q7_8 results: All test cases passed!\n",
       "\n",
       "q7_9 results: All test cases passed!"
      ]
     },
     "execution_count": 120,
     "metadata": {},
     "output_type": "execute_result"
    }
   ],
   "source": [
    "grader.check_all()"
   ]
  },
  {
   "cell_type": "code",
   "execution_count": null,
   "metadata": {},
   "outputs": [],
   "source": []
  }
 ],
 "metadata": {
  "kernelspec": {
   "display_name": "Python 3 (ipykernel)",
   "language": "python",
   "name": "python3"
  },
  "language_info": {
   "codemirror_mode": {
    "name": "ipython",
    "version": 3
   },
   "file_extension": ".py",
   "mimetype": "text/x-python",
   "name": "python",
   "nbconvert_exporter": "python",
   "pygments_lexer": "ipython3",
   "version": "3.9.5"
  }
 },
 "nbformat": 4,
 "nbformat_minor": 4
}
